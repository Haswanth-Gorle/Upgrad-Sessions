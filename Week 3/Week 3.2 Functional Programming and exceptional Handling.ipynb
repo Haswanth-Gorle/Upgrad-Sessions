{
 "cells": [
  {
   "cell_type": "code",
   "execution_count": 1,
   "id": "384c9037",
   "metadata": {},
   "outputs": [
    {
     "ename": "ZeroDivisionError",
     "evalue": "division by zero",
     "output_type": "error",
     "traceback": [
      "\u001b[1;31m---------------------------------------------------------------------------\u001b[0m",
      "\u001b[1;31mZeroDivisionError\u001b[0m                         Traceback (most recent call last)",
      "\u001b[1;32m~\\AppData\\Local\\Temp/ipykernel_9248/2874912419.py\u001b[0m in \u001b[0;36m<module>\u001b[1;34m\u001b[0m\n\u001b[1;32m----> 1\u001b[1;33m \u001b[1;36m5\u001b[0m\u001b[1;33m/\u001b[0m\u001b[1;36m0\u001b[0m\u001b[1;33m\u001b[0m\u001b[1;33m\u001b[0m\u001b[0m\n\u001b[0m",
      "\u001b[1;31mZeroDivisionError\u001b[0m: division by zero"
     ]
    }
   ],
   "source": [
    "5/0"
   ]
  },
  {
   "cell_type": "code",
   "execution_count": null,
   "id": "12328b1e",
   "metadata": {},
   "outputs": [],
   "source": [
    "name='inder"
   ]
  },
  {
   "cell_type": "code",
   "execution_count": null,
   "id": "6463894b",
   "metadata": {},
   "outputs": [],
   "source": [
    "def divide(num1,num2):\n",
    "    return num1/num2"
   ]
  },
  {
   "cell_type": "code",
   "execution_count": null,
   "id": "60a02dee",
   "metadata": {},
   "outputs": [],
   "source": [
    "a=3\n",
    "b=2\n",
    "c=divide(3,0)\n",
    "a+b+c"
   ]
  },
  {
   "cell_type": "code",
   "execution_count": null,
   "id": "724ba0e6",
   "metadata": {},
   "outputs": [],
   "source": [
    "\"Upgrad\"+5"
   ]
  },
  {
   "cell_type": "markdown",
   "id": "fd919b28",
   "metadata": {},
   "source": [
    "# Errors\n",
    "\n",
    "Errors are the problems in a program or code due to which the program execution is halted.\n",
    "\n",
    "Two types of errors in programming\n",
    "\n",
    "1. Syntax Errors: When there is no proper syntax of the programming language that is the rules of the language are not followed\n",
    "\n",
    "2. Logical Errors:when in the runtime an error occurs after the syntax check"
   ]
  },
  {
   "cell_type": "code",
   "execution_count": null,
   "id": "66588d82",
   "metadata": {},
   "outputs": [],
   "source": [
    "name='Rimpy  \n",
    "#this is a syntax errors"
   ]
  },
  {
   "cell_type": "code",
   "execution_count": null,
   "id": "3e00d8a4",
   "metadata": {},
   "outputs": [],
   "source": [
    "30/0 \n",
    "#this is a logical errors"
   ]
  },
  {
   "cell_type": "markdown",
   "id": "49407bc5",
   "metadata": {},
   "source": [
    "Exception\tDescription\n",
    "\n",
    "IndexError---->\tWhen the wrong index of a list is retrieved.\n",
    "\n",
    "AssertionError--->\tIt occurs when the assert statement fails\n",
    "\n",
    "AttributeError---->\tIt occurs when an attribute assignment is failed.\n",
    "\n",
    "ImportError---->\tIt occurs when an imported module is not found.\n",
    "\n",
    "KeyError---->\tIt occurs when the key of the dictionary is not found.\n",
    "\n",
    "NameError---->\tIt occurs when the variable is not defined.\n",
    "\n",
    "MemoryError--->\tIt occurs when a program runs out of memory.\n",
    "\n",
    "TypeError---->\tIt occurs when a function and operation are applied in an incorrect type"
   ]
  },
  {
   "cell_type": "code",
   "execution_count": null,
   "id": "93c1911e",
   "metadata": {},
   "outputs": [],
   "source": [
    "lst=[1,2,3]\n",
    "lst[4]"
   ]
  },
  {
   "cell_type": "code",
   "execution_count": null,
   "id": "82c01296",
   "metadata": {},
   "outputs": [],
   "source": [
    "a=1\n",
    "b=0\n",
    "\n",
    "assert b!=0,\"Invalid operation not possible\"\n",
    "print(a/b)"
   ]
  },
  {
   "cell_type": "code",
   "execution_count": null,
   "id": "b0539928",
   "metadata": {},
   "outputs": [],
   "source": [
    "mydataset = {\n",
    "  'cars': [\"BMW\", \"Volvo\", \"Ford\"],\n",
    "  'passings': [3, 7, 2]\n",
    "}\n",
    "\n",
    "myvar = pandas.DataFrame(mydataset)"
   ]
  },
  {
   "cell_type": "code",
   "execution_count": null,
   "id": "d40d3520",
   "metadata": {},
   "outputs": [],
   "source": [
    "lst=[1,2,3,4]\n",
    "reduce(lambda a,b:a+b,lst)"
   ]
  },
  {
   "cell_type": "code",
   "execution_count": null,
   "id": "755c4541",
   "metadata": {},
   "outputs": [],
   "source": [
    "from toolkit.interface import interface"
   ]
  },
  {
   "cell_type": "code",
   "execution_count": null,
   "id": "17c90c39",
   "metadata": {},
   "outputs": [],
   "source": [
    "Name=\"Inderpreet\"\n",
    "number=123\n",
    "Name+number"
   ]
  },
  {
   "cell_type": "code",
   "execution_count": null,
   "id": "a0ca1b4a",
   "metadata": {},
   "outputs": [],
   "source": [
    "m=1\n",
    "n=0\n",
    "\n",
    "assert n!=0,\"It is a invalid operation\"\n",
    "print(m/n)"
   ]
  },
  {
   "cell_type": "markdown",
   "id": "ccc5760c",
   "metadata": {},
   "source": [
    "# Exception Handling\n",
    "\n",
    "Whenever an error and an exception occurs we can handle them with the help of the method of exception handling"
   ]
  },
  {
   "cell_type": "markdown",
   "id": "541e70f7",
   "metadata": {},
   "source": [
    "Try and except statements are used in Python to handle the exceptions."
   ]
  },
  {
   "cell_type": "code",
   "execution_count": 2,
   "id": "a575aa49",
   "metadata": {},
   "outputs": [
    {
     "ename": "ZeroDivisionError",
     "evalue": "division by zero",
     "output_type": "error",
     "traceback": [
      "\u001b[1;31m---------------------------------------------------------------------------\u001b[0m",
      "\u001b[1;31mZeroDivisionError\u001b[0m                         Traceback (most recent call last)",
      "\u001b[1;32m~\\AppData\\Local\\Temp/ipykernel_9248/1882964382.py\u001b[0m in \u001b[0;36m<module>\u001b[1;34m\u001b[0m\n\u001b[1;32m----> 1\u001b[1;33m \u001b[0ma\u001b[0m\u001b[1;33m=\u001b[0m\u001b[1;36m5\u001b[0m\u001b[1;33m/\u001b[0m\u001b[1;36m0\u001b[0m\u001b[1;33m\u001b[0m\u001b[1;33m\u001b[0m\u001b[0m\n\u001b[0m",
      "\u001b[1;31mZeroDivisionError\u001b[0m: division by zero"
     ]
    }
   ],
   "source": [
    "a=5/0"
   ]
  },
  {
   "cell_type": "code",
   "execution_count": 3,
   "id": "4d805ead",
   "metadata": {},
   "outputs": [
    {
     "name": "stdout",
     "output_type": "stream",
     "text": [
      "Please add value\n"
     ]
    },
    {
     "ename": "ValueError",
     "evalue": "invalid literal for int() with base 10: ''",
     "output_type": "error",
     "traceback": [
      "\u001b[1;31m---------------------------------------------------------------------------\u001b[0m",
      "\u001b[1;31mValueError\u001b[0m                                Traceback (most recent call last)",
      "\u001b[1;32m~\\AppData\\Local\\Temp/ipykernel_9248/4159450942.py\u001b[0m in \u001b[0;36m<module>\u001b[1;34m\u001b[0m\n\u001b[1;32m----> 1\u001b[1;33m \u001b[0ma\u001b[0m\u001b[1;33m=\u001b[0m\u001b[0mint\u001b[0m\u001b[1;33m(\u001b[0m\u001b[0minput\u001b[0m\u001b[1;33m(\u001b[0m\u001b[1;34m\"Please add value\"\u001b[0m\u001b[1;33m)\u001b[0m\u001b[1;33m)\u001b[0m\u001b[1;33m\u001b[0m\u001b[1;33m\u001b[0m\u001b[0m\n\u001b[0m\u001b[0;32m      2\u001b[0m \u001b[0mb\u001b[0m\u001b[1;33m=\u001b[0m\u001b[0mint\u001b[0m\u001b[1;33m(\u001b[0m\u001b[0minput\u001b[0m\u001b[1;33m(\u001b[0m\u001b[1;34m\"Please add second value\"\u001b[0m\u001b[1;33m)\u001b[0m\u001b[1;33m)\u001b[0m\u001b[1;33m\u001b[0m\u001b[1;33m\u001b[0m\u001b[0m\n\u001b[0;32m      3\u001b[0m \u001b[1;33m\u001b[0m\u001b[0m\n\u001b[0;32m      4\u001b[0m \u001b[1;33m\u001b[0m\u001b[0m\n\u001b[0;32m      5\u001b[0m \u001b[1;32mtry\u001b[0m\u001b[1;33m:\u001b[0m\u001b[1;33m\u001b[0m\u001b[1;33m\u001b[0m\u001b[0m\n",
      "\u001b[1;31mValueError\u001b[0m: invalid literal for int() with base 10: ''"
     ]
    }
   ],
   "source": [
    "a=int(input(\"Please add value\"))\n",
    "b=int(input(\"Please add second value\"))\n",
    "\n",
    "\n",
    "try:\n",
    "    division=a/b\n",
    "except ZeroDivisionError:\n",
    "    print(\"You cannot divide a number by 0\")"
   ]
  },
  {
   "cell_type": "code",
   "execution_count": 4,
   "id": "b17f490a",
   "metadata": {},
   "outputs": [
    {
     "name": "stdout",
     "output_type": "stream",
     "text": [
      "You cannot access the elements of list which is not present at the index\n"
     ]
    }
   ],
   "source": [
    "lst=[1,2,3,4,5]\n",
    "\n",
    "try:\n",
    "    lst[6]\n",
    "except IndexError:\n",
    "    print(\"You cannot access the elements of list which is not present at the index\")"
   ]
  },
  {
   "cell_type": "code",
   "execution_count": 5,
   "id": "cdc68092",
   "metadata": {},
   "outputs": [
    {
     "name": "stdout",
     "output_type": "stream",
     "text": [
      "Error present\n"
     ]
    }
   ],
   "source": [
    "lst=[1,2,3,4,5]\n",
    "\n",
    "try:\n",
    "    lst[6]\n",
    "except :\n",
    "    print(\"Error present\")"
   ]
  },
  {
   "cell_type": "code",
   "execution_count": 6,
   "id": "1654dd96",
   "metadata": {},
   "outputs": [
    {
     "name": "stdout",
     "output_type": "stream",
     "text": [
      "The division result 0.5\n",
      "There is a error\n"
     ]
    }
   ],
   "source": [
    "def division(num1,num2):\n",
    "    return num1/num2\n",
    "\n",
    "try:\n",
    "    print(\"The division result\",division(1,2))\n",
    "    print(\"The division for second\",division(2,0))\n",
    "except:\n",
    "    print(\"There is a error\")\n",
    "    "
   ]
  },
  {
   "cell_type": "code",
   "execution_count": 7,
   "id": "145693d3",
   "metadata": {},
   "outputs": [
    {
     "name": "stdout",
     "output_type": "stream",
     "text": [
      "Please add value 10\n",
      "Please add second value 0\n",
      "This is invalid operation\n"
     ]
    }
   ],
   "source": [
    "while True:\n",
    "    try:\n",
    "        a=int(input(\"Please add value \"))\n",
    "        b=int(input(\"Please add second value \"))\n",
    "        result=a/b\n",
    "        print(\"the result is---------------------------->\",result)\n",
    "\n",
    "    except:\n",
    "        print(\"This is invalid operation\")\n",
    "        break\n",
    "    else:\n",
    "        print(\"This will be executed only once\")\n",
    "        break\n",
    "    "
   ]
  },
  {
   "cell_type": "code",
   "execution_count": 1,
   "id": "0a7adce0",
   "metadata": {},
   "outputs": [
    {
     "name": "stdout",
     "output_type": "stream",
     "text": [
      "Please add value 5\n",
      "Please add second value 0\n"
     ]
    },
    {
     "ename": "ZeroDivisionError",
     "evalue": "division by zero",
     "output_type": "error",
     "traceback": [
      "\u001b[1;31m---------------------------------------------------------------------------\u001b[0m",
      "\u001b[1;31mZeroDivisionError\u001b[0m                         Traceback (most recent call last)",
      "\u001b[1;32m~\\AppData\\Local\\Temp/ipykernel_23264/182119326.py\u001b[0m in \u001b[0;36m<module>\u001b[1;34m\u001b[0m\n\u001b[0;32m      2\u001b[0m     \u001b[0ma\u001b[0m\u001b[1;33m=\u001b[0m\u001b[0mint\u001b[0m\u001b[1;33m(\u001b[0m\u001b[0minput\u001b[0m\u001b[1;33m(\u001b[0m\u001b[1;34m\"Please add value \"\u001b[0m\u001b[1;33m)\u001b[0m\u001b[1;33m)\u001b[0m\u001b[1;33m\u001b[0m\u001b[1;33m\u001b[0m\u001b[0m\n\u001b[0;32m      3\u001b[0m     \u001b[0mb\u001b[0m\u001b[1;33m=\u001b[0m\u001b[0mint\u001b[0m\u001b[1;33m(\u001b[0m\u001b[0minput\u001b[0m\u001b[1;33m(\u001b[0m\u001b[1;34m\"Please add second value \"\u001b[0m\u001b[1;33m)\u001b[0m\u001b[1;33m)\u001b[0m\u001b[1;33m\u001b[0m\u001b[1;33m\u001b[0m\u001b[0m\n\u001b[1;32m----> 4\u001b[1;33m     \u001b[0mresult\u001b[0m\u001b[1;33m=\u001b[0m\u001b[0ma\u001b[0m\u001b[1;33m/\u001b[0m\u001b[0mb\u001b[0m\u001b[1;33m\u001b[0m\u001b[1;33m\u001b[0m\u001b[0m\n\u001b[0m\u001b[0;32m      5\u001b[0m     \u001b[0mprint\u001b[0m\u001b[1;33m(\u001b[0m\u001b[1;34m\"the result is---------------------------->\"\u001b[0m\u001b[1;33m,\u001b[0m\u001b[0mresult\u001b[0m\u001b[1;33m)\u001b[0m\u001b[1;33m\u001b[0m\u001b[1;33m\u001b[0m\u001b[0m\n",
      "\u001b[1;31mZeroDivisionError\u001b[0m: division by zero"
     ]
    }
   ],
   "source": [
    "while True:\n",
    "    a=int(input(\"Please add value \"))\n",
    "    b=int(input(\"Please add second value \"))\n",
    "    result=a/b\n",
    "    print(\"the result is---------------------------->\",result)\n",
    "    \n",
    "# If we will not consider the edge cases at which our code can break then our code execution will be halted\n"
   ]
  },
  {
   "cell_type": "code",
   "execution_count": 18,
   "id": "de70c003",
   "metadata": {},
   "outputs": [],
   "source": []
  },
  {
   "cell_type": "code",
   "execution_count": 21,
   "id": "2c1edabd",
   "metadata": {},
   "outputs": [
    {
     "name": "stdout",
     "output_type": "stream",
     "text": [
      "There is an error\n",
      "divide other two numbers\n",
      "1.6666666666666667\n"
     ]
    }
   ],
   "source": []
  },
  {
   "cell_type": "code",
   "execution_count": 19,
   "id": "1608bc71",
   "metadata": {},
   "outputs": [
    {
     "name": "stdout",
     "output_type": "stream",
     "text": [
      "Please add a integer valueinder\n",
      "Looks like you have entered a non integer\n",
      "Finally I am executed even after error or no error\n",
      "Please add first integer value5\n",
      "Please add second integer value3\n",
      "8\n"
     ]
    }
   ],
   "source": [
    "enter_Int()"
   ]
  },
  {
   "cell_type": "markdown",
   "id": "0ed102df",
   "metadata": {},
   "source": [
    "# Finally Keyword\n",
    "\n",
    "The finally block will always execute after the normal termination of \n",
    "try block or after try block terminated due to any exception\n"
   ]
  },
  {
   "cell_type": "code",
   "execution_count": 22,
   "id": "60524434",
   "metadata": {},
   "outputs": [],
   "source": [
    "def enter_Int():\n",
    "    try:\n",
    "        value=int(input(\"Please add a integer value\"))\n",
    "    except:\n",
    "        print(\"Looks like you have entered a non integer\")\n",
    "    finally:\n",
    "        print(\"Finally I am executed even after error or no error\")\n",
    "        num1=int(input(\"Please add first integer value\"))\n",
    "        num2=int(input(\"Please add second integer value\"))\n",
    "    print(num1+num2)"
   ]
  },
  {
   "cell_type": "code",
   "execution_count": 23,
   "id": "ad3d58de",
   "metadata": {},
   "outputs": [
    {
     "name": "stdout",
     "output_type": "stream",
     "text": [
      "Please add a integer value5\n",
      "Finally I am executed even after error or no error\n",
      "Please add first integer value3\n",
      "Please add second integer value6\n",
      "9\n"
     ]
    }
   ],
   "source": [
    "enter_Int()"
   ]
  },
  {
   "cell_type": "code",
   "execution_count": null,
   "id": "88f6c6fa",
   "metadata": {},
   "outputs": [],
   "source": [
    "try:\n",
    "    5/0\n",
    "except:\n",
    "    print(\"There is an error\")\n",
    "finally:\n",
    "    print(\"divide other two numbers\")\n",
    "    print(5/3)"
   ]
  },
  {
   "cell_type": "code",
   "execution_count": 26,
   "id": "b2a2e90a",
   "metadata": {},
   "outputs": [
    {
     "name": "stdout",
     "output_type": "stream",
     "text": [
      "Please add a integer valueInderpreet\n",
      "Looks like you have entered a non integer\n",
      "Finally I am executed even after error or no error\n"
     ]
    }
   ],
   "source": [
    "\n",
    "while True:\n",
    "1    try:\n",
    "        value=int(input(\"Please add a integer value\"))\n",
    "2    except:\n",
    "        print(\"Looks like you have entered a non integer\")\n",
    "        break\n",
    "3    else:\n",
    "        print(\"This is an integer\")\n",
    "        break\n",
    "4    finally:\n",
    "        print(\"Finally I am executed even after error or no error\")\n"
   ]
  },
  {
   "cell_type": "code",
   "execution_count": 27,
   "id": "5f3b4d0a",
   "metadata": {},
   "outputs": [
    {
     "name": "stdout",
     "output_type": "stream",
     "text": [
      "There is a error\n",
      "I will run everytime\n"
     ]
    }
   ],
   "source": [
    "try:\n",
    "    5/0\n",
    "except:\n",
    "    print(\"There is a error\")\n",
    "else:\n",
    "    print(\"divide other two numbers->\",5/3)\n",
    "finally:\n",
    "    print(\"I will run everytime\")\n"
   ]
  },
  {
   "cell_type": "markdown",
   "id": "634ab1db",
   "metadata": {},
   "source": [
    "## Else condition will only run with try and except only and only if there is no exception or Error"
   ]
  },
  {
   "cell_type": "code",
   "execution_count": 29,
   "id": "8471bd6a",
   "metadata": {},
   "outputs": [
    {
     "name": "stdout",
     "output_type": "stream",
     "text": [
      "division result 20.0\n",
      "Let's do addition-> 5\n",
      "I will run everytime\n"
     ]
    }
   ],
   "source": [
    "def add_two(num1,num2):\n",
    "    return num1+num2\n",
    "\n",
    "while True:\n",
    "    try:\n",
    "        print(\"division result\",100/0)\n",
    "    except:\n",
    "        print(\"There is a error\")\n",
    "        break\n",
    "    else:\n",
    "        print(\"Let's do addition->\",add_two(2,3))\n",
    "        break\n",
    "    finally:\n",
    "        print(\"I will run everytime\")\n",
    "        break\n"
   ]
  },
  {
   "cell_type": "code",
   "execution_count": 58,
   "id": "39c9e310",
   "metadata": {},
   "outputs": [],
   "source": [
    "# Given an integer return the integer with reversed digits\n",
    "\n",
    "# For example 123----> 321\n",
    "# 348----->843\n",
    "# -123--------------->-321\n",
    "\n",
    "def reverse_num(num):\n",
    "    string=str(num)\n",
    "    \n",
    "    if string[0]=='-':\n",
    "        return int('-'+ string[:0:-1])\n",
    "    else:\n",
    "        return int(string[::-1])\n",
    "\n",
    "\n"
   ]
  },
  {
   "cell_type": "code",
   "execution_count": 60,
   "id": "28834c30",
   "metadata": {},
   "outputs": [
    {
     "data": {
      "text/plain": [
       "1054"
      ]
     },
     "execution_count": 60,
     "metadata": {},
     "output_type": "execute_result"
    }
   ],
   "source": [
    "reverse_num(4501)"
   ]
  },
  {
   "cell_type": "code",
   "execution_count": 33,
   "id": "6becb261",
   "metadata": {},
   "outputs": [
    {
     "data": {
      "text/plain": [
       "'321'"
      ]
     },
     "execution_count": 33,
     "metadata": {},
     "output_type": "execute_result"
    }
   ],
   "source": [
    "string[::-1]"
   ]
  },
  {
   "cell_type": "code",
   "execution_count": 51,
   "id": "8dfd75b9",
   "metadata": {},
   "outputs": [
    {
     "data": {
      "text/plain": [
       "'in'"
      ]
     },
     "execution_count": 51,
     "metadata": {},
     "output_type": "execute_result"
    }
   ],
   "source": [
    "str2='inder'\n",
    "str2[:-3]"
   ]
  },
  {
   "cell_type": "code",
   "execution_count": 52,
   "id": "06a93de7",
   "metadata": {
    "scrolled": true
   },
   "outputs": [
    {
     "data": {
      "text/plain": [
       "'ind'"
      ]
     },
     "execution_count": 52,
     "metadata": {},
     "output_type": "execute_result"
    }
   ],
   "source": [
    "str2[:-2]"
   ]
  },
  {
   "cell_type": "code",
   "execution_count": 57,
   "id": "c28dfe74",
   "metadata": {},
   "outputs": [
    {
     "data": {
      "text/plain": [
       "'teerprednI'"
      ]
     },
     "execution_count": 57,
     "metadata": {},
     "output_type": "execute_result"
    }
   ],
   "source": [
    "str3=\"Inderpreet\"\n",
    "str3[::-1]"
   ]
  },
  {
   "cell_type": "code",
   "execution_count": 61,
   "id": "6f6a3baa",
   "metadata": {},
   "outputs": [],
   "source": [
    "def sum():\n",
    "    num1=int(input(\"Please add first integer value\"))\n",
    "    num2=int(input(\"Please add second integer value\")) \n",
    "    return num1+num2"
   ]
  },
  {
   "cell_type": "code",
   "execution_count": 62,
   "id": "d61995a8",
   "metadata": {},
   "outputs": [
    {
     "name": "stdout",
     "output_type": "stream",
     "text": [
      "Please add first integer value3\n",
      "Please add second integer value4\n"
     ]
    },
    {
     "data": {
      "text/plain": [
       "7"
      ]
     },
     "execution_count": 62,
     "metadata": {},
     "output_type": "execute_result"
    }
   ],
   "source": [
    "sum()"
   ]
  },
  {
   "cell_type": "markdown",
   "id": "4f4ba5de",
   "metadata": {},
   "source": [
    "Eval Function\n",
    "\n",
    "This method will parse the expression to the method and run the code"
   ]
  },
  {
   "cell_type": "code",
   "execution_count": 64,
   "id": "27e2c4b7",
   "metadata": {},
   "outputs": [
    {
     "data": {
      "text/plain": [
       "int"
      ]
     },
     "execution_count": 64,
     "metadata": {},
     "output_type": "execute_result"
    }
   ],
   "source": [
    "number=8\n",
    "\n",
    "square_no=eval('number*number')\n",
    "type(square_no)"
   ]
  },
  {
   "cell_type": "code",
   "execution_count": 65,
   "id": "18adb6c0",
   "metadata": {},
   "outputs": [
    {
     "data": {
      "text/plain": [
       "3"
      ]
     },
     "execution_count": 65,
     "metadata": {},
     "output_type": "execute_result"
    }
   ],
   "source": [
    "x=2\n",
    "eval('x+1')"
   ]
  },
  {
   "cell_type": "markdown",
   "id": "e2a2aa80",
   "metadata": {},
   "source": [
    "Q2. Given two non negative integers num1 and nums2 as string return the sum of the num1 and num2\n",
    "\n",
    "Example:\n",
    "    num1=\"123\"\n",
    "    num2=\"343\"\n",
    "    sum=466 this should be an integer\n",
    "    \n"
   ]
  },
  {
   "cell_type": "code",
   "execution_count": 105,
   "id": "b70fc09f",
   "metadata": {},
   "outputs": [],
   "source": [
    "def divide_two_Number(num1,num2):\n",
    "    if num1.isnumeric() and num2.isnumeric():\n",
    "        if len(num1)>1:\n",
    "            num1=num1.lstrip('0')\n",
    "        if len(num2)>1:\n",
    "            num2=num2.lstrip('0')\n",
    "        try:\n",
    "            return (eval(num1)/eval(num2))\n",
    "        except:\n",
    "            print(\"This is a invalid operation\")\n",
    "    else:\n",
    "        print(\"Please add valid numbers\")\n"
   ]
  },
  {
   "cell_type": "code",
   "execution_count": 106,
   "id": "55d45156",
   "metadata": {},
   "outputs": [
    {
     "data": {
      "text/plain": [
       "0.5"
      ]
     },
     "execution_count": 106,
     "metadata": {},
     "output_type": "execute_result"
    }
   ],
   "source": [
    "divide_two_Number(\"5\",\"10\")"
   ]
  },
  {
   "cell_type": "code",
   "execution_count": 77,
   "id": "1cae158f",
   "metadata": {},
   "outputs": [
    {
     "data": {
      "text/plain": [
       "False"
      ]
     },
     "execution_count": 77,
     "metadata": {},
     "output_type": "execute_result"
    }
   ],
   "source": [
    "num1=\"inder\"\n",
    "num1.isnumeric()"
   ]
  },
  {
   "cell_type": "markdown",
   "id": "686157a1",
   "metadata": {},
   "source": [
    "## Map Function Questions"
   ]
  },
  {
   "cell_type": "markdown",
   "id": "2f644bf2",
   "metadata": {},
   "source": [
    "#Write a program to listify the list of string indivually using Python Map\n",
    "\n",
    "color=[\"Red\",\"Blue\",\"Orange\"]\n",
    "\n",
    "Output:[['R','e','d'],['B','l','u','e'],['O','r','a','n','g','e']]"
   ]
  },
  {
   "cell_type": "code",
   "execution_count": 108,
   "id": "c5998f2b",
   "metadata": {},
   "outputs": [
    {
     "data": {
      "text/plain": [
       "['R', 'e', 'd']"
      ]
     },
     "execution_count": 108,
     "metadata": {},
     "output_type": "execute_result"
    }
   ],
   "source": [
    "str1='Red'\n",
    "\n",
    "list(str1)"
   ]
  },
  {
   "cell_type": "code",
   "execution_count": 110,
   "id": "65b302e1",
   "metadata": {},
   "outputs": [
    {
     "data": {
      "text/plain": [
       "[['R', 'e', 'd'], ['B', 'l', 'u', 'e'], ['O', 'r', 'a', 'n', 'g', 'e']]"
      ]
     },
     "execution_count": 110,
     "metadata": {},
     "output_type": "execute_result"
    }
   ],
   "source": [
    "color=[\"Red\",\"Blue\",\"Orange\"]\n",
    "list(map(list,color))"
   ]
  },
  {
   "cell_type": "code",
   "execution_count": 112,
   "id": "bd4858a3",
   "metadata": {},
   "outputs": [
    {
     "name": "stdout",
     "output_type": "stream",
     "text": [
      "['R', 'e', 'd']\n",
      "['B', 'l', 'u', 'e']\n",
      "['O', 'r', 'a', 'n', 'g', 'e']\n"
     ]
    }
   ],
   "source": [
    "def get_character(string):\n",
    "    lst=[]\n",
    "    for i in string:\n",
    "        lst.append(i)\n",
    "    return lst\n",
    "\n",
    "\n",
    "color=[\"Red\",\"Blue\",\"Orange\"]\n",
    "\n",
    "for i in color:\n",
    "    print(get_character(i))"
   ]
  },
  {
   "cell_type": "markdown",
   "id": "e5417423",
   "metadata": {},
   "source": [
    "# Write a Python Program to count the same pair in two given list using map\n",
    "\n",
    "num1=[1,2,3,4,5,6,7]\n",
    "num2=[1,3,4,19,6,12,13]\n",
    "Output :4\n",
    "\n",
    "\n",
    "\n"
   ]
  },
  {
   "cell_type": "code",
   "execution_count": 121,
   "id": "0616a95e",
   "metadata": {},
   "outputs": [],
   "source": [
    "num1=[1,2,3,4,5,6,7]\n",
    "num2=[1,3,4,19,6,12,13]\n",
    "\n",
    "def check_pairs(num1,num2):\n",
    "    count_pair=0\n",
    "    for i in num1:\n",
    "        if i in num2:\n",
    "            count_pair+=1\n",
    "\n",
    "    return count_pair\n",
    "        \n",
    "\n",
    "    \n"
   ]
  },
  {
   "cell_type": "code",
   "execution_count": 122,
   "id": "8e7ce152",
   "metadata": {},
   "outputs": [
    {
     "data": {
      "text/plain": [
       "4"
      ]
     },
     "execution_count": 122,
     "metadata": {},
     "output_type": "execute_result"
    }
   ],
   "source": [
    "check_pairs(num1,num2)    "
   ]
  },
  {
   "cell_type": "code",
   "execution_count": 1,
   "id": "d86bec44",
   "metadata": {},
   "outputs": [],
   "source": [
    "#lETS USE MAP FUNCTION\n",
    "\n",
    "\n",
    "from operator import eq\n",
    "\n",
    "\n",
    "\n",
    "def count_pair(num1,num2):\n",
    "    result= sum(map(eq,num1,num2))\n",
    "    return result\n"
   ]
  },
  {
   "cell_type": "code",
   "execution_count": 2,
   "id": "626a3ebd",
   "metadata": {},
   "outputs": [
    {
     "data": {
      "text/plain": [
       "3"
      ]
     },
     "execution_count": 2,
     "metadata": {},
     "output_type": "execute_result"
    }
   ],
   "source": [
    "num1=[1,2,3,4,5,6,7]\n",
    "num2=[1,2,3,19,6,12,13]\n",
    "count_pair(num1,num2)"
   ]
  },
  {
   "cell_type": "markdown",
   "id": "93fe9e60",
   "metadata": {},
   "source": [
    "# Lambda Function"
   ]
  },
  {
   "cell_type": "code",
   "execution_count": 5,
   "id": "588e1680",
   "metadata": {},
   "outputs": [
    {
     "data": {
      "text/plain": [
       "5"
      ]
     },
     "execution_count": 5,
     "metadata": {},
     "output_type": "execute_result"
    }
   ],
   "source": [
    "# Q. Lambda Function to find smaller value between two elements\n",
    "\n",
    "# Example: a=5\n",
    "#     b=3\n",
    "#     Answer is 3\n",
    "\n",
    "# def func(a,b):\n",
    "#     return min(a,b)\n",
    "\n",
    "\n",
    "\n",
    "get_min=lambda a,b:min(a,b)\n",
    "\n",
    "get_min(10,5)"
   ]
  },
  {
   "cell_type": "code",
   "execution_count": 8,
   "id": "5b58c9a6",
   "metadata": {},
   "outputs": [
    {
     "data": {
      "text/plain": [
       "[9, 16, 25, 36, 49]"
      ]
     },
     "execution_count": 8,
     "metadata": {},
     "output_type": "execute_result"
    }
   ],
   "source": [
    "# Use the lambda function to iterate a list in python and square all the elements present in the list\n",
    "\n",
    "l1=[3,4,5,6,7]\n",
    "l2=[]\n",
    "\n",
    "Output:[9,16,25,36,49]\n",
    "    \n",
    "\n",
    "for i in l1:\n",
    "    \n",
    "    temp=lambda i:i**2\n",
    "    l2.append(temp(i))\n",
    "    \n",
    "l2\n",
    "\n",
    "    \n"
   ]
  },
  {
   "cell_type": "markdown",
   "id": "b38829ae",
   "metadata": {},
   "source": [
    "# Filter Function"
   ]
  },
  {
   "cell_type": "code",
   "execution_count": 9,
   "id": "645435be",
   "metadata": {},
   "outputs": [
    {
     "data": {
      "text/plain": [
       "['Apple', 'Apricot']"
      ]
     },
     "execution_count": 9,
     "metadata": {},
     "output_type": "execute_result"
    }
   ],
   "source": [
    "Fruits=['Apple',\"Strawberry\",\"banana\",\"Apricot\",\"Orange\"]\n",
    "\n",
    "# Q. Filter the list where the first alphabet in the string is a A\n",
    "def start_with_A(string):\n",
    "    return string[0]=='A'\n",
    "\n",
    "list(filter(start_with_A,Fruits))\n",
    "\n",
    "\n"
   ]
  },
  {
   "cell_type": "code",
   "execution_count": 11,
   "id": "f5a2066e",
   "metadata": {},
   "outputs": [
    {
     "data": {
      "text/plain": [
       "[98, 89, 93]"
      ]
     },
     "execution_count": 11,
     "metadata": {},
     "output_type": "execute_result"
    }
   ],
   "source": [
    "student_marks=[45,56,43,21,54,76,34,67,98,23,45,89,93]\n",
    "\n",
    "\n",
    "def student_Scored_more_than_85(score):\n",
    "    return score>85\n",
    "\n",
    "list(filter(student_Scored_more_than_85,student_marks))\n",
    "\n",
    "\n"
   ]
  },
  {
   "cell_type": "markdown",
   "id": "fe528bfc",
   "metadata": {},
   "source": [
    "#List of strings=[\"India\",\"Gym\",\"Szczyrk\",\"Aman\"]\n",
    "\n",
    "Output:[\"Gym\",\"Szczyrk\"]"
   ]
  },
  {
   "cell_type": "code",
   "execution_count": 20,
   "id": "3c450d22",
   "metadata": {},
   "outputs": [
    {
     "name": "stdout",
     "output_type": "stream",
     "text": [
      "The string is------------ india\n",
      "The string is------------ gym\n",
      "The string is------------ szczyrk\n",
      "The string is------------ aman\n"
     ]
    },
    {
     "data": {
      "text/plain": [
       "['gym', 'Szczyrk']"
      ]
     },
     "execution_count": 20,
     "metadata": {},
     "output_type": "execute_result"
    }
   ],
   "source": [
    "List_of_strings=[\"india\",\"gym\",\"Szczyrk\",\"Aman\"]\n",
    "\n",
    "def filter_string_without_vowel(string):\n",
    "    string=string.lower()\n",
    "    vowels=['a','e','i','o','u']\n",
    "    print(\"The string is------------\",string)\n",
    "    for i in string:\n",
    "        if (i in vowels):\n",
    "            return False\n",
    "        else:\n",
    "            return True\n",
    "    \n",
    "\n",
    "list(filter(filter_string_without_vowel,List_of_strings))"
   ]
  },
  {
   "cell_type": "code",
   "execution_count": 21,
   "id": "f884398d",
   "metadata": {},
   "outputs": [
    {
     "data": {
      "text/plain": [
       "'inder'"
      ]
     },
     "execution_count": 21,
     "metadata": {},
     "output_type": "execute_result"
    }
   ],
   "source": [
    "string='Inder'\n",
    "string=string.lower()\n",
    "string"
   ]
  },
  {
   "cell_type": "code",
   "execution_count": null,
   "id": "bcf6e28b",
   "metadata": {},
   "outputs": [],
   "source": []
  }
 ],
 "metadata": {
  "kernelspec": {
   "display_name": "Python 3 (ipykernel)",
   "language": "python",
   "name": "python3"
  },
  "language_info": {
   "codemirror_mode": {
    "name": "ipython",
    "version": 3
   },
   "file_extension": ".py",
   "mimetype": "text/x-python",
   "name": "python",
   "nbconvert_exporter": "python",
   "pygments_lexer": "ipython3",
   "version": "3.7.6"
  }
 },
 "nbformat": 4,
 "nbformat_minor": 5
}
