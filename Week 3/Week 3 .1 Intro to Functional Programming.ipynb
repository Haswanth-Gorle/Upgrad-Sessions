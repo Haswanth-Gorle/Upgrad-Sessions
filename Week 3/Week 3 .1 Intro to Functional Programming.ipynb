{
 "cells": [
  {
   "cell_type": "markdown",
   "id": "a61cdf3a",
   "metadata": {},
   "source": [
    "# Functional Programming: It is a programming method where programs are constructed using Functions"
   ]
  },
  {
   "cell_type": "markdown",
   "id": "ed2afc7a",
   "metadata": {},
   "source": [
    "# Functions\n",
    "\n",
    "## Introduction To functions\n",
    "\n",
    "A functions is a group of statements to run the statement more than once. It allows us to specify the parameters that can serve as input to the function\n",
    "\n",
    "Syntax:\n",
    "\n",
    "def name_of_function(arg1,arg2):\n",
    "    Block of code"
   ]
  },
  {
   "cell_type": "code",
   "execution_count": 10,
   "id": "20092b3a",
   "metadata": {},
   "outputs": [],
   "source": [
    "def say_hello():\n",
    "    print(\"Hello Everyone\")"
   ]
  },
  {
   "cell_type": "code",
   "execution_count": 13,
   "id": "0f8420dd",
   "metadata": {},
   "outputs": [
    {
     "name": "stdout",
     "output_type": "stream",
     "text": [
      "Hello Everyone\n"
     ]
    }
   ],
   "source": [
    "say_hello()"
   ]
  },
  {
   "cell_type": "code",
   "execution_count": 15,
   "id": "5faa1464",
   "metadata": {},
   "outputs": [],
   "source": [
    "def add_two_numbers(a,b):\n",
    "    print(a+b)"
   ]
  },
  {
   "cell_type": "code",
   "execution_count": 16,
   "id": "83840e55",
   "metadata": {},
   "outputs": [
    {
     "name": "stdout",
     "output_type": "stream",
     "text": [
      "9\n"
     ]
    }
   ],
   "source": [
    "add_two_numbers(3,6)"
   ]
  },
  {
   "cell_type": "code",
   "execution_count": 17,
   "id": "487266db",
   "metadata": {},
   "outputs": [],
   "source": [
    "def even_odd(number):\n",
    "    if number%2==0:\n",
    "        print(\"This is a even number\")\n",
    "    else:\n",
    "        print(\"This is a odd number\")"
   ]
  },
  {
   "cell_type": "code",
   "execution_count": 18,
   "id": "394f4c6e",
   "metadata": {},
   "outputs": [
    {
     "name": "stdout",
     "output_type": "stream",
     "text": [
      "This is a odd number\n"
     ]
    }
   ],
   "source": [
    "even_odd(5)"
   ]
  },
  {
   "cell_type": "code",
   "execution_count": 33,
   "id": "1e29c44c",
   "metadata": {},
   "outputs": [],
   "source": [
    "def check_vowel(name):\n",
    "    for i in name:\n",
    "        if (i=='a' or i=='e' or i=='i' or i=='o' or i=='u' or i=='I'):\n",
    "            print(\"This name have vowels {} in it \".format(i))\n",
    "    \n",
    "    "
   ]
  },
  {
   "cell_type": "code",
   "execution_count": 34,
   "id": "d2d8dea1",
   "metadata": {},
   "outputs": [
    {
     "name": "stdout",
     "output_type": "stream",
     "text": [
      "This name have vowels I in it \n",
      "This name have vowels e in it \n",
      "This name have vowels e in it \n",
      "This name have vowels e in it \n"
     ]
    }
   ],
   "source": [
    "check_vowel(\"Inderpreet\")"
   ]
  },
  {
   "cell_type": "code",
   "execution_count": 35,
   "id": "08282809",
   "metadata": {},
   "outputs": [
    {
     "name": "stdout",
     "output_type": "stream",
     "text": [
      "This is Inderpreet teaching Python Programming\n"
     ]
    }
   ],
   "source": [
    "print(\"This is {} {} {} {}\".format(\"Inderpreet\",\"teaching\",\"Python\",\"Programming\"))"
   ]
  },
  {
   "cell_type": "code",
   "execution_count": 48,
   "id": "7a7efb2c",
   "metadata": {},
   "outputs": [],
   "source": [
    "def Check_prime(number):\n",
    "    \n",
    "    for i in range(2,number):\n",
    "        if i%number==0:\n",
    "            print(\"This {} is not prime\".format(number))\n",
    "            break\n",
    "    else:\n",
    "        print(\"The number is Prime\")"
   ]
  },
  {
   "cell_type": "code",
   "execution_count": 55,
   "id": "1c70cfe8",
   "metadata": {},
   "outputs": [
    {
     "name": "stdout",
     "output_type": "stream",
     "text": [
      "The number is Prime\n"
     ]
    }
   ],
   "source": [
    "Check_prime(10)"
   ]
  },
  {
   "cell_type": "code",
   "execution_count": 44,
   "id": "418acf78",
   "metadata": {},
   "outputs": [
    {
     "name": "stdout",
     "output_type": "stream",
     "text": [
      "2\n",
      "3\n",
      "4\n",
      "5\n",
      "6\n",
      "7\n",
      "8\n",
      "9\n"
     ]
    }
   ],
   "source": [
    "for i in range(2,10):\n",
    "    print(i)\n",
    "    "
   ]
  },
  {
   "cell_type": "code",
   "execution_count": 60,
   "id": "a584ffff",
   "metadata": {},
   "outputs": [],
   "source": [
    "def is_prime(num):\n",
    "#A efficient approach to find prime number\n",
    "\n",
    "    if num%2==0 and num>2:\n",
    "        print(\"This is a even number and not a prime number\")\n",
    "    for i in range(3,num):\n",
    "        if num%i==0:\n",
    "            print(\"This is not a prime number\")\n",
    "    else:\n",
    "        print(\"This is a prime number\")\n",
    "    "
   ]
  },
  {
   "cell_type": "code",
   "execution_count": 62,
   "id": "342f8ff3",
   "metadata": {},
   "outputs": [
    {
     "name": "stdout",
     "output_type": "stream",
     "text": [
      "This is not a prime number\n",
      "This is a prime number\n"
     ]
    }
   ],
   "source": [
    "is_prime(49)"
   ]
  },
  {
   "cell_type": "code",
   "execution_count": 69,
   "id": "5290c74c",
   "metadata": {},
   "outputs": [],
   "source": [
    "def add_two_Number(a,b):\n",
    "#     print(\"The print is---------------------\",a+b)\n",
    "    return a+b"
   ]
  },
  {
   "cell_type": "code",
   "execution_count": 70,
   "id": "d27bbe57",
   "metadata": {},
   "outputs": [],
   "source": [
    "sum_no=add_two_Number(2,3)"
   ]
  },
  {
   "cell_type": "code",
   "execution_count": 71,
   "id": "fa9c32b0",
   "metadata": {},
   "outputs": [
    {
     "data": {
      "text/plain": [
       "5"
      ]
     },
     "execution_count": 71,
     "metadata": {},
     "output_type": "execute_result"
    }
   ],
   "source": [
    "sum_no"
   ]
  },
  {
   "cell_type": "code",
   "execution_count": 80,
   "id": "9ae1c54a",
   "metadata": {},
   "outputs": [],
   "source": [
    "def even_odd(number):\n",
    "    if number%2==0:\n",
    "        return \"Even\"\n",
    "    else:\n",
    "        return \"Odd\""
   ]
  },
  {
   "cell_type": "code",
   "execution_count": 82,
   "id": "22648fc4",
   "metadata": {},
   "outputs": [
    {
     "name": "stdout",
     "output_type": "stream",
     "text": [
      "The number is------------- 2\n",
      "This Even is--->\n",
      "The number is------------- 3\n",
      "This Odd is--->\n",
      "The number is------------- 4\n",
      "This Even is--->\n",
      "The number is------------- 5\n",
      "This Odd is--->\n",
      "The number is------------- 21\n",
      "This Odd is--->\n",
      "The number is------------- 210\n",
      "This Even is--->\n",
      "The number is------------- 43\n",
      "This Odd is--->\n"
     ]
    }
   ],
   "source": [
    "lst=[2,3,4,5,21,210,43]\n",
    "\n",
    "for i in lst:\n",
    "    print(\"The number is-------------\",i)\n",
    "    print(\"This {} is--->\".format(even_odd(i)))"
   ]
  },
  {
   "cell_type": "code",
   "execution_count": 110,
   "id": "77f220d6",
   "metadata": {},
   "outputs": [],
   "source": [
    "# Write a function to convert Temperature into Fahrenheit\n",
    "\n",
    "#°F = (9/5) °C+32.\n",
    "\n",
    "def celsius_to_fahrenheit(Temp_Celsium):\n",
    "    return ( int(round((9/5)*Temp_Celsium,0))+32)\n",
    "    "
   ]
  },
  {
   "cell_type": "code",
   "execution_count": 111,
   "id": "7fac4af4",
   "metadata": {},
   "outputs": [
    {
     "data": {
      "text/plain": [
       "72"
      ]
     },
     "execution_count": 111,
     "metadata": {},
     "output_type": "execute_result"
    }
   ],
   "source": [
    "celsius_to_fahrenheit(22)"
   ]
  },
  {
   "cell_type": "code",
   "execution_count": 103,
   "id": "0b00565b",
   "metadata": {},
   "outputs": [
    {
     "data": {
      "text/plain": [
       "21.7"
      ]
     },
     "execution_count": 103,
     "metadata": {},
     "output_type": "execute_result"
    }
   ],
   "source": [
    "int(round(21.67,1))"
   ]
  },
  {
   "cell_type": "code",
   "execution_count": 109,
   "id": "7ba2ae75",
   "metadata": {},
   "outputs": [
    {
     "data": {
      "text/plain": [
       "21"
      ]
     },
     "execution_count": 109,
     "metadata": {},
     "output_type": "execute_result"
    }
   ],
   "source": [
    "int(round(21.6,1))"
   ]
  },
  {
   "cell_type": "markdown",
   "id": "8eadabb8",
   "metadata": {},
   "source": [
    "#The round() function returns a floating point number that is a rounded version of the specified number, with the specified number of decimals."
   ]
  },
  {
   "cell_type": "code",
   "execution_count": 98,
   "id": "3cae675f",
   "metadata": {},
   "outputs": [
    {
     "data": {
      "text/plain": [
       "1.4"
      ]
     },
     "execution_count": 98,
     "metadata": {},
     "output_type": "execute_result"
    }
   ],
   "source": [
    "round(1.435654,1)"
   ]
  },
  {
   "cell_type": "markdown",
   "id": "24135a60",
   "metadata": {},
   "source": [
    "## Map()\n",
    "\n",
    "The map is a function that takes two arguments:\n",
    "\n",
    "1. A function\n",
    "2. A sequence iterable (example: string,tuple,list,dictionary)\n",
    "\n"
   ]
  },
  {
   "cell_type": "code",
   "execution_count": null,
   "id": "311249f2",
   "metadata": {},
   "outputs": [],
   "source": [
    "def celsius_to_fahrenheit(Temp_Celsium):\n",
    "    return ( int(round((9/5)*Temp_Celsium,0))+32)\n",
    "    "
   ]
  },
  {
   "cell_type": "code",
   "execution_count": 112,
   "id": "8fb85cff",
   "metadata": {},
   "outputs": [
    {
     "name": "stdout",
     "output_type": "stream",
     "text": [
      "The temp in fahrenheit is-------------- 73\n",
      "The temp in fahrenheit is-------------- 70\n",
      "The temp in fahrenheit is-------------- 109\n",
      "The temp in fahrenheit is-------------- 1209\n",
      "The temp in fahrenheit is-------------- 90\n",
      "The temp in fahrenheit is-------------- 73\n",
      "The temp in fahrenheit is-------------- 129\n"
     ]
    }
   ],
   "source": [
    "lst_temp=[23,21,43,654,32,23,54]\n",
    "\n",
    "for i in lst_temp:\n",
    "    print(\"The temp in fahrenheit is--------------\",celsius_to_fahrenheit(i))"
   ]
  },
  {
   "cell_type": "code",
   "execution_count": 114,
   "id": "a15fc0cf",
   "metadata": {},
   "outputs": [
    {
     "data": {
      "text/plain": [
       "[73, 70, 109, 1209, 90, 73, 129]"
      ]
     },
     "execution_count": 114,
     "metadata": {},
     "output_type": "execute_result"
    }
   ],
   "source": [
    "list(map(celsius_to_fahrenheit,lst_temp))"
   ]
  },
  {
   "cell_type": "code",
   "execution_count": 118,
   "id": "707e331e",
   "metadata": {},
   "outputs": [],
   "source": [
    "def check_vowel(name):\n",
    "    for i in name:\n",
    "        if (i=='a' or i=='e' or i=='i' or i=='o' or i=='u' or i=='I'):\n",
    "            return \"Vowel\"\n",
    "        else:\n",
    "            return \"Consonants\"\n",
    "    \n",
    "    "
   ]
  },
  {
   "cell_type": "code",
   "execution_count": 119,
   "id": "cfdc5bd0",
   "metadata": {},
   "outputs": [
    {
     "data": {
      "text/plain": [
       "['Consonants',\n",
       " 'Vowel',\n",
       " 'Consonants',\n",
       " 'Vowel',\n",
       " 'Consonants',\n",
       " 'Consonants',\n",
       " 'Vowel',\n",
       " 'Consonants']"
      ]
     },
     "execution_count": 119,
     "metadata": {},
     "output_type": "execute_result"
    }
   ],
   "source": [
    "name='Jitender'\n",
    "#list(map(check_vowel,name))"
   ]
  },
  {
   "cell_type": "code",
   "execution_count": 122,
   "id": "b993e3a5",
   "metadata": {},
   "outputs": [],
   "source": [
    "#°C = (°F - 32) × 5/9;\n",
    "\n",
    "def fahrenheit_to_celsius(temp):\n",
    "    return  round((5/9)*(temp-32),0)\n",
    "\n",
    "def celsius_to_fahrenheit(Temp_Celsium):\n",
    "    return ( int(round((9/5)*Temp_Celsium,0))+32)\n",
    "    \n"
   ]
  },
  {
   "cell_type": "code",
   "execution_count": 123,
   "id": "2aceb431",
   "metadata": {},
   "outputs": [
    {
     "data": {
      "text/plain": [
       "23.0"
      ]
     },
     "execution_count": 123,
     "metadata": {},
     "output_type": "execute_result"
    }
   ],
   "source": [
    "fahrenheit_to_celsius(73)"
   ]
  },
  {
   "cell_type": "code",
   "execution_count": 128,
   "id": "a99a14ce",
   "metadata": {},
   "outputs": [],
   "source": [
    "\n",
    "temp_list=[23,24,54,65,76,876]\n",
    "# First convert celsius to Fahrenheit\n",
    "# Second convert Fahrenheit to celsius\n",
    "\n",
    "temp_list=list(map(celsius_to_fahrenheit,temp_list))\n",
    "\n"
   ]
  },
  {
   "cell_type": "code",
   "execution_count": 129,
   "id": "f673b687",
   "metadata": {},
   "outputs": [
    {
     "data": {
      "text/plain": [
       "[23.0, 24.0, 54.0, 65.0, 76.0, 876.0]"
      ]
     },
     "execution_count": 129,
     "metadata": {},
     "output_type": "execute_result"
    }
   ],
   "source": [
    "list(map(fahrenheit_to_celsius,temp_list))"
   ]
  },
  {
   "cell_type": "code",
   "execution_count": 133,
   "id": "54961d6e",
   "metadata": {},
   "outputs": [
    {
     "data": {
      "text/plain": [
       "[2, 4, 6, 8, 10, 12, 14]"
      ]
     },
     "execution_count": 133,
     "metadata": {},
     "output_type": "execute_result"
    }
   ],
   "source": [
    "list_no=[1,2,3,4,5,6,7]\n",
    "\n",
    "# Add the number\n",
    "# Example list_No=[2,4,6,8,10....]\n",
    "# 1+1\n",
    "# 2+2\n",
    "# 3+3\n",
    "# 4+4\n",
    "\n",
    "\n",
    "\n",
    "def addition_No(num):\n",
    "    return num+num\n",
    "\n",
    "addition_list=list(map(addition_No,list_no))\n",
    "addition_list\n",
    "    "
   ]
  },
  {
   "cell_type": "code",
   "execution_count": 131,
   "id": "21276bb9",
   "metadata": {},
   "outputs": [
    {
     "data": {
      "text/plain": [
       "4"
      ]
     },
     "execution_count": 131,
     "metadata": {},
     "output_type": "execute_result"
    }
   ],
   "source": [
    "addition_No(2)"
   ]
  },
  {
   "cell_type": "code",
   "execution_count": 136,
   "id": "2958ef1d",
   "metadata": {},
   "outputs": [
    {
     "data": {
      "text/plain": [
       "[0.6666666666666666,\n",
       " 1.3333333333333333,\n",
       " 2.0,\n",
       " 2.6666666666666665,\n",
       " 3.3333333333333335,\n",
       " 4.0,\n",
       " 4.666666666666667,\n",
       " 5.333333333333333]"
      ]
     },
     "execution_count": 136,
     "metadata": {},
     "output_type": "execute_result"
    }
   ],
   "source": [
    "list1=[10,20,30,40,50,60,70,80]\n",
    "\n",
    "def divide(num):\n",
    "    return float(num/15)\n",
    "\n",
    "list(map(divide,list1))"
   ]
  },
  {
   "cell_type": "code",
   "execution_count": null,
   "id": "f117c6da",
   "metadata": {},
   "outputs": [],
   "source": [
    "for i in \"Inderpreet\":\n",
    "    if (i=='a' or i=='e' or i=='i' or i=='o' or i=='u' or i=='I'):\n",
    "        return \"Vowel\"\n",
    "    else:\n",
    "        return \"Consonants\""
   ]
  },
  {
   "cell_type": "markdown",
   "id": "1267b990",
   "metadata": {},
   "source": [
    "# Lambda Functions\n",
    "\n",
    "1.Lambda Functions are anonymous functions\n",
    "2. For using the lambda Function we use Lambda Keyword\n",
    "3. This function can have any number of arguments\n",
    "\n",
    "Syntax:\n",
    "    lambda argument: expression"
   ]
  },
  {
   "cell_type": "code",
   "execution_count": 137,
   "id": "ddcedcad",
   "metadata": {},
   "outputs": [],
   "source": [
    "def square(number):\n",
    "    return number*number\n"
   ]
  },
  {
   "cell_type": "code",
   "execution_count": 138,
   "id": "d367adac",
   "metadata": {},
   "outputs": [
    {
     "data": {
      "text/plain": [
       "25"
      ]
     },
     "execution_count": 138,
     "metadata": {},
     "output_type": "execute_result"
    }
   ],
   "source": [
    "square(5)"
   ]
  },
  {
   "cell_type": "code",
   "execution_count": 140,
   "id": "0ed49a7e",
   "metadata": {},
   "outputs": [],
   "source": [
    "square_lambda=lambda number:number*number"
   ]
  },
  {
   "cell_type": "code",
   "execution_count": 141,
   "id": "e677af60",
   "metadata": {},
   "outputs": [
    {
     "data": {
      "text/plain": [
       "25"
      ]
     },
     "execution_count": 141,
     "metadata": {},
     "output_type": "execute_result"
    }
   ],
   "source": [
    "square_lambda(5)"
   ]
  },
  {
   "cell_type": "code",
   "execution_count": 142,
   "id": "82c0ece6",
   "metadata": {},
   "outputs": [],
   "source": [
    "def greatest_number(num1,num2): # This is a traditional approach\n",
    "    if (num1>num2):\n",
    "        return num1\n",
    "    else:\n",
    "        return num2"
   ]
  },
  {
   "cell_type": "code",
   "execution_count": 144,
   "id": "dbdb3318",
   "metadata": {},
   "outputs": [
    {
     "data": {
      "text/plain": [
       "5"
      ]
     },
     "execution_count": 144,
     "metadata": {},
     "output_type": "execute_result"
    }
   ],
   "source": [
    "greatest_number(2,5)"
   ]
  },
  {
   "cell_type": "code",
   "execution_count": 145,
   "id": "2c21e489",
   "metadata": {},
   "outputs": [],
   "source": [
    "greatest_number_lambda=lambda num1,num2: num1 if (num1>num2) else num2"
   ]
  },
  {
   "cell_type": "code",
   "execution_count": 146,
   "id": "c467963b",
   "metadata": {},
   "outputs": [
    {
     "data": {
      "text/plain": [
       "7"
      ]
     },
     "execution_count": 146,
     "metadata": {},
     "output_type": "execute_result"
    }
   ],
   "source": [
    "#greatest_number_lambda(2,7)"
   ]
  },
  {
   "cell_type": "code",
   "execution_count": 147,
   "id": "e00e2ffc",
   "metadata": {},
   "outputs": [],
   "source": [
    "#15*1=15\n",
    "#15*2=30\n",
    "#15*3=45\n",
    "\n",
    "def table(number):\n",
    "    for i in range(1,11):\n",
    "        print(\"the table is----------\",i*number)"
   ]
  },
  {
   "cell_type": "code",
   "execution_count": 148,
   "id": "be97624d",
   "metadata": {},
   "outputs": [
    {
     "name": "stdout",
     "output_type": "stream",
     "text": [
      "the table is---------- 15\n",
      "the table is---------- 30\n",
      "the table is---------- 45\n",
      "the table is---------- 60\n",
      "the table is---------- 75\n",
      "the table is---------- 90\n",
      "the table is---------- 105\n",
      "the table is---------- 120\n",
      "the table is---------- 135\n",
      "the table is---------- 150\n"
     ]
    }
   ],
   "source": [
    "table(15)"
   ]
  },
  {
   "cell_type": "code",
   "execution_count": null,
   "id": "6f554dce",
   "metadata": {},
   "outputs": [],
   "source": [
    "# # Calculate Table of 15 using Lambda Function\n",
    "# HOMEWORK"
   ]
  },
  {
   "cell_type": "code",
   "execution_count": 149,
   "id": "880a390f",
   "metadata": {},
   "outputs": [],
   "source": [
    "#(9/5)*Temp_Celsium+32\n",
    "#Convert temperature in list to F\n",
    "\n",
    "temp_list=[34,45,65,32,45,21,43]\n",
    "\n",
    "convert_temp_to_fah=lambda Temp: ((9/5)*Temp)+32\n"
   ]
  },
  {
   "cell_type": "code",
   "execution_count": 150,
   "id": "568512c8",
   "metadata": {},
   "outputs": [
    {
     "data": {
      "text/plain": [
       "109.4"
      ]
     },
     "execution_count": 150,
     "metadata": {},
     "output_type": "execute_result"
    }
   ],
   "source": [
    "convert_temp_to_fah(43)"
   ]
  },
  {
   "cell_type": "code",
   "execution_count": 151,
   "id": "9697aed9",
   "metadata": {},
   "outputs": [
    {
     "data": {
      "text/plain": [
       "[93.2, 113.0, 149.0, 89.6, 113.0, 69.80000000000001, 109.4]"
      ]
     },
     "execution_count": 151,
     "metadata": {},
     "output_type": "execute_result"
    }
   ],
   "source": [
    "list(map(convert_temp_to_fah,temp_list))"
   ]
  },
  {
   "cell_type": "markdown",
   "id": "6b078e39",
   "metadata": {},
   "source": [
    "# Filter\n",
    "\n",
    "The filter method filters the given sequence with the help of a function that will test each element in the sequence to be true or not"
   ]
  },
  {
   "cell_type": "markdown",
   "id": "a7c37684",
   "metadata": {},
   "source": [
    "# Syntax:\n",
    "    #filter(function,sequence)"
   ]
  },
  {
   "cell_type": "code",
   "execution_count": 152,
   "id": "42e75e6a",
   "metadata": {},
   "outputs": [],
   "source": [
    "def odd_num(num):\n",
    "    if num%2!=0:\n",
    "        return True"
   ]
  },
  {
   "cell_type": "code",
   "execution_count": 154,
   "id": "9feaa1b1",
   "metadata": {},
   "outputs": [
    {
     "data": {
      "text/plain": [
       "[21, 43, 21, 21, 45, 43]"
      ]
     },
     "execution_count": 154,
     "metadata": {},
     "output_type": "execute_result"
    }
   ],
   "source": [
    "lst=[232,34,21,12,43,56,32,21,32,21,45,12,43]\n",
    "# lst_new=[21,43,21,21,45,43]    This is the required output\n",
    "\n",
    "list(filter(odd_num,lst))"
   ]
  },
  {
   "cell_type": "code",
   "execution_count": 155,
   "id": "fe068e0d",
   "metadata": {},
   "outputs": [],
   "source": [
    "def even_num(num):\n",
    "    if num%2==0:\n",
    "        return True"
   ]
  },
  {
   "cell_type": "code",
   "execution_count": 156,
   "id": "390fddd8",
   "metadata": {},
   "outputs": [
    {
     "data": {
      "text/plain": [
       "[232, 34, 12, 56, 32, 32, 12]"
      ]
     },
     "execution_count": 156,
     "metadata": {},
     "output_type": "execute_result"
    }
   ],
   "source": [
    "lst=[232,34,21,12,43,56,32,21,32,21,45,12,43]\n",
    "# lst_new=[232, 34, 12, 56, 32, 32, 12]    This is the required output\n",
    "\n",
    "list(filter(even_num,lst))"
   ]
  },
  {
   "cell_type": "code",
   "execution_count": 160,
   "id": "efd49761",
   "metadata": {},
   "outputs": [],
   "source": [
    "def is_prime(num):\n",
    "#A efficient approach to find prime number\n",
    "\n",
    "    if num%2==0 and num>2:\n",
    "        return False\n",
    "    for i in range(3,num):\n",
    "        if num%i==0:\n",
    "            return False\n",
    "    else:\n",
    "        return True\n",
    "    "
   ]
  },
  {
   "cell_type": "code",
   "execution_count": 162,
   "id": "25d3aa7b",
   "metadata": {},
   "outputs": [
    {
     "data": {
      "text/plain": [
       "[43, 3, 5, 7]"
      ]
     },
     "execution_count": 162,
     "metadata": {},
     "output_type": "execute_result"
    }
   ],
   "source": [
    "lst=[232,34,21,12,56,32,21,32,21,45,12,43,3,5,7]\n",
    "list(filter(is_prime,lst))"
   ]
  },
  {
   "cell_type": "markdown",
   "id": "8b075004",
   "metadata": {},
   "source": [
    "# Reduce function\n",
    "\n",
    "The reduce function is used to apply a particular function passed in its argument to all of the list elements in the sequence\n",
    "\n",
    "How it works!!!!\n",
    "1. At first it will choose two elements of sequence and a result will be obtained\n",
    "2. Apply the same function to the previously attained result\n",
    "3. This process will be continued until no more elements are there"
   ]
  },
  {
   "cell_type": "code",
   "execution_count": 164,
   "id": "49b0d494",
   "metadata": {},
   "outputs": [
    {
     "data": {
      "text/plain": [
       "10"
      ]
     },
     "execution_count": 164,
     "metadata": {},
     "output_type": "execute_result"
    }
   ],
   "source": [
    "import functools  #Import functools to use reduce\n",
    "\n",
    "lst=[1,2,3,4]\n",
    "\n",
    "def add_two(a,b):\n",
    "    return a+b\n",
    "\n",
    "functools.reduce(add_two,lst)"
   ]
  },
  {
   "cell_type": "code",
   "execution_count": 165,
   "id": "2bf035c7",
   "metadata": {},
   "outputs": [
    {
     "data": {
      "text/plain": [
       "60"
      ]
     },
     "execution_count": 165,
     "metadata": {},
     "output_type": "execute_result"
    }
   ],
   "source": [
    "lst=[1,3,4,5]\n",
    "#Answer=1*3*4*5=60\n",
    "\n",
    "def multiple_two(a,b):\n",
    "    return a*b\n",
    "\n",
    "functools.reduce(multiple_two,lst)\n",
    "\n",
    "\n",
    "\n"
   ]
  },
  {
   "cell_type": "code",
   "execution_count": 167,
   "id": "753f94d6",
   "metadata": {},
   "outputs": [
    {
     "data": {
      "text/plain": [
       "120"
      ]
     },
     "execution_count": 167,
     "metadata": {},
     "output_type": "execute_result"
    }
   ],
   "source": [
    "set={1,2,3,4,5}\n",
    "def multiple_two(a,b):\n",
    "    return a*b\n",
    "\n",
    "functools.reduce(multiple_two,tup)\n",
    "\n",
    "\n"
   ]
  },
  {
   "cell_type": "code",
   "execution_count": null,
   "id": "2273e761",
   "metadata": {},
   "outputs": [],
   "source": []
  }
 ],
 "metadata": {
  "kernelspec": {
   "display_name": "Python 3 (ipykernel)",
   "language": "python",
   "name": "python3"
  },
  "language_info": {
   "codemirror_mode": {
    "name": "ipython",
    "version": 3
   },
   "file_extension": ".py",
   "mimetype": "text/x-python",
   "name": "python",
   "nbconvert_exporter": "python",
   "pygments_lexer": "ipython3",
   "version": "3.7.6"
  }
 },
 "nbformat": 4,
 "nbformat_minor": 5
}
