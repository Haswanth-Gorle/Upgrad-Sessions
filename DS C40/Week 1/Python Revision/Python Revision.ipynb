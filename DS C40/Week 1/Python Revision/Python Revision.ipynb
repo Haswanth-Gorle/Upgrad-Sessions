{
 "cells": [
  {
   "cell_type": "code",
   "execution_count": 1,
   "id": "13b80d3f",
   "metadata": {},
   "outputs": [],
   "source": [
    "import pandas as pd\n",
    "import numpy as np\n"
   ]
  },
  {
   "cell_type": "markdown",
   "id": "30899e13",
   "metadata": {},
   "source": [
    "# Strings "
   ]
  },
  {
   "cell_type": "markdown",
   "id": "77f559c9",
   "metadata": {},
   "source": [
    "Q1. Check whether the string is a Palindrome\n",
    "\n",
    "Ex: Naman is a palindrome\n",
    "    \n",
    "Ex: Nitin\n",
    "    \n",
    "Create a function which takes string as an argument and \n",
    "returns that whether the string is a palindrome or no"
   ]
  },
  {
   "cell_type": "code",
   "execution_count": 10,
   "id": "5d4fc104",
   "metadata": {},
   "outputs": [],
   "source": [
    "def check_palindrome(string):\n",
    "    string=string.upper()\n",
    "    if string==string[::-1]:\n",
    "        return \"Yes\"\n",
    "    else:\n",
    "        return \"No\"\n",
    "    "
   ]
  },
  {
   "cell_type": "code",
   "execution_count": 11,
   "id": "d0dea96e",
   "metadata": {},
   "outputs": [
    {
     "name": "stdout",
     "output_type": "stream",
     "text": [
      "Please enter a string : Naman\n"
     ]
    },
    {
     "data": {
      "text/plain": [
       "'Yes'"
      ]
     },
     "execution_count": 11,
     "metadata": {},
     "output_type": "execute_result"
    }
   ],
   "source": [
    "string=input(\"Please enter a string : \")\n",
    "check_palindrome(string)"
   ]
  },
  {
   "cell_type": "markdown",
   "id": "6b2e0eeb",
   "metadata": {},
   "source": [
    "Q. Count the frequency of each character in the string and find the character who has the maximum frequency\n",
    "\n",
    "Example: \"Hi Everyone\"\n",
    "\n",
    "Answer: {\"H\":1,\"I\":1,\"E\":3,\"V\":1..........}\n",
    "\n",
    "Maxium frequency is 3"
   ]
  },
  {
   "cell_type": "code",
   "execution_count": 23,
   "id": "5d1c2996",
   "metadata": {},
   "outputs": [],
   "source": [
    "String=\"Hello Everyone Welcome to today's Session\"\n",
    "\n",
    "dict_freq={}\n",
    "\n",
    "for i in String:\n",
    "    if i in dict_freq:\n",
    "        dict_freq[i]+=1\n",
    "    else:\n",
    "        dict_freq[i]=1\n"
   ]
  },
  {
   "cell_type": "code",
   "execution_count": 39,
   "id": "760a2a70",
   "metadata": {},
   "outputs": [
    {
     "data": {
      "text/plain": [
       "6"
      ]
     },
     "execution_count": 39,
     "metadata": {},
     "output_type": "execute_result"
    }
   ],
   "source": [
    "max_freq2=max(dict_freq.values())\n",
    "max_freq2\n"
   ]
  },
  {
   "cell_type": "code",
   "execution_count": 47,
   "id": "8387f53e",
   "metadata": {},
   "outputs": [
    {
     "name": "stdout",
     "output_type": "stream",
     "text": [
      "The k is--- H\n",
      "the v is ----- 1\n",
      "The k is--- e\n",
      "the v is ----- 6\n",
      "The k is--- l\n",
      "the v is ----- 3\n",
      "The k is--- o\n",
      "the v is ----- 6\n",
      "The k is---  \n",
      "the v is ----- 5\n",
      "The k is--- E\n",
      "the v is ----- 1\n",
      "The k is--- v\n",
      "the v is ----- 1\n",
      "The k is--- r\n",
      "the v is ----- 1\n",
      "The k is--- y\n",
      "the v is ----- 2\n",
      "The k is--- n\n",
      "the v is ----- 2\n",
      "The k is--- W\n",
      "the v is ----- 1\n",
      "The k is--- c\n",
      "the v is ----- 1\n",
      "The k is--- m\n",
      "the v is ----- 1\n",
      "The k is--- t\n",
      "the v is ----- 2\n",
      "The k is--- d\n",
      "the v is ----- 1\n",
      "The k is--- a\n",
      "the v is ----- 1\n",
      "The k is--- '\n",
      "the v is ----- 1\n",
      "The k is--- s\n",
      "the v is ----- 3\n",
      "The k is--- S\n",
      "the v is ----- 1\n",
      "The k is--- i\n",
      "the v is ----- 1\n"
     ]
    }
   ],
   "source": [
    "for k,v in dict_freq.items():\n",
    "    print(\"The k is---\",k)\n",
    "    print(\"the v is -----\",v)"
   ]
  },
  {
   "cell_type": "code",
   "execution_count": 45,
   "id": "89b33927",
   "metadata": {},
   "outputs": [
    {
     "name": "stdout",
     "output_type": "stream",
     "text": [
      "H 1\n",
      "e 6\n",
      "The character with maximum count is-----> e\n",
      "l 3\n",
      "o 6\n",
      "The character with maximum count is-----> o\n",
      "  5\n",
      "E 1\n",
      "v 1\n",
      "r 1\n",
      "y 2\n",
      "n 2\n",
      "W 1\n",
      "c 1\n",
      "m 1\n",
      "t 2\n",
      "d 1\n",
      "a 1\n",
      "' 1\n",
      "s 3\n",
      "S 1\n",
      "i 1\n"
     ]
    }
   ],
   "source": [
    "for k,v in dict_freq.items():\n",
    "    print(k,v)\n",
    "    if v==max_freq2:\n",
    "        print(\"The character with maximum count is----->\",k)"
   ]
  },
  {
   "cell_type": "code",
   "execution_count": 30,
   "id": "f69b3243",
   "metadata": {},
   "outputs": [
    {
     "name": "stdout",
     "output_type": "stream",
     "text": [
      "The maximum frequency of character--->  e ----> 6\n"
     ]
    }
   ],
   "source": [
    "max_freq=max(dict_freq,key=dict_freq.get)\n",
    "print(\"The maximum frequency of character---> \",max_freq,\"---->\",dict_freq[max_freq])"
   ]
  },
  {
   "cell_type": "code",
   "execution_count": 33,
   "id": "7a67b54b",
   "metadata": {},
   "outputs": [
    {
     "data": {
      "text/plain": [
       "'e'"
      ]
     },
     "execution_count": 33,
     "metadata": {},
     "output_type": "execute_result"
    }
   ],
   "source": [
    "max_freq= max(dict_freq,key= dict_freq.get)\n",
    "max_freq"
   ]
  },
  {
   "cell_type": "markdown",
   "id": "530f7e88",
   "metadata": {},
   "source": [
    "Q. Calculate the no of vowels in the string?\n",
    "string=\" Bootcamp Week 6 agenda for today is Python Revision\""
   ]
  },
  {
   "cell_type": "code",
   "execution_count": 49,
   "id": "80b95f2c",
   "metadata": {},
   "outputs": [
    {
     "data": {
      "text/plain": [
       "'Bootcamp Week 6 agenda for today is Python Revision'"
      ]
     },
     "execution_count": 49,
     "metadata": {},
     "output_type": "execute_result"
    }
   ],
   "source": [
    "string=\"Bootcamp Week 6 agenda for today is Python Revision\"\n",
    "string"
   ]
  },
  {
   "cell_type": "code",
   "execution_count": 57,
   "id": "c941f1c4",
   "metadata": {},
   "outputs": [
    {
     "name": "stdout",
     "output_type": "stream",
     "text": [
      "My vowel count is--------> 17\n",
      " Consonants in the strings are-----> 25\n"
     ]
    }
   ],
   "source": [
    "string=string.upper()\n",
    "string_vowels=\"AEIOU\"\n",
    "vowel_count=0\n",
    "vowel_consonants=0\n",
    "for i in string:\n",
    "    if i in string_vowels:\n",
    "        vowel_count+=1\n",
    "    else:\n",
    "        alphabet=i.isalpha()\n",
    "        if alphabet==True:\n",
    "            vowel_consonants+=1\n",
    "print(\"My vowel count is-------->\",vowel_count)     \n",
    "print(\" Consonants in the strings are----->\",vowel_consonants)"
   ]
  },
  {
   "cell_type": "markdown",
   "id": "5202e363",
   "metadata": {},
   "source": [
    "# Check if the substring is present in the main string\n",
    "\n",
    "string:\" Upgrad is the best for Upgrad data science batch\"\n",
    "\n",
    "sub_string=\"grad\"\n",
    "\n",
    "Output: Yes\n"
   ]
  },
  {
   "cell_type": "code",
   "execution_count": 4,
   "id": "0b091547",
   "metadata": {},
   "outputs": [],
   "source": [
    "def is_substring(string,sub_str):\n",
    "    if (string.find(sub_str)==-1):\n",
    "        print(\"NO\")\n",
    "    else:\n",
    "        print(\"Yes\")    \n",
    "    "
   ]
  },
  {
   "cell_type": "code",
   "execution_count": 3,
   "id": "1f88ab20",
   "metadata": {},
   "outputs": [
    {
     "name": "stdout",
     "output_type": "stream",
     "text": [
      "Yes\n"
     ]
    }
   ],
   "source": [
    "string1=\"Upgrad is the best for Upgrad data science batch\"\n",
    "\n",
    "sub_string=\"Upgrad\"\n",
    "\n",
    "\n",
    "if sub_string in string1:\n",
    "    print(\"Yes\")\n",
    "else:\n",
    "    print(\"No\")"
   ]
  },
  {
   "cell_type": "code",
   "execution_count": 9,
   "id": "c21c6a9d",
   "metadata": {},
   "outputs": [
    {
     "name": "stdout",
     "output_type": "stream",
     "text": [
      "Yes\n"
     ]
    }
   ],
   "source": [
    "string1=\"Upgrad is the best for Upgrad data science batch\"\n",
    "\n",
    "sub_string=\"grad\"\n",
    "\n",
    "\n",
    "is_substring(string1,sub_string)"
   ]
  },
  {
   "cell_type": "markdown",
   "id": "912dc1d9",
   "metadata": {},
   "source": [
    "# Dictionaries"
   ]
  },
  {
   "cell_type": "markdown",
   "id": "408d109c",
   "metadata": {},
   "source": [
    "Sort a dictionary by Key or Value"
   ]
  },
  {
   "cell_type": "code",
   "execution_count": 10,
   "id": "c1d863b2",
   "metadata": {},
   "outputs": [
    {
     "data": {
      "text/plain": [
       "['Aditya', 'Aman', 'Biswajit', 'Inder', 'Vikram']"
      ]
     },
     "execution_count": 10,
     "metadata": {},
     "output_type": "execute_result"
    }
   ],
   "source": [
    "dict1={\"Aman\":75,\"Inder\":66,\"Aditya\":83,\"Biswajit\":65,\"Vikram\":98}\n",
    "sorted(dict1.keys())"
   ]
  },
  {
   "cell_type": "code",
   "execution_count": 20,
   "id": "cb0a0fd4",
   "metadata": {},
   "outputs": [
    {
     "data": {
      "text/plain": [
       "('Aman', 75)"
      ]
     },
     "execution_count": 20,
     "metadata": {},
     "output_type": "execute_result"
    }
   ],
   "source": [
    "list(dict1.items())[0]"
   ]
  },
  {
   "cell_type": "code",
   "execution_count": 13,
   "id": "ee6ebe38",
   "metadata": {},
   "outputs": [
    {
     "data": {
      "text/plain": [
       "[('Biswajit', 65), ('Inder', 66), ('Aman', 75), ('Aditya', 83), ('Vikram', 98)]"
      ]
     },
     "execution_count": 13,
     "metadata": {},
     "output_type": "execute_result"
    }
   ],
   "source": [
    "sorted(dict1.items(),key=lambda kv:(kv[1],kv[0]))"
   ]
  },
  {
   "cell_type": "markdown",
   "id": "401beb61",
   "metadata": {},
   "source": [
    "# Get Function in Python\n",
    "\n",
    "dictionary.get(keyname, value)\n",
    "\n",
    "\n",
    "This method is very useful when we are checking for the key. If the key is present the value is associated with the key else the defined value is returned"
   ]
  },
  {
   "cell_type": "code",
   "execution_count": 21,
   "id": "1aac90d1",
   "metadata": {},
   "outputs": [
    {
     "data": {
      "text/plain": [
       "{'Phone': ['iPhone', 'Samsung'], 'Books': ['Rich_life']}"
      ]
     },
     "execution_count": 21,
     "metadata": {},
     "output_type": "execute_result"
    }
   ],
   "source": [
    "dict1={\"Phone\":['iPhone','Samsung'],\"Books\":['Rich_life']}\n",
    "dict1"
   ]
  },
  {
   "cell_type": "code",
   "execution_count": 24,
   "id": "a6bb6d51",
   "metadata": {},
   "outputs": [
    {
     "data": {
      "text/plain": [
       "'Not Found1'"
      ]
     },
     "execution_count": 24,
     "metadata": {},
     "output_type": "execute_result"
    }
   ],
   "source": [
    "dict1.get('Clothes','Not Found1')"
   ]
  },
  {
   "cell_type": "markdown",
   "id": "c7bce02c",
   "metadata": {},
   "source": [
    "# setDefault() Function in Dictionary\n",
    "\n",
    "It is similiar to get function but main difference is that if a key is absent a new key will be created with the defined value"
   ]
  },
  {
   "cell_type": "code",
   "execution_count": 26,
   "id": "5baffb0a",
   "metadata": {},
   "outputs": [
    {
     "data": {
      "text/plain": [
       "'Not Present'"
      ]
     },
     "execution_count": 26,
     "metadata": {},
     "output_type": "execute_result"
    }
   ],
   "source": [
    "dict1.setdefault('Electronics','Not Present')"
   ]
  },
  {
   "cell_type": "code",
   "execution_count": 29,
   "id": "36a17ab0",
   "metadata": {},
   "outputs": [
    {
     "data": {
      "text/plain": [
       "[]"
      ]
     },
     "execution_count": 29,
     "metadata": {},
     "output_type": "execute_result"
    }
   ],
   "source": [
    "dict1.setdefault('Monitors',[])"
   ]
  },
  {
   "cell_type": "code",
   "execution_count": 30,
   "id": "fae672da",
   "metadata": {},
   "outputs": [
    {
     "data": {
      "text/plain": [
       "{'Phone': ['iPhone', 'Samsung'],\n",
       " 'Books': ['Rich_life'],\n",
       " 'Electronics': 'Not Present',\n",
       " 'Monitors': []}"
      ]
     },
     "execution_count": 30,
     "metadata": {},
     "output_type": "execute_result"
    }
   ],
   "source": [
    "dict1"
   ]
  },
  {
   "cell_type": "markdown",
   "id": "3b954be9",
   "metadata": {},
   "source": [
    "# Insert at the beginning of a Dictionary\n",
    "\n",
    "dict={\"Ashok\":75,\"Biswajit\":76}\n",
    "\n",
    "dict={\"Nikhil\":34,\"Ashok:75,\"Biswajit\":76}"
   ]
  },
  {
   "cell_type": "code",
   "execution_count": 36,
   "id": "7438a6fd",
   "metadata": {},
   "outputs": [
    {
     "data": {
      "text/plain": [
       "{'Ashok': 75, 'Biswajit': 76}"
      ]
     },
     "execution_count": 36,
     "metadata": {},
     "output_type": "execute_result"
    }
   ],
   "source": [
    "dict1={\"Ashok\":75,\"Biswajit\":76}\n",
    "# dict1['Nikhil']=34\n",
    "dict1"
   ]
  },
  {
   "cell_type": "markdown",
   "id": "5f286a45",
   "metadata": {},
   "source": [
    "An OrderedDict is a dictionary subclass that remembers the order that keys were first inserted. The only difference between dict() and OrderedDict() is that:\n",
    "\n",
    "OrderedDict preserves the order in which the keys are inserted. A regular dict doesn’t track the insertion order and iterating it gives the values in an arbitrary order. By contrast, the order the items are inserted is remembered by OrderedDict."
   ]
  },
  {
   "cell_type": "code",
   "execution_count": 38,
   "id": "25dbf7c2",
   "metadata": {},
   "outputs": [],
   "source": [
    "from collections import OrderedDict\n",
    "\n",
    "ord_dict=OrderedDict([dict1.items()])"
   ]
  },
  {
   "cell_type": "code",
   "execution_count": 40,
   "id": "400cb015",
   "metadata": {},
   "outputs": [],
   "source": [
    "ord_dict.update({\"Nikhil\":34})"
   ]
  },
  {
   "cell_type": "code",
   "execution_count": 41,
   "id": "03fd3727",
   "metadata": {},
   "outputs": [
    {
     "data": {
      "text/plain": [
       "OrderedDict([(('Ashok', 75), ('Biswajit', 76)), ('Nikhil', 34)])"
      ]
     },
     "execution_count": 41,
     "metadata": {},
     "output_type": "execute_result"
    }
   ],
   "source": [
    "ord_dict"
   ]
  },
  {
   "cell_type": "code",
   "execution_count": 54,
   "id": "559ece34",
   "metadata": {},
   "outputs": [
    {
     "data": {
      "text/plain": [
       "OrderedDict([('Nikhil', 34), (('Ashok', 75), ('Biswajit', 76))])"
      ]
     },
     "execution_count": 54,
     "metadata": {},
     "output_type": "execute_result"
    }
   ],
   "source": [
    "ord_dict.move_to_end('Nikhil',last=False) #last is false because I wanted to add it at the beginning\n",
    "ord_dict"
   ]
  },
  {
   "cell_type": "markdown",
   "id": "b0c8c466",
   "metadata": {},
   "source": [
    "# Find the sum of all items in a dictionary"
   ]
  },
  {
   "cell_type": "code",
   "execution_count": 56,
   "id": "99440b13",
   "metadata": {},
   "outputs": [
    {
     "data": {
      "text/plain": [
       "110"
      ]
     },
     "execution_count": 56,
     "metadata": {},
     "output_type": "execute_result"
    }
   ],
   "source": [
    "dict1={\"Inder\":67,\"Biswa\":43}\n",
    "\n",
    "sum(dict1.values())"
   ]
  },
  {
   "cell_type": "markdown",
   "id": "19d9d8c6",
   "metadata": {},
   "source": [
    "# Zip in Dictionaries"
   ]
  },
  {
   "cell_type": "code",
   "execution_count": 58,
   "id": "25647851",
   "metadata": {},
   "outputs": [
    {
     "data": {
      "text/plain": [
       "[('Biswa', 75), ('Ashok', 83), ('Aditya', 85)]"
      ]
     },
     "execution_count": 58,
     "metadata": {},
     "output_type": "execute_result"
    }
   ],
   "source": [
    "Name=[\"Biswa\",\"Ashok\",\"Aditya\"]\n",
    "Marks=[75,83,85]\n",
    "\n",
    "list(zip(Name,Marks))"
   ]
  },
  {
   "cell_type": "code",
   "execution_count": 61,
   "id": "0ad8ba53",
   "metadata": {},
   "outputs": [
    {
     "data": {
      "text/plain": [
       "{'Biswa': 75, 'Ashok': 83, 'Aditya': 85}"
      ]
     },
     "execution_count": 61,
     "metadata": {},
     "output_type": "execute_result"
    }
   ],
   "source": [
    "{Name:Marks for Name,Marks in zip(Name,Marks)}"
   ]
  },
  {
   "cell_type": "code",
   "execution_count": 62,
   "id": "f1beb02d",
   "metadata": {},
   "outputs": [
    {
     "data": {
      "text/plain": [
       "{'Monday': 75, 'Tuesday': 83, 'Wednesday': 85}"
      ]
     },
     "execution_count": 62,
     "metadata": {},
     "output_type": "execute_result"
    }
   ],
   "source": [
    "days=['Monday','Tuesday','Wednesday']\n",
    "Marks=[75,83,85]\n",
    "\n",
    "{days:Marks for days, Marks in zip (days, Marks)}"
   ]
  },
  {
   "cell_type": "code",
   "execution_count": 64,
   "id": "b1edbcd7",
   "metadata": {},
   "outputs": [
    {
     "data": {
      "text/plain": [
       "{'Monday': 75, 'Tuesday': 83, 'Wednesday': 85}"
      ]
     },
     "execution_count": 64,
     "metadata": {},
     "output_type": "execute_result"
    }
   ],
   "source": [
    "dict1={}\n",
    "for i in range(len(days)):\n",
    "    dict1[days[i]]=Marks[i]\n",
    "    \n",
    "dict1"
   ]
  },
  {
   "cell_type": "markdown",
   "id": "068b3ca0",
   "metadata": {},
   "source": [
    "# List Comprehension\n",
    "\n",
    "List Comprehension are used for creating new list from iterables like tuples,arrays,list,etc. A list comprehension will always consist of square brackers containing the expression"
   ]
  },
  {
   "cell_type": "code",
   "execution_count": 65,
   "id": "ba28413d",
   "metadata": {},
   "outputs": [
    {
     "data": {
      "text/plain": [
       "['A', 'd', 'i', 't', 'y', 'a', ' ', 'P', 'u', 'n', 'j', 'a', 'b', 'i']"
      ]
     },
     "execution_count": 65,
     "metadata": {},
     "output_type": "execute_result"
    }
   ],
   "source": [
    "string=\"Aditya Punjabi\"\n",
    "\n",
    "list1=[character for character in string]\n",
    "list1"
   ]
  },
  {
   "cell_type": "markdown",
   "id": "84171dc4",
   "metadata": {},
   "source": [
    "# Create a list in which square of numbers are stored from 1 to 10\n",
    "\n",
    "lst=[1,4,9,16,25,36,49......]\n",
    "\n"
   ]
  },
  {
   "cell_type": "code",
   "execution_count": 67,
   "id": "908523b6",
   "metadata": {},
   "outputs": [
    {
     "data": {
      "text/plain": [
       "[1, 4, 9, 16, 25, 36, 49, 64, 81, 100]"
      ]
     },
     "execution_count": 67,
     "metadata": {},
     "output_type": "execute_result"
    }
   ],
   "source": [
    "[number**2 for number in range(1,11)]"
   ]
  },
  {
   "cell_type": "code",
   "execution_count": 69,
   "id": "021a8b9a",
   "metadata": {},
   "outputs": [
    {
     "data": {
      "text/plain": [
       "[5, 10, 15, 20, 25, 30, 35, 40, 45, 50]"
      ]
     },
     "execution_count": 69,
     "metadata": {},
     "output_type": "execute_result"
    }
   ],
   "source": [
    "# Multiply the numbers from 1 to 10 by 5 using list comprehension\n",
    "\n",
    "[number*5 for number in range(1,11)]"
   ]
  },
  {
   "cell_type": "markdown",
   "id": "ae7742c5",
   "metadata": {},
   "source": [
    "# Reverse a list of string using list comprehension\n",
    "\n",
    "Example:[\"Upgrad\",\"Rajdeep\"]\n",
    "    \n",
    "Output:[\"dargpu\",\"peedjaR\"]\n",
    "    "
   ]
  },
  {
   "cell_type": "code",
   "execution_count": 70,
   "id": "9187a7b7",
   "metadata": {},
   "outputs": [
    {
     "data": {
      "text/plain": [
       "['dargpU', 'peedjaR']"
      ]
     },
     "execution_count": 70,
     "metadata": {},
     "output_type": "execute_result"
    }
   ],
   "source": [
    "list1=[\"Upgrad\",\"Rajdeep\"]\n",
    "[string[::-1] for string in list1]"
   ]
  },
  {
   "cell_type": "code",
   "execution_count": null,
   "id": "7dff743c",
   "metadata": {},
   "outputs": [],
   "source": [
    "# Print out the sum of digits of all the odd elements in the list\n",
    "\n",
    "lst=[131,342,32,123]\n",
    "\n",
    "Output: [5,6]"
   ]
  },
  {
   "cell_type": "code",
   "execution_count": 80,
   "id": "1d639652",
   "metadata": {},
   "outputs": [],
   "source": [
    "def Sum_of_digits(num):\n",
    "    sum_no=0\n",
    "    for char in str(num):\n",
    "        sum_no+=int(char)\n",
    "    return sum_no"
   ]
  },
  {
   "cell_type": "code",
   "execution_count": 81,
   "id": "4b4549fb",
   "metadata": {},
   "outputs": [
    {
     "data": {
      "text/plain": [
       "[5, 6]"
      ]
     },
     "execution_count": 81,
     "metadata": {},
     "output_type": "execute_result"
    }
   ],
   "source": [
    "lst=[131,342,32,123]\n",
    "\n",
    "[Sum_of_digits(i) for i in lst if i%2!=0]"
   ]
  },
  {
   "cell_type": "code",
   "execution_count": 85,
   "id": "c5189802",
   "metadata": {},
   "outputs": [
    {
     "name": "stdout",
     "output_type": "stream",
     "text": [
      "the list is---- [5, 9, 5, 6]\n"
     ]
    },
    {
     "data": {
      "text/plain": [
       "[5, 9, 5]"
      ]
     },
     "execution_count": 85,
     "metadata": {},
     "output_type": "execute_result"
    }
   ],
   "source": [
    "def odd_no(num):\n",
    "    if num%2!=0:\n",
    "        return True\n",
    "\n",
    "\n",
    "lst2=[Sum_of_digits(i) for i in lst]\n",
    "print(\"the list is----\",lst2)\n",
    "list(filter(odd_no,lst2))"
   ]
  },
  {
   "cell_type": "code",
   "execution_count": null,
   "id": "9ec7945f",
   "metadata": {},
   "outputs": [],
   "source": []
  }
 ],
 "metadata": {
  "kernelspec": {
   "display_name": "Python 3 (ipykernel)",
   "language": "python",
   "name": "python3"
  },
  "language_info": {
   "codemirror_mode": {
    "name": "ipython",
    "version": 3
   },
   "file_extension": ".py",
   "mimetype": "text/x-python",
   "name": "python",
   "nbconvert_exporter": "python",
   "pygments_lexer": "ipython3",
   "version": "3.7.6"
  }
 },
 "nbformat": 4,
 "nbformat_minor": 5
}
