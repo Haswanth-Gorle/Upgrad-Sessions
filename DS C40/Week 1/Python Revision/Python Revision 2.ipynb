{
 "cells": [
  {
   "cell_type": "code",
   "execution_count": 1,
   "id": "825aa461",
   "metadata": {},
   "outputs": [],
   "source": [
    "import numpy as np\n",
    "import pandas as pd"
   ]
  },
  {
   "cell_type": "markdown",
   "id": "3f1450fc",
   "metadata": {},
   "source": [
    "# List in Python"
   ]
  },
  {
   "cell_type": "code",
   "execution_count": 8,
   "id": "6b579476",
   "metadata": {},
   "outputs": [
    {
     "name": "stdout",
     "output_type": "stream",
     "text": [
      "Second method----- 2\n"
     ]
    }
   ],
   "source": [
    "# Q. Create a function that will count the occurence of a element in the list\n",
    "# Ex:\n",
    "lst=[3,4,1,2,66,43,21,2,623,2,3,4]\n",
    "# element_to_find=3\n",
    "# Output:2\n",
    "\n",
    "#First Solution\n",
    "def count_occurence(lst,element):\n",
    "    count=0\n",
    "    for num in lst:\n",
    "        if (num==element):\n",
    "            count+=1\n",
    "    return count\n",
    "\n",
    "\n",
    "# count_occurence(lst,3)\n",
    "\n",
    "#Second Solution using Count Function\n",
    "\n",
    "def count_occurenec2(lst,element):\n",
    "    return lst.count(element)\n",
    "\n",
    "print(\"Second method-----\",count_occurenec2(lst,3))"
   ]
  },
  {
   "cell_type": "code",
   "execution_count": 5,
   "id": "a787e59d",
   "metadata": {},
   "outputs": [
    {
     "data": {
      "text/plain": [
       "2"
      ]
     },
     "execution_count": 5,
     "metadata": {},
     "output_type": "execute_result"
    }
   ],
   "source": [
    "lst.count(3)"
   ]
  },
  {
   "cell_type": "markdown",
   "id": "0d000ef2",
   "metadata": {},
   "source": [
    "# Use reduce function to multiple all the numbers in the reduce\n",
    "\n",
    "Answer this question using two methods\n",
    "\n",
    "Ex: \n",
    "\n",
    "lst=[3,4,5,1]\n",
    "\n",
    "Output: 60"
   ]
  },
  {
   "cell_type": "code",
   "execution_count": 13,
   "id": "68dec538",
   "metadata": {},
   "outputs": [
    {
     "name": "stdout",
     "output_type": "stream",
     "text": [
      "The product after multiplying all numbers 42773246208\n"
     ]
    }
   ],
   "source": [
    "from functools import reduce\n",
    "lst=[3,4,1,2,66,43,21,2,623,2,3,4]\n",
    "\n",
    "print(\"The product after multiplying all numbers\",reduce(lambda x,y:x*y,lst))\n"
   ]
  },
  {
   "cell_type": "code",
   "execution_count": 23,
   "id": "3d7d2866",
   "metadata": {},
   "outputs": [
    {
     "data": {
      "text/plain": [
       "1941948416"
      ]
     },
     "execution_count": 23,
     "metadata": {},
     "output_type": "execute_result"
    }
   ],
   "source": [
    "lst=[3,4,1,2,66,623,666,5432,5,623,2,3,4,999]\n",
    "np.prod(lst)"
   ]
  },
  {
   "cell_type": "markdown",
   "id": "ab2eec05",
   "metadata": {},
   "source": [
    "# List the product excluding the duplicates in the list\n",
    "\n",
    "lst=[3,3,3,3,3,5]\n",
    "\n",
    "Output:3*5"
   ]
  },
  {
   "cell_type": "code",
   "execution_count": 27,
   "id": "337e258b",
   "metadata": {},
   "outputs": [
    {
     "data": {
      "text/plain": [
       "524160"
      ]
     },
     "execution_count": 27,
     "metadata": {},
     "output_type": "execute_result"
    }
   ],
   "source": [
    "lst=[3,3,3,3,3,5,3,21,32,5,52,21]\n",
    "\n",
    "lst=list(set(lst))\n",
    "np.prod(lst)"
   ]
  },
  {
   "cell_type": "markdown",
   "id": "6c5304f4",
   "metadata": {},
   "source": [
    "# Write a python program to print all the combination of 3 digit number\n",
    "\n",
    "Lst=[1,5,7]\n",
    "\n"
   ]
  },
  {
   "cell_type": "code",
   "execution_count": 28,
   "id": "907fc4a4",
   "metadata": {},
   "outputs": [
    {
     "name": "stdout",
     "output_type": "stream",
     "text": [
      "1 5 7\n",
      "1 7 5\n",
      "5 1 7\n",
      "5 7 1\n",
      "7 1 5\n",
      "7 5 1\n"
     ]
    }
   ],
   "source": [
    "lst=[1,5,7]\n",
    "\n",
    "for i in range(3):\n",
    "    for j in range(3):\n",
    "        for k in range(3):\n",
    "            if (i!=j and j!=k and k!=i):\n",
    "                print(lst[i],lst[j],lst[k])"
   ]
  },
  {
   "cell_type": "markdown",
   "id": "45c68a03",
   "metadata": {},
   "source": [
    "# Strings"
   ]
  },
  {
   "cell_type": "code",
   "execution_count": 30,
   "id": "8f1a03d4",
   "metadata": {},
   "outputs": [],
   "source": [
    "# Find whether the string is a palindrome or not\n",
    "\n",
    "# Ex: String=\"Nitin\"\n",
    "    \n",
    "#     Output:Yes\n",
    "        \n",
    "# Ex: String:\"Inder\"\n",
    "        \n",
    "#     Output:No"
   ]
  },
  {
   "cell_type": "code",
   "execution_count": 33,
   "id": "0f577e1a",
   "metadata": {},
   "outputs": [],
   "source": [
    "def is_palindrome(string):\n",
    "    string=string.lower()# because upper case and lower case characters are treated differently\n",
    "    if string==string[::-1]:\n",
    "        return \"Yes\"\n",
    "    else:\n",
    "        return \"No\""
   ]
  },
  {
   "cell_type": "code",
   "execution_count": 34,
   "id": "7ac95f1f",
   "metadata": {},
   "outputs": [
    {
     "data": {
      "text/plain": [
       "'Yes'"
      ]
     },
     "execution_count": 34,
     "metadata": {},
     "output_type": "execute_result"
    }
   ],
   "source": [
    "is_palindrome(\"Nitin\")"
   ]
  },
  {
   "cell_type": "code",
   "execution_count": 35,
   "id": "ba962030",
   "metadata": {},
   "outputs": [],
   "source": [
    "# Q2. Count the frequency of each character in the string and find who has the maximum frequency\n",
    "\n",
    "# Example:\n",
    "    \n",
    "# String=\"My name is Inderpreet\"\n",
    "\n",
    "# Output:\n",
    "# dict1={\"m\":2,\"y\":1,\"n\":2,\"a\":1,\"e\":4}\n",
    "# Maximum frequency is 4"
   ]
  },
  {
   "cell_type": "code",
   "execution_count": 50,
   "id": "0ba78c1f",
   "metadata": {},
   "outputs": [
    {
     "data": {
      "text/plain": [
       "{'s': 1, 'd': 1, 'i': 2, 'n': 2, 'e': 4, 'r': 1, 'y': 1, 'a': 1, 'm': 2}"
      ]
     },
     "execution_count": 50,
     "metadata": {},
     "output_type": "execute_result"
    }
   ],
   "source": [
    "string = 'My name is Inder ee'\n",
    "string = string.lower()\n",
    "out = {x : string.count(x) for x in set(string ) if x!=' '}\n",
    "out"
   ]
  },
  {
   "cell_type": "code",
   "execution_count": 51,
   "id": "865044f8",
   "metadata": {},
   "outputs": [
    {
     "name": "stdout",
     "output_type": "stream",
     "text": [
      "The maximum frequency is---- 4\n"
     ]
    }
   ],
   "source": [
    "dict_freq={x : string.count(x) for x in set(string ) if x!=' '}\n",
    "print(\"The maximum frequency is----\",max(dict_freq.values()))"
   ]
  },
  {
   "cell_type": "code",
   "execution_count": 54,
   "id": "2d765374",
   "metadata": {},
   "outputs": [
    {
     "name": "stdout",
     "output_type": "stream",
     "text": [
      "The character with maximum frequence---> e\n"
     ]
    }
   ],
   "source": [
    "print(\"The character with maximum frequence--->\",max(dict_freq,key=dict_freq.get))"
   ]
  },
  {
   "cell_type": "markdown",
   "id": "46192228",
   "metadata": {},
   "source": [
    "# Count the no of vowels in the string\n",
    "\n",
    "Example: \n",
    "\n",
    "string=\"Upgrad\"\n",
    "Output: 1\n",
    "\n",
    "string2=\"India\"\n",
    "Output: 3"
   ]
  },
  {
   "cell_type": "code",
   "execution_count": 55,
   "id": "f1226969",
   "metadata": {},
   "outputs": [],
   "source": [
    "def count_vowels(string):\n",
    "    vowel_string=\"AEIOU\"\n",
    "    count=0\n",
    "    string=string.upper()\n",
    "    for alphabet in string:\n",
    "        if alphabet in vowel_string:\n",
    "            count+=1\n",
    "    return count\n",
    "            "
   ]
  },
  {
   "cell_type": "code",
   "execution_count": 56,
   "id": "88ffff60",
   "metadata": {},
   "outputs": [
    {
     "data": {
      "text/plain": [
       "3"
      ]
     },
     "execution_count": 56,
     "metadata": {},
     "output_type": "execute_result"
    }
   ],
   "source": [
    "count_vowels(\"India\")"
   ]
  },
  {
   "cell_type": "markdown",
   "id": "403b6c6a",
   "metadata": {},
   "source": [
    "# How to remove ith character from the string\n",
    "\n",
    "String:\"Rohit\"\n",
    "\n",
    "\n",
    "ith character:2\n",
    "\n",
    "Output:Roit"
   ]
  },
  {
   "cell_type": "code",
   "execution_count": 58,
   "id": "3a69a6bb",
   "metadata": {},
   "outputs": [
    {
     "data": {
      "text/plain": [
       "'roit'"
      ]
     },
     "execution_count": 58,
     "metadata": {},
     "output_type": "execute_result"
    }
   ],
   "source": [
    "#First Solution\n",
    "\n",
    "string = \"rohit\"\n",
    "string.replace(string[2], '')"
   ]
  },
  {
   "cell_type": "code",
   "execution_count": 59,
   "id": "5ea984e3",
   "metadata": {},
   "outputs": [],
   "source": [
    "def remove_ith_charachter(string,ith):\n",
    "    Character_before_ith_index=string[:ith]\n",
    "    Character_after_ith_index=string[ith+1:]\n",
    "    \n",
    "    return Character_before_ith_index+Character_after_ith_index"
   ]
  },
  {
   "cell_type": "code",
   "execution_count": 60,
   "id": "971ebd96",
   "metadata": {},
   "outputs": [
    {
     "data": {
      "text/plain": [
       "'roit'"
      ]
     },
     "execution_count": 60,
     "metadata": {},
     "output_type": "execute_result"
    }
   ],
   "source": [
    "remove_ith_charachter(\"rohit\",2)"
   ]
  },
  {
   "cell_type": "markdown",
   "id": "4c945d81",
   "metadata": {},
   "source": [
    "# Dictionaries"
   ]
  },
  {
   "cell_type": "code",
   "execution_count": 73,
   "id": "90c286ee",
   "metadata": {},
   "outputs": [
    {
     "data": {
      "text/plain": [
       "[('Alok', 48), ('Inder', 56), ('Vishal', 72), ('Vikas', 78)]"
      ]
     },
     "execution_count": 73,
     "metadata": {},
     "output_type": "execute_result"
    }
   ],
   "source": [
    "dict1={\"Inder\":56,\"Vikas\":78,\"Alok\":48,\"Vishal\":72}\n",
    "\n",
    "#Q. Sort the dictionary based on value in ascending order\n",
    "# dict1.items()\n",
    "sorted(dict1.items(),key=lambda kv:(kv[1],kv[0]))"
   ]
  },
  {
   "cell_type": "code",
   "execution_count": 82,
   "id": "93257467",
   "metadata": {},
   "outputs": [
    {
     "data": {
      "text/plain": [
       "{'Alok': 48, 'Inder': 56, 'Vishal': 72, 'Vikas': 78}"
      ]
     },
     "execution_count": 82,
     "metadata": {},
     "output_type": "execute_result"
    }
   ],
   "source": [
    "a={\"Inder\":56,\"Vikas\":78,\"Alok\":48,\"Vishal\":72}\n",
    "\n",
    "dict(sorted(a.items(),key=lambda x:(x[1],x[0])))\n"
   ]
  },
  {
   "cell_type": "code",
   "execution_count": 81,
   "id": "a6de15c1",
   "metadata": {},
   "outputs": [
    {
     "data": {
      "text/plain": [
       "56"
      ]
     },
     "execution_count": 81,
     "metadata": {},
     "output_type": "execute_result"
    }
   ],
   "source": [
    "list(a.items())[0][1]"
   ]
  },
  {
   "cell_type": "markdown",
   "id": "2fa766cc",
   "metadata": {},
   "source": [
    "# Get Function\n",
    "\n",
    "Syntax:\n",
    "Dictionary_name.get(keyname,value)\n",
    "\n",
    "This method is very useful when we are checking for the key. If the key is present it will give you the associated value else it will give the defined value"
   ]
  },
  {
   "cell_type": "code",
   "execution_count": 83,
   "id": "3b8924c7",
   "metadata": {},
   "outputs": [
    {
     "data": {
      "text/plain": [
       "{'Inder': 56, 'Vikas': 78, 'Alok': 48, 'Vishal': 72}"
      ]
     },
     "execution_count": 83,
     "metadata": {},
     "output_type": "execute_result"
    }
   ],
   "source": [
    "a"
   ]
  },
  {
   "cell_type": "code",
   "execution_count": 89,
   "id": "bbba0051",
   "metadata": {},
   "outputs": [
    {
     "data": {
      "text/plain": [
       "'Not Found'"
      ]
     },
     "execution_count": 89,
     "metadata": {},
     "output_type": "execute_result"
    }
   ],
   "source": [
    "a.get('Sangha',\"Not Found\")"
   ]
  },
  {
   "cell_type": "markdown",
   "id": "ddfe64ac",
   "metadata": {},
   "source": [
    "# setDefault Function"
   ]
  },
  {
   "cell_type": "code",
   "execution_count": 91,
   "id": "0c828eb1",
   "metadata": {},
   "outputs": [],
   "source": [
    "# It is very similiar to get function but the\n",
    "#difference if a key is absent a new key will created with the defined value"
   ]
  },
  {
   "cell_type": "code",
   "execution_count": 93,
   "id": "08ca6aa2",
   "metadata": {},
   "outputs": [
    {
     "data": {
      "text/plain": [
       "'Not present'"
      ]
     },
     "execution_count": 93,
     "metadata": {},
     "output_type": "execute_result"
    }
   ],
   "source": [
    "a.setdefault(\"Sangha\",\"Not present\")"
   ]
  },
  {
   "cell_type": "code",
   "execution_count": 94,
   "id": "8770a4ba",
   "metadata": {},
   "outputs": [
    {
     "data": {
      "text/plain": [
       "{'Inder': 56, 'Vikas': 78, 'Alok': 48, 'Vishal': 72, 'Sangha': 'Not present'}"
      ]
     },
     "execution_count": 94,
     "metadata": {},
     "output_type": "execute_result"
    }
   ],
   "source": [
    "a"
   ]
  },
  {
   "cell_type": "code",
   "execution_count": 95,
   "id": "76146856",
   "metadata": {},
   "outputs": [
    {
     "data": {
      "text/plain": [
       "{'Inder': 56,\n",
       " 'Vikas': 78,\n",
       " 'Alok': 48,\n",
       " 'Vishal': 72,\n",
       " 'Sangha': 'Not present',\n",
       " 'Marks': []}"
      ]
     },
     "execution_count": 95,
     "metadata": {},
     "output_type": "execute_result"
    }
   ],
   "source": [
    "a.setdefault('Marks',[])\n",
    "a"
   ]
  },
  {
   "cell_type": "markdown",
   "id": "57a45db5",
   "metadata": {},
   "source": [
    "# How to Insert element at the beginning of dictionary"
   ]
  },
  {
   "cell_type": "code",
   "execution_count": 96,
   "id": "e9d35f80",
   "metadata": {},
   "outputs": [],
   "source": [
    "# dict1={\"Vikas\":67,\"Alok\":89}\n",
    "\n",
    "# Output:\n",
    "# dict1={\"Sangha\":65,\"Vikas\":67,\"Alok\":89}"
   ]
  },
  {
   "cell_type": "markdown",
   "id": "5b046acb",
   "metadata": {},
   "source": [
    "An OrderedDict is a dictionary subclass that remembers the order that keys were first inserted. The only difference between dict() and OrderedDict() is that:\n",
    "\n",
    "OrderedDict preserves the order in which the keys are inserted. A regular dict doesn’t track the insertion order and iterating it gives the values in an arbitrary order. By contrast, the order the items are inserted is remembered by OrderedDict."
   ]
  },
  {
   "cell_type": "code",
   "execution_count": 97,
   "id": "8f812947",
   "metadata": {},
   "outputs": [
    {
     "data": {
      "text/plain": [
       "{'Vikas': 67, 'Alok': 89}"
      ]
     },
     "execution_count": 97,
     "metadata": {},
     "output_type": "execute_result"
    }
   ],
   "source": [
    "dict1={\"Vikas\":67,\"Alok\":89}\n",
    "dict1"
   ]
  },
  {
   "cell_type": "code",
   "execution_count": 105,
   "id": "9db5f248",
   "metadata": {},
   "outputs": [
    {
     "data": {
      "text/plain": [
       "OrderedDict([('Vikas', 67), ('Alok', 89), ('Sangha', 56)])"
      ]
     },
     "execution_count": 105,
     "metadata": {},
     "output_type": "execute_result"
    }
   ],
   "source": [
    "from collections import OrderedDict\n",
    "dict1=OrderedDict(dict1)\n",
    "dict1"
   ]
  },
  {
   "cell_type": "code",
   "execution_count": 106,
   "id": "0431671a",
   "metadata": {},
   "outputs": [
    {
     "data": {
      "text/plain": [
       "OrderedDict([('Vikas', 67), ('Alok', 89), ('Sangha', 56)])"
      ]
     },
     "execution_count": 106,
     "metadata": {},
     "output_type": "execute_result"
    }
   ],
   "source": [
    "dict1.update({\"Sangha\":56})\n",
    "dict1"
   ]
  },
  {
   "cell_type": "code",
   "execution_count": 108,
   "id": "5c504872",
   "metadata": {},
   "outputs": [
    {
     "data": {
      "text/plain": [
       "{'Sangha': 56, 'Vikas': 67, 'Alok': 89}"
      ]
     },
     "execution_count": 108,
     "metadata": {},
     "output_type": "execute_result"
    }
   ],
   "source": [
    "dict1.move_to_end(\"Sangha\",last=False)\n",
    "dict(dict1)"
   ]
  },
  {
   "cell_type": "code",
   "execution_count": null,
   "id": "069ca922",
   "metadata": {},
   "outputs": [],
   "source": [
    "# #Q. Write a python program to remove the keys in the dictionary with substring values\n",
    "\n",
    "\n",
    "# Example:\n",
    "    \n",
    "# Dict1={\"Sentence\":\"My name is Inderpreet\",\"Sentence2\":\"I love upgrad platform\"}\n",
    "# substring_list=[\"love\"]\n",
    "\n",
    "# Output:\n",
    "#     {\"Sentence\":\"My name is Inderpreet\"}"
   ]
  },
  {
   "cell_type": "code",
   "execution_count": 126,
   "id": "4c404ba2",
   "metadata": {},
   "outputs": [
    {
     "name": "stdout",
     "output_type": "stream",
     "text": [
      "Sentence it is My name is Inderpreet\n",
      "Sentence2 it is I love upgrad platform\n"
     ]
    },
    {
     "data": {
      "text/plain": [
       "{'Sentence': 'My name is Inderpreet'}"
      ]
     },
     "execution_count": 126,
     "metadata": {},
     "output_type": "execute_result"
    }
   ],
   "source": [
    "Dict1={\"Sentence\":\"My name is Inderpreet\",\"Sentence2\":\"I love upgrad platform\"}\n",
    "substring_list=[\"love\"]\n",
    "new_dict={}\n",
    "\n",
    "for key,value in Dict1.items():\n",
    "    print(key,\"it is\",value)\n",
    "#     if substring_list[0] not in value:\n",
    "    if value.find(substring_list[0])==-1:\n",
    "        new_dict[key]=value\n",
    "new_dict\n"
   ]
  },
  {
   "cell_type": "markdown",
   "id": "c1314aea",
   "metadata": {},
   "source": [
    "# Zip in Dictioanaries"
   ]
  },
  {
   "cell_type": "code",
   "execution_count": 130,
   "id": "ef28a412",
   "metadata": {},
   "outputs": [
    {
     "data": {
      "text/plain": [
       "{'Inder': 76, 'Biswa': 87, 'Rohit': 85}"
      ]
     },
     "execution_count": 130,
     "metadata": {},
     "output_type": "execute_result"
    }
   ],
   "source": [
    "Name=[\"Inder\",\"Biswa\",\"Rohit\"]\n",
    "Marks=[76,87,85]\n",
    "\n",
    "dict(zip(Name,Marks))"
   ]
  },
  {
   "cell_type": "code",
   "execution_count": 131,
   "id": "c9feb67a",
   "metadata": {},
   "outputs": [
    {
     "data": {
      "text/plain": [
       "{'Inder': 76, 'Biswa': 87, 'Rohit': 85}"
      ]
     },
     "execution_count": 131,
     "metadata": {},
     "output_type": "execute_result"
    }
   ],
   "source": [
    "{Name:Marks for Name,Marks in zip(Name,Marks)}"
   ]
  },
  {
   "cell_type": "code",
   "execution_count": 133,
   "id": "39fad244",
   "metadata": {},
   "outputs": [
    {
     "data": {
      "text/plain": [
       "{'Monday': '34', 'Tuesday': '42', 'Wednesday': 41}"
      ]
     },
     "execution_count": 133,
     "metadata": {},
     "output_type": "execute_result"
    }
   ],
   "source": [
    "days=[\"Monday\",\"Tuesday\",\"Wednesday\"]\n",
    "Temp=[\"34\",\"42\",41]\n",
    "\n",
    "# Q. Create a dictionary out of these lists\n",
    "\n",
    "dict(zip(days,Temp))"
   ]
  },
  {
   "cell_type": "markdown",
   "id": "fe59172e",
   "metadata": {},
   "source": [
    "# Key with the maximum unique values\n",
    "\n",
    "Example:\n",
    "\n",
    "Dictonary={\"Marks\":[77,34,56,67],\"Marks2\":[66,45,45,67],\"Marks3:[54,67,87,67,32,83]}\n",
    "\n",
    "Output: Marks3"
   ]
  },
  {
   "cell_type": "code",
   "execution_count": 135,
   "id": "d506bced",
   "metadata": {},
   "outputs": [
    {
     "name": "stdout",
     "output_type": "stream",
     "text": [
      "The maximum key with unique values----->  Marks3\n"
     ]
    }
   ],
   "source": [
    "dict1={\"Marks\":[77,34,56,67],\"Marks2\":[66,45,45,67],\"Marks3\":[54,67,87,67,32,83]}\n",
    "\n",
    "max_unique_value_in_lst=0\n",
    "max_key=None\n",
    "\n",
    "for key in dict1:\n",
    "    if(len(set(dict1[key]))>max_unique_value_in_lst):\n",
    "        max_unique_value_in_lst=len(set(dict1[key]))\n",
    "        max_key=key\n",
    "\n",
    "print(\"The maximum key with unique values-----> \",max_key)"
   ]
  },
  {
   "cell_type": "markdown",
   "id": "2ade16e7",
   "metadata": {},
   "source": [
    "# List Comprehension\n",
    "\n",
    "List comprehension are used for creating new list from iterables like tuples,dictioanaries,list,arrays.\n",
    "\n",
    "A list comprehension will consist of square brackets"
   ]
  },
  {
   "cell_type": "code",
   "execution_count": 136,
   "id": "a9a62d64",
   "metadata": {},
   "outputs": [
    {
     "data": {
      "text/plain": [
       "['S',\n",
       " 'a',\n",
       " 'n',\n",
       " 'g',\n",
       " 'h',\n",
       " 'a',\n",
       " 'm',\n",
       " 'i',\n",
       " 't',\n",
       " 'r',\n",
       " 'a',\n",
       " ' ',\n",
       " 's',\n",
       " 'a',\n",
       " 'h',\n",
       " 'o',\n",
       " 'o']"
      ]
     },
     "execution_count": 136,
     "metadata": {},
     "output_type": "execute_result"
    }
   ],
   "source": [
    "string=\"Sanghamitra sahoo\"\n",
    "\n",
    "[character for character in string]"
   ]
  },
  {
   "cell_type": "markdown",
   "id": "197edc72",
   "metadata": {},
   "source": [
    "# Create a list using list compreshension which will store squares of numbers from 1 to 10"
   ]
  },
  {
   "cell_type": "code",
   "execution_count": 137,
   "id": "32ec8692",
   "metadata": {},
   "outputs": [
    {
     "data": {
      "text/plain": [
       "[1, 4, 9, 16, 25, 36, 49, 64, 81, 100]"
      ]
     },
     "execution_count": 137,
     "metadata": {},
     "output_type": "execute_result"
    }
   ],
   "source": [
    "[number**2 for number in range(1,11)]"
   ]
  },
  {
   "cell_type": "markdown",
   "id": "0bcdf055",
   "metadata": {},
   "source": [
    "# Reverse a list of strings using List Comprehension\n"
   ]
  },
  {
   "cell_type": "code",
   "execution_count": 139,
   "id": "d93d2683",
   "metadata": {},
   "outputs": [
    {
     "data": {
      "text/plain": [
       "['teerprednI', 'ahgnaS', 'aytidA']"
      ]
     },
     "execution_count": 139,
     "metadata": {},
     "output_type": "execute_result"
    }
   ],
   "source": [
    "list1=[\"Inderpreet\",\"Sangha\",\"Aditya\"]\n",
    "\n",
    "# Output:\n",
    "# Output:[\"teerprednI\",\"ahgnaS\",\"aytidA\"]\n",
    "    \n",
    "[string[::-1] for string in list1]"
   ]
  },
  {
   "cell_type": "markdown",
   "id": "b14c8a81",
   "metadata": {},
   "source": [
    "# Home Work\n",
    "# Print out the sum of digits of odd element present in the list\n",
    "\n",
    "Example: [131,213,34,22]\n",
    "\n",
    "Output: [5,6,7]"
   ]
  },
  {
   "cell_type": "code",
   "execution_count": null,
   "id": "9c831ab4",
   "metadata": {},
   "outputs": [],
   "source": []
  }
 ],
 "metadata": {
  "kernelspec": {
   "display_name": "Python 3 (ipykernel)",
   "language": "python",
   "name": "python3"
  },
  "language_info": {
   "codemirror_mode": {
    "name": "ipython",
    "version": 3
   },
   "file_extension": ".py",
   "mimetype": "text/x-python",
   "name": "python",
   "nbconvert_exporter": "python",
   "pygments_lexer": "ipython3",
   "version": "3.7.6"
  }
 },
 "nbformat": 4,
 "nbformat_minor": 5
}
