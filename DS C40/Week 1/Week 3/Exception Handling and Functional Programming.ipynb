{
 "cells": [
  {
   "cell_type": "markdown",
   "id": "ba33b3e0",
   "metadata": {},
   "source": [
    "# Errors\n",
    "\n",
    "Errors are the problems that halts the exectution of the program. On the other hand exception are raised when internal events changes the complete flow of the program\n",
    "\n",
    "\n",
    "Two Types of Errors:\n",
    "1. Syntax Errors---->When we are not using the rules of the programming language this error is thrown\n",
    "\n",
    "2. Logical Errors----> When in the runtime of the program an error that will pass the syntax text is called as logical error or exception error.\n",
    "\n"
   ]
  },
  {
   "cell_type": "code",
   "execution_count": 3,
   "id": "ad58f871",
   "metadata": {},
   "outputs": [
    {
     "ename": "SyntaxError",
     "evalue": "EOL while scanning string literal (Temp/ipykernel_5684/2404413420.py, line 1)",
     "output_type": "error",
     "traceback": [
      "\u001b[1;36m  File \u001b[1;32m\"C:\\Users\\sidak\\AppData\\Local\\Temp/ipykernel_5684/2404413420.py\"\u001b[1;36m, line \u001b[1;32m1\u001b[0m\n\u001b[1;33m    Name=\"INDERPREET\u001b[0m\n\u001b[1;37m                    ^\u001b[0m\n\u001b[1;31mSyntaxError\u001b[0m\u001b[1;31m:\u001b[0m EOL while scanning string literal\n"
     ]
    }
   ],
   "source": [
    "Name=\"INDERPREET\n",
    "\n",
    "Name2=\"Inderpreet\"\n",
    "\n",
    "#This is a example of Syntax Error"
   ]
  },
  {
   "cell_type": "code",
   "execution_count": 4,
   "id": "8858cb93",
   "metadata": {},
   "outputs": [
    {
     "ename": "ZeroDivisionError",
     "evalue": "division by zero",
     "output_type": "error",
     "traceback": [
      "\u001b[1;31m---------------------------------------------------------------------------\u001b[0m",
      "\u001b[1;31mZeroDivisionError\u001b[0m                         Traceback (most recent call last)",
      "\u001b[1;32m~\\AppData\\Local\\Temp/ipykernel_5684/2446215382.py\u001b[0m in \u001b[0;36m<module>\u001b[1;34m\u001b[0m\n\u001b[0;32m      1\u001b[0m \u001b[0mSum_Of_numbers\u001b[0m\u001b[1;33m=\u001b[0m\u001b[1;36m30\u001b[0m\u001b[1;33m+\u001b[0m\u001b[1;36m45\u001b[0m\u001b[1;33m+\u001b[0m\u001b[1;36m15\u001b[0m\u001b[1;33m\u001b[0m\u001b[1;33m\u001b[0m\u001b[0m\n\u001b[0;32m      2\u001b[0m \u001b[1;33m\u001b[0m\u001b[0m\n\u001b[1;32m----> 3\u001b[1;33m \u001b[0mSum_Of_numbers\u001b[0m\u001b[1;33m/\u001b[0m\u001b[1;36m0\u001b[0m\u001b[1;33m\u001b[0m\u001b[1;33m\u001b[0m\u001b[0m\n\u001b[0m",
      "\u001b[1;31mZeroDivisionError\u001b[0m: division by zero"
     ]
    }
   ],
   "source": [
    "Sum_Of_numbers=30+45+15\n",
    "\n",
    "Sum_Of_numbers/0"
   ]
  },
  {
   "cell_type": "markdown",
   "id": "e168e838",
   "metadata": {},
   "source": [
    "# Types_of_Errors\n",
    "\n",
    "IndexError\tWhen the wrong index of a list is retrieved.\n",
    "\n",
    "AssertionError\tIt occurs when the assert statement fails\n",
    "\n",
    "AttributeError\tIt occurs when an attribute assignment is failed.\n",
    "\n",
    "ImportError\tIt occurs when an imported module is not found.\n",
    "\n",
    "KeyError\tIt occurs when the key of the dictionary is not found.\n",
    "\n",
    "NameError\tIt occurs when the variable is not defined.\n",
    "\n",
    "MemoryError\tIt occurs when a program runs out of memory.\n",
    "\n",
    "TypeError\tIt occurs when a function and operation are applied in an incorrect type"
   ]
  },
  {
   "cell_type": "code",
   "execution_count": 5,
   "id": "09fe09ee",
   "metadata": {},
   "outputs": [
    {
     "ename": "IndexError",
     "evalue": "list index out of range",
     "output_type": "error",
     "traceback": [
      "\u001b[1;31m---------------------------------------------------------------------------\u001b[0m",
      "\u001b[1;31mIndexError\u001b[0m                                Traceback (most recent call last)",
      "\u001b[1;32m~\\AppData\\Local\\Temp/ipykernel_5684/470072992.py\u001b[0m in \u001b[0;36m<module>\u001b[1;34m\u001b[0m\n\u001b[0;32m      1\u001b[0m \u001b[0mlst\u001b[0m\u001b[1;33m=\u001b[0m\u001b[1;33m[\u001b[0m\u001b[1;36m1\u001b[0m\u001b[1;33m,\u001b[0m\u001b[1;36m2\u001b[0m\u001b[1;33m,\u001b[0m\u001b[1;36m3\u001b[0m\u001b[1;33m]\u001b[0m\u001b[1;33m\u001b[0m\u001b[1;33m\u001b[0m\u001b[0m\n\u001b[1;32m----> 2\u001b[1;33m \u001b[0mlst\u001b[0m\u001b[1;33m[\u001b[0m\u001b[1;36m5\u001b[0m\u001b[1;33m]\u001b[0m\u001b[1;33m\u001b[0m\u001b[1;33m\u001b[0m\u001b[0m\n\u001b[0m",
      "\u001b[1;31mIndexError\u001b[0m: list index out of range"
     ]
    }
   ],
   "source": [
    "lst=[1,2,3]\n",
    "lst[5]"
   ]
  },
  {
   "cell_type": "code",
   "execution_count": 6,
   "id": "49ff88e2",
   "metadata": {},
   "outputs": [
    {
     "ename": "TypeError",
     "evalue": "'str' object does not support item assignment",
     "output_type": "error",
     "traceback": [
      "\u001b[1;31m---------------------------------------------------------------------------\u001b[0m",
      "\u001b[1;31mTypeError\u001b[0m                                 Traceback (most recent call last)",
      "\u001b[1;32m~\\AppData\\Local\\Temp/ipykernel_5684/2891834905.py\u001b[0m in \u001b[0;36m<module>\u001b[1;34m\u001b[0m\n\u001b[0;32m      1\u001b[0m \u001b[0mstr1\u001b[0m\u001b[1;33m=\u001b[0m\u001b[1;34m'Inderpreet'\u001b[0m\u001b[1;33m\u001b[0m\u001b[1;33m\u001b[0m\u001b[0m\n\u001b[1;32m----> 2\u001b[1;33m \u001b[0mstr1\u001b[0m\u001b[1;33m[\u001b[0m\u001b[1;36m0\u001b[0m\u001b[1;33m]\u001b[0m\u001b[1;33m=\u001b[0m\u001b[1;34m'a'\u001b[0m\u001b[1;33m\u001b[0m\u001b[1;33m\u001b[0m\u001b[0m\n\u001b[0m",
      "\u001b[1;31mTypeError\u001b[0m: 'str' object does not support item assignment"
     ]
    }
   ],
   "source": [
    "str1='Inderpreet'\n",
    "str1[0]='a'"
   ]
  },
  {
   "cell_type": "code",
   "execution_count": 7,
   "id": "5f83bc80",
   "metadata": {},
   "outputs": [
    {
     "ename": "AttributeError",
     "evalue": "'int' object has no attribute 'append'",
     "output_type": "error",
     "traceback": [
      "\u001b[1;31m---------------------------------------------------------------------------\u001b[0m",
      "\u001b[1;31mAttributeError\u001b[0m                            Traceback (most recent call last)",
      "\u001b[1;32m~\\AppData\\Local\\Temp/ipykernel_5684/4074464350.py\u001b[0m in \u001b[0;36m<module>\u001b[1;34m\u001b[0m\n\u001b[0;32m      1\u001b[0m \u001b[0ma\u001b[0m\u001b[1;33m=\u001b[0m\u001b[1;36m5\u001b[0m\u001b[1;33m\u001b[0m\u001b[1;33m\u001b[0m\u001b[0m\n\u001b[0;32m      2\u001b[0m \u001b[1;33m\u001b[0m\u001b[0m\n\u001b[1;32m----> 3\u001b[1;33m \u001b[0ma\u001b[0m\u001b[1;33m.\u001b[0m\u001b[0mappend\u001b[0m\u001b[1;33m(\u001b[0m\u001b[1;36m7\u001b[0m\u001b[1;33m)\u001b[0m\u001b[1;33m\u001b[0m\u001b[1;33m\u001b[0m\u001b[0m\n\u001b[0m",
      "\u001b[1;31mAttributeError\u001b[0m: 'int' object has no attribute 'append'"
     ]
    }
   ],
   "source": [
    "a=5\n",
    "\n",
    "a.append(7)"
   ]
  },
  {
   "cell_type": "code",
   "execution_count": 8,
   "id": "ef0bced0",
   "metadata": {},
   "outputs": [
    {
     "ename": "KeyError",
     "evalue": "'rahul'",
     "output_type": "error",
     "traceback": [
      "\u001b[1;31m---------------------------------------------------------------------------\u001b[0m",
      "\u001b[1;31mKeyError\u001b[0m                                  Traceback (most recent call last)",
      "\u001b[1;32m~\\AppData\\Local\\Temp/ipykernel_5684/2785663719.py\u001b[0m in \u001b[0;36m<module>\u001b[1;34m\u001b[0m\n\u001b[0;32m      1\u001b[0m \u001b[0mdict1\u001b[0m\u001b[1;33m=\u001b[0m\u001b[1;33m{\u001b[0m\u001b[1;34m\"inder\"\u001b[0m\u001b[1;33m:\u001b[0m\u001b[1;33m[\u001b[0m\u001b[1;36m10\u001b[0m\u001b[1;33m]\u001b[0m\u001b[1;33m}\u001b[0m\u001b[1;33m\u001b[0m\u001b[1;33m\u001b[0m\u001b[0m\n\u001b[1;32m----> 2\u001b[1;33m \u001b[0mdict1\u001b[0m\u001b[1;33m[\u001b[0m\u001b[1;34m'rahul'\u001b[0m\u001b[1;33m]\u001b[0m\u001b[1;33m\u001b[0m\u001b[1;33m\u001b[0m\u001b[0m\n\u001b[0m",
      "\u001b[1;31mKeyError\u001b[0m: 'rahul'"
     ]
    }
   ],
   "source": [
    "dict1={\"inder\":[10]}\n",
    "dict1['rahul']"
   ]
  },
  {
   "cell_type": "code",
   "execution_count": 14,
   "id": "6f507a94",
   "metadata": {},
   "outputs": [
    {
     "ename": "NameError",
     "evalue": "name 'name2' is not defined",
     "output_type": "error",
     "traceback": [
      "\u001b[1;31m---------------------------------------------------------------------------\u001b[0m",
      "\u001b[1;31mNameError\u001b[0m                                 Traceback (most recent call last)",
      "\u001b[1;32m~\\AppData\\Local\\Temp/ipykernel_5684/1150827578.py\u001b[0m in \u001b[0;36m<module>\u001b[1;34m\u001b[0m\n\u001b[1;32m----> 1\u001b[1;33m \u001b[0mprint\u001b[0m\u001b[1;33m(\u001b[0m\u001b[0mname2\u001b[0m\u001b[1;33m)\u001b[0m\u001b[1;33m\u001b[0m\u001b[1;33m\u001b[0m\u001b[0m\n\u001b[0m\u001b[0;32m      2\u001b[0m \u001b[1;33m\u001b[0m\u001b[0m\n\u001b[0;32m      3\u001b[0m \u001b[0mname2\u001b[0m\u001b[1;33m=\u001b[0m\u001b[1;34m'Inderpreet'\u001b[0m\u001b[1;33m\u001b[0m\u001b[1;33m\u001b[0m\u001b[0m\n",
      "\u001b[1;31mNameError\u001b[0m: name 'name2' is not defined"
     ]
    }
   ],
   "source": [
    "\n",
    "print(name2)\n",
    "\n",
    "name2='Inderpreet'"
   ]
  },
  {
   "cell_type": "code",
   "execution_count": 18,
   "id": "87d08dd5",
   "metadata": {},
   "outputs": [],
   "source": [
    "import pandas"
   ]
  },
  {
   "cell_type": "code",
   "execution_count": 17,
   "id": "be9a521a",
   "metadata": {},
   "outputs": [
    {
     "ename": "ModuleNotFoundError",
     "evalue": "No module named 'request'",
     "output_type": "error",
     "traceback": [
      "\u001b[1;31m---------------------------------------------------------------------------\u001b[0m",
      "\u001b[1;31mModuleNotFoundError\u001b[0m                       Traceback (most recent call last)",
      "\u001b[1;32m~\\AppData\\Local\\Temp/ipykernel_5684/1724168889.py\u001b[0m in \u001b[0;36m<module>\u001b[1;34m\u001b[0m\n\u001b[1;32m----> 1\u001b[1;33m \u001b[1;32mimport\u001b[0m \u001b[0mrequest\u001b[0m\u001b[1;33m\u001b[0m\u001b[1;33m\u001b[0m\u001b[0m\n\u001b[0m",
      "\u001b[1;31mModuleNotFoundError\u001b[0m: No module named 'request'"
     ]
    }
   ],
   "source": [
    "import request"
   ]
  },
  {
   "cell_type": "markdown",
   "id": "9b94a436",
   "metadata": {},
   "source": [
    "# Error Handling\n"
   ]
  },
  {
   "cell_type": "markdown",
   "id": "01ad78ba",
   "metadata": {},
   "source": [
    "When an error and an exceptions occurs we handle them with the help of these handling methods\n",
    "\n",
    "Handling Exceptions with Try/Except/Finally"
   ]
  },
  {
   "cell_type": "code",
   "execution_count": 20,
   "id": "2eed3b72",
   "metadata": {},
   "outputs": [
    {
     "ename": "ZeroDivisionError",
     "evalue": "division by zero",
     "output_type": "error",
     "traceback": [
      "\u001b[1;31m---------------------------------------------------------------------------\u001b[0m",
      "\u001b[1;31mZeroDivisionError\u001b[0m                         Traceback (most recent call last)",
      "\u001b[1;32m~\\AppData\\Local\\Temp/ipykernel_5684/2874912419.py\u001b[0m in \u001b[0;36m<module>\u001b[1;34m\u001b[0m\n\u001b[1;32m----> 1\u001b[1;33m \u001b[1;36m5\u001b[0m\u001b[1;33m/\u001b[0m\u001b[1;36m0\u001b[0m\u001b[1;33m\u001b[0m\u001b[1;33m\u001b[0m\u001b[0m\n\u001b[0m",
      "\u001b[1;31mZeroDivisionError\u001b[0m: division by zero"
     ]
    }
   ],
   "source": [
    "5/0"
   ]
  },
  {
   "cell_type": "code",
   "execution_count": 21,
   "id": "21ff0612",
   "metadata": {},
   "outputs": [
    {
     "name": "stdout",
     "output_type": "stream",
     "text": [
      "There was an error\n"
     ]
    }
   ],
   "source": [
    "try:\n",
    "    print(5/0)\n",
    "except:\n",
    "    print(\"There was an error\")"
   ]
  },
  {
   "cell_type": "code",
   "execution_count": 22,
   "id": "2850f06f",
   "metadata": {},
   "outputs": [
    {
     "ename": "NameError",
     "evalue": "name 'name2' is not defined",
     "output_type": "error",
     "traceback": [
      "\u001b[1;31m---------------------------------------------------------------------------\u001b[0m",
      "\u001b[1;31mNameError\u001b[0m                                 Traceback (most recent call last)",
      "\u001b[1;32m~\\AppData\\Local\\Temp/ipykernel_5684/2896344603.py\u001b[0m in \u001b[0;36m<module>\u001b[1;34m\u001b[0m\n\u001b[1;32m----> 1\u001b[1;33m \u001b[0mprint\u001b[0m\u001b[1;33m(\u001b[0m\u001b[0mname2\u001b[0m\u001b[1;33m)\u001b[0m\u001b[1;33m\u001b[0m\u001b[1;33m\u001b[0m\u001b[0m\n\u001b[0m\u001b[0;32m      2\u001b[0m \u001b[1;33m\u001b[0m\u001b[0m\n\u001b[0;32m      3\u001b[0m \u001b[0mname2\u001b[0m\u001b[1;33m=\u001b[0m\u001b[1;34m'Inderpreet'\u001b[0m\u001b[1;33m\u001b[0m\u001b[1;33m\u001b[0m\u001b[0m\n",
      "\u001b[1;31mNameError\u001b[0m: name 'name2' is not defined"
     ]
    }
   ],
   "source": [
    "print(name2)\n",
    "\n",
    "name2='Inderpreet'"
   ]
  },
  {
   "cell_type": "code",
   "execution_count": 27,
   "id": "1c12e305",
   "metadata": {},
   "outputs": [
    {
     "ename": "ZeroDivisionError",
     "evalue": "division by zero",
     "output_type": "error",
     "traceback": [
      "\u001b[1;31m---------------------------------------------------------------------------\u001b[0m",
      "\u001b[1;31mZeroDivisionError\u001b[0m                         Traceback (most recent call last)",
      "\u001b[1;32m~\\AppData\\Local\\Temp/ipykernel_5684/2874912419.py\u001b[0m in \u001b[0;36m<module>\u001b[1;34m\u001b[0m\n\u001b[1;32m----> 1\u001b[1;33m \u001b[1;36m5\u001b[0m\u001b[1;33m/\u001b[0m\u001b[1;36m0\u001b[0m\u001b[1;33m\u001b[0m\u001b[1;33m\u001b[0m\u001b[0m\n\u001b[0m",
      "\u001b[1;31mZeroDivisionError\u001b[0m: division by zero"
     ]
    }
   ],
   "source": [
    "5/0"
   ]
  },
  {
   "cell_type": "code",
   "execution_count": 24,
   "id": "d73ef563",
   "metadata": {},
   "outputs": [
    {
     "name": "stdout",
     "output_type": "stream",
     "text": [
      "There was an error with the string\n"
     ]
    }
   ],
   "source": [
    "try:\n",
    "    print(name2)\n",
    "    name2='Inderpreet'\n",
    "except NameError:\n",
    "    print(\"There was an error with the string\")"
   ]
  },
  {
   "cell_type": "code",
   "execution_count": 26,
   "id": "ccedb83d",
   "metadata": {},
   "outputs": [
    {
     "name": "stdout",
     "output_type": "stream",
     "text": [
      "My name is Inderpreet\n"
     ]
    }
   ],
   "source": [
    "try:\n",
    "    name2='Inderpreet'\n",
    "except NameError:\n",
    "    print(\"There was an error with the string\")\n",
    "finally:\n",
    "    print(\"My name is Inderpreet\")"
   ]
  },
  {
   "cell_type": "code",
   "execution_count": 28,
   "id": "ad05d2bd",
   "metadata": {},
   "outputs": [
    {
     "name": "stdout",
     "output_type": "stream",
     "text": [
      "Error\n",
      "2.5\n"
     ]
    }
   ],
   "source": [
    "try:\n",
    "    5/0\n",
    "except:\n",
    "    print(\"Error\")\n",
    "finally:\n",
    "    print(5/2)"
   ]
  },
  {
   "cell_type": "code",
   "execution_count": 32,
   "id": "adb4940c",
   "metadata": {},
   "outputs": [
    {
     "name": "stdout",
     "output_type": "stream",
     "text": [
      "Enter a Number 10\n"
     ]
    },
    {
     "data": {
      "text/plain": [
       "10"
      ]
     },
     "execution_count": 32,
     "metadata": {},
     "output_type": "execute_result"
    }
   ],
   "source": [
    "int(input(\"Enter a Number \"))"
   ]
  },
  {
   "cell_type": "code",
   "execution_count": 38,
   "id": "44547924",
   "metadata": {},
   "outputs": [
    {
     "name": "stdout",
     "output_type": "stream",
     "text": [
      "Please Enter an integer  10\n",
      "Finally It is executed\n"
     ]
    }
   ],
   "source": [
    "try:\n",
    "    val=int(input(\"Please Enter an integer  \"))\n",
    "except:\n",
    "    print(\"Loooks like you did not enter an integer\")\n",
    "    try:\n",
    "        val=int(input(\"Please Enter an integer again\"))\n",
    "    except:\n",
    "        print(\"Handle it\")\n",
    "finally:\n",
    "    print(\"Finally It is executed\")\n"
   ]
  },
  {
   "cell_type": "code",
   "execution_count": 10,
   "id": "65ddfd19",
   "metadata": {},
   "outputs": [
    {
     "name": "stdout",
     "output_type": "stream",
     "text": [
      "Please Enter an integer for A  a\n",
      "Please input the valid integers\n",
      "Please Enter an integer for A second time  5\n",
      "Please Enter an integer for B second time 10\n",
      "-5\n",
      " I am executed first time\n",
      "Now I am executed \n"
     ]
    }
   ],
   "source": [
    "#. If instead of a and b integers we input a character what would be the order of execution\n",
    "\n",
    "\n",
    "try:\n",
    "    x=int(input(\"Please Enter an integer for A \"))\n",
    "    y=int(input(\"Please Enter an integer for B \"))\n",
    "except:\n",
    "    print(\"Please input the valid integers\")\n",
    "    try:\n",
    "        x=int(input(\"Please Enter an integer for A second time \"))\n",
    "        y=int(input(\"Please Enter an integer for B second time \"))\n",
    "    except:\n",
    "        print(\"Handle it\")\n",
    "    finally:\n",
    "        c=x-y\n",
    "        print(c)\n",
    "        print(\" I am executed first time\")\n",
    "finally:\n",
    "    print(\"Now I am executed \")\n",
    "    "
   ]
  },
  {
   "cell_type": "markdown",
   "id": "ff988447",
   "metadata": {},
   "source": [
    "# Functions\n",
    "\n",
    "Functions are the most important building block of code that helps us to construct large amount of code to solve problems.\n",
    "\n",
    "What is a Function?\n",
    "\n",
    "A Function is a group of statements together to run the program more than once.\n",
    "\n",
    "Function allow us to reuse the program."
   ]
  },
  {
   "cell_type": "markdown",
   "id": "371b7fbd",
   "metadata": {},
   "source": [
    "# Syntax of a Function\n",
    "\n",
    "def name_of_function(arg1,arg2):\n",
    "    ----Block of code\n",
    "   \n",
    "    return anything\"\n",
    "    "
   ]
  },
  {
   "cell_type": "code",
   "execution_count": 16,
   "id": "dd31c7d0",
   "metadata": {},
   "outputs": [],
   "source": [
    "def sum_of_two_numbers(num1,num2):\n",
    "    \n",
    "    print(\"The sum of these numbers are---->\",num1+num2)\n",
    "    return \"Sum of two numbers is complete\""
   ]
  },
  {
   "cell_type": "code",
   "execution_count": 19,
   "id": "5b1d2ce6",
   "metadata": {},
   "outputs": [
    {
     "name": "stdout",
     "output_type": "stream",
     "text": [
      "The sum of these numbers are----> 15\n"
     ]
    },
    {
     "data": {
      "text/plain": [
       "'Sum of two numbers is complete and adding a string'"
      ]
     },
     "execution_count": 19,
     "metadata": {},
     "output_type": "execute_result"
    }
   ],
   "source": [
    "sum_of_two_numbers(5,10)+\" and adding a string\""
   ]
  },
  {
   "cell_type": "code",
   "execution_count": 57,
   "id": "1f486823",
   "metadata": {},
   "outputs": [],
   "source": [
    "def calculator(num1,num2,operator):\n",
    "    if operator=='+':\n",
    "        Results=num1+num2\n",
    "        print(\"The sum of the two numbers are----->\",Results) \n",
    "        return Results\n",
    "    elif operator=='-':\n",
    "        Results=num1-num2\n",
    "        print(\"The difference of the two numbers are----->\",Results) \n",
    "        return Results\n",
    "    elif operator=='*':\n",
    "        Results=num1*num2\n",
    "        print(\"The multiplication of the two numbers are----->\",Results)     \n",
    "        return Results\n",
    "    elif operator=='/':\n",
    "        try:\n",
    "            Results=(num1/num2)\n",
    "            print(\"The division of the two numbers are----->\",Results) \n",
    "            return Results\n",
    "        except:\n",
    "            print(\"You cannot divide a number by Zero\")\n",
    "        finally:\n",
    "            print(\"I am executed\")\n",
    "        "
   ]
  },
  {
   "cell_type": "code",
   "execution_count": 58,
   "id": "35cdf1b8",
   "metadata": {
    "scrolled": true
   },
   "outputs": [
    {
     "name": "stdout",
     "output_type": "stream",
     "text": [
      "The sum of the two numbers are-----> 8\n",
      "The multiplication of the two numbers are-----> 40\n",
      "The division of the two numbers are-----> 0.6\n",
      "I am executed\n",
      "The difference of the two numbers are-----> 25\n"
     ]
    },
    {
     "data": {
      "text/plain": [
       "73.6"
      ]
     },
     "execution_count": 58,
     "metadata": {},
     "output_type": "execute_result"
    }
   ],
   "source": [
    "calculator(3,5,'+')+calculator(10,4,'*')+calculator(3,5,'/')+calculator(30,5,'-')"
   ]
  },
  {
   "cell_type": "code",
   "execution_count": 46,
   "id": "29b31991",
   "metadata": {},
   "outputs": [
    {
     "name": "stdout",
     "output_type": "stream",
     "text": [
      "The sum of the two numbers are-----> 8\n"
     ]
    },
    {
     "data": {
      "text/plain": [
       "8"
      ]
     },
     "execution_count": 46,
     "metadata": {},
     "output_type": "execute_result"
    }
   ],
   "source": [
    "result=calculator(3,5,'+')\n",
    "result"
   ]
  },
  {
   "cell_type": "code",
   "execution_count": 50,
   "id": "1325c90f",
   "metadata": {},
   "outputs": [],
   "source": [
    "def sum_of_two_numbers(num1,num2):\n",
    "    \n",
    "    print(\"The sum of these numbers are---->\",num1+num2)\n",
    "    return num1+num2"
   ]
  },
  {
   "cell_type": "code",
   "execution_count": 51,
   "id": "27d58793",
   "metadata": {},
   "outputs": [
    {
     "name": "stdout",
     "output_type": "stream",
     "text": [
      "The sum of these numbers are----> 7\n"
     ]
    },
    {
     "data": {
      "text/plain": [
       "17"
      ]
     },
     "execution_count": 51,
     "metadata": {},
     "output_type": "execute_result"
    }
   ],
   "source": [
    "sum_of_two_numbers(4,3)+10"
   ]
  },
  {
   "cell_type": "markdown",
   "id": "fa6b57bc",
   "metadata": {},
   "source": [
    "Q1. Write a Python Function that returns the cube of the number\n",
    "\n",
    "\n",
    "Example: \n",
    "    \n",
    "    1->1\n",
    "    2->8\n",
    "    3->27\n",
    "    4->64\n",
    "    \n",
    "    "
   ]
  },
  {
   "cell_type": "code",
   "execution_count": 62,
   "id": "c76bc0a5",
   "metadata": {},
   "outputs": [
    {
     "data": {
      "text/plain": [
       "8"
      ]
     },
     "execution_count": 62,
     "metadata": {},
     "output_type": "execute_result"
    }
   ],
   "source": [
    "a=2\n",
    "2*2*2"
   ]
  },
  {
   "cell_type": "code",
   "execution_count": 64,
   "id": "632a5b8c",
   "metadata": {},
   "outputs": [
    {
     "data": {
      "text/plain": [
       "8"
      ]
     },
     "execution_count": 64,
     "metadata": {},
     "output_type": "execute_result"
    }
   ],
   "source": [
    "2**3"
   ]
  },
  {
   "cell_type": "code",
   "execution_count": 65,
   "id": "6c53de13",
   "metadata": {},
   "outputs": [],
   "source": [
    "def cube_of_number(number):\n",
    "    print(\"The cube of the number is---->\",number**3)\n",
    "    return number**3\n",
    "    "
   ]
  },
  {
   "cell_type": "code",
   "execution_count": 70,
   "id": "348aae97",
   "metadata": {},
   "outputs": [
    {
     "name": "stdout",
     "output_type": "stream",
     "text": [
      "The cube of the number is----> 64000\n"
     ]
    },
    {
     "data": {
      "text/plain": [
       "64000"
      ]
     },
     "execution_count": 70,
     "metadata": {},
     "output_type": "execute_result"
    }
   ],
   "source": [
    "cube_of_number(40)"
   ]
  },
  {
   "cell_type": "code",
   "execution_count": 76,
   "id": "768e09fa",
   "metadata": {},
   "outputs": [],
   "source": [
    "#Q2. Create a Function to Convert  Celsius into Fahrenheit\n",
    "\n",
    "\n",
    "def Convert_celsius_to_fahr(Temp):\n",
    "    return str ((9/5 * Temp) + 32)+'°F'\n",
    "\n"
   ]
  },
  {
   "cell_type": "code",
   "execution_count": 78,
   "id": "0fc3086b",
   "metadata": {},
   "outputs": [
    {
     "data": {
      "text/plain": [
       "'84.2°F'"
      ]
     },
     "execution_count": 78,
     "metadata": {},
     "output_type": "execute_result"
    }
   ],
   "source": [
    "Convert_celsius_to_fahr(29)"
   ]
  },
  {
   "cell_type": "code",
   "execution_count": 83,
   "id": "90fb4271",
   "metadata": {},
   "outputs": [],
   "source": [
    "#Q3. Create a Function to Convert Fahrenheit into Celsius\n",
    "\n",
    "\n",
    "def Convert_fahr_to_celsius(Temp_in_Fahren):\n",
    "    return str((5/9 *(Temp_in_Fahren-32))) +'°C'\n",
    "\n",
    "                \n",
    "                "
   ]
  },
  {
   "cell_type": "code",
   "execution_count": 84,
   "id": "c1fc8a22",
   "metadata": {},
   "outputs": [
    {
     "data": {
      "text/plain": [
       "'29.000000000000004°C'"
      ]
     },
     "execution_count": 84,
     "metadata": {},
     "output_type": "execute_result"
    }
   ],
   "source": [
    "Convert_fahr_to_celsius(84.2)"
   ]
  },
  {
   "cell_type": "code",
   "execution_count": 86,
   "id": "3b4c1442",
   "metadata": {},
   "outputs": [
    {
     "name": "stdout",
     "output_type": "stream",
     "text": [
      "Please enter the value5\n"
     ]
    },
    {
     "data": {
      "text/plain": [
       "'5'"
      ]
     },
     "execution_count": 86,
     "metadata": {},
     "output_type": "execute_result"
    }
   ],
   "source": [
    "input(\"Please enter the value\")"
   ]
  },
  {
   "cell_type": "code",
   "execution_count": 88,
   "id": "c0689510",
   "metadata": {},
   "outputs": [],
   "source": [
    "def full_name(First_name,Last_name):\n",
    "    Full_name=First_name+\" \"+Last_name\n",
    "    return Full_name"
   ]
  },
  {
   "cell_type": "code",
   "execution_count": 90,
   "id": "152924b4",
   "metadata": {},
   "outputs": [
    {
     "data": {
      "text/plain": [
       "'Inderpreet Singh'"
      ]
     },
     "execution_count": 90,
     "metadata": {},
     "output_type": "execute_result"
    }
   ],
   "source": [
    "full_name(\"Inderpreet\",\"Singh\")"
   ]
  },
  {
   "cell_type": "code",
   "execution_count": 93,
   "id": "82f7ea45",
   "metadata": {},
   "outputs": [],
   "source": [
    "#Questions\n",
    "\n",
    "#Q1. Create a function for checking whether the number is even or odd\n",
    "\n",
    "def even_odd(num):\n",
    "    if num%2==0:\n",
    "        print(\"{} number is even\".format(num))\n",
    "    else:\n",
    "        print(\"{} number is odd\".format(num))\n",
    "\n",
    "\n"
   ]
  },
  {
   "cell_type": "code",
   "execution_count": 94,
   "id": "e457da93",
   "metadata": {},
   "outputs": [
    {
     "name": "stdout",
     "output_type": "stream",
     "text": [
      "5 number is odd\n"
     ]
    }
   ],
   "source": [
    "even_odd(5)"
   ]
  },
  {
   "cell_type": "code",
   "execution_count": 105,
   "id": "27b1bf6e",
   "metadata": {},
   "outputs": [
    {
     "name": "stdout",
     "output_type": "stream",
     "text": [
      "2\n",
      "4\n",
      "6\n",
      "8\n"
     ]
    }
   ],
   "source": [
    "for i in range(2,10,2):\n",
    "    print(i)"
   ]
  },
  {
   "cell_type": "code",
   "execution_count": 108,
   "id": "db6a51dc",
   "metadata": {},
   "outputs": [],
   "source": [
    "import math\n",
    "\n",
    "#Q2. Create a function to check whether the number is prime or not.\n",
    "\n",
    "def is_prime(num):\n",
    "    \n",
    "    if num %2==0 and num>2:\n",
    "        return False\n",
    "    \n",
    "    for i in range(3,num,2):\n",
    "        print(\"The number \",i)\n",
    "        if num % i==0:\n",
    "            return False\n",
    "        \n",
    "    return True\n",
    "        \n",
    "    \n",
    "\n",
    "\n",
    "\n"
   ]
  },
  {
   "cell_type": "code",
   "execution_count": 109,
   "id": "e57ce38e",
   "metadata": {},
   "outputs": [
    {
     "name": "stdout",
     "output_type": "stream",
     "text": [
      "The number  3\n",
      "The number  5\n"
     ]
    },
    {
     "data": {
      "text/plain": [
       "True"
      ]
     },
     "execution_count": 109,
     "metadata": {},
     "output_type": "execute_result"
    }
   ],
   "source": [
    "is_prime(7)"
   ]
  },
  {
   "cell_type": "markdown",
   "id": "0a4cebab",
   "metadata": {},
   "source": [
    "# Map Function\n",
    "\n",
    "This function returns a map object of the results after applying the function to each item of the iterable(list,tuple)\n",
    "\n",
    "Syntax:\n",
    "map(function_name,iterable)\n",
    "\n",
    "Iterable are like lists,tuples,set,etc.\n",
    "\n"
   ]
  },
  {
   "cell_type": "code",
   "execution_count": 2,
   "id": "b2537a78",
   "metadata": {},
   "outputs": [
    {
     "data": {
      "text/plain": [
       "[2, 4, 6, 8]"
      ]
     },
     "execution_count": 2,
     "metadata": {},
     "output_type": "execute_result"
    }
   ],
   "source": [
    "def addition(num):\n",
    "    return num+num\n",
    "\n",
    "\n",
    "list1=[1,2,3,4]\n",
    "\n",
    "answer=map(addition,list1)\n",
    "list(answer)\n",
    "\n"
   ]
  },
  {
   "cell_type": "code",
   "execution_count": 3,
   "id": "670a7616",
   "metadata": {},
   "outputs": [
    {
     "data": {
      "text/plain": [
       "['91.4°F',\n",
       " '111.2°F',\n",
       " '98.60000000000001°F',\n",
       " '105.8°F',\n",
       " '89.6°F',\n",
       " '69.80000000000001°F']"
      ]
     },
     "execution_count": 3,
     "metadata": {},
     "output_type": "execute_result"
    }
   ],
   "source": [
    "\n",
    "def Convert_celsius_to_fahr(Temp):\n",
    "    return str ((9/5 * Temp) + 32)+'°F'\n",
    "\n",
    "\n",
    "\n",
    "temperature=[33,44,37,41,32,21]\n",
    "list(map(Convert_celsius_to_fahr,temperature))\n"
   ]
  },
  {
   "cell_type": "code",
   "execution_count": 4,
   "id": "ed1e384b",
   "metadata": {},
   "outputs": [
    {
     "data": {
      "text/plain": [
       "[1, 9, 16, 25, 36]"
      ]
     },
     "execution_count": 4,
     "metadata": {},
     "output_type": "execute_result"
    }
   ],
   "source": [
    "# Q1. Use the map function to return the existing list after squaring each element\n",
    "# from the list\n",
    "\n",
    "\n",
    "# list1=[1,3,4,5,6]\n",
    "\n",
    "# Answer---->[1,9,16,25,36]\n",
    "\n",
    "def square_no(num):\n",
    "    return num**2\n",
    "\n",
    "list1=[1,3,4,5,6]\n",
    "\n",
    "list(map(square_no,list1))\n",
    "\n",
    "\n",
    "\n",
    "\n",
    "\n"
   ]
  },
  {
   "cell_type": "code",
   "execution_count": null,
   "id": "e4584216",
   "metadata": {},
   "outputs": [],
   "source": [
    "# # Use the map function to create a list of alphabets from each color\n",
    "# COLORS=['Blue','Orange','Red','Purple']\n",
    "\n",
    "# Answer=[['B','l','u','e'],['O','r','a','n','g','e'],['R','e','d'],\n",
    "#         ['P','u','r','p','l','e']]\n",
    "\n"
   ]
  },
  {
   "cell_type": "code",
   "execution_count": 5,
   "id": "d722ef0d",
   "metadata": {},
   "outputs": [
    {
     "data": {
      "text/plain": [
       "['B', 'l', 'u', 'e']"
      ]
     },
     "execution_count": 5,
     "metadata": {},
     "output_type": "execute_result"
    }
   ],
   "source": [
    "list('Blue')"
   ]
  },
  {
   "cell_type": "code",
   "execution_count": 8,
   "id": "d4a217ee",
   "metadata": {},
   "outputs": [
    {
     "data": {
      "text/plain": [
       "[['B', 'l', 'u', 'e'],\n",
       " ['O', 'r', 'a', 'n', 'g', 'e'],\n",
       " ['R', 'e', 'd'],\n",
       " ['P', 'u', 'r', 'p', 'l', 'e']]"
      ]
     },
     "execution_count": 8,
     "metadata": {},
     "output_type": "execute_result"
    }
   ],
   "source": [
    "COLORS=['Blue','Orange','Red','Purple']\n",
    "\n",
    "\n",
    "individual_strings=list(map(list,COLORS))\n",
    "individual_strings"
   ]
  },
  {
   "cell_type": "markdown",
   "id": "5014e3be",
   "metadata": {},
   "source": [
    "# For Loops\n",
    "\n",
    "A for loop is used for iterating over a iterable that is a list,tuple,dictionary,set or a string"
   ]
  },
  {
   "cell_type": "code",
   "execution_count": 9,
   "id": "567d6950",
   "metadata": {},
   "outputs": [
    {
     "name": "stdout",
     "output_type": "stream",
     "text": [
      "The number is------- 1\n",
      "The number is------- 2\n",
      "The number is------- 3\n",
      "The number is------- 4\n",
      "The number is------- 5\n",
      "The number is------- 6\n",
      "The number is------- 7\n",
      "The number is------- 8\n",
      "The number is------- 9\n",
      "The number is------- 10\n"
     ]
    }
   ],
   "source": [
    "for i in range(1,11):\n",
    "    print(\"The number is-------\",i)"
   ]
  },
  {
   "cell_type": "code",
   "execution_count": 10,
   "id": "3f5d60db",
   "metadata": {},
   "outputs": [
    {
     "name": "stdout",
     "output_type": "stream",
     "text": [
      "the element in lst at index 0---- ---- 1\n",
      "the element in lst at index 1---- ---- 11\n",
      "the element in lst at index 2---- ---- 22\n",
      "the element in lst at index 3---- ---- 32\n",
      "the element in lst at index 4---- ---- 43\n"
     ]
    }
   ],
   "source": [
    "lst=[1,11,22,32,43]\n",
    "\n",
    "for i in range(len(lst)):\n",
    "    print(\"the element in lst at index {}----\".format(i),\"----\",lst[i])"
   ]
  },
  {
   "cell_type": "code",
   "execution_count": 20,
   "id": "93dc1cf6",
   "metadata": {},
   "outputs": [
    {
     "name": "stdout",
     "output_type": "stream",
     "text": [
      "the character in string--- i\n",
      "the character in string--- n\n",
      "the character in string--- d\n",
      "the character in string--- e\n",
      "the character in string--- r\n",
      "the character in string--- p\n",
      "the character in string--- r\n",
      "the character in string--- e\n",
      "the character in string--- e\n",
      "the character in string--- t\n",
      "the character in string---  \n",
      "the character in string--- r\n",
      "the character in string--- a\n",
      "the character in string--- h\n",
      "the character in string--- u\n",
      "the character in string--- l\n",
      "the character in string---  \n",
      "the character in string--- r\n",
      "the character in string--- o\n",
      "the character in string--- h\n",
      "the character in string--- i\n",
      "the character in string--- t\n"
     ]
    },
    {
     "data": {
      "text/plain": [
       "['u', 'i', 'a', 'e', 'o']"
      ]
     },
     "execution_count": 20,
     "metadata": {},
     "output_type": "execute_result"
    }
   ],
   "source": [
    "#Q1. Store the vowels from the string name in a list.\n",
    "\n",
    "list_vowels=[]\n",
    "string_name='Inderpreet Rahul Rohit'\n",
    "string_name=string_name.lower()\n",
    "\n",
    "for i in range(len(string_name)):\n",
    "    print(\"the character in string---\",string_name[i])\n",
    "    if string_name[i] in 'aeiou':\n",
    "        list_vowels.append(string_name[i])\n",
    "\n",
    "list(set(list_vowels))"
   ]
  },
  {
   "cell_type": "markdown",
   "id": "595fd0ab",
   "metadata": {},
   "source": [
    "# Continue Statement\n",
    "\n",
    "It is used to skip the code inside a loop for a specific iteration.\n",
    "\n",
    "\n"
   ]
  },
  {
   "cell_type": "markdown",
   "id": "81e5da72",
   "metadata": {},
   "source": [
    "# Break Statement\n",
    "\n",
    "The break statement will terminate the loop once the break statement is executed"
   ]
  },
  {
   "cell_type": "markdown",
   "id": "e60783cc",
   "metadata": {},
   "source": [
    "# Pass Statement\n",
    "\n",
    "The pass statement is a null statement that is ignored by the interpreter. Pass statements can help the user to avoid the error"
   ]
  },
  {
   "cell_type": "code",
   "execution_count": 26,
   "id": "6460e146",
   "metadata": {},
   "outputs": [
    {
     "name": "stdout",
     "output_type": "stream",
     "text": [
      "element in lst  1\n",
      "element in lst  15\n"
     ]
    }
   ],
   "source": [
    "lst=[1,11,15,'Inderpreet']\n",
    "\n",
    "\n",
    "for i in lst:\n",
    "    if (i==11) or (i=='Inderpreet'):\n",
    "        continue\n",
    "    print(\"element in lst \",i)"
   ]
  },
  {
   "cell_type": "code",
   "execution_count": 28,
   "id": "331840e9",
   "metadata": {},
   "outputs": [
    {
     "name": "stdout",
     "output_type": "stream",
     "text": [
      "element in lst  1\n",
      "element in lst  11\n"
     ]
    }
   ],
   "source": [
    "lst=[1,11,15,'Inderpreet']\n",
    "\n",
    "\n",
    "for i in lst:\n",
    "    if (i==15) or (i=='Inderpreet'):\n",
    "        break\n",
    "    print(\"element in lst \",i)"
   ]
  },
  {
   "cell_type": "code",
   "execution_count": 30,
   "id": "aae3948d",
   "metadata": {},
   "outputs": [],
   "source": [
    "def function1():\n",
    "    pass"
   ]
  },
  {
   "cell_type": "code",
   "execution_count": 32,
   "id": "9a4f87ff",
   "metadata": {},
   "outputs": [],
   "source": [
    "for i in range(10):\n",
    "    pass"
   ]
  },
  {
   "cell_type": "code",
   "execution_count": 33,
   "id": "f7e13415",
   "metadata": {},
   "outputs": [],
   "source": [
    "try:\n",
    "    5/0\n",
    "except:\n",
    "    pass"
   ]
  },
  {
   "cell_type": "markdown",
   "id": "d56d2861",
   "metadata": {},
   "source": [
    "# While Loop\n",
    "\n",
    "While loop is used to execute the block of code until the condition turns false. Once the condition is false the execution of the code will stop\n",
    "\n",
    "Syntax:\n",
    "    \n",
    "    \n",
    "while expression:\n",
    "    block of code"
   ]
  },
  {
   "cell_type": "code",
   "execution_count": 37,
   "id": "9f97d838",
   "metadata": {},
   "outputs": [
    {
     "name": "stdout",
     "output_type": "stream",
     "text": [
      "the number is--------  0\n",
      "the number is--------  1\n",
      "the number is--------  2\n",
      "the number is--------  3\n",
      "the number is--------  4\n",
      "the number is--------  5\n",
      "the number is--------  6\n",
      "the number is--------  7\n",
      "the number is--------  8\n",
      "the number is--------  9\n",
      "the number is--------  10\n"
     ]
    }
   ],
   "source": [
    "cnt=0\n",
    "\n",
    "while(cnt<11):\n",
    "    print(\"the number is-------- \",cnt)\n",
    "    cnt=cnt+1"
   ]
  },
  {
   "cell_type": "code",
   "execution_count": 38,
   "id": "1d44f813",
   "metadata": {},
   "outputs": [
    {
     "name": "stdout",
     "output_type": "stream",
     "text": [
      "the character in string I\n",
      "the character in string n\n",
      "the character in string d\n",
      "the character in string e\n",
      "the character in string r\n",
      "the character in string p\n",
      "the character in string r\n",
      "the character in string e\n",
      "the character in string e\n",
      "the character in string t\n"
     ]
    }
   ],
   "source": [
    "string='Inderpreet'\n",
    "\n",
    "cnt=0\n",
    "while(cnt<len(string)):\n",
    "    print(\"the character in string\",string[cnt])\n",
    "    cnt=cnt+1"
   ]
  },
  {
   "cell_type": "code",
   "execution_count": 1,
   "id": "2750de82",
   "metadata": {},
   "outputs": [],
   "source": [
    "#Q3. With the help of map function find the sum of a list.\n",
    "\n",
    "lst=[11,22,33,12,34,21]\n",
    "\n"
   ]
  },
  {
   "cell_type": "code",
   "execution_count": 2,
   "id": "9759c896",
   "metadata": {},
   "outputs": [
    {
     "name": "stdout",
     "output_type": "stream",
     "text": [
      "[11, 22, 33, 12, 34, 21]\n",
      "<class 'list'>\n"
     ]
    },
    {
     "data": {
      "text/plain": [
       "133"
      ]
     },
     "execution_count": 2,
     "metadata": {},
     "output_type": "execute_result"
    }
   ],
   "source": [
    "def sum_no(lst):\n",
    "    print(lst)\n",
    "    print(type(lst))\n",
    "    total_sum=0\n",
    "    for i in lst:\n",
    "        total_sum+=i\n",
    "    return total_sum\n",
    "\n",
    "lst=[11,22,33,12,34,21]\n",
    "\n",
    "# list(map(sum_no,lst))\n",
    "\n",
    "\n",
    "# list(map(int,lst))\n",
    "sum_no(lst)\n",
    "\n"
   ]
  },
  {
   "cell_type": "markdown",
   "id": "34819024",
   "metadata": {},
   "source": [
    "# Lambda Function\n",
    "\n",
    "Lambda functions are anonymous that means these are the functions without name. We dont need to use the def keyword"
   ]
  },
  {
   "cell_type": "code",
   "execution_count": 4,
   "id": "4f77e026",
   "metadata": {},
   "outputs": [
    {
     "data": {
      "text/plain": [
       "27"
      ]
     },
     "execution_count": 4,
     "metadata": {},
     "output_type": "execute_result"
    }
   ],
   "source": [
    "def cube(num):\n",
    "    return num**3\n",
    "    \n",
    "cube(3)"
   ]
  },
  {
   "cell_type": "code",
   "execution_count": 6,
   "id": "e1847306",
   "metadata": {},
   "outputs": [
    {
     "data": {
      "text/plain": [
       "27"
      ]
     },
     "execution_count": 6,
     "metadata": {},
     "output_type": "execute_result"
    }
   ],
   "source": [
    "lambda_cube=lambda num:num**3\n",
    "lambda_cube(3)"
   ]
  },
  {
   "cell_type": "code",
   "execution_count": 7,
   "id": "27bfd7fb",
   "metadata": {},
   "outputs": [],
   "source": [
    "def greater_no(num1,num2):\n",
    "    if(num1>num2):\n",
    "        return num1\n",
    "    else:\n",
    "        return num2"
   ]
  },
  {
   "cell_type": "code",
   "execution_count": 10,
   "id": "9c27ea2a",
   "metadata": {},
   "outputs": [
    {
     "data": {
      "text/plain": [
       "15"
      ]
     },
     "execution_count": 10,
     "metadata": {},
     "output_type": "execute_result"
    }
   ],
   "source": [
    "greater_no(15,3)"
   ]
  },
  {
   "cell_type": "code",
   "execution_count": 13,
   "id": "e666b536",
   "metadata": {},
   "outputs": [
    {
     "data": {
      "text/plain": [
       "nan"
      ]
     },
     "execution_count": 13,
     "metadata": {},
     "output_type": "execute_result"
    }
   ],
   "source": [
    "greater_no2=lambda num1,num2: num1 if(num1>num2) else num2\n",
    "greater_no2(15,33)"
   ]
  },
  {
   "cell_type": "code",
   "execution_count": 36,
   "id": "822dbf96",
   "metadata": {},
   "outputs": [],
   "source": [
    "def sort_marks(Marks):\n",
    "    Final_Marks=[]\n",
    "    marks_lst=[]\n",
    "    minimum_marks=100000000000000000\n",
    "    for i in Marks:\n",
    "        marks_lst.append(i[1])\n",
    "    marks_lst.sort()\n",
    "    print(marks_lst)\n",
    "    for i in range(len(marks_lst)):\n",
    "        print(i)\n",
    "        if Marks[i][1]==marks_lst(i):\n",
    "            Final_Marks.append(Marks[i])\n",
    "    print(Final_Marks)    \n",
    "        \n",
    "#         if Marks<minimum_marks:\n",
    "#             Final_Marks.append(i)\n",
    "    \n",
    "        \n",
    "    "
   ]
  },
  {
   "cell_type": "code",
   "execution_count": 37,
   "id": "d770af86",
   "metadata": {},
   "outputs": [
    {
     "name": "stdout",
     "output_type": "stream",
     "text": [
      "[67, 88, 95]\n",
      "0\n"
     ]
    },
    {
     "ename": "TypeError",
     "evalue": "'list' object is not callable",
     "output_type": "error",
     "traceback": [
      "\u001b[1;31m---------------------------------------------------------------------------\u001b[0m",
      "\u001b[1;31mTypeError\u001b[0m                                 Traceback (most recent call last)",
      "\u001b[1;32m~\\AppData\\Local\\Temp/ipykernel_26792/163916597.py\u001b[0m in \u001b[0;36m<module>\u001b[1;34m\u001b[0m\n\u001b[1;32m----> 1\u001b[1;33m \u001b[0msort_marks\u001b[0m\u001b[1;33m(\u001b[0m\u001b[0mMarks\u001b[0m\u001b[1;33m)\u001b[0m\u001b[1;33m\u001b[0m\u001b[1;33m\u001b[0m\u001b[0m\n\u001b[0m",
      "\u001b[1;32m~\\AppData\\Local\\Temp/ipykernel_26792/1566806497.py\u001b[0m in \u001b[0;36msort_marks\u001b[1;34m(Marks)\u001b[0m\n\u001b[0;32m      9\u001b[0m     \u001b[1;32mfor\u001b[0m \u001b[0mi\u001b[0m \u001b[1;32min\u001b[0m \u001b[0mrange\u001b[0m\u001b[1;33m(\u001b[0m\u001b[0mlen\u001b[0m\u001b[1;33m(\u001b[0m\u001b[0mmarks_lst\u001b[0m\u001b[1;33m)\u001b[0m\u001b[1;33m)\u001b[0m\u001b[1;33m:\u001b[0m\u001b[1;33m\u001b[0m\u001b[1;33m\u001b[0m\u001b[0m\n\u001b[0;32m     10\u001b[0m         \u001b[0mprint\u001b[0m\u001b[1;33m(\u001b[0m\u001b[0mi\u001b[0m\u001b[1;33m)\u001b[0m\u001b[1;33m\u001b[0m\u001b[1;33m\u001b[0m\u001b[0m\n\u001b[1;32m---> 11\u001b[1;33m         \u001b[1;32mif\u001b[0m \u001b[0mMarks\u001b[0m\u001b[1;33m[\u001b[0m\u001b[0mi\u001b[0m\u001b[1;33m]\u001b[0m\u001b[1;33m[\u001b[0m\u001b[1;36m1\u001b[0m\u001b[1;33m]\u001b[0m\u001b[1;33m==\u001b[0m\u001b[0mmarks_lst\u001b[0m\u001b[1;33m(\u001b[0m\u001b[0mi\u001b[0m\u001b[1;33m)\u001b[0m\u001b[1;33m:\u001b[0m\u001b[1;33m\u001b[0m\u001b[1;33m\u001b[0m\u001b[0m\n\u001b[0m\u001b[0;32m     12\u001b[0m             \u001b[0mFinal_Marks\u001b[0m\u001b[1;33m.\u001b[0m\u001b[0mappend\u001b[0m\u001b[1;33m(\u001b[0m\u001b[0mMarks\u001b[0m\u001b[1;33m[\u001b[0m\u001b[0mi\u001b[0m\u001b[1;33m]\u001b[0m\u001b[1;33m)\u001b[0m\u001b[1;33m\u001b[0m\u001b[1;33m\u001b[0m\u001b[0m\n\u001b[0;32m     13\u001b[0m     \u001b[0mprint\u001b[0m\u001b[1;33m(\u001b[0m\u001b[0mFinal_Marks\u001b[0m\u001b[1;33m)\u001b[0m\u001b[1;33m\u001b[0m\u001b[1;33m\u001b[0m\u001b[0m\n",
      "\u001b[1;31mTypeError\u001b[0m: 'list' object is not callable"
     ]
    }
   ],
   "source": [
    "sort_marks(Marks)"
   ]
  },
  {
   "cell_type": "code",
   "execution_count": 29,
   "id": "2fe87011",
   "metadata": {},
   "outputs": [
    {
     "data": {
      "text/plain": [
       "[('Chemistry', 67), ('Physics', 88), ('Python', 95)]"
      ]
     },
     "execution_count": 29,
     "metadata": {},
     "output_type": "execute_result"
    }
   ],
   "source": [
    "Marks=[('Physics',88),('Chemistry',67),('Python',95)]\n",
    "Marks.sort(key= lambda ele:ele[1])\n",
    "Marks"
   ]
  },
  {
   "cell_type": "code",
   "execution_count": null,
   "id": "4c36bbb7",
   "metadata": {},
   "outputs": [],
   "source": [
    "#Q. Write a program to sort the list of tuples using lambda\n",
    "\n",
    "\n",
    "\n",
    "\n",
    "Marks=[('Physics',88),('Chemistry',67),('Python',95)]"
   ]
  },
  {
   "cell_type": "code",
   "execution_count": 55,
   "id": "fa58b972",
   "metadata": {},
   "outputs": [],
   "source": [
    "def even_no(num):\n",
    "    if num%2==0:\n",
    "        print('even in print')\n",
    "        return 'even'\n",
    "    else:\n",
    "        print('odd in print')\n",
    "        return 'odd'"
   ]
  },
  {
   "cell_type": "code",
   "execution_count": 56,
   "id": "57eccc75",
   "metadata": {},
   "outputs": [
    {
     "name": "stdout",
     "output_type": "stream",
     "text": [
      "even in print\n"
     ]
    },
    {
     "data": {
      "text/plain": [
       "'even'"
      ]
     },
     "execution_count": 56,
     "metadata": {},
     "output_type": "execute_result"
    }
   ],
   "source": [
    "x1=even_no(10)\n",
    "x1"
   ]
  },
  {
   "cell_type": "code",
   "execution_count": 57,
   "id": "27a3151b",
   "metadata": {},
   "outputs": [
    {
     "data": {
      "text/plain": [
       "'even'"
      ]
     },
     "execution_count": 57,
     "metadata": {},
     "output_type": "execute_result"
    }
   ],
   "source": [
    "x1"
   ]
  },
  {
   "cell_type": "code",
   "execution_count": 60,
   "id": "10939cb4",
   "metadata": {},
   "outputs": [],
   "source": [
    "def even_no(num):\n",
    "    if num%2==0:\n",
    "        print('even in print')\n",
    "        return True\n",
    "    else:\n",
    "        print('odd in print')\n",
    "        return False\n",
    "    \n"
   ]
  },
  {
   "cell_type": "code",
   "execution_count": 61,
   "id": "e1dd439b",
   "metadata": {},
   "outputs": [
    {
     "name": "stdout",
     "output_type": "stream",
     "text": [
      "odd in print\n",
      "even in print\n",
      "even in print\n",
      "odd in print\n",
      "odd in print\n",
      "even in print\n",
      "odd in print\n",
      "even in print\n",
      "odd in print\n",
      "odd in print\n",
      "even in print\n"
     ]
    },
    {
     "data": {
      "text/plain": [
       "[2, 54, 456, 32, 32]"
      ]
     },
     "execution_count": 61,
     "metadata": {},
     "output_type": "execute_result"
    }
   ],
   "source": [
    "lst=[1,2,54,23,21,456,87,32,21,54867,32]\n",
    "\n",
    "list(filter(even_no,lst))"
   ]
  },
  {
   "cell_type": "markdown",
   "id": "57b0943f",
   "metadata": {},
   "source": [
    "# Filter Function Python\n",
    "\n",
    "The filter method will filter out the given sequence with the help of the function"
   ]
  },
  {
   "cell_type": "code",
   "execution_count": 39,
   "id": "d944e47c",
   "metadata": {},
   "outputs": [],
   "source": [
    "lst=[1,2,54,23,21,456,87,32,21,54867,32]\n",
    "\n",
    "\n",
    "\n",
    "is_even=lambda num:num%2==0"
   ]
  },
  {
   "cell_type": "code",
   "execution_count": 41,
   "id": "99f831c8",
   "metadata": {},
   "outputs": [
    {
     "data": {
      "text/plain": [
       "[2, 54, 456, 32, 32]"
      ]
     },
     "execution_count": 41,
     "metadata": {},
     "output_type": "execute_result"
    }
   ],
   "source": [
    "list(filter(is_even,lst))"
   ]
  },
  {
   "cell_type": "code",
   "execution_count": 59,
   "id": "dbe35b48",
   "metadata": {},
   "outputs": [
    {
     "name": "stdout",
     "output_type": "stream",
     "text": [
      "True\n",
      "True\n",
      "False\n",
      "False\n",
      "True\n"
     ]
    },
    {
     "data": {
      "text/plain": [
       "['asdsssa', 'bsdsdssss', 'assssasas']"
      ]
     },
     "execution_count": 59,
     "metadata": {},
     "output_type": "execute_result"
    }
   ],
   "source": [
    "#Q1. Given a list of string return all the strings that have three consecutive\n",
    "#character 's' in it\n",
    "\n",
    "list1=['asdsssa','bsdsdssss','asdfsafdsa','gffgtrsd','assssasas']\n",
    "\n",
    "def check_consecutive_S(string):\n",
    "    print(\"sss\" in string)\n",
    "    return \"sss\" in string\n",
    "\n",
    "list(filter(check_consecutive_S,list1))"
   ]
  },
  {
   "cell_type": "code",
   "execution_count": 68,
   "id": "3c7ec674",
   "metadata": {},
   "outputs": [
    {
     "data": {
      "text/plain": [
       "True"
      ]
     },
     "execution_count": 68,
     "metadata": {},
     "output_type": "execute_result"
    }
   ],
   "source": [
    "name='inderrrr'\n",
    "\n",
    "'rrr' in name"
   ]
  },
  {
   "cell_type": "markdown",
   "id": "7eb15c39",
   "metadata": {},
   "source": [
    "# Reduce Function\n",
    "\n",
    "1. This function is used to apply a particular function passed in the argument to all the elements of the list.\n",
    "2. This function is present in functools module\n",
    "\n",
    "import functools\n",
    "\n",
    "3. At first it will choose the two elements of the sequence and then the next step is applied to the result that is obtained.\n",
    "\n",
    "4. This process continues till no more elements are left\n"
   ]
  },
  {
   "cell_type": "code",
   "execution_count": 62,
   "id": "bb223d14",
   "metadata": {},
   "outputs": [
    {
     "data": {
      "text/plain": [
       "137"
      ]
     },
     "execution_count": 62,
     "metadata": {},
     "output_type": "execute_result"
    }
   ],
   "source": [
    "import functools\n",
    "\n",
    "lst=[1,5,67,43,21]\n",
    "\n",
    "functools.reduce(lambda num1,num2:num1+num2,lst)"
   ]
  },
  {
   "cell_type": "code",
   "execution_count": 63,
   "id": "87a662ba",
   "metadata": {},
   "outputs": [
    {
     "data": {
      "text/plain": [
       "150"
      ]
     },
     "execution_count": 63,
     "metadata": {},
     "output_type": "execute_result"
    }
   ],
   "source": [
    "lst=[1,3,5,10]\n",
    "\n",
    "functools.reduce(lambda num1,num2:num1*num2,lst)\n"
   ]
  },
  {
   "cell_type": "code",
   "execution_count": 67,
   "id": "408eefc2",
   "metadata": {},
   "outputs": [
    {
     "data": {
      "text/plain": [
       "197"
      ]
     },
     "execution_count": 67,
     "metadata": {},
     "output_type": "execute_result"
    }
   ],
   "source": [
    "\n",
    "def my_addition(num1,num2):\n",
    "    return num1+num2\n",
    "\n",
    "lst=[0,2,4,5,65,21]\n",
    "\n",
    "functools.reduce(my_addition,lst,100)\n",
    "\n"
   ]
  },
  {
   "cell_type": "code",
   "execution_count": null,
   "id": "2c189cb1",
   "metadata": {},
   "outputs": [],
   "source": []
  }
 ],
 "metadata": {
  "kernelspec": {
   "display_name": "Python 3 (ipykernel)",
   "language": "python",
   "name": "python3"
  },
  "language_info": {
   "codemirror_mode": {
    "name": "ipython",
    "version": 3
   },
   "file_extension": ".py",
   "mimetype": "text/x-python",
   "name": "python",
   "nbconvert_exporter": "python",
   "pygments_lexer": "ipython3",
   "version": "3.7.6"
  }
 },
 "nbformat": 4,
 "nbformat_minor": 5
}
