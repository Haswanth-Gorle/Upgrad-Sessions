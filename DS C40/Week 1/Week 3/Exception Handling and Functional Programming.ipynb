{
 "cells": [
  {
   "cell_type": "markdown",
   "id": "ba33b3e0",
   "metadata": {},
   "source": [
    "# Errors\n",
    "\n",
    "Errors are the problems that halts the exectution of the program. On the other hand exception are raised when internal events changes the complete flow of the program\n",
    "\n",
    "\n",
    "Two Types of Errors:\n",
    "1. Syntax Errors---->When we are not using the rules of the programming language this error is thrown\n",
    "\n",
    "2. Logical Errors----> When in the runtime of the program an error that will pass the syntax text is called as logical error or exception error.\n",
    "\n"
   ]
  },
  {
   "cell_type": "code",
   "execution_count": 3,
   "id": "ad58f871",
   "metadata": {},
   "outputs": [
    {
     "ename": "SyntaxError",
     "evalue": "EOL while scanning string literal (Temp/ipykernel_5684/2404413420.py, line 1)",
     "output_type": "error",
     "traceback": [
      "\u001b[1;36m  File \u001b[1;32m\"C:\\Users\\sidak\\AppData\\Local\\Temp/ipykernel_5684/2404413420.py\"\u001b[1;36m, line \u001b[1;32m1\u001b[0m\n\u001b[1;33m    Name=\"INDERPREET\u001b[0m\n\u001b[1;37m                    ^\u001b[0m\n\u001b[1;31mSyntaxError\u001b[0m\u001b[1;31m:\u001b[0m EOL while scanning string literal\n"
     ]
    }
   ],
   "source": [
    "Name=\"INDERPREET\n",
    "\n",
    "Name2=\"Inderpreet\"\n",
    "\n",
    "#This is a example of Syntax Error"
   ]
  },
  {
   "cell_type": "code",
   "execution_count": 4,
   "id": "8858cb93",
   "metadata": {},
   "outputs": [
    {
     "ename": "ZeroDivisionError",
     "evalue": "division by zero",
     "output_type": "error",
     "traceback": [
      "\u001b[1;31m---------------------------------------------------------------------------\u001b[0m",
      "\u001b[1;31mZeroDivisionError\u001b[0m                         Traceback (most recent call last)",
      "\u001b[1;32m~\\AppData\\Local\\Temp/ipykernel_5684/2446215382.py\u001b[0m in \u001b[0;36m<module>\u001b[1;34m\u001b[0m\n\u001b[0;32m      1\u001b[0m \u001b[0mSum_Of_numbers\u001b[0m\u001b[1;33m=\u001b[0m\u001b[1;36m30\u001b[0m\u001b[1;33m+\u001b[0m\u001b[1;36m45\u001b[0m\u001b[1;33m+\u001b[0m\u001b[1;36m15\u001b[0m\u001b[1;33m\u001b[0m\u001b[1;33m\u001b[0m\u001b[0m\n\u001b[0;32m      2\u001b[0m \u001b[1;33m\u001b[0m\u001b[0m\n\u001b[1;32m----> 3\u001b[1;33m \u001b[0mSum_Of_numbers\u001b[0m\u001b[1;33m/\u001b[0m\u001b[1;36m0\u001b[0m\u001b[1;33m\u001b[0m\u001b[1;33m\u001b[0m\u001b[0m\n\u001b[0m",
      "\u001b[1;31mZeroDivisionError\u001b[0m: division by zero"
     ]
    }
   ],
   "source": [
    "Sum_Of_numbers=30+45+15\n",
    "\n",
    "Sum_Of_numbers/0"
   ]
  },
  {
   "cell_type": "markdown",
   "id": "e168e838",
   "metadata": {},
   "source": [
    "# Types_of_Errors\n",
    "\n",
    "IndexError\tWhen the wrong index of a list is retrieved.\n",
    "\n",
    "AssertionError\tIt occurs when the assert statement fails\n",
    "\n",
    "AttributeError\tIt occurs when an attribute assignment is failed.\n",
    "\n",
    "ImportError\tIt occurs when an imported module is not found.\n",
    "\n",
    "KeyError\tIt occurs when the key of the dictionary is not found.\n",
    "\n",
    "NameError\tIt occurs when the variable is not defined.\n",
    "\n",
    "MemoryError\tIt occurs when a program runs out of memory.\n",
    "\n",
    "TypeError\tIt occurs when a function and operation are applied in an incorrect type"
   ]
  },
  {
   "cell_type": "code",
   "execution_count": 5,
   "id": "09fe09ee",
   "metadata": {},
   "outputs": [
    {
     "ename": "IndexError",
     "evalue": "list index out of range",
     "output_type": "error",
     "traceback": [
      "\u001b[1;31m---------------------------------------------------------------------------\u001b[0m",
      "\u001b[1;31mIndexError\u001b[0m                                Traceback (most recent call last)",
      "\u001b[1;32m~\\AppData\\Local\\Temp/ipykernel_5684/470072992.py\u001b[0m in \u001b[0;36m<module>\u001b[1;34m\u001b[0m\n\u001b[0;32m      1\u001b[0m \u001b[0mlst\u001b[0m\u001b[1;33m=\u001b[0m\u001b[1;33m[\u001b[0m\u001b[1;36m1\u001b[0m\u001b[1;33m,\u001b[0m\u001b[1;36m2\u001b[0m\u001b[1;33m,\u001b[0m\u001b[1;36m3\u001b[0m\u001b[1;33m]\u001b[0m\u001b[1;33m\u001b[0m\u001b[1;33m\u001b[0m\u001b[0m\n\u001b[1;32m----> 2\u001b[1;33m \u001b[0mlst\u001b[0m\u001b[1;33m[\u001b[0m\u001b[1;36m5\u001b[0m\u001b[1;33m]\u001b[0m\u001b[1;33m\u001b[0m\u001b[1;33m\u001b[0m\u001b[0m\n\u001b[0m",
      "\u001b[1;31mIndexError\u001b[0m: list index out of range"
     ]
    }
   ],
   "source": [
    "lst=[1,2,3]\n",
    "lst[5]"
   ]
  },
  {
   "cell_type": "code",
   "execution_count": 6,
   "id": "49ff88e2",
   "metadata": {},
   "outputs": [
    {
     "ename": "TypeError",
     "evalue": "'str' object does not support item assignment",
     "output_type": "error",
     "traceback": [
      "\u001b[1;31m---------------------------------------------------------------------------\u001b[0m",
      "\u001b[1;31mTypeError\u001b[0m                                 Traceback (most recent call last)",
      "\u001b[1;32m~\\AppData\\Local\\Temp/ipykernel_5684/2891834905.py\u001b[0m in \u001b[0;36m<module>\u001b[1;34m\u001b[0m\n\u001b[0;32m      1\u001b[0m \u001b[0mstr1\u001b[0m\u001b[1;33m=\u001b[0m\u001b[1;34m'Inderpreet'\u001b[0m\u001b[1;33m\u001b[0m\u001b[1;33m\u001b[0m\u001b[0m\n\u001b[1;32m----> 2\u001b[1;33m \u001b[0mstr1\u001b[0m\u001b[1;33m[\u001b[0m\u001b[1;36m0\u001b[0m\u001b[1;33m]\u001b[0m\u001b[1;33m=\u001b[0m\u001b[1;34m'a'\u001b[0m\u001b[1;33m\u001b[0m\u001b[1;33m\u001b[0m\u001b[0m\n\u001b[0m",
      "\u001b[1;31mTypeError\u001b[0m: 'str' object does not support item assignment"
     ]
    }
   ],
   "source": [
    "str1='Inderpreet'\n",
    "str1[0]='a'"
   ]
  },
  {
   "cell_type": "code",
   "execution_count": 7,
   "id": "5f83bc80",
   "metadata": {},
   "outputs": [
    {
     "ename": "AttributeError",
     "evalue": "'int' object has no attribute 'append'",
     "output_type": "error",
     "traceback": [
      "\u001b[1;31m---------------------------------------------------------------------------\u001b[0m",
      "\u001b[1;31mAttributeError\u001b[0m                            Traceback (most recent call last)",
      "\u001b[1;32m~\\AppData\\Local\\Temp/ipykernel_5684/4074464350.py\u001b[0m in \u001b[0;36m<module>\u001b[1;34m\u001b[0m\n\u001b[0;32m      1\u001b[0m \u001b[0ma\u001b[0m\u001b[1;33m=\u001b[0m\u001b[1;36m5\u001b[0m\u001b[1;33m\u001b[0m\u001b[1;33m\u001b[0m\u001b[0m\n\u001b[0;32m      2\u001b[0m \u001b[1;33m\u001b[0m\u001b[0m\n\u001b[1;32m----> 3\u001b[1;33m \u001b[0ma\u001b[0m\u001b[1;33m.\u001b[0m\u001b[0mappend\u001b[0m\u001b[1;33m(\u001b[0m\u001b[1;36m7\u001b[0m\u001b[1;33m)\u001b[0m\u001b[1;33m\u001b[0m\u001b[1;33m\u001b[0m\u001b[0m\n\u001b[0m",
      "\u001b[1;31mAttributeError\u001b[0m: 'int' object has no attribute 'append'"
     ]
    }
   ],
   "source": [
    "a=5\n",
    "\n",
    "a.append(7)"
   ]
  },
  {
   "cell_type": "code",
   "execution_count": 8,
   "id": "ef0bced0",
   "metadata": {},
   "outputs": [
    {
     "ename": "KeyError",
     "evalue": "'rahul'",
     "output_type": "error",
     "traceback": [
      "\u001b[1;31m---------------------------------------------------------------------------\u001b[0m",
      "\u001b[1;31mKeyError\u001b[0m                                  Traceback (most recent call last)",
      "\u001b[1;32m~\\AppData\\Local\\Temp/ipykernel_5684/2785663719.py\u001b[0m in \u001b[0;36m<module>\u001b[1;34m\u001b[0m\n\u001b[0;32m      1\u001b[0m \u001b[0mdict1\u001b[0m\u001b[1;33m=\u001b[0m\u001b[1;33m{\u001b[0m\u001b[1;34m\"inder\"\u001b[0m\u001b[1;33m:\u001b[0m\u001b[1;33m[\u001b[0m\u001b[1;36m10\u001b[0m\u001b[1;33m]\u001b[0m\u001b[1;33m}\u001b[0m\u001b[1;33m\u001b[0m\u001b[1;33m\u001b[0m\u001b[0m\n\u001b[1;32m----> 2\u001b[1;33m \u001b[0mdict1\u001b[0m\u001b[1;33m[\u001b[0m\u001b[1;34m'rahul'\u001b[0m\u001b[1;33m]\u001b[0m\u001b[1;33m\u001b[0m\u001b[1;33m\u001b[0m\u001b[0m\n\u001b[0m",
      "\u001b[1;31mKeyError\u001b[0m: 'rahul'"
     ]
    }
   ],
   "source": [
    "dict1={\"inder\":[10]}\n",
    "dict1['rahul']"
   ]
  },
  {
   "cell_type": "code",
   "execution_count": 14,
   "id": "6f507a94",
   "metadata": {},
   "outputs": [
    {
     "ename": "NameError",
     "evalue": "name 'name2' is not defined",
     "output_type": "error",
     "traceback": [
      "\u001b[1;31m---------------------------------------------------------------------------\u001b[0m",
      "\u001b[1;31mNameError\u001b[0m                                 Traceback (most recent call last)",
      "\u001b[1;32m~\\AppData\\Local\\Temp/ipykernel_5684/1150827578.py\u001b[0m in \u001b[0;36m<module>\u001b[1;34m\u001b[0m\n\u001b[1;32m----> 1\u001b[1;33m \u001b[0mprint\u001b[0m\u001b[1;33m(\u001b[0m\u001b[0mname2\u001b[0m\u001b[1;33m)\u001b[0m\u001b[1;33m\u001b[0m\u001b[1;33m\u001b[0m\u001b[0m\n\u001b[0m\u001b[0;32m      2\u001b[0m \u001b[1;33m\u001b[0m\u001b[0m\n\u001b[0;32m      3\u001b[0m \u001b[0mname2\u001b[0m\u001b[1;33m=\u001b[0m\u001b[1;34m'Inderpreet'\u001b[0m\u001b[1;33m\u001b[0m\u001b[1;33m\u001b[0m\u001b[0m\n",
      "\u001b[1;31mNameError\u001b[0m: name 'name2' is not defined"
     ]
    }
   ],
   "source": [
    "\n",
    "print(name2)\n",
    "\n",
    "name2='Inderpreet'"
   ]
  },
  {
   "cell_type": "code",
   "execution_count": 18,
   "id": "87d08dd5",
   "metadata": {},
   "outputs": [],
   "source": [
    "import pandas"
   ]
  },
  {
   "cell_type": "code",
   "execution_count": 17,
   "id": "be9a521a",
   "metadata": {},
   "outputs": [
    {
     "ename": "ModuleNotFoundError",
     "evalue": "No module named 'request'",
     "output_type": "error",
     "traceback": [
      "\u001b[1;31m---------------------------------------------------------------------------\u001b[0m",
      "\u001b[1;31mModuleNotFoundError\u001b[0m                       Traceback (most recent call last)",
      "\u001b[1;32m~\\AppData\\Local\\Temp/ipykernel_5684/1724168889.py\u001b[0m in \u001b[0;36m<module>\u001b[1;34m\u001b[0m\n\u001b[1;32m----> 1\u001b[1;33m \u001b[1;32mimport\u001b[0m \u001b[0mrequest\u001b[0m\u001b[1;33m\u001b[0m\u001b[1;33m\u001b[0m\u001b[0m\n\u001b[0m",
      "\u001b[1;31mModuleNotFoundError\u001b[0m: No module named 'request'"
     ]
    }
   ],
   "source": [
    "import request"
   ]
  },
  {
   "cell_type": "markdown",
   "id": "9b94a436",
   "metadata": {},
   "source": [
    "# Error Handling\n"
   ]
  },
  {
   "cell_type": "markdown",
   "id": "01ad78ba",
   "metadata": {},
   "source": [
    "When an error and an exceptions occurs we handle them with the help of these handling methods\n",
    "\n",
    "Handling Exceptions with Try/Except/Finally"
   ]
  },
  {
   "cell_type": "code",
   "execution_count": 20,
   "id": "2eed3b72",
   "metadata": {},
   "outputs": [
    {
     "ename": "ZeroDivisionError",
     "evalue": "division by zero",
     "output_type": "error",
     "traceback": [
      "\u001b[1;31m---------------------------------------------------------------------------\u001b[0m",
      "\u001b[1;31mZeroDivisionError\u001b[0m                         Traceback (most recent call last)",
      "\u001b[1;32m~\\AppData\\Local\\Temp/ipykernel_5684/2874912419.py\u001b[0m in \u001b[0;36m<module>\u001b[1;34m\u001b[0m\n\u001b[1;32m----> 1\u001b[1;33m \u001b[1;36m5\u001b[0m\u001b[1;33m/\u001b[0m\u001b[1;36m0\u001b[0m\u001b[1;33m\u001b[0m\u001b[1;33m\u001b[0m\u001b[0m\n\u001b[0m",
      "\u001b[1;31mZeroDivisionError\u001b[0m: division by zero"
     ]
    }
   ],
   "source": [
    "5/0"
   ]
  },
  {
   "cell_type": "code",
   "execution_count": 21,
   "id": "21ff0612",
   "metadata": {},
   "outputs": [
    {
     "name": "stdout",
     "output_type": "stream",
     "text": [
      "There was an error\n"
     ]
    }
   ],
   "source": [
    "try:\n",
    "    print(5/0)\n",
    "except:\n",
    "    print(\"There was an error\")"
   ]
  },
  {
   "cell_type": "code",
   "execution_count": 22,
   "id": "2850f06f",
   "metadata": {},
   "outputs": [
    {
     "ename": "NameError",
     "evalue": "name 'name2' is not defined",
     "output_type": "error",
     "traceback": [
      "\u001b[1;31m---------------------------------------------------------------------------\u001b[0m",
      "\u001b[1;31mNameError\u001b[0m                                 Traceback (most recent call last)",
      "\u001b[1;32m~\\AppData\\Local\\Temp/ipykernel_5684/2896344603.py\u001b[0m in \u001b[0;36m<module>\u001b[1;34m\u001b[0m\n\u001b[1;32m----> 1\u001b[1;33m \u001b[0mprint\u001b[0m\u001b[1;33m(\u001b[0m\u001b[0mname2\u001b[0m\u001b[1;33m)\u001b[0m\u001b[1;33m\u001b[0m\u001b[1;33m\u001b[0m\u001b[0m\n\u001b[0m\u001b[0;32m      2\u001b[0m \u001b[1;33m\u001b[0m\u001b[0m\n\u001b[0;32m      3\u001b[0m \u001b[0mname2\u001b[0m\u001b[1;33m=\u001b[0m\u001b[1;34m'Inderpreet'\u001b[0m\u001b[1;33m\u001b[0m\u001b[1;33m\u001b[0m\u001b[0m\n",
      "\u001b[1;31mNameError\u001b[0m: name 'name2' is not defined"
     ]
    }
   ],
   "source": [
    "print(name2)\n",
    "\n",
    "name2='Inderpreet'"
   ]
  },
  {
   "cell_type": "code",
   "execution_count": 27,
   "id": "1c12e305",
   "metadata": {},
   "outputs": [
    {
     "ename": "ZeroDivisionError",
     "evalue": "division by zero",
     "output_type": "error",
     "traceback": [
      "\u001b[1;31m---------------------------------------------------------------------------\u001b[0m",
      "\u001b[1;31mZeroDivisionError\u001b[0m                         Traceback (most recent call last)",
      "\u001b[1;32m~\\AppData\\Local\\Temp/ipykernel_5684/2874912419.py\u001b[0m in \u001b[0;36m<module>\u001b[1;34m\u001b[0m\n\u001b[1;32m----> 1\u001b[1;33m \u001b[1;36m5\u001b[0m\u001b[1;33m/\u001b[0m\u001b[1;36m0\u001b[0m\u001b[1;33m\u001b[0m\u001b[1;33m\u001b[0m\u001b[0m\n\u001b[0m",
      "\u001b[1;31mZeroDivisionError\u001b[0m: division by zero"
     ]
    }
   ],
   "source": [
    "5/0"
   ]
  },
  {
   "cell_type": "code",
   "execution_count": 24,
   "id": "d73ef563",
   "metadata": {},
   "outputs": [
    {
     "name": "stdout",
     "output_type": "stream",
     "text": [
      "There was an error with the string\n"
     ]
    }
   ],
   "source": [
    "try:\n",
    "    print(name2)\n",
    "    name2='Inderpreet'\n",
    "except NameError:\n",
    "    print(\"There was an error with the string\")"
   ]
  },
  {
   "cell_type": "code",
   "execution_count": 26,
   "id": "ccedb83d",
   "metadata": {},
   "outputs": [
    {
     "name": "stdout",
     "output_type": "stream",
     "text": [
      "My name is Inderpreet\n"
     ]
    }
   ],
   "source": [
    "try:\n",
    "    name2='Inderpreet'\n",
    "except NameError:\n",
    "    print(\"There was an error with the string\")\n",
    "finally:\n",
    "    print(\"My name is Inderpreet\")"
   ]
  },
  {
   "cell_type": "code",
   "execution_count": 28,
   "id": "ad05d2bd",
   "metadata": {},
   "outputs": [
    {
     "name": "stdout",
     "output_type": "stream",
     "text": [
      "Error\n",
      "2.5\n"
     ]
    }
   ],
   "source": [
    "try:\n",
    "    5/0\n",
    "except:\n",
    "    print(\"Error\")\n",
    "finally:\n",
    "    print(5/2)"
   ]
  },
  {
   "cell_type": "code",
   "execution_count": 32,
   "id": "adb4940c",
   "metadata": {},
   "outputs": [
    {
     "name": "stdout",
     "output_type": "stream",
     "text": [
      "Enter a Number 10\n"
     ]
    },
    {
     "data": {
      "text/plain": [
       "10"
      ]
     },
     "execution_count": 32,
     "metadata": {},
     "output_type": "execute_result"
    }
   ],
   "source": [
    "int(input(\"Enter a Number \"))"
   ]
  },
  {
   "cell_type": "code",
   "execution_count": 38,
   "id": "44547924",
   "metadata": {},
   "outputs": [
    {
     "name": "stdout",
     "output_type": "stream",
     "text": [
      "Please Enter an integer  10\n",
      "Finally It is executed\n"
     ]
    }
   ],
   "source": [
    "try:\n",
    "    val=int(input(\"Please Enter an integer  \"))\n",
    "except:\n",
    "    print(\"Loooks like you did not enter an integer\")\n",
    "    try:\n",
    "        val=int(input(\"Please Enter an integer again\"))\n",
    "    except:\n",
    "        print(\"Handle it\")\n",
    "finally:\n",
    "    print(\"Finally It is executed\")\n"
   ]
  },
  {
   "cell_type": "code",
   "execution_count": 10,
   "id": "65ddfd19",
   "metadata": {},
   "outputs": [
    {
     "name": "stdout",
     "output_type": "stream",
     "text": [
      "Please Enter an integer for A  a\n",
      "Please input the valid integers\n",
      "Please Enter an integer for A second time  5\n",
      "Please Enter an integer for B second time 10\n",
      "-5\n",
      " I am executed first time\n",
      "Now I am executed \n"
     ]
    }
   ],
   "source": [
    "#. If instead of a and b integers we input a character what would be the order of execution\n",
    "\n",
    "\n",
    "try:\n",
    "    x=int(input(\"Please Enter an integer for A \"))\n",
    "    y=int(input(\"Please Enter an integer for B \"))\n",
    "except:\n",
    "    print(\"Please input the valid integers\")\n",
    "    try:\n",
    "        x=int(input(\"Please Enter an integer for A second time \"))\n",
    "        y=int(input(\"Please Enter an integer for B second time \"))\n",
    "    except:\n",
    "        print(\"Handle it\")\n",
    "    finally:\n",
    "        c=x-y\n",
    "        print(c)\n",
    "        print(\" I am executed first time\")\n",
    "finally:\n",
    "    print(\"Now I am executed \")\n",
    "    "
   ]
  },
  {
   "cell_type": "markdown",
   "id": "ff988447",
   "metadata": {},
   "source": [
    "# Functions\n",
    "\n",
    "Functions are the most important building block of code that helps us to construct large amount of code to solve problems.\n",
    "\n",
    "What is a Function?\n",
    "\n",
    "A Function is a group of statements together to run the program more than once.\n",
    "\n",
    "Function allow us to reuse the program."
   ]
  },
  {
   "cell_type": "markdown",
   "id": "371b7fbd",
   "metadata": {},
   "source": [
    "# Syntax of a Function\n",
    "\n",
    "def name_of_function(arg1,arg2):\n",
    "    ----Block of code\n",
    "   \n",
    "    return anything\"\n",
    "    "
   ]
  },
  {
   "cell_type": "code",
   "execution_count": 16,
   "id": "dd31c7d0",
   "metadata": {},
   "outputs": [],
   "source": [
    "def sum_of_two_numbers(num1,num2):\n",
    "    \n",
    "    print(\"The sum of these numbers are---->\",num1+num2)\n",
    "    return \"Sum of two numbers is complete\""
   ]
  },
  {
   "cell_type": "code",
   "execution_count": 19,
   "id": "5b1d2ce6",
   "metadata": {},
   "outputs": [
    {
     "name": "stdout",
     "output_type": "stream",
     "text": [
      "The sum of these numbers are----> 15\n"
     ]
    },
    {
     "data": {
      "text/plain": [
       "'Sum of two numbers is complete and adding a string'"
      ]
     },
     "execution_count": 19,
     "metadata": {},
     "output_type": "execute_result"
    }
   ],
   "source": [
    "sum_of_two_numbers(5,10)+\" and adding a string\""
   ]
  },
  {
   "cell_type": "code",
   "execution_count": 57,
   "id": "1f486823",
   "metadata": {},
   "outputs": [],
   "source": [
    "def calculator(num1,num2,operator):\n",
    "    if operator=='+':\n",
    "        Results=num1+num2\n",
    "        print(\"The sum of the two numbers are----->\",Results) \n",
    "        return Results\n",
    "    elif operator=='-':\n",
    "        Results=num1-num2\n",
    "        print(\"The difference of the two numbers are----->\",Results) \n",
    "        return Results\n",
    "    elif operator=='*':\n",
    "        Results=num1*num2\n",
    "        print(\"The multiplication of the two numbers are----->\",Results)     \n",
    "        return Results\n",
    "    elif operator=='/':\n",
    "        try:\n",
    "            Results=(num1/num2)\n",
    "            print(\"The division of the two numbers are----->\",Results) \n",
    "            return Results\n",
    "        except:\n",
    "            print(\"You cannot divide a number by Zero\")\n",
    "        finally:\n",
    "            print(\"I am executed\")\n",
    "        "
   ]
  },
  {
   "cell_type": "code",
   "execution_count": 58,
   "id": "35cdf1b8",
   "metadata": {
    "scrolled": true
   },
   "outputs": [
    {
     "name": "stdout",
     "output_type": "stream",
     "text": [
      "The sum of the two numbers are-----> 8\n",
      "The multiplication of the two numbers are-----> 40\n",
      "The division of the two numbers are-----> 0.6\n",
      "I am executed\n",
      "The difference of the two numbers are-----> 25\n"
     ]
    },
    {
     "data": {
      "text/plain": [
       "73.6"
      ]
     },
     "execution_count": 58,
     "metadata": {},
     "output_type": "execute_result"
    }
   ],
   "source": [
    "calculator(3,5,'+')+calculator(10,4,'*')+calculator(3,5,'/')+calculator(30,5,'-')"
   ]
  },
  {
   "cell_type": "code",
   "execution_count": 46,
   "id": "29b31991",
   "metadata": {},
   "outputs": [
    {
     "name": "stdout",
     "output_type": "stream",
     "text": [
      "The sum of the two numbers are-----> 8\n"
     ]
    },
    {
     "data": {
      "text/plain": [
       "8"
      ]
     },
     "execution_count": 46,
     "metadata": {},
     "output_type": "execute_result"
    }
   ],
   "source": [
    "result=calculator(3,5,'+')\n",
    "result"
   ]
  },
  {
   "cell_type": "code",
   "execution_count": 50,
   "id": "1325c90f",
   "metadata": {},
   "outputs": [],
   "source": [
    "def sum_of_two_numbers(num1,num2):\n",
    "    \n",
    "    print(\"The sum of these numbers are---->\",num1+num2)\n",
    "    return num1+num2"
   ]
  },
  {
   "cell_type": "code",
   "execution_count": 51,
   "id": "27d58793",
   "metadata": {},
   "outputs": [
    {
     "name": "stdout",
     "output_type": "stream",
     "text": [
      "The sum of these numbers are----> 7\n"
     ]
    },
    {
     "data": {
      "text/plain": [
       "17"
      ]
     },
     "execution_count": 51,
     "metadata": {},
     "output_type": "execute_result"
    }
   ],
   "source": [
    "sum_of_two_numbers(4,3)+10"
   ]
  },
  {
   "cell_type": "markdown",
   "id": "fa6b57bc",
   "metadata": {},
   "source": [
    "Q1. Write a Python Function that returns the cube of the number\n",
    "\n",
    "\n",
    "Example: \n",
    "    \n",
    "    1->1\n",
    "    2->8\n",
    "    3->27\n",
    "    4->64\n",
    "    \n",
    "    "
   ]
  },
  {
   "cell_type": "code",
   "execution_count": 62,
   "id": "c76bc0a5",
   "metadata": {},
   "outputs": [
    {
     "data": {
      "text/plain": [
       "8"
      ]
     },
     "execution_count": 62,
     "metadata": {},
     "output_type": "execute_result"
    }
   ],
   "source": [
    "a=2\n",
    "2*2*2"
   ]
  },
  {
   "cell_type": "code",
   "execution_count": 64,
   "id": "632a5b8c",
   "metadata": {},
   "outputs": [
    {
     "data": {
      "text/plain": [
       "8"
      ]
     },
     "execution_count": 64,
     "metadata": {},
     "output_type": "execute_result"
    }
   ],
   "source": [
    "2**3"
   ]
  },
  {
   "cell_type": "code",
   "execution_count": 65,
   "id": "6c53de13",
   "metadata": {},
   "outputs": [],
   "source": [
    "def cube_of_number(number):\n",
    "    print(\"The cube of the number is---->\",number**3)\n",
    "    return number**3\n",
    "    "
   ]
  },
  {
   "cell_type": "code",
   "execution_count": 70,
   "id": "348aae97",
   "metadata": {},
   "outputs": [
    {
     "name": "stdout",
     "output_type": "stream",
     "text": [
      "The cube of the number is----> 64000\n"
     ]
    },
    {
     "data": {
      "text/plain": [
       "64000"
      ]
     },
     "execution_count": 70,
     "metadata": {},
     "output_type": "execute_result"
    }
   ],
   "source": [
    "cube_of_number(40)"
   ]
  },
  {
   "cell_type": "code",
   "execution_count": 76,
   "id": "768e09fa",
   "metadata": {},
   "outputs": [],
   "source": [
    "#Q2. Create a Function to Convert  Celsius into Fahrenheit\n",
    "\n",
    "\n",
    "def Convert_celsius_to_fahr(Temp):\n",
    "    return str ((9/5 * Temp) + 32)+'°F'\n",
    "\n"
   ]
  },
  {
   "cell_type": "code",
   "execution_count": 78,
   "id": "0fc3086b",
   "metadata": {},
   "outputs": [
    {
     "data": {
      "text/plain": [
       "'84.2°F'"
      ]
     },
     "execution_count": 78,
     "metadata": {},
     "output_type": "execute_result"
    }
   ],
   "source": [
    "Convert_celsius_to_fahr(29)"
   ]
  },
  {
   "cell_type": "code",
   "execution_count": 83,
   "id": "90fb4271",
   "metadata": {},
   "outputs": [],
   "source": [
    "#Q3. Create a Function to Convert Fahrenheit into Celsius\n",
    "\n",
    "\n",
    "def Convert_fahr_to_celsius(Temp_in_Fahren):\n",
    "    return str((5/9 *(Temp_in_Fahren-32))) +'°C'\n",
    "\n",
    "                \n",
    "                "
   ]
  },
  {
   "cell_type": "code",
   "execution_count": 84,
   "id": "c1fc8a22",
   "metadata": {},
   "outputs": [
    {
     "data": {
      "text/plain": [
       "'29.000000000000004°C'"
      ]
     },
     "execution_count": 84,
     "metadata": {},
     "output_type": "execute_result"
    }
   ],
   "source": [
    "Convert_fahr_to_celsius(84.2)"
   ]
  },
  {
   "cell_type": "code",
   "execution_count": 86,
   "id": "3b4c1442",
   "metadata": {},
   "outputs": [
    {
     "name": "stdout",
     "output_type": "stream",
     "text": [
      "Please enter the value5\n"
     ]
    },
    {
     "data": {
      "text/plain": [
       "'5'"
      ]
     },
     "execution_count": 86,
     "metadata": {},
     "output_type": "execute_result"
    }
   ],
   "source": [
    "input(\"Please enter the value\")"
   ]
  },
  {
   "cell_type": "code",
   "execution_count": 88,
   "id": "c0689510",
   "metadata": {},
   "outputs": [],
   "source": [
    "def full_name(First_name,Last_name):\n",
    "    Full_name=First_name+\" \"+Last_name\n",
    "    return Full_name"
   ]
  },
  {
   "cell_type": "code",
   "execution_count": 90,
   "id": "152924b4",
   "metadata": {},
   "outputs": [
    {
     "data": {
      "text/plain": [
       "'Inderpreet Singh'"
      ]
     },
     "execution_count": 90,
     "metadata": {},
     "output_type": "execute_result"
    }
   ],
   "source": [
    "full_name(\"Inderpreet\",\"Singh\")"
   ]
  },
  {
   "cell_type": "code",
   "execution_count": 93,
   "id": "82f7ea45",
   "metadata": {},
   "outputs": [],
   "source": [
    "#Questions\n",
    "\n",
    "#Q1. Create a function for checking whether the number is even or odd\n",
    "\n",
    "def even_odd(num):\n",
    "    if num%2==0:\n",
    "        print(\"{} number is even\".format(num))\n",
    "    else:\n",
    "        print(\"{} number is odd\".format(num))\n",
    "\n",
    "\n"
   ]
  },
  {
   "cell_type": "code",
   "execution_count": 94,
   "id": "e457da93",
   "metadata": {},
   "outputs": [
    {
     "name": "stdout",
     "output_type": "stream",
     "text": [
      "5 number is odd\n"
     ]
    }
   ],
   "source": [
    "even_odd(5)"
   ]
  },
  {
   "cell_type": "code",
   "execution_count": 105,
   "id": "27b1bf6e",
   "metadata": {},
   "outputs": [
    {
     "name": "stdout",
     "output_type": "stream",
     "text": [
      "2\n",
      "4\n",
      "6\n",
      "8\n"
     ]
    }
   ],
   "source": [
    "for i in range(2,10,2):\n",
    "    print(i)"
   ]
  },
  {
   "cell_type": "code",
   "execution_count": 108,
   "id": "db6a51dc",
   "metadata": {},
   "outputs": [],
   "source": [
    "import math\n",
    "\n",
    "#Q2. Create a function to check whether the number is prime or not.\n",
    "\n",
    "def is_prime(num):\n",
    "    \n",
    "    if num %2==0 and num>2:\n",
    "        return False\n",
    "    \n",
    "    for i in range(3,num,2):\n",
    "        print(\"The number \",i)\n",
    "        if num % i==0:\n",
    "            return False\n",
    "        \n",
    "    return True\n",
    "        \n",
    "    \n",
    "\n",
    "\n",
    "\n"
   ]
  },
  {
   "cell_type": "code",
   "execution_count": 109,
   "id": "e57ce38e",
   "metadata": {},
   "outputs": [
    {
     "name": "stdout",
     "output_type": "stream",
     "text": [
      "The number  3\n",
      "The number  5\n"
     ]
    },
    {
     "data": {
      "text/plain": [
       "True"
      ]
     },
     "execution_count": 109,
     "metadata": {},
     "output_type": "execute_result"
    }
   ],
   "source": [
    "is_prime(7)"
   ]
  },
  {
   "cell_type": "code",
   "execution_count": null,
   "id": "dc30e116",
   "metadata": {},
   "outputs": [],
   "source": []
  }
 ],
 "metadata": {
  "kernelspec": {
   "display_name": "Python 3 (ipykernel)",
   "language": "python",
   "name": "python3"
  },
  "language_info": {
   "codemirror_mode": {
    "name": "ipython",
    "version": 3
   },
   "file_extension": ".py",
   "mimetype": "text/x-python",
   "name": "python",
   "nbconvert_exporter": "python",
   "pygments_lexer": "ipython3",
   "version": "3.7.6"
  }
 },
 "nbformat": 4,
 "nbformat_minor": 5
}
