{
 "cells": [
  {
   "cell_type": "markdown",
   "id": "d29ff738",
   "metadata": {},
   "source": [
    "# Python\n",
    "\n",
    "Python is a high level programming language that helps the programmers to communicate with computer. It allows you to express your powerful ideas within a few lines of code.\n",
    "\n",
    "Algorithm+Programming Rules---->Code"
   ]
  },
  {
   "cell_type": "markdown",
   "id": "1f41ce0e",
   "metadata": {},
   "source": [
    "# Integers: It is a number without a decimal component"
   ]
  },
  {
   "cell_type": "code",
   "execution_count": 2,
   "id": "aa89f698",
   "metadata": {},
   "outputs": [
    {
     "data": {
      "text/plain": [
       "7"
      ]
     },
     "execution_count": 2,
     "metadata": {},
     "output_type": "execute_result"
    }
   ],
   "source": [
    "a=7\n",
    "a"
   ]
  },
  {
   "cell_type": "code",
   "execution_count": 3,
   "id": "e7d520a8",
   "metadata": {},
   "outputs": [
    {
     "data": {
      "text/plain": [
       "21111111111111111111111"
      ]
     },
     "execution_count": 3,
     "metadata": {},
     "output_type": "execute_result"
    }
   ],
   "source": [
    "b=21111111111111111111111\n",
    "b"
   ]
  },
  {
   "cell_type": "code",
   "execution_count": 7,
   "id": "ebec2de2",
   "metadata": {},
   "outputs": [
    {
     "name": "stdout",
     "output_type": "stream",
     "text": [
      "Hello Everyone my number a is----> 7\n"
     ]
    }
   ],
   "source": [
    "print('Hello Everyone my number a is---->',a)"
   ]
  },
  {
   "cell_type": "code",
   "execution_count": 8,
   "id": "ecd057b4",
   "metadata": {},
   "outputs": [
    {
     "data": {
      "text/plain": [
       "int"
      ]
     },
     "execution_count": 8,
     "metadata": {},
     "output_type": "execute_result"
    }
   ],
   "source": [
    "type(a)\n"
   ]
  },
  {
   "cell_type": "markdown",
   "id": "c0df81f5",
   "metadata": {},
   "source": [
    "# Float"
   ]
  },
  {
   "cell_type": "markdown",
   "id": "6316ba6f",
   "metadata": {},
   "source": [
    "Float can be created by adding a decimal component to a number"
   ]
  },
  {
   "cell_type": "code",
   "execution_count": 12,
   "id": "31149730",
   "metadata": {},
   "outputs": [],
   "source": [
    "number=3.51"
   ]
  },
  {
   "cell_type": "code",
   "execution_count": 13,
   "id": "822f83f6",
   "metadata": {},
   "outputs": [
    {
     "data": {
      "text/plain": [
       "float"
      ]
     },
     "execution_count": 13,
     "metadata": {},
     "output_type": "execute_result"
    }
   ],
   "source": [
    "type(number)"
   ]
  },
  {
   "cell_type": "code",
   "execution_count": 15,
   "id": "d0b46f10",
   "metadata": {},
   "outputs": [],
   "source": [
    "number2=3"
   ]
  },
  {
   "cell_type": "code",
   "execution_count": 17,
   "id": "e81756a4",
   "metadata": {},
   "outputs": [
    {
     "data": {
      "text/plain": [
       "float"
      ]
     },
     "execution_count": 17,
     "metadata": {},
     "output_type": "execute_result"
    }
   ],
   "source": [
    "sum1=number2+number\n",
    "type(sum1)"
   ]
  },
  {
   "cell_type": "code",
   "execution_count": 18,
   "id": "f160281e",
   "metadata": {},
   "outputs": [
    {
     "name": "stdout",
     "output_type": "stream",
     "text": [
      "Hello Everyone the sum of number is----> 6.51\n"
     ]
    }
   ],
   "source": [
    "print(\"Hello Everyone the sum of number is---->\",sum1)"
   ]
  },
  {
   "cell_type": "code",
   "execution_count": 19,
   "id": "15f9bcff",
   "metadata": {},
   "outputs": [
    {
     "data": {
      "text/plain": [
       "8"
      ]
     },
     "execution_count": 19,
     "metadata": {},
     "output_type": "execute_result"
    }
   ],
   "source": [
    "3+5"
   ]
  },
  {
   "cell_type": "code",
   "execution_count": 20,
   "id": "719e8c04",
   "metadata": {},
   "outputs": [
    {
     "data": {
      "text/plain": [
       "2"
      ]
     },
     "execution_count": 20,
     "metadata": {},
     "output_type": "execute_result"
    }
   ],
   "source": [
    "3-1"
   ]
  },
  {
   "cell_type": "code",
   "execution_count": 21,
   "id": "a4138004",
   "metadata": {},
   "outputs": [
    {
     "data": {
      "text/plain": [
       "1.5"
      ]
     },
     "execution_count": 21,
     "metadata": {},
     "output_type": "execute_result"
    }
   ],
   "source": [
    "3/2"
   ]
  },
  {
   "cell_type": "code",
   "execution_count": 22,
   "id": "9dbd7ad4",
   "metadata": {},
   "outputs": [
    {
     "data": {
      "text/plain": [
       "1.5"
      ]
     },
     "execution_count": 22,
     "metadata": {},
     "output_type": "execute_result"
    }
   ],
   "source": [
    "1.5"
   ]
  },
  {
   "cell_type": "markdown",
   "id": "40dc525d",
   "metadata": {},
   "source": [
    "# Strings\n",
    "\n",
    "1. Strings can be defined with any of single(') or double(\") or triple quotes(''')\n",
    "2. String are immutable that means strings characters values cannot be changed.\n",
    "\n"
   ]
  },
  {
   "cell_type": "code",
   "execution_count": 23,
   "id": "6965d78f",
   "metadata": {},
   "outputs": [
    {
     "data": {
      "text/plain": [
       "'Inder'"
      ]
     },
     "execution_count": 23,
     "metadata": {},
     "output_type": "execute_result"
    }
   ],
   "source": [
    "name=\"Inder\"\n",
    "name"
   ]
  },
  {
   "cell_type": "code",
   "execution_count": 24,
   "id": "7bff1344",
   "metadata": {},
   "outputs": [
    {
     "data": {
      "text/plain": [
       "str"
      ]
     },
     "execution_count": 24,
     "metadata": {},
     "output_type": "execute_result"
    }
   ],
   "source": [
    "type(name)"
   ]
  },
  {
   "cell_type": "code",
   "execution_count": 28,
   "id": "1310e535",
   "metadata": {},
   "outputs": [
    {
     "data": {
      "text/plain": [
       "str"
      ]
     },
     "execution_count": 28,
     "metadata": {},
     "output_type": "execute_result"
    }
   ],
   "source": [
    "sentence=\"Hi Everyone my name is inderpreet\"\n",
    "type(sentence)"
   ]
  },
  {
   "cell_type": "code",
   "execution_count": 29,
   "id": "b9efb4bc",
   "metadata": {},
   "outputs": [
    {
     "data": {
      "text/plain": [
       "str"
      ]
     },
     "execution_count": 29,
     "metadata": {},
     "output_type": "execute_result"
    }
   ],
   "source": [
    "char='a'\n",
    "type(char)"
   ]
  },
  {
   "cell_type": "code",
   "execution_count": 31,
   "id": "9d423971",
   "metadata": {},
   "outputs": [
    {
     "data": {
      "text/plain": [
       "str"
      ]
     },
     "execution_count": 31,
     "metadata": {},
     "output_type": "execute_result"
    }
   ],
   "source": [
    "char2='3'\n",
    "type(char2)"
   ]
  },
  {
   "cell_type": "code",
   "execution_count": 33,
   "id": "73f807b9",
   "metadata": {},
   "outputs": [
    {
     "data": {
      "text/plain": [
       "'Inder'"
      ]
     },
     "execution_count": 33,
     "metadata": {},
     "output_type": "execute_result"
    }
   ],
   "source": [
    "name='Inder'\n",
    "name"
   ]
  },
  {
   "cell_type": "code",
   "execution_count": 34,
   "id": "53b9b996",
   "metadata": {},
   "outputs": [
    {
     "data": {
      "text/plain": [
       "'Ind'"
      ]
     },
     "execution_count": 34,
     "metadata": {},
     "output_type": "execute_result"
    }
   ],
   "source": [
    "name='Ind' # When we create the variable with same name it overwrites the computer memory\n",
    "\n",
    "name"
   ]
  },
  {
   "cell_type": "code",
   "execution_count": 48,
   "id": "5bb6786f",
   "metadata": {},
   "outputs": [
    {
     "data": {
      "text/plain": [
       "'d'"
      ]
     },
     "execution_count": 48,
     "metadata": {},
     "output_type": "execute_result"
    }
   ],
   "source": [
    "chr(100)   #Unicode \n"
   ]
  },
  {
   "cell_type": "code",
   "execution_count": 49,
   "id": "7521d731",
   "metadata": {},
   "outputs": [
    {
     "data": {
      "text/plain": [
       "'A'"
      ]
     },
     "execution_count": 49,
     "metadata": {},
     "output_type": "execute_result"
    }
   ],
   "source": [
    "chr(65)"
   ]
  },
  {
   "cell_type": "markdown",
   "id": "b078f179",
   "metadata": {},
   "source": [
    "# chr\n",
    "\n",
    "The chr() method returns a string representing a character whose unicode or decimal is an integer\n",
    "\n",
    "Syntax: chr(num)"
   ]
  },
  {
   "cell_type": "markdown",
   "id": "ee89e069",
   "metadata": {},
   "source": [
    "# ord ---> Returns the unicode from the given character"
   ]
  },
  {
   "cell_type": "code",
   "execution_count": 50,
   "id": "70d9d6b6",
   "metadata": {},
   "outputs": [
    {
     "data": {
      "text/plain": [
       "65"
      ]
     },
     "execution_count": 50,
     "metadata": {},
     "output_type": "execute_result"
    }
   ],
   "source": [
    "ord('A') "
   ]
  },
  {
   "cell_type": "code",
   "execution_count": 51,
   "id": "744cafda",
   "metadata": {},
   "outputs": [
    {
     "data": {
      "text/plain": [
       "97"
      ]
     },
     "execution_count": 51,
     "metadata": {},
     "output_type": "execute_result"
    }
   ],
   "source": [
    "ord('a')"
   ]
  },
  {
   "cell_type": "code",
   "execution_count": 52,
   "id": "012b5413",
   "metadata": {},
   "outputs": [
    {
     "data": {
      "text/plain": [
       "42"
      ]
     },
     "execution_count": 52,
     "metadata": {},
     "output_type": "execute_result"
    }
   ],
   "source": [
    "ord('*')"
   ]
  },
  {
   "cell_type": "code",
   "execution_count": 54,
   "id": "b2c77ad3",
   "metadata": {},
   "outputs": [
    {
     "data": {
      "text/plain": [
       "38"
      ]
     },
     "execution_count": 54,
     "metadata": {},
     "output_type": "execute_result"
    }
   ],
   "source": [
    "ord('&')"
   ]
  },
  {
   "cell_type": "code",
   "execution_count": 57,
   "id": "43f4fd54",
   "metadata": {},
   "outputs": [
    {
     "data": {
      "text/plain": [
       "51"
      ]
     },
     "execution_count": 57,
     "metadata": {},
     "output_type": "execute_result"
    }
   ],
   "source": [
    "ord('3')"
   ]
  },
  {
   "cell_type": "code",
   "execution_count": 58,
   "id": "c75f3e19",
   "metadata": {},
   "outputs": [
    {
     "data": {
      "text/plain": [
       "'A'"
      ]
     },
     "execution_count": 58,
     "metadata": {},
     "output_type": "execute_result"
    }
   ],
   "source": [
    "chr(65)"
   ]
  },
  {
   "cell_type": "markdown",
   "id": "86591f35",
   "metadata": {},
   "source": [
    "# Boolean \n",
    "\n",
    "Boolean can be defined by typing True/False"
   ]
  },
  {
   "cell_type": "code",
   "execution_count": 59,
   "id": "b532eb44",
   "metadata": {},
   "outputs": [
    {
     "data": {
      "text/plain": [
       "bool"
      ]
     },
     "execution_count": 59,
     "metadata": {},
     "output_type": "execute_result"
    }
   ],
   "source": [
    "x=True\n",
    "\n",
    "type(x)"
   ]
  },
  {
   "cell_type": "code",
   "execution_count": 60,
   "id": "6cfb0087",
   "metadata": {},
   "outputs": [
    {
     "data": {
      "text/plain": [
       "3"
      ]
     },
     "execution_count": 60,
     "metadata": {},
     "output_type": "execute_result"
    }
   ],
   "source": [
    "a=3\n",
    "a"
   ]
  },
  {
   "cell_type": "code",
   "execution_count": 61,
   "id": "7ed51822",
   "metadata": {},
   "outputs": [
    {
     "data": {
      "text/plain": [
       "False"
      ]
     },
     "execution_count": 61,
     "metadata": {},
     "output_type": "execute_result"
    }
   ],
   "source": [
    "a==5"
   ]
  },
  {
   "cell_type": "code",
   "execution_count": 62,
   "id": "a2249671",
   "metadata": {},
   "outputs": [
    {
     "data": {
      "text/plain": [
       "True"
      ]
     },
     "execution_count": 62,
     "metadata": {},
     "output_type": "execute_result"
    }
   ],
   "source": [
    "b=3\n",
    "\n",
    "b==3"
   ]
  },
  {
   "cell_type": "code",
   "execution_count": 71,
   "id": "55765c46",
   "metadata": {},
   "outputs": [
    {
     "ename": "SyntaxError",
     "evalue": "invalid syntax (Temp/ipykernel_26616/2063848611.py, line 3)",
     "output_type": "error",
     "traceback": [
      "\u001b[1;36m  File \u001b[1;32m\"C:\\Users\\sidak\\AppData\\Local\\Temp/ipykernel_26616/2063848611.py\"\u001b[1;36m, line \u001b[1;32m3\u001b[0m\n\u001b[1;33m    00000000000000000000000000000000000000000000000000000000000000000000000000000000000)\u001b[0m\n\u001b[1;37m                                                                                      ^\u001b[0m\n\u001b[1;31mSyntaxError\u001b[0m\u001b[1;31m:\u001b[0m invalid syntax\n"
     ]
    }
   ],
   "source": [
    "import sys\n",
    "sys.getsizeof(100000000000000000000000000000000000000000000000000000000000000000000000000000000000000000000000)"
   ]
  },
  {
   "cell_type": "markdown",
   "id": "80e9a4f7",
   "metadata": {},
   "source": [
    "# sys.getsizeof\n",
    "\n",
    "This function accepts an integer or any different data types and return the memory used by that data type"
   ]
  },
  {
   "cell_type": "code",
   "execution_count": 74,
   "id": "63f3ff8a",
   "metadata": {},
   "outputs": [
    {
     "data": {
      "text/plain": [
       "63"
      ]
     },
     "execution_count": 74,
     "metadata": {},
     "output_type": "execute_result"
    }
   ],
   "source": [
    "sys.getsizeof('Hi how ar eyou')"
   ]
  },
  {
   "cell_type": "code",
   "execution_count": 75,
   "id": "6f8303f3",
   "metadata": {},
   "outputs": [
    {
     "data": {
      "text/plain": [
       "12222222222222222222222222222222222222222222222222222222222222222222222222"
      ]
     },
     "execution_count": 75,
     "metadata": {},
     "output_type": "execute_result"
    }
   ],
   "source": [
    "a=12222222222222222222222222222222222222222222222222222222222222222222222222\n",
    "a"
   ]
  },
  {
   "cell_type": "code",
   "execution_count": null,
   "id": "1ce9f071",
   "metadata": {},
   "outputs": [],
   "source": [
    "# import calculator\n",
    "\n",
    "# calculator(3+5)"
   ]
  },
  {
   "cell_type": "code",
   "execution_count": 76,
   "id": "f1eaa3f8",
   "metadata": {},
   "outputs": [
    {
     "data": {
      "text/plain": [
       "'n'"
      ]
     },
     "execution_count": 76,
     "metadata": {},
     "output_type": "execute_result"
    }
   ],
   "source": [
    "Name='Inderpreet'\n",
    "Name[1]"
   ]
  },
  {
   "cell_type": "code",
   "execution_count": 77,
   "id": "9abc1ab0",
   "metadata": {},
   "outputs": [
    {
     "data": {
      "text/plain": [
       "'e'"
      ]
     },
     "execution_count": 77,
     "metadata": {},
     "output_type": "execute_result"
    }
   ],
   "source": [
    "Name[7]"
   ]
  },
  {
   "cell_type": "code",
   "execution_count": 79,
   "id": "66e16aab",
   "metadata": {},
   "outputs": [
    {
     "ename": "TypeError",
     "evalue": "'str' object does not support item assignment",
     "output_type": "error",
     "traceback": [
      "\u001b[1;31m---------------------------------------------------------------------------\u001b[0m",
      "\u001b[1;31mTypeError\u001b[0m                                 Traceback (most recent call last)",
      "\u001b[1;32m~\\AppData\\Local\\Temp/ipykernel_26616/1921107714.py\u001b[0m in \u001b[0;36m<module>\u001b[1;34m\u001b[0m\n\u001b[1;32m----> 1\u001b[1;33m \u001b[0mName\u001b[0m\u001b[1;33m[\u001b[0m\u001b[1;36m7\u001b[0m\u001b[1;33m]\u001b[0m\u001b[1;33m=\u001b[0m\u001b[1;34m'f'\u001b[0m\u001b[1;33m\u001b[0m\u001b[1;33m\u001b[0m\u001b[0m\n\u001b[0m",
      "\u001b[1;31mTypeError\u001b[0m: 'str' object does not support item assignment"
     ]
    }
   ],
   "source": [
    "Name[7]='f'"
   ]
  },
  {
   "cell_type": "code",
   "execution_count": 80,
   "id": "33b6330a",
   "metadata": {},
   "outputs": [
    {
     "data": {
      "text/plain": [
       "'Samnath'"
      ]
     },
     "execution_count": 80,
     "metadata": {},
     "output_type": "execute_result"
    }
   ],
   "source": [
    "Name='Samnath'\n",
    "Name"
   ]
  },
  {
   "cell_type": "markdown",
   "id": "b22ee0e1",
   "metadata": {},
   "source": [
    "# String Indexing\n",
    "\n",
    "Strings are a sequence which means we can use indexes to call the sequence parts\n",
    "\n",
    "How Indexing work:\n",
    "\n",
    "1. We use [] after an object to call its index\n"
   ]
  },
  {
   "cell_type": "markdown",
   "id": "a2df65f4",
   "metadata": {},
   "source": [
    "# Slicing in Strings\n",
    "\n",
    "We are cutting about a substring from the main string\n"
   ]
  },
  {
   "cell_type": "code",
   "execution_count": 82,
   "id": "4dc8c4e2",
   "metadata": {},
   "outputs": [
    {
     "data": {
      "text/plain": [
       "'INDER'"
      ]
     },
     "execution_count": 82,
     "metadata": {},
     "output_type": "execute_result"
    }
   ],
   "source": [
    "Name='INDERPREET'\n",
    "Name[0:4]"
   ]
  },
  {
   "cell_type": "code",
   "execution_count": 83,
   "id": "69785a99",
   "metadata": {},
   "outputs": [
    {
     "data": {
      "text/plain": [
       "'DERPR'"
      ]
     },
     "execution_count": 83,
     "metadata": {},
     "output_type": "execute_result"
    }
   ],
   "source": [
    "Name[2:7]"
   ]
  },
  {
   "cell_type": "code",
   "execution_count": 84,
   "id": "c1f50fd0",
   "metadata": {},
   "outputs": [
    {
     "data": {
      "text/plain": [
       "'lo how are'"
      ]
     },
     "execution_count": 84,
     "metadata": {},
     "output_type": "execute_result"
    }
   ],
   "source": [
    "String2=\"Hello how are you\"\n",
    "String2[3:13]"
   ]
  },
  {
   "cell_type": "code",
   "execution_count": 110,
   "id": "58f1b96e",
   "metadata": {},
   "outputs": [
    {
     "data": {
      "text/plain": [
       "'d'"
      ]
     },
     "execution_count": 110,
     "metadata": {},
     "output_type": "execute_result"
    }
   ],
   "source": [
    "Name='Jagdeeshwar'\n",
    "\n",
    "Name[3:7:10]"
   ]
  },
  {
   "cell_type": "code",
   "execution_count": 111,
   "id": "9cf01012",
   "metadata": {},
   "outputs": [],
   "source": [
    "#Negative Indexing starts from R-------->l"
   ]
  },
  {
   "cell_type": "code",
   "execution_count": 122,
   "id": "58d44654",
   "metadata": {},
   "outputs": [
    {
     "data": {
      "text/plain": [
       "'aprava$@'"
      ]
     },
     "execution_count": 122,
     "metadata": {},
     "output_type": "execute_result"
    }
   ],
   "source": [
    "Name='Arkaprava$@'\n",
    "Name[3:]"
   ]
  },
  {
   "cell_type": "code",
   "execution_count": 124,
   "id": "a686caa1",
   "metadata": {},
   "outputs": [
    {
     "data": {
      "text/plain": [
       "'ka'"
      ]
     },
     "execution_count": 124,
     "metadata": {},
     "output_type": "execute_result"
    }
   ],
   "source": [
    "Name[2:-7]"
   ]
  },
  {
   "cell_type": "code",
   "execution_count": 127,
   "id": "ce5dcfc0",
   "metadata": {},
   "outputs": [
    {
     "data": {
      "text/plain": [
       "'rkapr'"
      ]
     },
     "execution_count": 127,
     "metadata": {},
     "output_type": "execute_result"
    }
   ],
   "source": [
    "Name[1:-5]"
   ]
  },
  {
   "cell_type": "code",
   "execution_count": 135,
   "id": "4eb248fa",
   "metadata": {},
   "outputs": [
    {
     "data": {
      "text/plain": [
       "'@#$%^&'"
      ]
     },
     "execution_count": 135,
     "metadata": {},
     "output_type": "execute_result"
    }
   ],
   "source": [
    "Name='!@#$%^&*'\n",
    "\n",
    "Name[1:-1]"
   ]
  },
  {
   "cell_type": "code",
   "execution_count": 146,
   "id": "3ea0a1d8",
   "metadata": {},
   "outputs": [
    {
     "data": {
      "text/plain": [
       "'^&*'"
      ]
     },
     "execution_count": 146,
     "metadata": {},
     "output_type": "execute_result"
    }
   ],
   "source": [
    "#^&*\n",
    "\n",
    "Name[-3:]"
   ]
  },
  {
   "cell_type": "markdown",
   "id": "49493f33",
   "metadata": {},
   "source": [
    "# Concatenation\n",
    "\n",
    "Concatenation we are combining a string with another string"
   ]
  },
  {
   "cell_type": "code",
   "execution_count": 130,
   "id": "84a07969",
   "metadata": {},
   "outputs": [
    {
     "data": {
      "text/plain": [
       "'Inderpreet'"
      ]
     },
     "execution_count": 130,
     "metadata": {},
     "output_type": "execute_result"
    }
   ],
   "source": [
    "Name='Inderpreet'\n",
    "Name"
   ]
  },
  {
   "cell_type": "code",
   "execution_count": 131,
   "id": "eac9d942",
   "metadata": {},
   "outputs": [
    {
     "data": {
      "text/plain": [
       "'Walia'"
      ]
     },
     "execution_count": 131,
     "metadata": {},
     "output_type": "execute_result"
    }
   ],
   "source": [
    "Surname=\"Walia\"\n",
    "Surname"
   ]
  },
  {
   "cell_type": "code",
   "execution_count": 133,
   "id": "b51417c6",
   "metadata": {},
   "outputs": [
    {
     "data": {
      "text/plain": [
       "'Inderpreet Walia'"
      ]
     },
     "execution_count": 133,
     "metadata": {},
     "output_type": "execute_result"
    }
   ],
   "source": [
    "Name+' '+Surname"
   ]
  },
  {
   "cell_type": "markdown",
   "id": "3606cc5c",
   "metadata": {},
   "source": [
    "# Basic Build in String Functions"
   ]
  },
  {
   "cell_type": "code",
   "execution_count": 148,
   "id": "94aba8e0",
   "metadata": {},
   "outputs": [
    {
     "data": {
      "text/plain": [
       "'INDERPREET'"
      ]
     },
     "execution_count": 148,
     "metadata": {},
     "output_type": "execute_result"
    }
   ],
   "source": [
    "Name=\"Inderpreet\"\n",
    "\n",
    "Name=Name.upper()\n",
    "Name"
   ]
  },
  {
   "cell_type": "code",
   "execution_count": 150,
   "id": "ad6543c8",
   "metadata": {},
   "outputs": [
    {
     "data": {
      "text/plain": [
       "'inderpreet'"
      ]
     },
     "execution_count": 150,
     "metadata": {},
     "output_type": "execute_result"
    }
   ],
   "source": [
    "Name.lower()"
   ]
  },
  {
   "cell_type": "code",
   "execution_count": 152,
   "id": "66df069d",
   "metadata": {},
   "outputs": [
    {
     "data": {
      "text/plain": [
       "['In', 'er%singh']"
      ]
     },
     "execution_count": 152,
     "metadata": {},
     "output_type": "execute_result"
    }
   ],
   "source": [
    "Word=\"Inder%singh\"\n",
    "Word.split('d')"
   ]
  },
  {
   "cell_type": "code",
   "execution_count": 156,
   "id": "5d37fdb7",
   "metadata": {},
   "outputs": [
    {
     "data": {
      "text/plain": [
       "'h'"
      ]
     },
     "execution_count": 156,
     "metadata": {},
     "output_type": "execute_result"
    }
   ],
   "source": [
    "Word[-1]"
   ]
  },
  {
   "cell_type": "code",
   "execution_count": 155,
   "id": "08730d40",
   "metadata": {},
   "outputs": [
    {
     "data": {
      "text/plain": [
       "['Inder%sing', '']"
      ]
     },
     "execution_count": 155,
     "metadata": {},
     "output_type": "execute_result"
    }
   ],
   "source": [
    "Word.split(Word[-1])"
   ]
  },
  {
   "cell_type": "code",
   "execution_count": 153,
   "id": "04a8d31b",
   "metadata": {},
   "outputs": [
    {
     "data": {
      "text/plain": [
       "['Hello', 'How', 'are', 'you']"
      ]
     },
     "execution_count": 153,
     "metadata": {},
     "output_type": "execute_result"
    }
   ],
   "source": [
    "Sentence=\"Hello How are you\"\n",
    "Sentence.split()"
   ]
  },
  {
   "cell_type": "code",
   "execution_count": 159,
   "id": "0c398c59",
   "metadata": {},
   "outputs": [
    {
     "data": {
      "text/plain": [
       "['b', 'm', 'ns', 'sd']"
      ]
     },
     "execution_count": 159,
     "metadata": {},
     "output_type": "execute_result"
    }
   ],
   "source": [
    "Word='bAmAnsAsd'\n",
    "Word.split('A')"
   ]
  },
  {
   "cell_type": "code",
   "execution_count": 161,
   "id": "e92e2ec2",
   "metadata": {},
   "outputs": [],
   "source": [
    "Sentence=\"Hello everyone today we had a amazing sessions\""
   ]
  },
  {
   "cell_type": "code",
   "execution_count": 162,
   "id": "0f5d7209",
   "metadata": {},
   "outputs": [
    {
     "data": {
      "text/plain": [
       "4"
      ]
     },
     "execution_count": 162,
     "metadata": {},
     "output_type": "execute_result"
    }
   ],
   "source": [
    "Sentence.count('o')"
   ]
  },
  {
   "cell_type": "code",
   "execution_count": 164,
   "id": "1aaafee5",
   "metadata": {},
   "outputs": [
    {
     "data": {
      "text/plain": [
       "15"
      ]
     },
     "execution_count": 164,
     "metadata": {},
     "output_type": "execute_result"
    }
   ],
   "source": [
    "Sentence.find('t')"
   ]
  },
  {
   "cell_type": "code",
   "execution_count": 169,
   "id": "a3eb13a9",
   "metadata": {},
   "outputs": [
    {
     "data": {
      "text/plain": [
       "0"
      ]
     },
     "execution_count": 169,
     "metadata": {},
     "output_type": "execute_result"
    }
   ],
   "source": [
    "word ='AmAsnAsd'\n",
    "word.find('A')"
   ]
  },
  {
   "cell_type": "markdown",
   "id": "ee1994ef",
   "metadata": {},
   "source": [
    "# String check methods"
   ]
  },
  {
   "cell_type": "markdown",
   "id": "bc8d6769",
   "metadata": {},
   "source": [
    "isalnum() --> will return true if all characters in the string are alphanumeric"
   ]
  },
  {
   "cell_type": "code",
   "execution_count": 166,
   "id": "6801d083",
   "metadata": {},
   "outputs": [
    {
     "data": {
      "text/plain": [
       "True"
      ]
     },
     "execution_count": 166,
     "metadata": {},
     "output_type": "execute_result"
    }
   ],
   "source": [
    "Name=\"Inder1234\"\n",
    "Name.isalnum()"
   ]
  },
  {
   "cell_type": "markdown",
   "id": "37fdfce7",
   "metadata": {},
   "source": [
    "isalpha()----> will return True if any alphabet is present\n",
    "\n"
   ]
  },
  {
   "cell_type": "code",
   "execution_count": 170,
   "id": "4e738f44",
   "metadata": {},
   "outputs": [
    {
     "data": {
      "text/plain": [
       "True"
      ]
     },
     "execution_count": 170,
     "metadata": {},
     "output_type": "execute_result"
    }
   ],
   "source": [
    "Name=\"Aman\"\n",
    "Name.isalpha()"
   ]
  },
  {
   "cell_type": "markdown",
   "id": "8473f352",
   "metadata": {},
   "source": [
    "islower()--> will return True if alphaebets are in lowercase"
   ]
  },
  {
   "cell_type": "code",
   "execution_count": 172,
   "id": "1b14431e",
   "metadata": {},
   "outputs": [
    {
     "data": {
      "text/plain": [
       "True"
      ]
     },
     "execution_count": 172,
     "metadata": {},
     "output_type": "execute_result"
    }
   ],
   "source": [
    "Name='rohan'\n",
    "Name.islower()"
   ]
  },
  {
   "cell_type": "code",
   "execution_count": 179,
   "id": "21f2a2f9",
   "metadata": {},
   "outputs": [
    {
     "data": {
      "text/plain": [
       "8"
      ]
     },
     "execution_count": 179,
     "metadata": {},
     "output_type": "execute_result"
    }
   ],
   "source": [
    "Name='Inderpreet'\n",
    "\n",
    "Name.find('e',8)"
   ]
  },
  {
   "cell_type": "code",
   "execution_count": null,
   "id": "9371bbb7",
   "metadata": {},
   "outputs": [],
   "source": []
  }
 ],
 "metadata": {
  "kernelspec": {
   "display_name": "Python 3 (ipykernel)",
   "language": "python",
   "name": "python3"
  },
  "language_info": {
   "codemirror_mode": {
    "name": "ipython",
    "version": 3
   },
   "file_extension": ".py",
   "mimetype": "text/x-python",
   "name": "python",
   "nbconvert_exporter": "python",
   "pygments_lexer": "ipython3",
   "version": "3.7.6"
  }
 },
 "nbformat": 4,
 "nbformat_minor": 5
}
