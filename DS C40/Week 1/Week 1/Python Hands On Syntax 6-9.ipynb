{
 "cells": [
  {
   "cell_type": "markdown",
   "id": "f2ca9a84",
   "metadata": {},
   "source": [
    "# Data Structure\n",
    "\n",
    "It is a way of organizating so that data on the system can be accessed more efficiently. Data Structures are fundamentals of any programming language"
   ]
  },
  {
   "cell_type": "markdown",
   "id": "916a4da9",
   "metadata": {},
   "source": [
    "# Integer---> Integers are numbers without any decimal component\n",
    "\n",
    "For Example--->1,2,3,-10,-20,-122222"
   ]
  },
  {
   "cell_type": "code",
   "execution_count": 6,
   "id": "db670225",
   "metadata": {},
   "outputs": [
    {
     "data": {
      "text/plain": [
       "7"
      ]
     },
     "execution_count": 6,
     "metadata": {},
     "output_type": "execute_result"
    }
   ],
   "source": [
    "a=7\n",
    "a"
   ]
  },
  {
   "cell_type": "code",
   "execution_count": 5,
   "id": "c6cddb9c",
   "metadata": {},
   "outputs": [
    {
     "data": {
      "text/plain": [
       "5"
      ]
     },
     "execution_count": 5,
     "metadata": {},
     "output_type": "execute_result"
    }
   ],
   "source": [
    "b=5\n",
    "b"
   ]
  },
  {
   "cell_type": "code",
   "execution_count": 3,
   "id": "19b40073",
   "metadata": {},
   "outputs": [
    {
     "data": {
      "text/plain": [
       "7"
      ]
     },
     "execution_count": 3,
     "metadata": {},
     "output_type": "execute_result"
    }
   ],
   "source": [
    "a"
   ]
  },
  {
   "cell_type": "code",
   "execution_count": 8,
   "id": "3541454b",
   "metadata": {},
   "outputs": [
    {
     "data": {
      "text/plain": [
       "int"
      ]
     },
     "execution_count": 8,
     "metadata": {},
     "output_type": "execute_result"
    }
   ],
   "source": [
    "type(a) # Type syntax helps in finding the type of data present in the variable"
   ]
  },
  {
   "cell_type": "markdown",
   "id": "907e7ffd",
   "metadata": {},
   "source": [
    "# Floats-> are numbers that are created by adding a decimal component\n",
    "\n",
    "For example--->1.2,-3.4,-1.1232,-4.563423"
   ]
  },
  {
   "cell_type": "code",
   "execution_count": 9,
   "id": "51a65bf8",
   "metadata": {},
   "outputs": [
    {
     "data": {
      "text/plain": [
       "float"
      ]
     },
     "execution_count": 9,
     "metadata": {},
     "output_type": "execute_result"
    }
   ],
   "source": [
    "a=1.2\n",
    "type(a)"
   ]
  },
  {
   "cell_type": "code",
   "execution_count": 10,
   "id": "f3d6846f",
   "metadata": {},
   "outputs": [
    {
     "data": {
      "text/plain": [
       "float"
      ]
     },
     "execution_count": 10,
     "metadata": {},
     "output_type": "execute_result"
    }
   ],
   "source": [
    "b=1.3422\n",
    "type(b)"
   ]
  },
  {
   "cell_type": "code",
   "execution_count": 12,
   "id": "3983c812",
   "metadata": {},
   "outputs": [
    {
     "data": {
      "text/plain": [
       "2.3422"
      ]
     },
     "execution_count": 12,
     "metadata": {},
     "output_type": "execute_result"
    }
   ],
   "source": [
    "c=1\n",
    "b=1.3422\n",
    "sum1=b+c\n",
    "sum1"
   ]
  },
  {
   "cell_type": "code",
   "execution_count": 13,
   "id": "1785dee0",
   "metadata": {},
   "outputs": [
    {
     "data": {
      "text/plain": [
       "float"
      ]
     },
     "execution_count": 13,
     "metadata": {},
     "output_type": "execute_result"
    }
   ],
   "source": [
    "type(sum1)"
   ]
  },
  {
   "cell_type": "code",
   "execution_count": 17,
   "id": "8c7eb963",
   "metadata": {},
   "outputs": [
    {
     "data": {
      "text/plain": [
       "3.3333333333333335"
      ]
     },
     "execution_count": 17,
     "metadata": {},
     "output_type": "execute_result"
    }
   ],
   "source": [
    "5/1.5"
   ]
  },
  {
   "cell_type": "code",
   "execution_count": 15,
   "id": "c4de899e",
   "metadata": {},
   "outputs": [
    {
     "data": {
      "text/plain": [
       "7.999999998"
      ]
     },
     "execution_count": 15,
     "metadata": {},
     "output_type": "execute_result"
    }
   ],
   "source": [
    "6*1.333333333"
   ]
  },
  {
   "cell_type": "markdown",
   "id": "dd6c4229",
   "metadata": {},
   "source": [
    "# Boolean Data Type\n",
    "\n",
    "Boolean can be defined by writing True or False"
   ]
  },
  {
   "cell_type": "code",
   "execution_count": 18,
   "id": "7fbb3559",
   "metadata": {},
   "outputs": [
    {
     "data": {
      "text/plain": [
       "bool"
      ]
     },
     "execution_count": 18,
     "metadata": {},
     "output_type": "execute_result"
    }
   ],
   "source": [
    "a=True\n",
    "\n",
    "type(a)"
   ]
  },
  {
   "cell_type": "code",
   "execution_count": 19,
   "id": "370527ef",
   "metadata": {},
   "outputs": [
    {
     "data": {
      "text/plain": [
       "True"
      ]
     },
     "execution_count": 19,
     "metadata": {},
     "output_type": "execute_result"
    }
   ],
   "source": [
    "True and True"
   ]
  },
  {
   "cell_type": "code",
   "execution_count": 20,
   "id": "cb223618",
   "metadata": {},
   "outputs": [
    {
     "data": {
      "text/plain": [
       "False"
      ]
     },
     "execution_count": 20,
     "metadata": {},
     "output_type": "execute_result"
    }
   ],
   "source": [
    "True and False"
   ]
  },
  {
   "cell_type": "code",
   "execution_count": 21,
   "id": "a8954469",
   "metadata": {},
   "outputs": [
    {
     "data": {
      "text/plain": [
       "True"
      ]
     },
     "execution_count": 21,
     "metadata": {},
     "output_type": "execute_result"
    }
   ],
   "source": [
    "True or False"
   ]
  },
  {
   "cell_type": "code",
   "execution_count": 22,
   "id": "ee1afddf",
   "metadata": {},
   "outputs": [
    {
     "data": {
      "text/plain": [
       "False"
      ]
     },
     "execution_count": 22,
     "metadata": {},
     "output_type": "execute_result"
    }
   ],
   "source": [
    "not True"
   ]
  },
  {
   "cell_type": "code",
   "execution_count": 23,
   "id": "269b08ef",
   "metadata": {},
   "outputs": [
    {
     "data": {
      "text/plain": [
       "True"
      ]
     },
     "execution_count": 23,
     "metadata": {},
     "output_type": "execute_result"
    }
   ],
   "source": [
    "not False"
   ]
  },
  {
   "cell_type": "code",
   "execution_count": 24,
   "id": "f5fda3bd",
   "metadata": {},
   "outputs": [
    {
     "data": {
      "text/plain": [
       "False"
      ]
     },
     "execution_count": 24,
     "metadata": {},
     "output_type": "execute_result"
    }
   ],
   "source": [
    "False or False"
   ]
  },
  {
   "cell_type": "code",
   "execution_count": 25,
   "id": "e8d2390b",
   "metadata": {},
   "outputs": [
    {
     "data": {
      "text/plain": [
       "False"
      ]
     },
     "execution_count": 25,
     "metadata": {},
     "output_type": "execute_result"
    }
   ],
   "source": [
    "True is False"
   ]
  },
  {
   "cell_type": "code",
   "execution_count": 26,
   "id": "e98baa1f",
   "metadata": {},
   "outputs": [
    {
     "data": {
      "text/plain": [
       "True"
      ]
     },
     "execution_count": 26,
     "metadata": {},
     "output_type": "execute_result"
    }
   ],
   "source": [
    "True is True"
   ]
  },
  {
   "cell_type": "code",
   "execution_count": 27,
   "id": "2471b2bb",
   "metadata": {},
   "outputs": [
    {
     "data": {
      "text/plain": [
       "True"
      ]
     },
     "execution_count": 27,
     "metadata": {},
     "output_type": "execute_result"
    }
   ],
   "source": [
    "True ^ False"
   ]
  },
  {
   "cell_type": "code",
   "execution_count": 28,
   "id": "dee49525",
   "metadata": {},
   "outputs": [
    {
     "data": {
      "text/plain": [
       "False"
      ]
     },
     "execution_count": 28,
     "metadata": {},
     "output_type": "execute_result"
    }
   ],
   "source": [
    "False ^ False"
   ]
  },
  {
   "cell_type": "markdown",
   "id": "d0d14b3f",
   "metadata": {},
   "source": [
    "# Strings\n",
    "\n",
    "Strings helps us to represent textual data in programming\n",
    "\n",
    "1.Strings can be defined with any of single quotes ('), or double quotes('') or triple quotes (''').\n",
    "2. Strings are immutable\n",
    "\n",
    "\n"
   ]
  },
  {
   "cell_type": "code",
   "execution_count": 33,
   "id": "9c9f0089",
   "metadata": {},
   "outputs": [
    {
     "data": {
      "text/plain": [
       "'Inderpreet'"
      ]
     },
     "execution_count": 33,
     "metadata": {},
     "output_type": "execute_result"
    }
   ],
   "source": [
    "Name='''Inderpreet'''\n",
    "Name"
   ]
  },
  {
   "cell_type": "code",
   "execution_count": 34,
   "id": "3e86375a",
   "metadata": {},
   "outputs": [
    {
     "data": {
      "text/plain": [
       "str"
      ]
     },
     "execution_count": 34,
     "metadata": {},
     "output_type": "execute_result"
    }
   ],
   "source": [
    "type(Name)"
   ]
  },
  {
   "cell_type": "code",
   "execution_count": 35,
   "id": "05c89ec4",
   "metadata": {},
   "outputs": [
    {
     "data": {
      "text/plain": [
       "' My name is Inderpreet Singh'"
      ]
     },
     "execution_count": 35,
     "metadata": {},
     "output_type": "execute_result"
    }
   ],
   "source": [
    "Sentence=\"My name is Inderpreet Singh\"\n",
    "Sentence"
   ]
  },
  {
   "cell_type": "code",
   "execution_count": 36,
   "id": "1fda9d11",
   "metadata": {},
   "outputs": [
    {
     "data": {
      "text/plain": [
       "str"
      ]
     },
     "execution_count": 36,
     "metadata": {},
     "output_type": "execute_result"
    }
   ],
   "source": [
    "alpha='a'\n",
    "type(alpha)"
   ]
  },
  {
   "cell_type": "code",
   "execution_count": 37,
   "id": "1ab27633",
   "metadata": {},
   "outputs": [
    {
     "data": {
      "text/plain": [
       "int"
      ]
     },
     "execution_count": 37,
     "metadata": {},
     "output_type": "execute_result"
    }
   ],
   "source": [
    "num=2\n",
    "type(num)"
   ]
  },
  {
   "cell_type": "code",
   "execution_count": 38,
   "id": "2b21f46f",
   "metadata": {},
   "outputs": [
    {
     "data": {
      "text/plain": [
       "'2'"
      ]
     },
     "execution_count": 38,
     "metadata": {},
     "output_type": "execute_result"
    }
   ],
   "source": [
    "str(num)"
   ]
  },
  {
   "cell_type": "code",
   "execution_count": 39,
   "id": "cf194292",
   "metadata": {},
   "outputs": [
    {
     "data": {
      "text/plain": [
       "str"
      ]
     },
     "execution_count": 39,
     "metadata": {},
     "output_type": "execute_result"
    }
   ],
   "source": [
    "string='12345'\n",
    "type(string)"
   ]
  },
  {
   "cell_type": "code",
   "execution_count": 41,
   "id": "cf5cf196",
   "metadata": {},
   "outputs": [
    {
     "name": "stdout",
     "output_type": "stream",
     "text": [
      "Hello how are you guys aaaaaaaaaaaaaaaaa\n"
     ]
    }
   ],
   "source": [
    "print(\"Hello how are you guys aaaaaaaaaaaaaaaaa\")"
   ]
  },
  {
   "cell_type": "code",
   "execution_count": 44,
   "id": "0af41f14",
   "metadata": {},
   "outputs": [
    {
     "data": {
      "text/plain": [
       "2"
      ]
     },
     "execution_count": 44,
     "metadata": {},
     "output_type": "execute_result"
    }
   ],
   "source": [
    "#Q. Take a number and convert it into a string\n",
    "\n",
    "\n",
    "num=2\n",
    "str1=str(num)\n",
    "int(str1)"
   ]
  },
  {
   "cell_type": "markdown",
   "id": "c0ba9f62",
   "metadata": {},
   "source": [
    "# String Indexing\n",
    "\n",
    "\n",
    "We know strings are a sequence which means we can use indexes to call the sequence out of the string.\n",
    "\n",
    "1. We use [] after an string to call it index"
   ]
  },
  {
   "cell_type": "code",
   "execution_count": 47,
   "id": "610d3930",
   "metadata": {},
   "outputs": [
    {
     "ename": "TypeError",
     "evalue": "'str' object does not support item assignment",
     "output_type": "error",
     "traceback": [
      "\u001b[1;31m---------------------------------------------------------------------------\u001b[0m",
      "\u001b[1;31mTypeError\u001b[0m                                 Traceback (most recent call last)",
      "\u001b[1;32m~\\AppData\\Local\\Temp/ipykernel_10300/65918573.py\u001b[0m in \u001b[0;36m<module>\u001b[1;34m\u001b[0m\n\u001b[0;32m      1\u001b[0m \u001b[0mName\u001b[0m\u001b[1;33m=\u001b[0m\u001b[1;34m'Vishal'\u001b[0m\u001b[1;33m\u001b[0m\u001b[1;33m\u001b[0m\u001b[0m\n\u001b[0;32m      2\u001b[0m \u001b[1;33m\u001b[0m\u001b[0m\n\u001b[1;32m----> 3\u001b[1;33m \u001b[0mName\u001b[0m\u001b[1;33m[\u001b[0m\u001b[1;36m1\u001b[0m\u001b[1;33m]\u001b[0m\u001b[1;33m=\u001b[0m\u001b[1;34m'N'\u001b[0m\u001b[1;33m\u001b[0m\u001b[1;33m\u001b[0m\u001b[0m\n\u001b[0m",
      "\u001b[1;31mTypeError\u001b[0m: 'str' object does not support item assignment"
     ]
    }
   ],
   "source": [
    "Name='Vishal'\n",
    "\n",
    "Name[1]='N'"
   ]
  },
  {
   "cell_type": "code",
   "execution_count": 48,
   "id": "2676f82f",
   "metadata": {},
   "outputs": [],
   "source": [
    "# This errors shows that strings are immutable and we cannot change the alphabets \n",
    "#in the strings\n"
   ]
  },
  {
   "cell_type": "code",
   "execution_count": 49,
   "id": "6077fb6f",
   "metadata": {},
   "outputs": [
    {
     "data": {
      "text/plain": [
       "'Shikha'"
      ]
     },
     "execution_count": 49,
     "metadata": {},
     "output_type": "execute_result"
    }
   ],
   "source": [
    "Name='Inder'\n",
    "\n",
    "Name='Shikha'\n",
    "\n",
    "Name"
   ]
  },
  {
   "cell_type": "code",
   "execution_count": 50,
   "id": "de95c689",
   "metadata": {},
   "outputs": [
    {
     "data": {
      "text/plain": [
       "'o'"
      ]
     },
     "execution_count": 50,
     "metadata": {},
     "output_type": "execute_result"
    }
   ],
   "source": [
    "Sentence=\"Our Today's Sessions is on Python\"\n",
    "\n",
    "Sentence[17]"
   ]
  },
  {
   "cell_type": "markdown",
   "id": "8141faa3",
   "metadata": {},
   "source": [
    "# String Slicing\n",
    "\n",
    "With the help of slicing we can get a substring of the parent string.\n",
    "The last index in the slicing is not inclusive\n",
    "\n",
    "Example:\n",
    "\n",
    "\n",
    "\n"
   ]
  },
  {
   "cell_type": "code",
   "execution_count": 51,
   "id": "99b969b0",
   "metadata": {},
   "outputs": [
    {
     "data": {
      "text/plain": [
       "'ahu'"
      ]
     },
     "execution_count": 51,
     "metadata": {},
     "output_type": "execute_result"
    }
   ],
   "source": [
    "Name=\"Rahul\"\n",
    "Name[1:4]"
   ]
  },
  {
   "cell_type": "code",
   "execution_count": 52,
   "id": "4a22c97e",
   "metadata": {},
   "outputs": [
    {
     "data": {
      "text/plain": [
       "'on Hands on'"
      ]
     },
     "execution_count": 52,
     "metadata": {},
     "output_type": "execute_result"
    }
   ],
   "source": [
    "Sentence=\"Python Hands on the Basic Syntax\"\n",
    "Sentence[4:15]\n"
   ]
  },
  {
   "cell_type": "code",
   "execution_count": 53,
   "id": "b4495da8",
   "metadata": {},
   "outputs": [
    {
     "data": {
      "text/plain": [
       "'a user-f'"
      ]
     },
     "execution_count": 53,
     "metadata": {},
     "output_type": "execute_result"
    }
   ],
   "source": [
    "Sentence2=\"Python is a user-friendly % programming language\"\n",
    "Sentence2[10:18]"
   ]
  },
  {
   "cell_type": "code",
   "execution_count": 54,
   "id": "f13a0b6f",
   "metadata": {},
   "outputs": [
    {
     "data": {
      "text/plain": [
       "'t'"
      ]
     },
     "execution_count": 54,
     "metadata": {},
     "output_type": "execute_result"
    }
   ],
   "source": [
    "Name=\"Inderpreet\"\n",
    "Name[-1]"
   ]
  },
  {
   "cell_type": "code",
   "execution_count": 55,
   "id": "bb49469c",
   "metadata": {},
   "outputs": [
    {
     "data": {
      "text/plain": [
       "'ssio'"
      ]
     },
     "execution_count": 55,
     "metadata": {},
     "output_type": "execute_result"
    }
   ],
   "source": [
    "Name='Live Sessions'\n",
    "Name[-6:-2]"
   ]
  },
  {
   "cell_type": "code",
   "execution_count": 57,
   "id": "c9edf6ec",
   "metadata": {},
   "outputs": [
    {
     "data": {
      "text/plain": [
       "'jStigp'"
      ]
     },
     "execution_count": 57,
     "metadata": {},
     "output_type": "execute_result"
    }
   ],
   "source": [
    "Name='Suraj Satlingappa Utage'\n",
    "Name[4:15:2]"
   ]
  },
  {
   "cell_type": "code",
   "execution_count": 60,
   "id": "fc337552",
   "metadata": {},
   "outputs": [
    {
     "data": {
      "text/plain": [
       "'RuSr'"
      ]
     },
     "execution_count": 60,
     "metadata": {},
     "output_type": "execute_result"
    }
   ],
   "source": [
    "Name='Rahul Sharma'\n",
    "Name[::3]"
   ]
  },
  {
   "cell_type": "code",
   "execution_count": 61,
   "id": "f035f676",
   "metadata": {},
   "outputs": [
    {
     "data": {
      "text/plain": [
       "'ooa '"
      ]
     },
     "execution_count": 61,
     "metadata": {},
     "output_type": "execute_result"
    }
   ],
   "source": [
    "String='Hello How are you'\n",
    "String[4:15:3]"
   ]
  },
  {
   "cell_type": "markdown",
   "id": "04471513",
   "metadata": {},
   "source": [
    "# Homework Questions\n",
    "\n",
    "Q1. String=\"Python is a user-friendly programming language with advanced technology\"\n",
    "\n",
    "String[-4:-24:2]\n",
    "\n",
    "Q2. String=\"I want to become a Data Scientist\"\n",
    "\n",
    "String[:-10:3]"
   ]
  },
  {
   "cell_type": "code",
   "execution_count": 86,
   "id": "ddf38bdc",
   "metadata": {},
   "outputs": [
    {
     "data": {
      "text/plain": [
       "'wt dacdtcn'"
      ]
     },
     "execution_count": 86,
     "metadata": {},
     "output_type": "execute_result"
    }
   ],
   "source": [
    "String=\"Python is a user-friendly programming language with advanced technology\"\n",
    "\n",
    "String[-24:-4:2]\n"
   ]
  },
  {
   "cell_type": "code",
   "execution_count": 63,
   "id": "b5bd0d21",
   "metadata": {},
   "outputs": [
    {
     "data": {
      "text/plain": [
       "'Inderpreet Singh'"
      ]
     },
     "execution_count": 63,
     "metadata": {},
     "output_type": "execute_result"
    }
   ],
   "source": [
    "Name='Inderpreet'\n",
    "Surname='Singh'\n",
    "\n",
    "Name+\" \"+Surname"
   ]
  },
  {
   "cell_type": "code",
   "execution_count": 65,
   "id": "6033578c",
   "metadata": {},
   "outputs": [
    {
     "data": {
      "text/plain": [
       "'The multiplication of 3 and 2 is 6'"
      ]
     },
     "execution_count": 65,
     "metadata": {},
     "output_type": "execute_result"
    }
   ],
   "source": [
    "\"The multiplication of 3 and 2 is \"+ str(3*2)"
   ]
  },
  {
   "cell_type": "code",
   "execution_count": 74,
   "id": "abb2eb71",
   "metadata": {},
   "outputs": [
    {
     "data": {
      "text/plain": [
       "'suTwr'"
      ]
     },
     "execution_count": 74,
     "metadata": {},
     "output_type": "execute_result"
    }
   ],
   "source": [
    "Name=\"Sudhanshu Tiwari\"\n",
    "\n",
    "Name[-10:-1:2]"
   ]
  },
  {
   "cell_type": "code",
   "execution_count": 82,
   "id": "c79ea072",
   "metadata": {},
   "outputs": [
    {
     "data": {
      "text/plain": [
       "''"
      ]
     },
     "execution_count": 82,
     "metadata": {},
     "output_type": "execute_result"
    }
   ],
   "source": [
    "Name[-10:-1:-4]"
   ]
  },
  {
   "cell_type": "markdown",
   "id": "2734fd63",
   "metadata": {},
   "source": [
    "# Build in String methods"
   ]
  },
  {
   "cell_type": "code",
   "execution_count": 89,
   "id": "40535991",
   "metadata": {},
   "outputs": [
    {
     "data": {
      "text/plain": [
       "'INDERPREET'"
      ]
     },
     "execution_count": 89,
     "metadata": {},
     "output_type": "execute_result"
    }
   ],
   "source": [
    "Name=\"Inderpreet\"\n",
    "Name=Name.upper()\n",
    "Name"
   ]
  },
  {
   "cell_type": "code",
   "execution_count": 90,
   "id": "602ff390",
   "metadata": {},
   "outputs": [
    {
     "data": {
      "text/plain": [
       "'inderpreet'"
      ]
     },
     "execution_count": 90,
     "metadata": {},
     "output_type": "execute_result"
    }
   ],
   "source": [
    "Name.lower()"
   ]
  },
  {
   "cell_type": "code",
   "execution_count": 91,
   "id": "4bb82a51",
   "metadata": {},
   "outputs": [
    {
     "data": {
      "text/plain": [
       "'TODAY IS A SUNNY DAY'"
      ]
     },
     "execution_count": 91,
     "metadata": {},
     "output_type": "execute_result"
    }
   ],
   "source": [
    "Sentence=\"Today is a Sunny Day\"\n",
    "Sentence.upper()"
   ]
  },
  {
   "cell_type": "code",
   "execution_count": 92,
   "id": "7b7f7d81",
   "metadata": {},
   "outputs": [
    {
     "data": {
      "text/plain": [
       "['Today', 'is', 'a', 'Hot', 'Day']"
      ]
     },
     "execution_count": 92,
     "metadata": {},
     "output_type": "execute_result"
    }
   ],
   "source": [
    "Sentence=\"Today is a Hot Day\"\n",
    "Sentence.split()\n"
   ]
  },
  {
   "cell_type": "code",
   "execution_count": 94,
   "id": "abe847ab",
   "metadata": {},
   "outputs": [
    {
     "data": {
      "text/plain": [
       "['In', 'er%preet']"
      ]
     },
     "execution_count": 94,
     "metadata": {},
     "output_type": "execute_result"
    }
   ],
   "source": [
    "Name=\"Inder%preet\"\n",
    "Name.split('d')"
   ]
  },
  {
   "cell_type": "code",
   "execution_count": 98,
   "id": "f39b6b20",
   "metadata": {},
   "outputs": [
    {
     "data": {
      "text/plain": [
       "1"
      ]
     },
     "execution_count": 98,
     "metadata": {},
     "output_type": "execute_result"
    }
   ],
   "source": [
    "Sentence=\"Today is a Sunny Day\"\n",
    "Sentence.count('T') # count functions helps in counting the character"
   ]
  },
  {
   "cell_type": "code",
   "execution_count": 102,
   "id": "88e34ece",
   "metadata": {},
   "outputs": [
    {
     "data": {
      "text/plain": [
       "9"
      ]
     },
     "execution_count": 102,
     "metadata": {},
     "output_type": "execute_result"
    }
   ],
   "source": [
    "Sentence=\"Today is a Sunny Day in Delhi\"\n",
    "Sentence.find('a',4)\n"
   ]
  },
  {
   "cell_type": "markdown",
   "id": "3961f07f",
   "metadata": {},
   "source": [
    "# is check method\n",
    "\n",
    "These various methods will check the string for some conditions"
   ]
  },
  {
   "cell_type": "code",
   "execution_count": 109,
   "id": "918127ba",
   "metadata": {},
   "outputs": [],
   "source": [
    "String=\"Hello123\"\n",
    "\n",
    "\n"
   ]
  },
  {
   "cell_type": "markdown",
   "id": "942797ea",
   "metadata": {},
   "source": [
    "isalnum() will return True if all characters present in the string are\n",
    "alphanumeric--->alphabets+Numbers"
   ]
  },
  {
   "cell_type": "code",
   "execution_count": 110,
   "id": "fc5741c8",
   "metadata": {},
   "outputs": [
    {
     "data": {
      "text/plain": [
       "True"
      ]
     },
     "execution_count": 110,
     "metadata": {},
     "output_type": "execute_result"
    }
   ],
   "source": [
    "String.isalnum()"
   ]
  },
  {
   "cell_type": "code",
   "execution_count": 113,
   "id": "d1b338e9",
   "metadata": {},
   "outputs": [
    {
     "data": {
      "text/plain": [
       "False"
      ]
     },
     "execution_count": 113,
     "metadata": {},
     "output_type": "execute_result"
    }
   ],
   "source": [
    "#isalpha() will return True if any alphabet is present\n",
    "\n",
    "String=\"Inderpreet1\"\n",
    "String.isalpha()"
   ]
  },
  {
   "cell_type": "code",
   "execution_count": 114,
   "id": "742fdbec",
   "metadata": {},
   "outputs": [],
   "source": [
    "# islower() will return True if anly alphabet is in lowercase\n",
    "# isupper() will return True if any alphabet is in uppercase"
   ]
  },
  {
   "cell_type": "code",
   "execution_count": 117,
   "id": "6fd1c094",
   "metadata": {},
   "outputs": [
    {
     "data": {
      "text/plain": [
       "True"
      ]
     },
     "execution_count": 117,
     "metadata": {},
     "output_type": "execute_result"
    }
   ],
   "source": [
    "String=\"INDER\"\n",
    "String.isupper()"
   ]
  },
  {
   "cell_type": "code",
   "execution_count": 120,
   "id": "5b5342cb",
   "metadata": {},
   "outputs": [
    {
     "data": {
      "text/plain": [
       "False"
      ]
     },
     "execution_count": 120,
     "metadata": {},
     "output_type": "execute_result"
    }
   ],
   "source": [
    "Sentence=\" My name is Inder \"\n",
    "Sentence.isspace() # This will return true only if there is space"
   ]
  },
  {
   "cell_type": "code",
   "execution_count": 127,
   "id": "5e447293",
   "metadata": {},
   "outputs": [
    {
     "data": {
      "text/plain": [
       "True"
      ]
     },
     "execution_count": 127,
     "metadata": {},
     "output_type": "execute_result"
    }
   ],
   "source": [
    "txt = \"      \"\n",
    "txt.isspace()"
   ]
  },
  {
   "cell_type": "code",
   "execution_count": 129,
   "id": "a5ea2a35",
   "metadata": {},
   "outputs": [
    {
     "data": {
      "text/plain": [
       "'my name is inderpreet'"
      ]
     },
     "execution_count": 129,
     "metadata": {},
     "output_type": "execute_result"
    }
   ],
   "source": [
    "Sentence=\"                                       my name is inderpreet\"\n",
    "\n",
    "Sentence.lstrip()"
   ]
  },
  {
   "cell_type": "code",
   "execution_count": 131,
   "id": "2bc39a45",
   "metadata": {},
   "outputs": [
    {
     "data": {
      "text/plain": [
       "'My name is inderpreet'"
      ]
     },
     "execution_count": 131,
     "metadata": {},
     "output_type": "execute_result"
    }
   ],
   "source": [
    "Sentence=\"My name is inderpreet                                      \"\n",
    "Sentence.rstrip()"
   ]
  },
  {
   "cell_type": "code",
   "execution_count": 132,
   "id": "675b6b6a",
   "metadata": {},
   "outputs": [
    {
     "data": {
      "text/plain": [
       "10"
      ]
     },
     "execution_count": 132,
     "metadata": {},
     "output_type": "execute_result"
    }
   ],
   "source": [
    "Name='Inderpreet'\n",
    "len(Name)"
   ]
  },
  {
   "cell_type": "code",
   "execution_count": 133,
   "id": "dab0c38b",
   "metadata": {},
   "outputs": [
    {
     "data": {
      "text/plain": [
       "12"
      ]
     },
     "execution_count": 133,
     "metadata": {},
     "output_type": "execute_result"
    }
   ],
   "source": [
    "Name='Rahul Sharma'\n",
    "len(Name)"
   ]
  },
  {
   "cell_type": "code",
   "execution_count": null,
   "id": "2b59ba1e",
   "metadata": {},
   "outputs": [],
   "source": []
  }
 ],
 "metadata": {
  "kernelspec": {
   "display_name": "Python 3 (ipykernel)",
   "language": "python",
   "name": "python3"
  },
  "language_info": {
   "codemirror_mode": {
    "name": "ipython",
    "version": 3
   },
   "file_extension": ".py",
   "mimetype": "text/x-python",
   "name": "python",
   "nbconvert_exporter": "python",
   "pygments_lexer": "ipython3",
   "version": "3.7.6"
  }
 },
 "nbformat": 4,
 "nbformat_minor": 5
}
