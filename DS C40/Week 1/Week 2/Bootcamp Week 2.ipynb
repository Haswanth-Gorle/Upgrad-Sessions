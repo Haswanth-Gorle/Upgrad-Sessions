{
 "cells": [
  {
   "cell_type": "code",
   "execution_count": 1,
   "id": "aa500406",
   "metadata": {},
   "outputs": [],
   "source": [
    "#ord() --> return the unicode code from the given character\n",
    "\n",
    "\n"
   ]
  },
  {
   "cell_type": "code",
   "execution_count": 2,
   "id": "96d9141f",
   "metadata": {},
   "outputs": [
    {
     "data": {
      "text/plain": [
       "65"
      ]
     },
     "execution_count": 2,
     "metadata": {},
     "output_type": "execute_result"
    }
   ],
   "source": [
    "ord('A')"
   ]
  },
  {
   "cell_type": "code",
   "execution_count": 3,
   "id": "13ef3c0b",
   "metadata": {},
   "outputs": [
    {
     "data": {
      "text/plain": [
       "97"
      ]
     },
     "execution_count": 3,
     "metadata": {},
     "output_type": "execute_result"
    }
   ],
   "source": [
    "ord('a')"
   ]
  },
  {
   "cell_type": "code",
   "execution_count": 4,
   "id": "db8e9de2",
   "metadata": {},
   "outputs": [
    {
     "data": {
      "text/plain": [
       "48"
      ]
     },
     "execution_count": 4,
     "metadata": {},
     "output_type": "execute_result"
    }
   ],
   "source": [
    "ord('0')"
   ]
  },
  {
   "cell_type": "code",
   "execution_count": 5,
   "id": "f3dd9826",
   "metadata": {},
   "outputs": [
    {
     "data": {
      "text/plain": [
       "12222222222222222222222222222222222222222222222222222222222222222222222222222222222222"
      ]
     },
     "execution_count": 5,
     "metadata": {},
     "output_type": "execute_result"
    }
   ],
   "source": [
    "num=12222222222222222222222222222222222222222222222222222222222222222222222222222222222222\n",
    "num"
   ]
  },
  {
   "cell_type": "markdown",
   "id": "6289a8bb",
   "metadata": {},
   "source": [
    "# List\n",
    "\n",
    "1.In Python, Lists can be considered as the general version of sequence. Lists can contain one or more than one primitive data structure.\n",
    "2. List is represented with square brackets-------->[].\n",
    "3. List is mutable(changeable)"
   ]
  },
  {
   "cell_type": "code",
   "execution_count": 6,
   "id": "3eaa4989",
   "metadata": {},
   "outputs": [
    {
     "data": {
      "text/plain": [
       "[1, 2, 3, 4, 'inder']"
      ]
     },
     "execution_count": 6,
     "metadata": {},
     "output_type": "execute_result"
    }
   ],
   "source": [
    "my_list=[1,2,3,4,'inder']\n",
    "my_list"
   ]
  },
  {
   "cell_type": "code",
   "execution_count": 8,
   "id": "971504fe",
   "metadata": {},
   "outputs": [
    {
     "data": {
      "text/plain": [
       "['rahul', 2, 3, 4, 'inder']"
      ]
     },
     "execution_count": 8,
     "metadata": {},
     "output_type": "execute_result"
    }
   ],
   "source": [
    "my_list[0]='rahul'\n",
    "my_list"
   ]
  },
  {
   "cell_type": "code",
   "execution_count": 11,
   "id": "14c3501a",
   "metadata": {},
   "outputs": [
    {
     "data": {
      "text/plain": [
       "['rahul', 2, 3, 4, 3.33]"
      ]
     },
     "execution_count": 11,
     "metadata": {},
     "output_type": "execute_result"
    }
   ],
   "source": [
    "my_list[4]=3.33\n",
    "my_list"
   ]
  },
  {
   "cell_type": "code",
   "execution_count": 13,
   "id": "b39e5e9b",
   "metadata": {},
   "outputs": [
    {
     "data": {
      "text/plain": [
       "[True, 2, 3, 4, 3.33]"
      ]
     },
     "execution_count": 13,
     "metadata": {},
     "output_type": "execute_result"
    }
   ],
   "source": [
    "my_list[0]=True\n",
    "my_list"
   ]
  },
  {
   "cell_type": "code",
   "execution_count": 17,
   "id": "432d090f",
   "metadata": {},
   "outputs": [
    {
     "data": {
      "text/plain": [
       "[True, 'Upgrad', 3, 4, 3.33]"
      ]
     },
     "execution_count": 17,
     "metadata": {},
     "output_type": "execute_result"
    }
   ],
   "source": [
    "my_list[1]='Upgrad'\n",
    "my_list"
   ]
  },
  {
   "cell_type": "code",
   "execution_count": 19,
   "id": "ace08df2",
   "metadata": {},
   "outputs": [
    {
     "data": {
      "text/plain": [
       "[True, 'Unacademy', 3, 4, 3.33]"
      ]
     },
     "execution_count": 19,
     "metadata": {},
     "output_type": "execute_result"
    }
   ],
   "source": [
    "my_list[1]='Unacademy'\n",
    "my_list"
   ]
  },
  {
   "cell_type": "code",
   "execution_count": 26,
   "id": "d78a1a5e",
   "metadata": {},
   "outputs": [
    {
     "ename": "TypeError",
     "evalue": "'str' object does not support item assignment",
     "output_type": "error",
     "traceback": [
      "\u001b[1;31m---------------------------------------------------------------------------\u001b[0m",
      "\u001b[1;31mTypeError\u001b[0m                                 Traceback (most recent call last)",
      "\u001b[1;32m~\\AppData\\Local\\Temp/ipykernel_25648/1086309795.py\u001b[0m in \u001b[0;36m<module>\u001b[1;34m\u001b[0m\n\u001b[1;32m----> 1\u001b[1;33m \u001b[0mmy_list\u001b[0m\u001b[1;33m[\u001b[0m\u001b[1;36m1\u001b[0m\u001b[1;33m]\u001b[0m\u001b[1;33m[\u001b[0m\u001b[1;36m2\u001b[0m\u001b[1;33m]\u001b[0m\u001b[1;33m=\u001b[0m\u001b[1;34m'b'\u001b[0m\u001b[1;33m\u001b[0m\u001b[1;33m\u001b[0m\u001b[0m\n\u001b[0m",
      "\u001b[1;31mTypeError\u001b[0m: 'str' object does not support item assignment"
     ]
    }
   ],
   "source": [
    "my_list[1][2]='b'"
   ]
  },
  {
   "cell_type": "code",
   "execution_count": 27,
   "id": "2f12523c",
   "metadata": {},
   "outputs": [
    {
     "data": {
      "text/plain": [
       "9"
      ]
     },
     "execution_count": 27,
     "metadata": {},
     "output_type": "execute_result"
    }
   ],
   "source": [
    "len('Unacademy')"
   ]
  },
  {
   "cell_type": "code",
   "execution_count": 28,
   "id": "c30b6fb7",
   "metadata": {},
   "outputs": [
    {
     "data": {
      "text/plain": [
       "5"
      ]
     },
     "execution_count": 28,
     "metadata": {},
     "output_type": "execute_result"
    }
   ],
   "source": [
    "list2=[1,2,3,4,5]\n",
    "len(list2)"
   ]
  },
  {
   "cell_type": "code",
   "execution_count": 29,
   "id": "93c2e84f",
   "metadata": {},
   "outputs": [
    {
     "data": {
      "text/plain": [
       "[1, 1.111111, 'Aman', True, False]"
      ]
     },
     "execution_count": 29,
     "metadata": {},
     "output_type": "execute_result"
    }
   ],
   "source": [
    "list3=[1,1.111111,'Aman',True,False]\n",
    "list3"
   ]
  },
  {
   "cell_type": "markdown",
   "id": "2a28210e",
   "metadata": {},
   "source": [
    "len() function will tell you how many elements or items are present in the list"
   ]
  },
  {
   "cell_type": "code",
   "execution_count": 31,
   "id": "eb7024ba",
   "metadata": {},
   "outputs": [
    {
     "data": {
      "text/plain": [
       "5"
      ]
     },
     "execution_count": 31,
     "metadata": {},
     "output_type": "execute_result"
    }
   ],
   "source": [
    "len(list3)"
   ]
  },
  {
   "cell_type": "code",
   "execution_count": 32,
   "id": "a6f185f2",
   "metadata": {},
   "outputs": [
    {
     "data": {
      "text/plain": [
       "'Inder'"
      ]
     },
     "execution_count": 32,
     "metadata": {},
     "output_type": "execute_result"
    }
   ],
   "source": [
    "string1='Inder'\n",
    "string1"
   ]
  },
  {
   "cell_type": "code",
   "execution_count": 33,
   "id": "eafe8d4a",
   "metadata": {},
   "outputs": [
    {
     "data": {
      "text/plain": [
       "'Rahul'"
      ]
     },
     "execution_count": 33,
     "metadata": {},
     "output_type": "execute_result"
    }
   ],
   "source": [
    "string1='Rahul'\n",
    "string1"
   ]
  },
  {
   "cell_type": "markdown",
   "id": "cdb63e61",
   "metadata": {},
   "source": [
    "# Indexing in List "
   ]
  },
  {
   "cell_type": "markdown",
   "id": "06984dfe",
   "metadata": {},
   "source": [
    "list_students=['Pranav','Vyshakh','Arkaprava','Deepansh','Krishna']\n",
    "\n",
    "\n",
    "Q1. There are 5 students sitting in different find the student sitting in the middle row?\n",
    "\n"
   ]
  },
  {
   "cell_type": "code",
   "execution_count": 37,
   "id": "3edd68e0",
   "metadata": {},
   "outputs": [
    {
     "data": {
      "text/plain": [
       "'Arkaprava'"
      ]
     },
     "execution_count": 37,
     "metadata": {},
     "output_type": "execute_result"
    }
   ],
   "source": [
    "list_students=['Pranav','Vyshakh','Arkaprava','Deepansh','Krishna']\n",
    "list_students[int(len(list_students)/2)]"
   ]
  },
  {
   "cell_type": "code",
   "execution_count": 40,
   "id": "ef63270f",
   "metadata": {},
   "outputs": [
    {
     "data": {
      "text/plain": [
       "2"
      ]
     },
     "execution_count": 40,
     "metadata": {},
     "output_type": "execute_result"
    }
   ],
   "source": [
    "int(len(list_students)/2)"
   ]
  },
  {
   "cell_type": "code",
   "execution_count": 41,
   "id": "dddb7e7c",
   "metadata": {},
   "outputs": [
    {
     "data": {
      "text/plain": [
       "1"
      ]
     },
     "execution_count": 41,
     "metadata": {},
     "output_type": "execute_result"
    }
   ],
   "source": [
    "a=1.1221212121\n",
    "int(a)"
   ]
  },
  {
   "cell_type": "code",
   "execution_count": 52,
   "id": "15f5d10e",
   "metadata": {},
   "outputs": [
    {
     "data": {
      "text/plain": [
       "10.5"
      ]
     },
     "execution_count": 52,
     "metadata": {},
     "output_type": "execute_result"
    }
   ],
   "source": [
    "num='10.5' #this is a string\n",
    "\n",
    "float(num) #this is a integer"
   ]
  },
  {
   "cell_type": "markdown",
   "id": "4145f81e",
   "metadata": {},
   "source": [
    "# Typecasting--> It means converting a Primitive Data type into another category of Primitive Data Structure."
   ]
  },
  {
   "cell_type": "code",
   "execution_count": 46,
   "id": "60eb485b",
   "metadata": {},
   "outputs": [
    {
     "data": {
      "text/plain": [
       "[1, 2, 3, 4]"
      ]
     },
     "execution_count": 46,
     "metadata": {},
     "output_type": "execute_result"
    }
   ],
   "source": [
    "lst=[1,2,3,4]\n",
    "lst"
   ]
  },
  {
   "cell_type": "code",
   "execution_count": 48,
   "id": "e8a15a55",
   "metadata": {},
   "outputs": [
    {
     "data": {
      "text/plain": [
       "'Deepansh'"
      ]
     },
     "execution_count": 48,
     "metadata": {},
     "output_type": "execute_result"
    }
   ],
   "source": [
    "list_students[-2]"
   ]
  },
  {
   "cell_type": "code",
   "execution_count": 49,
   "id": "66a038c6",
   "metadata": {},
   "outputs": [
    {
     "data": {
      "text/plain": [
       "'in'"
      ]
     },
     "execution_count": 49,
     "metadata": {},
     "output_type": "execute_result"
    }
   ],
   "source": [
    "string='inder'\n",
    "string[:2]"
   ]
  },
  {
   "cell_type": "code",
   "execution_count": 50,
   "id": "426d6acc",
   "metadata": {},
   "outputs": [
    {
     "data": {
      "text/plain": [
       "['Pranav', 'Vyshakh', 'Arkaprava', 'Deepansh', 'Krishna']"
      ]
     },
     "execution_count": 50,
     "metadata": {},
     "output_type": "execute_result"
    }
   ],
   "source": [
    "list_students"
   ]
  },
  {
   "cell_type": "code",
   "execution_count": 51,
   "id": "73610da2",
   "metadata": {},
   "outputs": [
    {
     "data": {
      "text/plain": [
       "['Pranav', 'Vyshakh']"
      ]
     },
     "execution_count": 51,
     "metadata": {},
     "output_type": "execute_result"
    }
   ],
   "source": [
    "list_students[0:2]"
   ]
  },
  {
   "cell_type": "code",
   "execution_count": 55,
   "id": "f3f6a21b",
   "metadata": {},
   "outputs": [
    {
     "data": {
      "text/plain": [
       "'HsnAi'"
      ]
     },
     "execution_count": 55,
     "metadata": {},
     "output_type": "execute_result"
    }
   ],
   "source": [
    "string='Hasan Ali Sayyed'\n",
    "\n",
    "string[0:10:2]"
   ]
  },
  {
   "cell_type": "code",
   "execution_count": 57,
   "id": "15f75723",
   "metadata": {},
   "outputs": [
    {
     "data": {
      "text/plain": [
       "['Pranav', 'Arkaprava', 'Krishna']"
      ]
     },
     "execution_count": 57,
     "metadata": {},
     "output_type": "execute_result"
    }
   ],
   "source": [
    "list_students[0:5:2]"
   ]
  },
  {
   "cell_type": "code",
   "execution_count": 61,
   "id": "e00126c6",
   "metadata": {},
   "outputs": [
    {
     "data": {
      "text/plain": [
       "['Pranav', 'Vyshakh']"
      ]
     },
     "execution_count": 61,
     "metadata": {},
     "output_type": "execute_result"
    }
   ],
   "source": [
    "list_students[0:2]"
   ]
  },
  {
   "cell_type": "code",
   "execution_count": 62,
   "id": "edbdffc5",
   "metadata": {},
   "outputs": [
    {
     "data": {
      "text/plain": [
       "['Pranav', 'Vyshakh', 'Arkaprava', 'Deepansh', 'Krishna']"
      ]
     },
     "execution_count": 62,
     "metadata": {},
     "output_type": "execute_result"
    }
   ],
   "source": [
    "list_students[:]"
   ]
  },
  {
   "cell_type": "code",
   "execution_count": 63,
   "id": "0f6ee485",
   "metadata": {},
   "outputs": [
    {
     "data": {
      "text/plain": [
       "['Pranav', 'Arkaprava', 'Krishna']"
      ]
     },
     "execution_count": 63,
     "metadata": {},
     "output_type": "execute_result"
    }
   ],
   "source": [
    "list_students[0:5:2]"
   ]
  },
  {
   "cell_type": "code",
   "execution_count": 64,
   "id": "79456f6c",
   "metadata": {},
   "outputs": [
    {
     "data": {
      "text/plain": [
       "['Pranav', 'Arkaprava', 'Krishna']"
      ]
     },
     "execution_count": 64,
     "metadata": {},
     "output_type": "execute_result"
    }
   ],
   "source": [
    "list_students[::2]"
   ]
  },
  {
   "cell_type": "markdown",
   "id": "86238876",
   "metadata": {},
   "source": [
    "# List Inbuilt functions"
   ]
  },
  {
   "cell_type": "code",
   "execution_count": 69,
   "id": "26e6db05",
   "metadata": {},
   "outputs": [
    {
     "data": {
      "text/plain": [
       "[1, 2, 3, 4, 5]"
      ]
     },
     "execution_count": 69,
     "metadata": {},
     "output_type": "execute_result"
    }
   ],
   "source": [
    "lst=[1,2,3,4,5]\n",
    "lst"
   ]
  },
  {
   "cell_type": "markdown",
   "id": "d2056b7b",
   "metadata": {},
   "source": [
    "Append function in list will add elements at the end of the list"
   ]
  },
  {
   "cell_type": "code",
   "execution_count": 70,
   "id": "4909c667",
   "metadata": {},
   "outputs": [
    {
     "data": {
      "text/plain": [
       "[1, 2, 3, 4, 5, 'inder']"
      ]
     },
     "execution_count": 70,
     "metadata": {},
     "output_type": "execute_result"
    }
   ],
   "source": [
    "lst.append('inder')\n",
    "lst"
   ]
  },
  {
   "cell_type": "code",
   "execution_count": 71,
   "id": "311ba971",
   "metadata": {},
   "outputs": [
    {
     "data": {
      "text/plain": [
       "[1, 2, 3, 4, 5, 'inder', 5]"
      ]
     },
     "execution_count": 71,
     "metadata": {},
     "output_type": "execute_result"
    }
   ],
   "source": [
    "lst.append(5)\n",
    "lst"
   ]
  },
  {
   "cell_type": "markdown",
   "id": "199f96dc",
   "metadata": {},
   "source": [
    "# count()----> it takes an element and returns the number of times it occurs in the list"
   ]
  },
  {
   "cell_type": "code",
   "execution_count": 73,
   "id": "bb8adca8",
   "metadata": {},
   "outputs": [
    {
     "data": {
      "text/plain": [
       "1"
      ]
     },
     "execution_count": 73,
     "metadata": {},
     "output_type": "execute_result"
    }
   ],
   "source": [
    "list1=[1,2,3,4,5,6,1,2]\n",
    "\n",
    "list1.count(3)"
   ]
  },
  {
   "cell_type": "markdown",
   "id": "94ae3f1e",
   "metadata": {},
   "source": [
    "# Extend Function in list"
   ]
  },
  {
   "cell_type": "code",
   "execution_count": 76,
   "id": "def199ba",
   "metadata": {},
   "outputs": [
    {
     "data": {
      "text/plain": [
       "[1, 2, 3, 'inder', [4, 5]]"
      ]
     },
     "execution_count": 76,
     "metadata": {},
     "output_type": "execute_result"
    }
   ],
   "source": [
    "lst=[1,2,3,'inder']\n",
    "lst.append([4,5])\n",
    "lst"
   ]
  },
  {
   "cell_type": "code",
   "execution_count": 77,
   "id": "fb51a7d3",
   "metadata": {},
   "outputs": [
    {
     "data": {
      "text/plain": [
       "[1, 2, 3, 'inder', [4, 5], 'rahul']"
      ]
     },
     "execution_count": 77,
     "metadata": {},
     "output_type": "execute_result"
    }
   ],
   "source": [
    "lst.append('rahul')\n",
    "lst"
   ]
  },
  {
   "cell_type": "markdown",
   "id": "27178379",
   "metadata": {},
   "source": [
    "extends--> extend list by appending element from iterable\n",
    "\n",
    "iterables are string,list,tuple,dictionary"
   ]
  },
  {
   "cell_type": "code",
   "execution_count": 78,
   "id": "1873ccab",
   "metadata": {},
   "outputs": [
    {
     "data": {
      "text/plain": [
       "[1, 2, 3, 'inder', [4, 5], 'rahul', 'r', 'a', 'h', 'u', 'l']"
      ]
     },
     "execution_count": 78,
     "metadata": {},
     "output_type": "execute_result"
    }
   ],
   "source": [
    "lst.extend('rahul')\n",
    "lst"
   ]
  },
  {
   "cell_type": "code",
   "execution_count": 79,
   "id": "3e49ca3f",
   "metadata": {},
   "outputs": [
    {
     "data": {
      "text/plain": [
       "[1, 2, 3, 'inder', [4, 5], 'rahul', 'r', 'a', 'h', 'u', 'l', 4.15, 6.17]"
      ]
     },
     "execution_count": 79,
     "metadata": {},
     "output_type": "execute_result"
    }
   ],
   "source": [
    "lst.extend([4.15,6.17])\n",
    "lst"
   ]
  },
  {
   "cell_type": "code",
   "execution_count": 81,
   "id": "126c8349",
   "metadata": {},
   "outputs": [
    {
     "data": {
      "text/plain": [
       "[1,\n",
       " 2,\n",
       " 3,\n",
       " 'inder',\n",
       " [4, 5],\n",
       " 'rahul',\n",
       " 'r',\n",
       " 'a',\n",
       " 'h',\n",
       " 'u',\n",
       " 'l',\n",
       " 4.15,\n",
       " 6.17,\n",
       " 2.13333333]"
      ]
     },
     "execution_count": 81,
     "metadata": {},
     "output_type": "execute_result"
    }
   ],
   "source": [
    "lst.extend([2.13333333])\n",
    "lst"
   ]
  },
  {
   "cell_type": "code",
   "execution_count": 84,
   "id": "b2efcf40",
   "metadata": {},
   "outputs": [
    {
     "ename": "TypeError",
     "evalue": "'float' object is not iterable",
     "output_type": "error",
     "traceback": [
      "\u001b[1;31m---------------------------------------------------------------------------\u001b[0m",
      "\u001b[1;31mTypeError\u001b[0m                                 Traceback (most recent call last)",
      "\u001b[1;32m~\\AppData\\Local\\Temp/ipykernel_25648/151982915.py\u001b[0m in \u001b[0;36m<module>\u001b[1;34m\u001b[0m\n\u001b[1;32m----> 1\u001b[1;33m \u001b[0mlst\u001b[0m\u001b[1;33m.\u001b[0m\u001b[0mextend\u001b[0m\u001b[1;33m(\u001b[0m\u001b[1;36m3.12\u001b[0m\u001b[1;33m)\u001b[0m\u001b[1;33m\u001b[0m\u001b[1;33m\u001b[0m\u001b[0m\n\u001b[0m\u001b[0;32m      2\u001b[0m \u001b[0mlst\u001b[0m\u001b[1;33m\u001b[0m\u001b[1;33m\u001b[0m\u001b[0m\n",
      "\u001b[1;31mTypeError\u001b[0m: 'float' object is not iterable"
     ]
    }
   ],
   "source": [
    "lst.extend(3.12)\n",
    "lst"
   ]
  },
  {
   "cell_type": "markdown",
   "id": "bebafd23",
   "metadata": {},
   "source": [
    "# index\n",
    "Index function returns the element placed in the list\n"
   ]
  },
  {
   "cell_type": "code",
   "execution_count": 83,
   "id": "82712f80",
   "metadata": {},
   "outputs": [
    {
     "data": {
      "text/plain": [
       "5"
      ]
     },
     "execution_count": 83,
     "metadata": {},
     "output_type": "execute_result"
    }
   ],
   "source": [
    "lst=[1,2,3,4,5,'inder']\n",
    "lst.index('inder')"
   ]
  },
  {
   "cell_type": "markdown",
   "id": "826cc971",
   "metadata": {},
   "source": [
    "# insert\n",
    "\n",
    "Two arguments are placed in insert method\n",
    "\n",
    "Syntax: insert(index,object)"
   ]
  },
  {
   "cell_type": "code",
   "execution_count": 85,
   "id": "444c1c9c",
   "metadata": {},
   "outputs": [
    {
     "data": {
      "text/plain": [
       "[77, 65, 'inder', 98, 54, 32]"
      ]
     },
     "execution_count": 85,
     "metadata": {},
     "output_type": "execute_result"
    }
   ],
   "source": [
    "lst=[77,65,98,54,32]\n",
    "lst.insert(2,'inder')\n",
    "lst"
   ]
  },
  {
   "cell_type": "code",
   "execution_count": 86,
   "id": "84ef1407",
   "metadata": {},
   "outputs": [
    {
     "data": {
      "text/plain": [
       "['arkraprava', 77, 65, 'inder', 98, 54, 32]"
      ]
     },
     "execution_count": 86,
     "metadata": {},
     "output_type": "execute_result"
    }
   ],
   "source": [
    "lst.insert(0,'arkraprava')\n",
    "lst"
   ]
  },
  {
   "cell_type": "markdown",
   "id": "a9f192c4",
   "metadata": {},
   "source": [
    "# pop\n",
    "\n",
    "Pop function allows to remove the last element of the list by default"
   ]
  },
  {
   "cell_type": "code",
   "execution_count": 87,
   "id": "10cddc38",
   "metadata": {},
   "outputs": [
    {
     "data": {
      "text/plain": [
       "5"
      ]
     },
     "execution_count": 87,
     "metadata": {},
     "output_type": "execute_result"
    }
   ],
   "source": [
    "lst=[1,2,3,4,5]\n",
    "lst.pop()\n"
   ]
  },
  {
   "cell_type": "code",
   "execution_count": 88,
   "id": "fd241df1",
   "metadata": {},
   "outputs": [
    {
     "data": {
      "text/plain": [
       "[1, 2, 3, 4]"
      ]
     },
     "execution_count": 88,
     "metadata": {},
     "output_type": "execute_result"
    }
   ],
   "source": [
    "lst"
   ]
  },
  {
   "cell_type": "code",
   "execution_count": 89,
   "id": "38809508",
   "metadata": {},
   "outputs": [
    {
     "data": {
      "text/plain": [
       "2"
      ]
     },
     "execution_count": 89,
     "metadata": {},
     "output_type": "execute_result"
    }
   ],
   "source": [
    "lst.pop(1)"
   ]
  },
  {
   "cell_type": "code",
   "execution_count": 90,
   "id": "935eb76b",
   "metadata": {},
   "outputs": [
    {
     "data": {
      "text/plain": [
       "[1, 3, 4]"
      ]
     },
     "execution_count": 90,
     "metadata": {},
     "output_type": "execute_result"
    }
   ],
   "source": [
    "lst"
   ]
  },
  {
   "cell_type": "markdown",
   "id": "6c67feeb",
   "metadata": {},
   "source": [
    "# remove()---> it will remove the first occurence of a value"
   ]
  },
  {
   "cell_type": "code",
   "execution_count": 91,
   "id": "2721bb3b",
   "metadata": {},
   "outputs": [],
   "source": [
    "lst=[1,1,2]\n",
    "lst.remove(1)"
   ]
  },
  {
   "cell_type": "code",
   "execution_count": 92,
   "id": "72fb9431",
   "metadata": {},
   "outputs": [
    {
     "data": {
      "text/plain": [
       "[1, 2]"
      ]
     },
     "execution_count": 92,
     "metadata": {},
     "output_type": "execute_result"
    }
   ],
   "source": [
    "lst"
   ]
  },
  {
   "cell_type": "code",
   "execution_count": 93,
   "id": "3b433df0",
   "metadata": {},
   "outputs": [],
   "source": [
    "lst2=[1,2,3,1,5,2]\n",
    "lst2.remove(2)\n"
   ]
  },
  {
   "cell_type": "code",
   "execution_count": 104,
   "id": "c4f53cb8",
   "metadata": {},
   "outputs": [],
   "source": [
    "lst2=[1,2,3,1,5,2]\n"
   ]
  },
  {
   "cell_type": "code",
   "execution_count": 102,
   "id": "8d6bba15",
   "metadata": {},
   "outputs": [
    {
     "data": {
      "text/plain": [
       "[1, 2, 3, 1, 5, 2]"
      ]
     },
     "execution_count": 102,
     "metadata": {},
     "output_type": "execute_result"
    }
   ],
   "source": [
    "lst2"
   ]
  },
  {
   "cell_type": "code",
   "execution_count": 103,
   "id": "174bc2c0",
   "metadata": {},
   "outputs": [
    {
     "data": {
      "text/plain": [
       "2"
      ]
     },
     "execution_count": 103,
     "metadata": {},
     "output_type": "execute_result"
    }
   ],
   "source": [
    "lst2.pop(1) #pop remove element from list by index"
   ]
  },
  {
   "cell_type": "code",
   "execution_count": 105,
   "id": "5c368713",
   "metadata": {},
   "outputs": [],
   "source": [
    "lst2.remove(2) #remove helps in taking of the element with the value of the element"
   ]
  },
  {
   "cell_type": "code",
   "execution_count": 106,
   "id": "1e10aa5e",
   "metadata": {},
   "outputs": [
    {
     "data": {
      "text/plain": [
       "[1, 3, 1, 5, 2]"
      ]
     },
     "execution_count": 106,
     "metadata": {},
     "output_type": "execute_result"
    }
   ],
   "source": [
    "lst2"
   ]
  },
  {
   "cell_type": "code",
   "execution_count": 113,
   "id": "36bacd47",
   "metadata": {},
   "outputs": [],
   "source": [
    "lst2=[1,1,1,1,1,1,1,1]\n",
    "lst2.remove(1)\n"
   ]
  },
  {
   "cell_type": "code",
   "execution_count": 128,
   "id": "4c24f25a",
   "metadata": {},
   "outputs": [
    {
     "ename": "ValueError",
     "evalue": "list.remove(x): x not in list",
     "output_type": "error",
     "traceback": [
      "\u001b[1;31m---------------------------------------------------------------------------\u001b[0m",
      "\u001b[1;31mValueError\u001b[0m                                Traceback (most recent call last)",
      "\u001b[1;32m~\\AppData\\Local\\Temp/ipykernel_25648/3480118790.py\u001b[0m in \u001b[0;36m<module>\u001b[1;34m\u001b[0m\n\u001b[1;32m----> 1\u001b[1;33m \u001b[0mlst2\u001b[0m\u001b[1;33m.\u001b[0m\u001b[0mremove\u001b[0m\u001b[1;33m(\u001b[0m\u001b[1;36m1\u001b[0m\u001b[1;33m)\u001b[0m\u001b[1;33m\u001b[0m\u001b[1;33m\u001b[0m\u001b[0m\n\u001b[0m",
      "\u001b[1;31mValueError\u001b[0m: list.remove(x): x not in list"
     ]
    }
   ],
   "source": [
    "lst2.remove(1)\n"
   ]
  },
  {
   "cell_type": "code",
   "execution_count": 127,
   "id": "5cfaf1b3",
   "metadata": {
    "scrolled": true
   },
   "outputs": [
    {
     "data": {
      "text/plain": [
       "[]"
      ]
     },
     "execution_count": 127,
     "metadata": {},
     "output_type": "execute_result"
    }
   ],
   "source": [
    "lst2"
   ]
  },
  {
   "cell_type": "markdown",
   "id": "59db1d08",
   "metadata": {},
   "source": [
    "# Sort"
   ]
  },
  {
   "cell_type": "code",
   "execution_count": 144,
   "id": "38de2286",
   "metadata": {},
   "outputs": [],
   "source": [
    "lst2=[11,43,21,544,2111111,543,1,-1]\n",
    "lst2.sort()   #sort function by default sort values on ascending order"
   ]
  },
  {
   "cell_type": "code",
   "execution_count": 145,
   "id": "c1b0dad4",
   "metadata": {},
   "outputs": [
    {
     "data": {
      "text/plain": [
       "[-1, 1, 11, 21, 43, 543, 544, 2111111]"
      ]
     },
     "execution_count": 145,
     "metadata": {},
     "output_type": "execute_result"
    }
   ],
   "source": [
    "lst2"
   ]
  },
  {
   "cell_type": "code",
   "execution_count": 140,
   "id": "af5a1cbc",
   "metadata": {},
   "outputs": [],
   "source": [
    "lst2=[11,43,21,544,2111111,543,1,-1]\n",
    "lst2.sort(reverse=True)   #sort function by default sort values on descending order"
   ]
  },
  {
   "cell_type": "code",
   "execution_count": 141,
   "id": "83eb30e5",
   "metadata": {},
   "outputs": [
    {
     "data": {
      "text/plain": [
       "[2111111, 544, 543, 43, 21, 11, 1, -1]"
      ]
     },
     "execution_count": 141,
     "metadata": {},
     "output_type": "execute_result"
    }
   ],
   "source": [
    "lst2"
   ]
  },
  {
   "cell_type": "code",
   "execution_count": 142,
   "id": "dc1040a1",
   "metadata": {},
   "outputs": [],
   "source": [
    "lst3=['inder',1,2,3]\n",
    "lst3.reverse()"
   ]
  },
  {
   "cell_type": "code",
   "execution_count": 143,
   "id": "80ca6fbb",
   "metadata": {},
   "outputs": [
    {
     "data": {
      "text/plain": [
       "[3, 2, 1, 'inder']"
      ]
     },
     "execution_count": 143,
     "metadata": {},
     "output_type": "execute_result"
    }
   ],
   "source": [
    "lst3"
   ]
  },
  {
   "cell_type": "markdown",
   "id": "9a146789",
   "metadata": {},
   "source": [
    "# Sorted Function"
   ]
  },
  {
   "cell_type": "code",
   "execution_count": 146,
   "id": "1974deea",
   "metadata": {},
   "outputs": [
    {
     "data": {
      "text/plain": [
       "[21, 21, 34, 432, 125412]"
      ]
     },
     "execution_count": 146,
     "metadata": {},
     "output_type": "execute_result"
    }
   ],
   "source": [
    "lst=[34,21,432,125412,21]\n",
    "lst.sort()\n",
    "lst"
   ]
  },
  {
   "cell_type": "code",
   "execution_count": 149,
   "id": "5bbd8722",
   "metadata": {},
   "outputs": [],
   "source": [
    "lst=[34,21,432,125412,21]\n",
    "new_lst=sorted(lst)    #store the sorted list in a new list to see the change"
   ]
  },
  {
   "cell_type": "code",
   "execution_count": 150,
   "id": "68135bc8",
   "metadata": {},
   "outputs": [
    {
     "data": {
      "text/plain": [
       "[21, 21, 34, 432, 125412]"
      ]
     },
     "execution_count": 150,
     "metadata": {},
     "output_type": "execute_result"
    }
   ],
   "source": [
    "new_lst"
   ]
  },
  {
   "cell_type": "code",
   "execution_count": 148,
   "id": "20dc8cdc",
   "metadata": {},
   "outputs": [
    {
     "data": {
      "text/plain": [
       "[34, 21, 432, 125412, 21]"
      ]
     },
     "execution_count": 148,
     "metadata": {},
     "output_type": "execute_result"
    }
   ],
   "source": [
    "lst"
   ]
  },
  {
   "cell_type": "markdown",
   "id": "e660162b",
   "metadata": {},
   "source": [
    "# Sort and Sorted Difference\n",
    "\n",
    "1. Sort changes the list permanently whereas sorted function does not change the original list.\n",
    "\n",
    "\n"
   ]
  },
  {
   "cell_type": "code",
   "execution_count": 151,
   "id": "0a6fe699",
   "metadata": {},
   "outputs": [
    {
     "data": {
      "text/plain": [
       "[125412, 432, 34, 21, 21]"
      ]
     },
     "execution_count": 151,
     "metadata": {},
     "output_type": "execute_result"
    }
   ],
   "source": [
    "lst=[34,21,432,125412,21]\n",
    "sorted(lst,reverse=True)    #store the sorted list in a new list to see the change"
   ]
  },
  {
   "cell_type": "markdown",
   "id": "35b1032f",
   "metadata": {},
   "source": [
    "# Tuples\n",
    "\n",
    "Tuples are similiar to lists but they are immutable that means they are unchangeable. You would use the tuple to represent the data that you don't want to change.\n",
    "\n",
    "\n",
    "For example: We dont want someone to change our Aadhaar Card details or Passport Number or Credit Card or Debit Card.So in those scenarios we can use Tuples\n",
    "\n",
    "Tuples are represented by----->()"
   ]
  },
  {
   "cell_type": "code",
   "execution_count": 152,
   "id": "6a2c1de5",
   "metadata": {},
   "outputs": [
    {
     "data": {
      "text/plain": [
       "(1, 2, 3, 1.1)"
      ]
     },
     "execution_count": 152,
     "metadata": {},
     "output_type": "execute_result"
    }
   ],
   "source": [
    "tup=(1,2,3,1.1)\n",
    "tup"
   ]
  },
  {
   "cell_type": "code",
   "execution_count": 154,
   "id": "365d2042",
   "metadata": {},
   "outputs": [
    {
     "data": {
      "text/plain": [
       "tuple"
      ]
     },
     "execution_count": 154,
     "metadata": {},
     "output_type": "execute_result"
    }
   ],
   "source": [
    "type(tup) #this function tells us about the data structure"
   ]
  },
  {
   "cell_type": "code",
   "execution_count": 155,
   "id": "f4839e33",
   "metadata": {},
   "outputs": [
    {
     "data": {
      "text/plain": [
       "('inder', 'rahul', True, False)"
      ]
     },
     "execution_count": 155,
     "metadata": {},
     "output_type": "execute_result"
    }
   ],
   "source": [
    "tup2=('inder','rahul',True,False)\n",
    "tup2"
   ]
  },
  {
   "cell_type": "code",
   "execution_count": 165,
   "id": "67829027",
   "metadata": {},
   "outputs": [
    {
     "data": {
      "text/plain": [
       "214376983221"
      ]
     },
     "execution_count": 165,
     "metadata": {},
     "output_type": "execute_result"
    }
   ],
   "source": [
    "tup_aadhaar=(61641231213,212132543254,214376983221)\n",
    "tup_aadhaar[2]"
   ]
  },
  {
   "cell_type": "code",
   "execution_count": 157,
   "id": "40728967",
   "metadata": {},
   "outputs": [
    {
     "ename": "TypeError",
     "evalue": "'tuple' object does not support item assignment",
     "output_type": "error",
     "traceback": [
      "\u001b[1;31m---------------------------------------------------------------------------\u001b[0m",
      "\u001b[1;31mTypeError\u001b[0m                                 Traceback (most recent call last)",
      "\u001b[1;32m~\\AppData\\Local\\Temp/ipykernel_25648/3746389751.py\u001b[0m in \u001b[0;36m<module>\u001b[1;34m\u001b[0m\n\u001b[0;32m      1\u001b[0m \u001b[0mtup_aadhaar\u001b[0m\u001b[1;33m=\u001b[0m\u001b[1;33m(\u001b[0m\u001b[1;36m61641231213\u001b[0m\u001b[1;33m,\u001b[0m\u001b[1;36m212132543254\u001b[0m\u001b[1;33m,\u001b[0m\u001b[1;36m214376983221\u001b[0m\u001b[1;33m)\u001b[0m\u001b[1;33m\u001b[0m\u001b[1;33m\u001b[0m\u001b[0m\n\u001b[1;32m----> 2\u001b[1;33m \u001b[0mtup_aadhaar\u001b[0m\u001b[1;33m[\u001b[0m\u001b[1;36m0\u001b[0m\u001b[1;33m]\u001b[0m\u001b[1;33m=\u001b[0m\u001b[1;36m12346532121\u001b[0m\u001b[1;33m\u001b[0m\u001b[1;33m\u001b[0m\u001b[0m\n\u001b[0m",
      "\u001b[1;31mTypeError\u001b[0m: 'tuple' object does not support item assignment"
     ]
    }
   ],
   "source": [
    "tup_aadhaar=(61641231213,212132543254,214376983221)\n",
    "tup_aadhaar[0]=12346532121\n"
   ]
  },
  {
   "cell_type": "markdown",
   "id": "cd11d8ae",
   "metadata": {},
   "source": [
    "This error shows that tuples elements are unchangeable"
   ]
  },
  {
   "cell_type": "code",
   "execution_count": 159,
   "id": "11dc0a35",
   "metadata": {},
   "outputs": [
    {
     "data": {
      "text/plain": [
       "214376983221"
      ]
     },
     "execution_count": 159,
     "metadata": {},
     "output_type": "execute_result"
    }
   ],
   "source": [
    "tup_aadhaar[-1]"
   ]
  },
  {
   "cell_type": "code",
   "execution_count": 160,
   "id": "065107c7",
   "metadata": {},
   "outputs": [
    {
     "data": {
      "text/plain": [
       "(1, 54, 54, 12)"
      ]
     },
     "execution_count": 160,
     "metadata": {},
     "output_type": "execute_result"
    }
   ],
   "source": [
    "tup_index=(1,23,54,12,54,2154,12)\n",
    "tup_index[0:8:2]"
   ]
  },
  {
   "cell_type": "code",
   "execution_count": 162,
   "id": "ab7e230f",
   "metadata": {},
   "outputs": [
    {
     "data": {
      "text/plain": [
       "5"
      ]
     },
     "execution_count": 162,
     "metadata": {},
     "output_type": "execute_result"
    }
   ],
   "source": [
    "tup_index.index(2154)"
   ]
  },
  {
   "cell_type": "code",
   "execution_count": 163,
   "id": "aedfe9a4",
   "metadata": {},
   "outputs": [
    {
     "data": {
      "text/plain": [
       "6"
      ]
     },
     "execution_count": 163,
     "metadata": {},
     "output_type": "execute_result"
    }
   ],
   "source": [
    "tup_3=(1,2,3,4,1,1,1,1,1)\n",
    "tup_3.count(1)"
   ]
  },
  {
   "cell_type": "code",
   "execution_count": 166,
   "id": "dd3a894c",
   "metadata": {},
   "outputs": [
    {
     "ename": "AttributeError",
     "evalue": "'tuple' object has no attribute 'append'",
     "output_type": "error",
     "traceback": [
      "\u001b[1;31m---------------------------------------------------------------------------\u001b[0m",
      "\u001b[1;31mAttributeError\u001b[0m                            Traceback (most recent call last)",
      "\u001b[1;32m~\\AppData\\Local\\Temp/ipykernel_25648/1222051039.py\u001b[0m in \u001b[0;36m<module>\u001b[1;34m\u001b[0m\n\u001b[1;32m----> 1\u001b[1;33m \u001b[0mtup_3\u001b[0m\u001b[1;33m.\u001b[0m\u001b[0mappend\u001b[0m\u001b[1;33m(\u001b[0m\u001b[1;34m'inder'\u001b[0m\u001b[1;33m)\u001b[0m\u001b[1;33m\u001b[0m\u001b[1;33m\u001b[0m\u001b[0m\n\u001b[0m",
      "\u001b[1;31mAttributeError\u001b[0m: 'tuple' object has no attribute 'append'"
     ]
    }
   ],
   "source": [
    "tup_3.append('inder')"
   ]
  },
  {
   "cell_type": "code",
   "execution_count": 167,
   "id": "018cc105",
   "metadata": {},
   "outputs": [
    {
     "ename": "AttributeError",
     "evalue": "'tuple' object has no attribute 'sort'",
     "output_type": "error",
     "traceback": [
      "\u001b[1;31m---------------------------------------------------------------------------\u001b[0m",
      "\u001b[1;31mAttributeError\u001b[0m                            Traceback (most recent call last)",
      "\u001b[1;32m~\\AppData\\Local\\Temp/ipykernel_25648/222103714.py\u001b[0m in \u001b[0;36m<module>\u001b[1;34m\u001b[0m\n\u001b[0;32m      1\u001b[0m \u001b[0mtup\u001b[0m\u001b[1;33m=\u001b[0m\u001b[1;33m(\u001b[0m\u001b[1;36m1\u001b[0m\u001b[1;33m,\u001b[0m\u001b[1;36m34\u001b[0m\u001b[1;33m,\u001b[0m\u001b[1;36m12\u001b[0m\u001b[1;33m,\u001b[0m\u001b[1;36m54\u001b[0m\u001b[1;33m,\u001b[0m\u001b[1;36m21\u001b[0m\u001b[1;33m,\u001b[0m\u001b[1;36m54\u001b[0m\u001b[1;33m,\u001b[0m\u001b[1;36m212\u001b[0m\u001b[1;33m)\u001b[0m\u001b[1;33m\u001b[0m\u001b[1;33m\u001b[0m\u001b[0m\n\u001b[1;32m----> 2\u001b[1;33m \u001b[0mtup\u001b[0m\u001b[1;33m.\u001b[0m\u001b[0msort\u001b[0m\u001b[1;33m(\u001b[0m\u001b[1;33m)\u001b[0m\u001b[1;33m\u001b[0m\u001b[1;33m\u001b[0m\u001b[0m\n\u001b[0m",
      "\u001b[1;31mAttributeError\u001b[0m: 'tuple' object has no attribute 'sort'"
     ]
    }
   ],
   "source": [
    "tup=(1,34,12,54,21,54,212)\n",
    "tup.sort()"
   ]
  },
  {
   "cell_type": "code",
   "execution_count": 170,
   "id": "5d36771b",
   "metadata": {},
   "outputs": [
    {
     "data": {
      "text/plain": [
       "[1, 12, 21, 34, 54, 54, 212]"
      ]
     },
     "execution_count": 170,
     "metadata": {},
     "output_type": "execute_result"
    }
   ],
   "source": [
    "tup=(1,34,12,54,21,54,212)\n",
    "tup_new=sorted(tup)\n",
    "tup_new"
   ]
  },
  {
   "cell_type": "code",
   "execution_count": 171,
   "id": "c3664607",
   "metadata": {},
   "outputs": [
    {
     "data": {
      "text/plain": [
       "list"
      ]
     },
     "execution_count": 171,
     "metadata": {},
     "output_type": "execute_result"
    }
   ],
   "source": [
    "type(tup_new)"
   ]
  },
  {
   "cell_type": "code",
   "execution_count": 172,
   "id": "7d3414ca",
   "metadata": {},
   "outputs": [
    {
     "data": {
      "text/plain": [
       "[1, 2, 3, 4, 5, 6, 'inder']"
      ]
     },
     "execution_count": 172,
     "metadata": {},
     "output_type": "execute_result"
    }
   ],
   "source": [
    "tup_type_cast=(1,2,3,4,5,6,'inder')\n",
    "list(tup_type_cast)"
   ]
  },
  {
   "cell_type": "code",
   "execution_count": 173,
   "id": "10009bed",
   "metadata": {},
   "outputs": [
    {
     "data": {
      "text/plain": [
       "(1, 2, 3, 4, 5, 6, 'inder')"
      ]
     },
     "execution_count": 173,
     "metadata": {},
     "output_type": "execute_result"
    }
   ],
   "source": [
    "tup_type_cast"
   ]
  },
  {
   "cell_type": "code",
   "execution_count": 174,
   "id": "23340ead",
   "metadata": {},
   "outputs": [
    {
     "data": {
      "text/plain": [
       "(1, 2, 3, 4, 5, 6, 'inder', 'rahul', 'raj')"
      ]
     },
     "execution_count": 174,
     "metadata": {},
     "output_type": "execute_result"
    }
   ],
   "source": [
    "tup_2=('rahul','raj')\n",
    "\n",
    "tup_type_cast+tup_2 #concatenation of tuples"
   ]
  },
  {
   "cell_type": "code",
   "execution_count": 175,
   "id": "5099785d",
   "metadata": {},
   "outputs": [
    {
     "data": {
      "text/plain": [
       "('inder', 'rahul', [1, 2, 3, 4], (1, 2, 3))"
      ]
     },
     "execution_count": 175,
     "metadata": {},
     "output_type": "execute_result"
    }
   ],
   "source": [
    "tup_non=('inder','rahul',[1,2,3,4],(1,2,3))\n",
    "tup_non"
   ]
  },
  {
   "cell_type": "code",
   "execution_count": 176,
   "id": "e34f5984",
   "metadata": {},
   "outputs": [
    {
     "ename": "SyntaxError",
     "evalue": "unexpected EOF while parsing (Temp/ipykernel_25648/170264200.py, line 1)",
     "output_type": "error",
     "traceback": [
      "\u001b[1;36m  File \u001b[1;32m\"C:\\Users\\sidak\\AppData\\Local\\Temp/ipykernel_25648/170264200.py\"\u001b[1;36m, line \u001b[1;32m1\u001b[0m\n\u001b[1;33m    (1,2,3,4\u001b[0m\n\u001b[1;37m            ^\u001b[0m\n\u001b[1;31mSyntaxError\u001b[0m\u001b[1;31m:\u001b[0m unexpected EOF while parsing\n"
     ]
    }
   ],
   "source": [
    "(1,2,3,4"
   ]
  },
  {
   "cell_type": "markdown",
   "id": "f7678a83",
   "metadata": {},
   "source": [
    "# Dictionaries"
   ]
  },
  {
   "cell_type": "markdown",
   "id": "ac99afa2",
   "metadata": {},
   "source": [
    "1. Dictionaries are mutable\n",
    "2. Dictionaries exist in key and value\n",
    "3. Dictionaries are represented by curly braces----> {}\n"
   ]
  },
  {
   "cell_type": "code",
   "execution_count": 177,
   "id": "b985a17d",
   "metadata": {},
   "outputs": [
    {
     "data": {
      "text/plain": [
       "{'A': 'Aman', 'B': 'Bablu', 'C': 'Chaman'}"
      ]
     },
     "execution_count": 177,
     "metadata": {},
     "output_type": "execute_result"
    }
   ],
   "source": [
    "#Example\n",
    "\n",
    "Dictionary={\"A\":\"Aman\",\"B\":\"Bablu\",\"C\":\"Chaman\"}\n",
    "Dictionary"
   ]
  },
  {
   "cell_type": "code",
   "execution_count": 178,
   "id": "c1a52581",
   "metadata": {},
   "outputs": [
    {
     "data": {
      "text/plain": [
       "dict"
      ]
     },
     "execution_count": 178,
     "metadata": {},
     "output_type": "execute_result"
    }
   ],
   "source": [
    "type(Dictionary)"
   ]
  },
  {
   "cell_type": "code",
   "execution_count": 180,
   "id": "f02c7713",
   "metadata": {},
   "outputs": [
    {
     "data": {
      "text/plain": [
       "{'NUMBERS': 1, 'NAME': 'RAHUL', True: 1.1}"
      ]
     },
     "execution_count": 180,
     "metadata": {},
     "output_type": "execute_result"
    }
   ],
   "source": [
    "dict2={\"NUMBERS\":1,\"NAME\":\"RAHUL\",True:1.1}\n",
    "dict2"
   ]
  },
  {
   "cell_type": "code",
   "execution_count": 182,
   "id": "54a73369",
   "metadata": {},
   "outputs": [
    {
     "data": {
      "text/plain": [
       "'RAHUL'"
      ]
     },
     "execution_count": 182,
     "metadata": {},
     "output_type": "execute_result"
    }
   ],
   "source": [
    "dict2['NAME']"
   ]
  },
  {
   "cell_type": "code",
   "execution_count": 183,
   "id": "2219060b",
   "metadata": {},
   "outputs": [
    {
     "data": {
      "text/plain": [
       "1.1"
      ]
     },
     "execution_count": 183,
     "metadata": {},
     "output_type": "execute_result"
    }
   ],
   "source": [
    "dict2[True]"
   ]
  },
  {
   "cell_type": "code",
   "execution_count": 184,
   "id": "3a6d2b4f",
   "metadata": {},
   "outputs": [
    {
     "data": {
      "text/plain": [
       "[1, 2, 3, [3, 4]]"
      ]
     },
     "execution_count": 184,
     "metadata": {},
     "output_type": "execute_result"
    }
   ],
   "source": [
    "lst=[1,2,3,[3,4]]\n",
    "lst"
   ]
  },
  {
   "cell_type": "code",
   "execution_count": 188,
   "id": "815327d6",
   "metadata": {},
   "outputs": [
    {
     "data": {
      "text/plain": [
       "{'Names': ['Inder', 'Garima', 'Deepansh'], 'Marks': [66, 89, 93]}"
      ]
     },
     "execution_count": 188,
     "metadata": {},
     "output_type": "execute_result"
    }
   ],
   "source": [
    "class_students={\"Names\":['Inder',\"Garima\",\"Deepansh\"],\"Marks\":[66,89,93]}\n",
    "class_students"
   ]
  },
  {
   "cell_type": "code",
   "execution_count": 193,
   "id": "fdaee17a",
   "metadata": {},
   "outputs": [
    {
     "data": {
      "text/plain": [
       "[66, 89, 93]"
      ]
     },
     "execution_count": 193,
     "metadata": {},
     "output_type": "execute_result"
    }
   ],
   "source": [
    "class_students['Marks']"
   ]
  },
  {
   "cell_type": "code",
   "execution_count": 194,
   "id": "38ba0459",
   "metadata": {},
   "outputs": [
    {
     "data": {
      "text/plain": [
       "'a'"
      ]
     },
     "execution_count": 194,
     "metadata": {},
     "output_type": "execute_result"
    }
   ],
   "source": [
    "class_students['Names'][2][4]"
   ]
  },
  {
   "cell_type": "code",
   "execution_count": 196,
   "id": "f196fdf3",
   "metadata": {},
   "outputs": [
    {
     "data": {
      "text/plain": [
       "{'Names': ['Inder', 'Garima', 'Deepansh'],\n",
       " 'Marks': [66, 89, 93],\n",
       " 'Aadhaar_no': (2112, 4343, 2121)}"
      ]
     },
     "execution_count": 196,
     "metadata": {},
     "output_type": "execute_result"
    }
   ],
   "source": [
    "class_students={\"Names\":['Inder',\"Garima\",\"Deepansh\"],\"Marks\":[66,89,93],\"Aadhaar_no\":(2112,4343,2121)}\n",
    "class_students"
   ]
  },
  {
   "cell_type": "code",
   "execution_count": 197,
   "id": "d0f36a99",
   "metadata": {},
   "outputs": [
    {
     "data": {
      "text/plain": [
       "4343"
      ]
     },
     "execution_count": 197,
     "metadata": {},
     "output_type": "execute_result"
    }
   ],
   "source": [
    "class_students['Aadhaar_no'][1]"
   ]
  },
  {
   "cell_type": "code",
   "execution_count": 198,
   "id": "fdff713b",
   "metadata": {},
   "outputs": [
    {
     "data": {
      "text/plain": [
       "{'name': 'inder', 'roll_no': 13}"
      ]
     },
     "execution_count": 198,
     "metadata": {},
     "output_type": "execute_result"
    }
   ],
   "source": [
    "dict2={'name':'inder',\"roll_no\":13}\n",
    "dict2"
   ]
  },
  {
   "cell_type": "code",
   "execution_count": 199,
   "id": "77351304",
   "metadata": {},
   "outputs": [
    {
     "data": {
      "text/plain": [
       "{'name': 'inder', 'roll_no': 13, 'phone_no': 9971727272}"
      ]
     },
     "execution_count": 199,
     "metadata": {},
     "output_type": "execute_result"
    }
   ],
   "source": [
    "dict2['phone_no']=9971727272\n",
    "dict2"
   ]
  },
  {
   "cell_type": "code",
   "execution_count": 202,
   "id": "6dddc097",
   "metadata": {},
   "outputs": [
    {
     "data": {
      "text/plain": [
       "{'name': 'rahul', 'roll_no': 13, 'phone_no': 9971727272}"
      ]
     },
     "execution_count": 202,
     "metadata": {},
     "output_type": "execute_result"
    }
   ],
   "source": [
    "dict2['name']='rahul' #this means dictionaries are mutable\n",
    "dict2"
   ]
  },
  {
   "cell_type": "code",
   "execution_count": 214,
   "id": "3444f63d",
   "metadata": {},
   "outputs": [],
   "source": [
    "amazon={\"Mobile\":{\"Iphone\":[\"Iphone 13\",\"Iphone 13 pro\"],\"Samsung\":['S21 Ultra','Note 11'],\"Oneplus\":['Oneplus11'],\"Google\":['PIXEL 7']},\"Electronics\":['Sony bravia','LG hd 30'],\"Books\":['Zero_to_one']}"
   ]
  },
  {
   "cell_type": "code",
   "execution_count": 219,
   "id": "8bbee937",
   "metadata": {},
   "outputs": [
    {
     "data": {
      "text/plain": [
       "['Iphone 13', 'Iphone 13 pro']"
      ]
     },
     "execution_count": 219,
     "metadata": {},
     "output_type": "execute_result"
    }
   ],
   "source": [
    "amazon['Mobile']['Iphone'] #this represents a dictionary inside another dictionariy and then a list"
   ]
  },
  {
   "cell_type": "code",
   "execution_count": 221,
   "id": "a474c997",
   "metadata": {},
   "outputs": [
    {
     "data": {
      "text/plain": [
       "{'Name': 'Garima'}"
      ]
     },
     "execution_count": 221,
     "metadata": {},
     "output_type": "execute_result"
    }
   ],
   "source": [
    "dict1={'Name':'Inder'}\n",
    "dict1['Name']='Garima'\n",
    "dict1"
   ]
  },
  {
   "cell_type": "code",
   "execution_count": 222,
   "id": "a8773ffd",
   "metadata": {},
   "outputs": [
    {
     "data": {
      "text/plain": [
       "{'Name': 'Garima', 'Name2': 'Ajinkya'}"
      ]
     },
     "execution_count": 222,
     "metadata": {},
     "output_type": "execute_result"
    }
   ],
   "source": [
    "dict1['Name2']='Ajinkya'\n",
    "dict1"
   ]
  },
  {
   "cell_type": "markdown",
   "id": "e3c26c15",
   "metadata": {},
   "source": [
    "# Sets\n",
    "\n",
    "1. Sets are unordered collection of unique elements that means sets will only contain distinct values and there is no indexing possible\n",
    "\n",
    "2. Sets are represented by curly braces----->{}"
   ]
  },
  {
   "cell_type": "code",
   "execution_count": 223,
   "id": "cd1fcb89",
   "metadata": {},
   "outputs": [
    {
     "data": {
      "text/plain": [
       "{1, 2}"
      ]
     },
     "execution_count": 223,
     "metadata": {},
     "output_type": "execute_result"
    }
   ],
   "source": [
    "set2={1,2,1,2,1,2}\n",
    "set2"
   ]
  },
  {
   "cell_type": "code",
   "execution_count": 224,
   "id": "6bef0545",
   "metadata": {},
   "outputs": [
    {
     "data": {
      "text/plain": [
       "{1, 2, 'inder', 'rahul', 'raj'}"
      ]
     },
     "execution_count": 224,
     "metadata": {},
     "output_type": "execute_result"
    }
   ],
   "source": [
    "set2={'inder','inder','inder','rahul','raj',1,2,1}\n",
    "set2"
   ]
  },
  {
   "cell_type": "code",
   "execution_count": 225,
   "id": "5e895efa",
   "metadata": {},
   "outputs": [
    {
     "data": {
      "text/plain": [
       "{1, 2, 'Upgrad', 'inder', 'rahul', 'raj'}"
      ]
     },
     "execution_count": 225,
     "metadata": {},
     "output_type": "execute_result"
    }
   ],
   "source": [
    "set2.add('Upgrad')\n",
    "set2"
   ]
  },
  {
   "cell_type": "code",
   "execution_count": 226,
   "id": "ba91954a",
   "metadata": {},
   "outputs": [
    {
     "ename": "TypeError",
     "evalue": "'set' object is not subscriptable",
     "output_type": "error",
     "traceback": [
      "\u001b[1;31m---------------------------------------------------------------------------\u001b[0m",
      "\u001b[1;31mTypeError\u001b[0m                                 Traceback (most recent call last)",
      "\u001b[1;32m~\\AppData\\Local\\Temp/ipykernel_25648/813177398.py\u001b[0m in \u001b[0;36m<module>\u001b[1;34m\u001b[0m\n\u001b[1;32m----> 1\u001b[1;33m \u001b[0mset2\u001b[0m\u001b[1;33m[\u001b[0m\u001b[1;36m0\u001b[0m\u001b[1;33m]\u001b[0m\u001b[1;33m\u001b[0m\u001b[1;33m\u001b[0m\u001b[0m\n\u001b[0m",
      "\u001b[1;31mTypeError\u001b[0m: 'set' object is not subscriptable"
     ]
    }
   ],
   "source": [
    "set2[0] #this means sets are unordered no indexing possible"
   ]
  },
  {
   "cell_type": "code",
   "execution_count": 227,
   "id": "530994a8",
   "metadata": {},
   "outputs": [
    {
     "data": {
      "text/plain": [
       "{1, 2, 3, 4, 12, 21, 34, 43, 54, 2154}"
      ]
     },
     "execution_count": 227,
     "metadata": {},
     "output_type": "execute_result"
    }
   ],
   "source": [
    "lst=[1,2,3,4,43,21,1,2,1,3,12,12,34,12,43,2154,12,54,21,54]\n",
    "set(lst)"
   ]
  },
  {
   "cell_type": "code",
   "execution_count": 229,
   "id": "2d730797",
   "metadata": {},
   "outputs": [
    {
     "ename": "TypeError",
     "evalue": "'set' object is not subscriptable",
     "output_type": "error",
     "traceback": [
      "\u001b[1;31m---------------------------------------------------------------------------\u001b[0m",
      "\u001b[1;31mTypeError\u001b[0m                                 Traceback (most recent call last)",
      "\u001b[1;32m~\\AppData\\Local\\Temp/ipykernel_25648/551621913.py\u001b[0m in \u001b[0;36m<module>\u001b[1;34m\u001b[0m\n\u001b[0;32m      1\u001b[0m \u001b[0mset2\u001b[0m\u001b[1;33m=\u001b[0m\u001b[1;33m{\u001b[0m\u001b[1;36m1\u001b[0m\u001b[1;33m,\u001b[0m \u001b[1;36m2\u001b[0m\u001b[1;33m,\u001b[0m \u001b[1;36m3\u001b[0m\u001b[1;33m,\u001b[0m \u001b[1;36m4\u001b[0m\u001b[1;33m,\u001b[0m \u001b[1;36m12\u001b[0m\u001b[1;33m,\u001b[0m \u001b[1;36m21\u001b[0m\u001b[1;33m,\u001b[0m \u001b[1;36m34\u001b[0m\u001b[1;33m,\u001b[0m \u001b[1;36m43\u001b[0m\u001b[1;33m,\u001b[0m \u001b[1;36m54\u001b[0m\u001b[1;33m,\u001b[0m \u001b[1;36m2154\u001b[0m\u001b[1;33m}\u001b[0m\u001b[1;33m\u001b[0m\u001b[1;33m\u001b[0m\u001b[0m\n\u001b[1;32m----> 2\u001b[1;33m \u001b[0mset2\u001b[0m\u001b[1;33m[\u001b[0m\u001b[1;36m5\u001b[0m\u001b[1;33m]\u001b[0m\u001b[1;33m\u001b[0m\u001b[1;33m\u001b[0m\u001b[0m\n\u001b[0m",
      "\u001b[1;31mTypeError\u001b[0m: 'set' object is not subscriptable"
     ]
    }
   ],
   "source": [
    "set2={1, 2, 3, 4, 12, 21, 34, 43, 54, 2154}\n",
    "set2[5]"
   ]
  },
  {
   "cell_type": "code",
   "execution_count": 234,
   "id": "e737f7f9",
   "metadata": {},
   "outputs": [
    {
     "data": {
      "text/plain": [
       "{0, 1, 2, 'aman', 'inder', 'rahul', 'sakshi'}"
      ]
     },
     "execution_count": 234,
     "metadata": {},
     "output_type": "execute_result"
    }
   ],
   "source": [
    "set3={'inder','rahul','aman','sakshi',1,2,0}\n",
    "set3"
   ]
  },
  {
   "cell_type": "code",
   "execution_count": 237,
   "id": "85ecf138",
   "metadata": {},
   "outputs": [
    {
     "data": {
      "text/plain": [
       "'inder'"
      ]
     },
     "execution_count": 237,
     "metadata": {},
     "output_type": "execute_result"
    }
   ],
   "source": [
    "lst=list(set3)\n",
    "lst[5]"
   ]
  },
  {
   "cell_type": "code",
   "execution_count": null,
   "id": "31e7456e",
   "metadata": {},
   "outputs": [],
   "source": []
  }
 ],
 "metadata": {
  "kernelspec": {
   "display_name": "Python 3 (ipykernel)",
   "language": "python",
   "name": "python3"
  },
  "language_info": {
   "codemirror_mode": {
    "name": "ipython",
    "version": 3
   },
   "file_extension": ".py",
   "mimetype": "text/x-python",
   "name": "python",
   "nbconvert_exporter": "python",
   "pygments_lexer": "ipython3",
   "version": "3.7.6"
  }
 },
 "nbformat": 4,
 "nbformat_minor": 5
}
