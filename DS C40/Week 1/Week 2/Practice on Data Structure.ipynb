{
 "cells": [
  {
   "cell_type": "code",
   "execution_count": 11,
   "id": "6b8a6baf",
   "metadata": {},
   "outputs": [
    {
     "data": {
      "text/plain": [
       "[1, 2, 3, 4, 'rahul', 'inder']"
      ]
     },
     "execution_count": 11,
     "metadata": {},
     "output_type": "execute_result"
    }
   ],
   "source": [
    "set2={\"inder\",1,2,3,4}\n",
    "set2.add('rahul')\n",
    "lst=list(set2)\n",
    "lst"
   ]
  },
  {
   "cell_type": "code",
   "execution_count": 15,
   "id": "c6f8f706",
   "metadata": {},
   "outputs": [
    {
     "data": {
      "text/plain": [
       "{'Mobiles': ['Iphone', 'Samsung']}"
      ]
     },
     "execution_count": 15,
     "metadata": {},
     "output_type": "execute_result"
    }
   ],
   "source": [
    "dict1={\"Mobiles\":['Iphone','Samsung']}\n",
    "dict1"
   ]
  },
  {
   "cell_type": "code",
   "execution_count": 16,
   "id": "72f65cd9",
   "metadata": {},
   "outputs": [
    {
     "data": {
      "text/plain": [
       "{'Mobiles': ['Iphone', 'Samsung', 'Oneplus']}"
      ]
     },
     "execution_count": 16,
     "metadata": {},
     "output_type": "execute_result"
    }
   ],
   "source": [
    "dict1['Mobiles'].append('Oneplus')\n",
    "dict1"
   ]
  },
  {
   "cell_type": "code",
   "execution_count": 17,
   "id": "3d9de16a",
   "metadata": {},
   "outputs": [
    {
     "data": {
      "text/plain": [
       "'Oneplus'"
      ]
     },
     "execution_count": 17,
     "metadata": {},
     "output_type": "execute_result"
    }
   ],
   "source": [
    "dict1['Mobiles'].pop()"
   ]
  },
  {
   "cell_type": "code",
   "execution_count": 18,
   "id": "eea2797b",
   "metadata": {},
   "outputs": [
    {
     "data": {
      "text/plain": [
       "{'Mobiles': ['Iphone', 'Samsung']}"
      ]
     },
     "execution_count": 18,
     "metadata": {},
     "output_type": "execute_result"
    }
   ],
   "source": [
    "dict1"
   ]
  },
  {
   "cell_type": "code",
   "execution_count": 6,
   "id": "1baeb6ad",
   "metadata": {},
   "outputs": [
    {
     "data": {
      "text/plain": [
       "{'Mobiles': ['Iphone', 'Samsung'], 'Books': ['Zero_to_One']}"
      ]
     },
     "execution_count": 6,
     "metadata": {},
     "output_type": "execute_result"
    }
   ],
   "source": [
    "dict1['Books']=['Zero_to_One']\n",
    "dict1"
   ]
  },
  {
   "cell_type": "code",
   "execution_count": 7,
   "id": "8febd0a5",
   "metadata": {},
   "outputs": [
    {
     "data": {
      "text/plain": [
       "{'Mobiles': ['Iphone', 'Samsung'], 'Books': ['Zero_to_One'], True: 'inder'}"
      ]
     },
     "execution_count": 7,
     "metadata": {},
     "output_type": "execute_result"
    }
   ],
   "source": [
    "dict1[True]=\"inder\"\n",
    "dict1"
   ]
  },
  {
   "cell_type": "code",
   "execution_count": 8,
   "id": "87f934e0",
   "metadata": {},
   "outputs": [
    {
     "data": {
      "text/plain": [
       "{'Mobiles': ['Iphone', 'Samsung'],\n",
       " 'Books': ['Zero_to_One'],\n",
       " True: 'inder',\n",
       " 3: 'Rahul'}"
      ]
     },
     "execution_count": 8,
     "metadata": {},
     "output_type": "execute_result"
    }
   ],
   "source": [
    "dict1[3]='Rahul'\n",
    "dict1"
   ]
  },
  {
   "cell_type": "code",
   "execution_count": 22,
   "id": "953dc31b",
   "metadata": {},
   "outputs": [
    {
     "data": {
      "text/plain": [
       "{'Name': ['Inder', 'Rahul', 'Arkaprava'], 'Marks': [98, 87, 66]}"
      ]
     },
     "execution_count": 22,
     "metadata": {},
     "output_type": "execute_result"
    }
   ],
   "source": [
    "#Q1. Sort the Marks of these 3 students in descending order\n",
    "\n",
    "students={\"Name\":['Inder','Rahul','Arkaprava'],'Marks':[66,87,98]}\n",
    "\n",
    "students['Marks'].sort(reverse=True)\n",
    "students"
   ]
  },
  {
   "cell_type": "code",
   "execution_count": 30,
   "id": "81ef1d5e",
   "metadata": {},
   "outputs": [
    {
     "data": {
      "text/plain": [
       "{'Name': ['Inder', 'Rahul', 'Arkaprava'],\n",
       " 'Marks': [66, 87, 98],\n",
       " 'Aadhaar No': (3121, 3221, 2121)}"
      ]
     },
     "execution_count": 30,
     "metadata": {},
     "output_type": "execute_result"
    }
   ],
   "source": [
    "#Q2.  Add 3 existing students  aadhar no to existing dictionary\n",
    "\n",
    "students={\"Name\":['Inder','Rahul','Arkaprava'],'Marks':[66,87,98],\n",
    "         'Aadhaar No':()}\n",
    "# students['Aadhaar No']=(2121,2143,5465)\n",
    "students['Aadhaar No']=tuple([3121,3221,2121])\n",
    "students"
   ]
  },
  {
   "cell_type": "code",
   "execution_count": 36,
   "id": "d0238ae0",
   "metadata": {},
   "outputs": [
    {
     "data": {
      "text/plain": [
       "{'Name': ['Inder', 'Rahul', 'Arkaprava'], 'Marks': [66, 87, 98]}"
      ]
     },
     "execution_count": 36,
     "metadata": {},
     "output_type": "execute_result"
    }
   ],
   "source": [
    "#Q3. \n",
    "\n",
    "students={\"Name\":['Inder','Rahul','Arkaprava'],'Marks':[66,87,98]}\n",
    "students_name=['Garima','Rajesh','Rohan']\n",
    "students_marks=[75,96,89]\n",
    "students"
   ]
  },
  {
   "cell_type": "code",
   "execution_count": 38,
   "id": "c06e3153",
   "metadata": {},
   "outputs": [
    {
     "data": {
      "text/plain": [
       "{'Name': ['Inder',\n",
       "  'Rahul',\n",
       "  'Arkaprava',\n",
       "  'Garima',\n",
       "  'Rajesh',\n",
       "  'Rohan',\n",
       "  'Garima',\n",
       "  'Rajesh',\n",
       "  'Rohan'],\n",
       " 'Marks': [66, 87, 98, 75, 96, 89]}"
      ]
     },
     "execution_count": 38,
     "metadata": {},
     "output_type": "execute_result"
    }
   ],
   "source": [
    "students['Name'].extend(students_name)\n",
    "students['Marks'].extend(students_marks)\n",
    "students"
   ]
  },
  {
   "cell_type": "code",
   "execution_count": 53,
   "id": "d7f53d17",
   "metadata": {
    "scrolled": true
   },
   "outputs": [
    {
     "name": "stdout",
     "output_type": "stream",
     "text": [
      "The students who has scored the highest marks is---> Arkaprava\n"
     ]
    }
   ],
   "source": [
    "#Q1. Find the name of the student who has scored the highest marks in the class\n",
    "max(students['Marks'])\n",
    "index=students['Marks'].index(98)\n",
    "print(\"The students who has scored the highest marks is--->\",students['Name'][index]\n",
    ")"
   ]
  },
  {
   "cell_type": "code",
   "execution_count": 55,
   "id": "501d50a0",
   "metadata": {},
   "outputs": [
    {
     "name": "stdout",
     "output_type": "stream",
     "text": [
      "Hello Everyone today we have a  [66, 87, 98, 75, 96, 89]\n"
     ]
    }
   ],
   "source": [
    "print('Hello Everyone today we have a ',students['Marks'])"
   ]
  },
  {
   "cell_type": "code",
   "execution_count": 58,
   "id": "ebab8c46",
   "metadata": {},
   "outputs": [
    {
     "data": {
      "text/plain": [
       "['inder', 1, 2, 3, 'inder', 1, 2, 3, 'inder', 1, 2, 3]"
      ]
     },
     "execution_count": 58,
     "metadata": {},
     "output_type": "execute_result"
    }
   ],
   "source": [
    "my_list=['inder',1,2,3]\n",
    "my_list*3"
   ]
  },
  {
   "cell_type": "code",
   "execution_count": 59,
   "id": "0593fd0d",
   "metadata": {},
   "outputs": [
    {
     "data": {
      "text/plain": [
       "'InderpreetInderpreetInderpreet'"
      ]
     },
     "execution_count": 59,
     "metadata": {},
     "output_type": "execute_result"
    }
   ],
   "source": [
    "string='Inderpreet'\n",
    "string*3"
   ]
  },
  {
   "cell_type": "code",
   "execution_count": 64,
   "id": "028805be",
   "metadata": {},
   "outputs": [
    {
     "data": {
      "text/plain": [
       "[(), ('rahul', 8, 'IIT'), ('rohan', 10, 'NIT'), ()]"
      ]
     },
     "execution_count": 64,
     "metadata": {},
     "output_type": "execute_result"
    }
   ],
   "source": [
    "lst=[(),('rahul',8,'IIT'),('rohan',10,'NIT'),()]\n",
    "lst"
   ]
  },
  {
   "cell_type": "code",
   "execution_count": 65,
   "id": "3a5486f3",
   "metadata": {},
   "outputs": [
    {
     "data": {
      "text/plain": [
       "[('rahul', 8, 'IIT'), ('rohan', 10, 'NIT'), ()]"
      ]
     },
     "execution_count": 65,
     "metadata": {},
     "output_type": "execute_result"
    }
   ],
   "source": [
    "del lst[0]\n",
    "lst"
   ]
  },
  {
   "cell_type": "code",
   "execution_count": 66,
   "id": "39c59ab9",
   "metadata": {},
   "outputs": [
    {
     "data": {
      "text/plain": [
       "()"
      ]
     },
     "execution_count": 66,
     "metadata": {},
     "output_type": "execute_result"
    }
   ],
   "source": [
    "lst.pop()"
   ]
  },
  {
   "cell_type": "code",
   "execution_count": 67,
   "id": "d8a9b2ae",
   "metadata": {},
   "outputs": [
    {
     "data": {
      "text/plain": [
       "[('rahul', 8, 'IIT'), ('rohan', 10, 'NIT')]"
      ]
     },
     "execution_count": 67,
     "metadata": {},
     "output_type": "execute_result"
    }
   ],
   "source": [
    "lst"
   ]
  },
  {
   "cell_type": "code",
   "execution_count": 81,
   "id": "96cc8c51",
   "metadata": {},
   "outputs": [
    {
     "data": {
      "text/plain": [
       "{'Name': {'Rohan': {'Roll_no': 18,\n",
       "   'Blood_grp': 'O',\n",
       "   'Admission_no': 14313,\n",
       "   'Marks': [66, 77, 43, 65, 32, 54]},\n",
       "  'Krishna': {'Roll_no': 20,\n",
       "   'Blood_grp': 'A',\n",
       "   'Admission_no': 1431,\n",
       "   'Marks': [76, 43, 21, 43, 12]}},\n",
       " 'Classes': [7, 9]}"
      ]
     },
     "execution_count": 81,
     "metadata": {},
     "output_type": "execute_result"
    }
   ],
   "source": [
    "dict2={\"Name\":{\"Rohan\":{\"Roll_no\":18,\"Blood_grp\":'O','Admission_no':14313},'Krishna':\n",
    "              {\"Roll_no\":20,\"Blood_grp\":'A','Admission_no':1431}},'Classes':[7,9]}\n",
    "dict2['Name']['Rohan']['Marks']=[66,77,43,65,32,54]\n",
    "dict2['Name']['Krishna']['Marks']=[76,43,21,43,12]\n",
    "dict2"
   ]
  },
  {
   "cell_type": "code",
   "execution_count": 76,
   "id": "dea716c2",
   "metadata": {},
   "outputs": [
    {
     "data": {
      "text/plain": [
       "12882"
      ]
     },
     "execution_count": 76,
     "metadata": {},
     "output_type": "execute_result"
    }
   ],
   "source": [
    "# Q1. Subtract the difference between the admission no of these two students in the dict2\n",
    "\n",
    "Admission_no_of_Rohan=dict2['Name']['Rohan']['Admission_no']\n",
    "Admission_no_of_Krishna=dict2['Name']['Krishna']['Admission_no']\n",
    "Diff_of_admission_no=Admission_no_of_Rohan-Admission_no_of_Krishna\n",
    "Diff_of_admission_no"
   ]
  },
  {
   "cell_type": "code",
   "execution_count": 80,
   "id": "54afc953",
   "metadata": {},
   "outputs": [
    {
     "data": {
      "text/plain": [
       "{'Name': {'Rohan': {'Roll_no': 18,\n",
       "   'Blood_grp': 'O',\n",
       "   'Admission_no': 14313,\n",
       "   'Marks': [66, 77, 43, 65, 32, 54]},\n",
       "  'Krishna': {'Roll_no': 20,\n",
       "   'Blood_grp': 'A',\n",
       "   'Admission_no': 1431,\n",
       "   'Marks': [76, 43, 21, 43, 12]}},\n",
       " 'Classes': [7, 9]}"
      ]
     },
     "execution_count": 80,
     "metadata": {},
     "output_type": "execute_result"
    }
   ],
   "source": [
    "dict2['Name']['Rohan']['Marks']=[66,77,43,65,32,54]\n",
    "dict2['Name']['Krishna']['Marks']=[76,43,21,43,12]\n",
    "dict2"
   ]
  },
  {
   "cell_type": "code",
   "execution_count": 102,
   "id": "d609fb2a",
   "metadata": {},
   "outputs": [
    {
     "name": "stdout",
     "output_type": "stream",
     "text": [
      "The diff of marks between rohan and krishna is---> 17\n"
     ]
    }
   ],
   "source": [
    "#Q2. Find the difference of the average marks of Rohan and Krishna.\n",
    "\n",
    "# dict2['Name']['Rohan']['Marks']\n",
    "# len(dict2['Name']['Rohan']['Marks'])\n",
    "\n",
    "Average_marks_rohan=sum(dict2['Name']['Rohan']['Marks'])/len(dict2['Name']['Rohan']['Marks'])\n",
    "Average_marks_rohan\n",
    "\n",
    "Average_marks_krishna=sum(dict2['Name']['Krishna']['Marks'])/len(dict2['Name']['Krishna']['Marks'])\n",
    "Average_marks_krishna\n",
    "\n",
    "\n",
    "Diff_of_average_marks=round(Average_marks_rohan)-round(Average_marks_krishna)\n",
    "print(\"The diff of marks between rohan and krishna is--->\",Diff_of_average_marks)"
   ]
  },
  {
   "cell_type": "code",
   "execution_count": 82,
   "id": "1767dd09",
   "metadata": {},
   "outputs": [
    {
     "data": {
      "text/plain": [
       "6"
      ]
     },
     "execution_count": 82,
     "metadata": {},
     "output_type": "execute_result"
    }
   ],
   "source": [
    "lst=[1,2,3]\n",
    "\n",
    "sum(lst)"
   ]
  },
  {
   "cell_type": "markdown",
   "id": "994854e8",
   "metadata": {},
   "source": [
    "# Round Off Function\n",
    "\n",
    "It will point number from decimal value to the closest number\n",
    "\n",
    "Syntax: round(number,number_of_digits)"
   ]
  },
  {
   "cell_type": "code",
   "execution_count": 96,
   "id": "9d30dee3",
   "metadata": {},
   "outputs": [
    {
     "data": {
      "text/plain": [
       "16.67"
      ]
     },
     "execution_count": 96,
     "metadata": {},
     "output_type": "execute_result"
    }
   ],
   "source": [
    "num=16.6\n",
    "\n",
    "# int(num)\n",
    "round(16.668,2)"
   ]
  },
  {
   "cell_type": "code",
   "execution_count": 98,
   "id": "e3f21538",
   "metadata": {},
   "outputs": [
    {
     "data": {
      "text/plain": [
       "16.668"
      ]
     },
     "execution_count": 98,
     "metadata": {},
     "output_type": "execute_result"
    }
   ],
   "source": [
    "round(16.668,3)"
   ]
  },
  {
   "cell_type": "code",
   "execution_count": 99,
   "id": "5be75102",
   "metadata": {},
   "outputs": [
    {
     "data": {
      "text/plain": [
       "33.11"
      ]
     },
     "execution_count": 99,
     "metadata": {},
     "output_type": "execute_result"
    }
   ],
   "source": [
    "round(33.1112,2)"
   ]
  },
  {
   "cell_type": "code",
   "execution_count": 100,
   "id": "385cbda1",
   "metadata": {},
   "outputs": [
    {
     "data": {
      "text/plain": [
       "66.7"
      ]
     },
     "execution_count": 100,
     "metadata": {},
     "output_type": "execute_result"
    }
   ],
   "source": [
    "round(66.67,1)"
   ]
  },
  {
   "cell_type": "code",
   "execution_count": 101,
   "id": "96cc7cb9",
   "metadata": {},
   "outputs": [
    {
     "data": {
      "text/plain": [
       "56.433"
      ]
     },
     "execution_count": 101,
     "metadata": {},
     "output_type": "execute_result"
    }
   ],
   "source": [
    "round(56.4327,3)"
   ]
  },
  {
   "cell_type": "markdown",
   "id": "b0fa1a43",
   "metadata": {},
   "source": [
    "#  Few Dictionary Methods"
   ]
  },
  {
   "cell_type": "code",
   "execution_count": 108,
   "id": "801040c3",
   "metadata": {},
   "outputs": [
    {
     "data": {
      "text/plain": [
       "{'Name': 'Inder', 'Roll_no': 15}"
      ]
     },
     "execution_count": 108,
     "metadata": {},
     "output_type": "execute_result"
    }
   ],
   "source": [
    "dict1={\"Name\":'Inder',\"Roll_no\":15}\n",
    "dict1"
   ]
  },
  {
   "cell_type": "code",
   "execution_count": 110,
   "id": "c26a4d2a",
   "metadata": {},
   "outputs": [
    {
     "data": {
      "text/plain": [
       "dict_keys(['Name', 'Roll_no'])"
      ]
     },
     "execution_count": 110,
     "metadata": {},
     "output_type": "execute_result"
    }
   ],
   "source": [
    "dict1.keys()"
   ]
  },
  {
   "cell_type": "code",
   "execution_count": 120,
   "id": "5f9f4ffa",
   "metadata": {},
   "outputs": [
    {
     "data": {
      "text/plain": [
       "'Name'"
      ]
     },
     "execution_count": 120,
     "metadata": {},
     "output_type": "execute_result"
    }
   ],
   "source": [
    "lst=dict1.items() #it gives us the key and value pair in a form of a tuple\n",
    "lst=list(lst)\n",
    "lst[0][0]"
   ]
  },
  {
   "cell_type": "code",
   "execution_count": 121,
   "id": "2ca530d1",
   "metadata": {},
   "outputs": [
    {
     "data": {
      "text/plain": [
       "dict_values(['Inder', 15])"
      ]
     },
     "execution_count": 121,
     "metadata": {},
     "output_type": "execute_result"
    }
   ],
   "source": [
    "dict1.values()"
   ]
  },
  {
   "cell_type": "code",
   "execution_count": 185,
   "id": "edc25216",
   "metadata": {},
   "outputs": [],
   "source": [
    "Amazon={\"Mobiles\":{\"IOS\":{\"Iphone 11\":{\"Battery\":\"3000mAh\",\"Camera\":\"8MP\",\"Price\":\"Rs.50000\",\"Discount\":\"20% OFF\"},\n",
    "                          \"Iphone 13\":{\"Camera\":\"12MP\",\"RAM\":\"6GB\",\"Price\":\"Rs.70000\",\"Discount\":\"25% OFF\"}},\n",
    "                   'Android':{\"Samsung 21 Ultra\":{\"Battery\":\"5000mAh\",\"Camera\":\"80MP\"}}},\n",
    "        \"Books\":{\"Genres\":{\"Self_Help\":\"Pshychology_of_Money\",\n",
    "                           \"Literature_fiction\":\"Harry_Potter\"}},\n",
    "        \"Clothing\":{\"Kids\":{\"Shorts\":\"Lily Puts\"},\"Adults\":{\"Men\":'Nike',\"Women\":'Zara'}},\n",
    "        \"Computers\":{\"Windows\":'Dell G15',\"Mac\":\"Macbook Pro\"}}\n",
    "\n",
    "#Q. What is the price of Iphone 11 and Iphone 13 in Amazon after applying the discount\n",
    "\n"
   ]
  },
  {
   "cell_type": "code",
   "execution_count": 188,
   "id": "b7026a70",
   "metadata": {},
   "outputs": [
    {
     "data": {
      "text/plain": [
       "{'Mobiles': {'IOS': {'Iphone 11': {'Battery': '3000mAh',\n",
       "    'Camera': '8MP',\n",
       "    'Price': 'Rs.40000.0',\n",
       "    'Discount': '20% OFF'},\n",
       "   'Iphone 13': {'Camera': '12MP',\n",
       "    'RAM': '6GB',\n",
       "    'Price': 'Rs.52500.0',\n",
       "    'Discount': '25% OFF'}},\n",
       "  'Android': {'Samsung 21 Ultra': {'Battery': '5000mAh', 'Camera': '80MP'}}},\n",
       " 'Books': {'Genres': {'Self_Help': 'Pshychology_of_Money',\n",
       "   'Literature_fiction': 'Harry_Potter'}},\n",
       " 'Clothing': {'Kids': {'Shorts': 'Lily Puts'},\n",
       "  'Adults': {'Men': 'Nike', 'Women': 'Zara'}},\n",
       " 'Computers': {'Windows': 'Dell G15', 'Mac': 'Macbook Pro'}}"
      ]
     },
     "execution_count": 188,
     "metadata": {},
     "output_type": "execute_result"
    }
   ],
   "source": [
    "Price_of_iphone11=int(Amazon['Mobiles']['IOS']['Iphone 11']['Price'].split('.')[1])\n",
    "Discount_of_iphone11=int(Amazon['Mobiles']['IOS']['Iphone 11']['Discount'].split('%')[0])\n",
    "New_price_of_iphone11=\"Rs.\"+str(Price_of_iphone11-((Discount_of_iphone11*Price_of_iphone11)/100))\n",
    "Amazon['Mobiles']['IOS']['Iphone 11']['Price']=New_price_of_iphone11\n",
    "Amazon['Mobiles']['IOS']['Iphone 11']\n",
    "Amazon"
   ]
  },
  {
   "cell_type": "code",
   "execution_count": 187,
   "id": "2123aa8e",
   "metadata": {},
   "outputs": [
    {
     "data": {
      "text/plain": [
       "{'Mobiles': {'IOS': {'Iphone 11': {'Battery': '3000mAh',\n",
       "    'Camera': '8MP',\n",
       "    'Price': 'Rs.50000',\n",
       "    'Discount': '20% OFF'},\n",
       "   'Iphone 13': {'Camera': '12MP',\n",
       "    'RAM': '6GB',\n",
       "    'Price': 'Rs.52500.0',\n",
       "    'Discount': '25% OFF'}},\n",
       "  'Android': {'Samsung 21 Ultra': {'Battery': '5000mAh', 'Camera': '80MP'}}},\n",
       " 'Books': {'Genres': {'Self_Help': 'Pshychology_of_Money',\n",
       "   'Literature_fiction': 'Harry_Potter'}},\n",
       " 'Clothing': {'Kids': {'Shorts': 'Lily Puts'},\n",
       "  'Adults': {'Men': 'Nike', 'Women': 'Zara'}},\n",
       " 'Computers': {'Windows': 'Dell G15', 'Mac': 'Macbook Pro'}}"
      ]
     },
     "execution_count": 187,
     "metadata": {},
     "output_type": "execute_result"
    }
   ],
   "source": [
    "Price_of_iphone13=int(Amazon['Mobiles']['IOS']['Iphone 13']['Price'].split('.')[1])\n",
    "Discount_of_iphone13=int(Amazon['Mobiles']['IOS']['Iphone 13']['Discount'].split('%')[0])\n",
    "\n",
    "New_price_of_iphone13=\"Rs.\"+str(Price_of_iphone13-((Discount_of_iphone13*Price_of_iphone13)/100))\n",
    "Amazon['Mobiles']['IOS']['Iphone 13']['Price']=New_price_of_iphone13\n",
    "Amazon['Mobiles']['IOS']['Iphone 13']\n",
    "Amazon"
   ]
  },
  {
   "cell_type": "code",
   "execution_count": 189,
   "id": "3862f49d",
   "metadata": {},
   "outputs": [
    {
     "data": {
      "text/plain": [
       "['Ind', 'rpr', '', 't']"
      ]
     },
     "execution_count": 189,
     "metadata": {},
     "output_type": "execute_result"
    }
   ],
   "source": [
    "string='Inderpreet'\n",
    "string.split('e')"
   ]
  },
  {
   "cell_type": "code",
   "execution_count": 145,
   "id": "6c877788",
   "metadata": {},
   "outputs": [
    {
     "data": {
      "text/plain": [
       "['Inder', 'reet']"
      ]
     },
     "execution_count": 145,
     "metadata": {},
     "output_type": "execute_result"
    }
   ],
   "source": [
    "string='Inderpreet'\n",
    "string.split('p')"
   ]
  },
  {
   "cell_type": "code",
   "execution_count": 146,
   "id": "37a051e3",
   "metadata": {},
   "outputs": [
    {
     "data": {
      "text/plain": [
       "['Sangam', 'itra']"
      ]
     },
     "execution_count": 146,
     "metadata": {},
     "output_type": "execute_result"
    }
   ],
   "source": [
    "string2='Sangam%itra'\n",
    "string2.split('%')"
   ]
  },
  {
   "cell_type": "code",
   "execution_count": 150,
   "id": "855f7d14",
   "metadata": {},
   "outputs": [
    {
     "data": {
      "text/plain": [
       "25"
      ]
     },
     "execution_count": 150,
     "metadata": {},
     "output_type": "execute_result"
    }
   ],
   "source": [
    "string='25% OFF'\n",
    "int(string.split('%')[0])"
   ]
  },
  {
   "cell_type": "code",
   "execution_count": null,
   "id": "3e2553ec",
   "metadata": {},
   "outputs": [],
   "source": []
  }
 ],
 "metadata": {
  "kernelspec": {
   "display_name": "Python 3 (ipykernel)",
   "language": "python",
   "name": "python3"
  },
  "language_info": {
   "codemirror_mode": {
    "name": "ipython",
    "version": 3
   },
   "file_extension": ".py",
   "mimetype": "text/x-python",
   "name": "python",
   "nbconvert_exporter": "python",
   "pygments_lexer": "ipython3",
   "version": "3.7.6"
  }
 },
 "nbformat": 4,
 "nbformat_minor": 5
}
