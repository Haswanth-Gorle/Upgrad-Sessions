{
 "cells": [
  {
   "cell_type": "markdown",
   "id": "0b9328dd",
   "metadata": {},
   "source": [
    "## Strings"
   ]
  },
  {
   "cell_type": "markdown",
   "id": "340369ae",
   "metadata": {},
   "source": [
    "Strings are used to record the text information such as names,textual data,. \n",
    "Strings acts as \"Sequence \" which means Python tracks every element in the string\n",
    "Strings uses-----> ('') or (\"\")"
   ]
  },
  {
   "cell_type": "code",
   "execution_count": 3,
   "id": "3daaa17c",
   "metadata": {},
   "outputs": [
    {
     "data": {
      "text/plain": [
       "'HELLO'"
      ]
     },
     "execution_count": 3,
     "metadata": {},
     "output_type": "execute_result"
    }
   ],
   "source": [
    "\"HELLO\""
   ]
  },
  {
   "cell_type": "code",
   "execution_count": 4,
   "id": "92f8bad9",
   "metadata": {},
   "outputs": [
    {
     "ename": "SyntaxError",
     "evalue": "EOL while scanning string literal (Temp/ipykernel_17940/628875690.py, line 1)",
     "output_type": "error",
     "traceback": [
      "\u001b[1;36m  File \u001b[1;32m\"C:\\Users\\sidak\\AppData\\Local\\Temp/ipykernel_17940/628875690.py\"\u001b[1;36m, line \u001b[1;32m1\u001b[0m\n\u001b[1;33m    'hello\u001b[0m\n\u001b[1;37m          ^\u001b[0m\n\u001b[1;31mSyntaxError\u001b[0m\u001b[1;31m:\u001b[0m EOL while scanning string literal\n"
     ]
    }
   ],
   "source": [
    "'hello"
   ]
  },
  {
   "cell_type": "code",
   "execution_count": 7,
   "id": "4f8eb50e",
   "metadata": {},
   "outputs": [
    {
     "data": {
      "text/plain": [
       "'S'"
      ]
     },
     "execution_count": 7,
     "metadata": {},
     "output_type": "execute_result"
    }
   ],
   "source": [
    "Str1=\"Mohammed Saqlain\"\n",
    "Str1[9]\n",
    "#The space also takes a index\n"
   ]
  },
  {
   "cell_type": "markdown",
   "id": "5a0f65e9",
   "metadata": {},
   "source": [
    "## String Slicing"
   ]
  },
  {
   "cell_type": "code",
   "execution_count": 8,
   "id": "b2f49ee8",
   "metadata": {},
   "outputs": [
    {
     "data": {
      "text/plain": [
       "'ande'"
      ]
     },
     "execution_count": 8,
     "metadata": {},
     "output_type": "execute_result"
    }
   ],
   "source": [
    "str2='Sandeep'\n",
    "# S->0\n",
    "# A->1\n",
    "# n->2\n",
    "# D->3\n",
    "# e->4\n",
    "# e->5\n",
    "# p->6\n",
    "\n",
    "str2[1:5]"
   ]
  },
  {
   "cell_type": "code",
   "execution_count": 9,
   "id": "40df4739",
   "metadata": {},
   "outputs": [
    {
     "data": {
      "text/plain": [
       "'p'"
      ]
     },
     "execution_count": 9,
     "metadata": {},
     "output_type": "execute_result"
    }
   ],
   "source": [
    "str2[-1]"
   ]
  },
  {
   "cell_type": "code",
   "execution_count": 11,
   "id": "e0c0cb6d",
   "metadata": {},
   "outputs": [
    {
     "data": {
      "text/plain": [
       "'d'"
      ]
     },
     "execution_count": 11,
     "metadata": {},
     "output_type": "execute_result"
    }
   ],
   "source": [
    "str2[-4]"
   ]
  },
  {
   "cell_type": "markdown",
   "id": "30f0e67b",
   "metadata": {},
   "source": [
    "## Strings Properties\n",
    "\n",
    "1. Strings are immutable (that means we can't change the strings once created\")"
   ]
  },
  {
   "cell_type": "code",
   "execution_count": 12,
   "id": "437063b9",
   "metadata": {},
   "outputs": [
    {
     "ename": "TypeError",
     "evalue": "'str' object does not support item assignment",
     "output_type": "error",
     "traceback": [
      "\u001b[1;31m---------------------------------------------------------------------------\u001b[0m",
      "\u001b[1;31mTypeError\u001b[0m                                 Traceback (most recent call last)",
      "\u001b[1;32m~\\AppData\\Local\\Temp/ipykernel_17940/1253320088.py\u001b[0m in \u001b[0;36m<module>\u001b[1;34m\u001b[0m\n\u001b[0;32m      1\u001b[0m \u001b[0mStr1\u001b[0m\u001b[1;33m=\u001b[0m\u001b[1;34m'inder'\u001b[0m\u001b[1;33m\u001b[0m\u001b[1;33m\u001b[0m\u001b[0m\n\u001b[1;32m----> 2\u001b[1;33m \u001b[0mStr1\u001b[0m\u001b[1;33m[\u001b[0m\u001b[1;36m1\u001b[0m\u001b[1;33m]\u001b[0m\u001b[1;33m=\u001b[0m\u001b[1;34m's'\u001b[0m\u001b[1;33m\u001b[0m\u001b[1;33m\u001b[0m\u001b[0m\n\u001b[0m",
      "\u001b[1;31mTypeError\u001b[0m: 'str' object does not support item assignment"
     ]
    }
   ],
   "source": [
    "Str1='inder'\n",
    "Str1[1]='s'\n"
   ]
  },
  {
   "cell_type": "markdown",
   "id": "d0ab4190",
   "metadata": {},
   "source": [
    "## Basic Built in String methods"
   ]
  },
  {
   "cell_type": "markdown",
   "id": "ade060b1",
   "metadata": {},
   "source": [
    "In python objects have build in methods or functionaties which means these methods can make your task easy"
   ]
  },
  {
   "cell_type": "markdown",
   "id": "8e0e584c",
   "metadata": {},
   "source": [
    "For converting a string into Capital Letters use"
   ]
  },
  {
   "cell_type": "markdown",
   "id": "af12c763",
   "metadata": {},
   "source": [
    "## Upper Function\n",
    "\n",
    "String_name.upper()"
   ]
  },
  {
   "cell_type": "code",
   "execution_count": 14,
   "id": "e1418b98",
   "metadata": {},
   "outputs": [
    {
     "data": {
      "text/plain": [
       "'INDER'"
      ]
     },
     "execution_count": 14,
     "metadata": {},
     "output_type": "execute_result"
    }
   ],
   "source": [
    "Str1='Inder' #------->INDER\n",
    "Str1.upper()\n"
   ]
  },
  {
   "cell_type": "code",
   "execution_count": 15,
   "id": "803e9edb",
   "metadata": {},
   "outputs": [
    {
     "data": {
      "text/plain": [
       "'Sandeep'"
      ]
     },
     "execution_count": 15,
     "metadata": {},
     "output_type": "execute_result"
    }
   ],
   "source": [
    "Str2='Sandeep'\n",
    "Str2[::1]"
   ]
  },
  {
   "cell_type": "code",
   "execution_count": 16,
   "id": "6bc55d00",
   "metadata": {},
   "outputs": [
    {
     "data": {
      "text/plain": [
       "'Snep'"
      ]
     },
     "execution_count": 16,
     "metadata": {},
     "output_type": "execute_result"
    }
   ],
   "source": [
    "Str2[::2]"
   ]
  },
  {
   "cell_type": "code",
   "execution_count": 17,
   "id": "cf54ed66",
   "metadata": {},
   "outputs": [
    {
     "data": {
      "text/plain": [
       "'Vbvaaa'"
      ]
     },
     "execution_count": 17,
     "metadata": {},
     "output_type": "execute_result"
    }
   ],
   "source": [
    "Str3=\"Vaibhav Pampatwar\"\n",
    "Str3[::3]"
   ]
  },
  {
   "cell_type": "markdown",
   "id": "87af94a6",
   "metadata": {},
   "source": [
    "## Split Function\n",
    "Split helps in dividing the string based on the parameter\n",
    "Split function by default works on spaces"
   ]
  },
  {
   "cell_type": "code",
   "execution_count": 18,
   "id": "6de5b555",
   "metadata": {},
   "outputs": [
    {
     "data": {
      "text/plain": [
       "['Amazon', 'India']"
      ]
     },
     "execution_count": 18,
     "metadata": {},
     "output_type": "execute_result"
    }
   ],
   "source": [
    "Str_new='Amazon India'\n",
    "Str_new.split()\n"
   ]
  },
  {
   "cell_type": "code",
   "execution_count": 19,
   "id": "04164dbb",
   "metadata": {},
   "outputs": [
    {
     "data": {
      "text/plain": [
       "['Ama', 'on India']"
      ]
     },
     "execution_count": 19,
     "metadata": {},
     "output_type": "execute_result"
    }
   ],
   "source": [
    "Str_new.split('z')"
   ]
  },
  {
   "cell_type": "markdown",
   "id": "f52b9a00",
   "metadata": {},
   "source": [
    "## Primitive Data Structures\n",
    "1. These are the fundamental type of Data structures that stores the data of \n",
    "one type"
   ]
  },
  {
   "cell_type": "code",
   "execution_count": 20,
   "id": "06f66630",
   "metadata": {},
   "outputs": [
    {
     "data": {
      "text/plain": [
       "False"
      ]
     },
     "execution_count": 20,
     "metadata": {},
     "output_type": "execute_result"
    }
   ],
   "source": [
    "# Boolean\n",
    "\n",
    "X=2\n",
    "Y=5\n",
    "\n",
    "X==Y #(== ARE USED TO CHECK THE CONDITION)\n"
   ]
  },
  {
   "cell_type": "markdown",
   "id": "9a777ee0",
   "metadata": {},
   "source": [
    "Boolean Data Structures answers in two values which is True or False"
   ]
  },
  {
   "cell_type": "markdown",
   "id": "4cc82a84",
   "metadata": {},
   "source": [
    "## Lists\n",
    "\n",
    "List can be considered as the general version of a sequence. Unlike strings,\n",
    "they are mutable(that means we can change the items present in the list)\n",
    "\n",
    "1. List are constructed with [] and commas are used to seperate every element in the list\n"
   ]
  },
  {
   "cell_type": "code",
   "execution_count": 21,
   "id": "858ec6aa",
   "metadata": {},
   "outputs": [
    {
     "data": {
      "text/plain": [
       "['Inder', 'Upgrad', 3, 1, 1.5, 'False']"
      ]
     },
     "execution_count": 21,
     "metadata": {},
     "output_type": "execute_result"
    }
   ],
   "source": [
    "my_list=[\"Inder\",\"Upgrad\",3,1,1.5,'False']\n",
    "my_list"
   ]
  },
  {
   "cell_type": "code",
   "execution_count": 22,
   "id": "c3be55a0",
   "metadata": {},
   "outputs": [
    {
     "data": {
      "text/plain": [
       "'Upgrad'"
      ]
     },
     "execution_count": 22,
     "metadata": {},
     "output_type": "execute_result"
    }
   ],
   "source": [
    "my_list[1]"
   ]
  },
  {
   "cell_type": "markdown",
   "id": "fe5ce624",
   "metadata": {},
   "source": [
    "## Indexing and Slicing "
   ]
  },
  {
   "cell_type": "code",
   "execution_count": 25,
   "id": "7627db45",
   "metadata": {},
   "outputs": [
    {
     "data": {
      "text/plain": [
       "'two'"
      ]
     },
     "execution_count": 25,
     "metadata": {},
     "output_type": "execute_result"
    }
   ],
   "source": [
    "list1=['one','two','inder',4,5]\n",
    "list1[1]"
   ]
  },
  {
   "cell_type": "code",
   "execution_count": 26,
   "id": "9a043bb4",
   "metadata": {},
   "outputs": [],
   "source": [
    "##We can use \"+\" to concatenate list just like we did it in strings"
   ]
  },
  {
   "cell_type": "code",
   "execution_count": 27,
   "id": "854db4dd",
   "metadata": {},
   "outputs": [
    {
     "data": {
      "text/plain": [
       "['one', 'two', 'inder', 4, 5, 'Zoeba', 'rishi']"
      ]
     },
     "execution_count": 27,
     "metadata": {},
     "output_type": "execute_result"
    }
   ],
   "source": [
    "list1+ ['Zoeba','rishi']"
   ]
  },
  {
   "cell_type": "code",
   "execution_count": 29,
   "id": "f82acce4",
   "metadata": {},
   "outputs": [
    {
     "data": {
      "text/plain": [
       "[1, 1000, 3]"
      ]
     },
     "execution_count": 29,
     "metadata": {},
     "output_type": "execute_result"
    }
   ],
   "source": [
    "list_new=[1,2,3]\n",
    "list_new[1]=1000\n",
    "list_new"
   ]
  },
  {
   "cell_type": "code",
   "execution_count": 30,
   "id": "2817344a",
   "metadata": {},
   "outputs": [
    {
     "data": {
      "text/plain": [
       "['one', 'two', 'inder', 4, 5, 'Zoeba', 'rishi', 'sidak', 'sid']"
      ]
     },
     "execution_count": 30,
     "metadata": {},
     "output_type": "execute_result"
    }
   ],
   "source": [
    "list1+ ['Zoeba','rishi']+ ['sidak','sid']"
   ]
  },
  {
   "cell_type": "code",
   "execution_count": 31,
   "id": "b206ccf1",
   "metadata": {},
   "outputs": [
    {
     "data": {
      "text/plain": [
       "[77, 33]"
      ]
     },
     "execution_count": 31,
     "metadata": {},
     "output_type": "execute_result"
    }
   ],
   "source": [
    "list_2=[1,77,33,311]\n",
    "list_2[1:3]"
   ]
  },
  {
   "cell_type": "markdown",
   "id": "80ea48c9",
   "metadata": {},
   "source": [
    "We can use * for duplication method similiar to strings"
   ]
  },
  {
   "cell_type": "code",
   "execution_count": 32,
   "id": "c7b57de6",
   "metadata": {},
   "outputs": [
    {
     "data": {
      "text/plain": [
       "[1, 77, 33, 311]"
      ]
     },
     "execution_count": 32,
     "metadata": {},
     "output_type": "execute_result"
    }
   ],
   "source": [
    "list_2"
   ]
  },
  {
   "cell_type": "code",
   "execution_count": 35,
   "id": "0eb39b73",
   "metadata": {},
   "outputs": [
    {
     "data": {
      "text/plain": [
       "[1, 77, 33, 311, 1, 77, 33, 311, 1, 77, 33, 311, 1, 77, 33, 311]"
      ]
     },
     "execution_count": 35,
     "metadata": {},
     "output_type": "execute_result"
    }
   ],
   "source": [
    "list_2*4"
   ]
  },
  {
   "cell_type": "code",
   "execution_count": 37,
   "id": "9e4a78d7",
   "metadata": {},
   "outputs": [
    {
     "data": {
      "text/plain": [
       "str"
      ]
     },
     "execution_count": 37,
     "metadata": {},
     "output_type": "execute_result"
    }
   ],
   "source": [
    "list2=['inder','mahesh']\n",
    "type(list2[0])"
   ]
  },
  {
   "cell_type": "code",
   "execution_count": 42,
   "id": "c623a62e",
   "metadata": {},
   "outputs": [
    {
     "data": {
      "text/plain": [
       "'nd'"
      ]
     },
     "execution_count": 42,
     "metadata": {},
     "output_type": "execute_result"
    }
   ],
   "source": [
    "list2[0][1:3]"
   ]
  },
  {
   "cell_type": "markdown",
   "id": "7a2f99b8",
   "metadata": {},
   "source": [
    "## Append method is used to add an item to the end of the list \n",
    "\n",
    "Syntax for append: List_name.append(object)"
   ]
  },
  {
   "cell_type": "code",
   "execution_count": 45,
   "id": "5ad2fb43",
   "metadata": {},
   "outputs": [
    {
     "data": {
      "text/plain": [
       "[1, 2, 3, 'shivam', 'inder']"
      ]
     },
     "execution_count": 45,
     "metadata": {},
     "output_type": "execute_result"
    }
   ],
   "source": [
    "list2=[1,2,3]\n",
    "list2.append('shivam')\n",
    "list2.append('inder')\n",
    "list2"
   ]
  },
  {
   "cell_type": "markdown",
   "id": "286bb009",
   "metadata": {},
   "source": [
    "## Pop --> is used to remove an item from the list. "
   ]
  },
  {
   "cell_type": "markdown",
   "id": "a7388d25",
   "metadata": {},
   "source": [
    "## By default pop takes off the last index, but you can specify which index to pop"
   ]
  },
  {
   "cell_type": "code",
   "execution_count": 46,
   "id": "f68beb9d",
   "metadata": {},
   "outputs": [
    {
     "data": {
      "text/plain": [
       "[1, 2, 3, 'shivam', 'inder']"
      ]
     },
     "execution_count": 46,
     "metadata": {},
     "output_type": "execute_result"
    }
   ],
   "source": [
    "list2"
   ]
  },
  {
   "cell_type": "code",
   "execution_count": 47,
   "id": "dbddb2e6",
   "metadata": {},
   "outputs": [
    {
     "data": {
      "text/plain": [
       "'inder'"
      ]
     },
     "execution_count": 47,
     "metadata": {},
     "output_type": "execute_result"
    }
   ],
   "source": [
    "list2.pop()"
   ]
  },
  {
   "cell_type": "code",
   "execution_count": 48,
   "id": "904b86ee",
   "metadata": {},
   "outputs": [
    {
     "data": {
      "text/plain": [
       "[1, 2, 3, 'shivam']"
      ]
     },
     "execution_count": 48,
     "metadata": {},
     "output_type": "execute_result"
    }
   ],
   "source": [
    "list2"
   ]
  },
  {
   "cell_type": "code",
   "execution_count": 49,
   "id": "9637a290",
   "metadata": {},
   "outputs": [
    {
     "data": {
      "text/plain": [
       "2"
      ]
     },
     "execution_count": 49,
     "metadata": {},
     "output_type": "execute_result"
    }
   ],
   "source": [
    "list2.pop(1)"
   ]
  },
  {
   "cell_type": "code",
   "execution_count": 50,
   "id": "e087b237",
   "metadata": {},
   "outputs": [
    {
     "data": {
      "text/plain": [
       "[1, 3, 'shivam']"
      ]
     },
     "execution_count": 50,
     "metadata": {},
     "output_type": "execute_result"
    }
   ],
   "source": [
    "list2"
   ]
  },
  {
   "cell_type": "markdown",
   "id": "a46cefa8",
   "metadata": {},
   "source": [
    "## Nested List\n",
    "\n",
    "It is a very great feature in Python Data Structure and this means a list inside another list\n"
   ]
  },
  {
   "cell_type": "code",
   "execution_count": 51,
   "id": "4d1bfefc",
   "metadata": {},
   "outputs": [],
   "source": [
    "List1=[1,2,3,['sidak','shivam'],'5']"
   ]
  },
  {
   "cell_type": "code",
   "execution_count": 57,
   "id": "ee40d507",
   "metadata": {},
   "outputs": [
    {
     "data": {
      "text/plain": [
       "'s'"
      ]
     },
     "execution_count": 57,
     "metadata": {},
     "output_type": "execute_result"
    }
   ],
   "source": [
    "List1[3][0][0]"
   ]
  },
  {
   "cell_type": "markdown",
   "id": "3169ec57",
   "metadata": {},
   "source": [
    "## Extend\n",
    "Many times people find the difference between extend and append to be unclear\n",
    "\n",
    "1. Append adds elements at end\n",
    "2. Extend list by appending the elements from the iterable"
   ]
  },
  {
   "cell_type": "code",
   "execution_count": 60,
   "id": "d132f48b",
   "metadata": {},
   "outputs": [
    {
     "data": {
      "text/plain": [
       "[1, 2, 3, [4, 5], 'tyz']"
      ]
     },
     "execution_count": 60,
     "metadata": {},
     "output_type": "execute_result"
    }
   ],
   "source": [
    "x=[1,2,3]\n",
    "x.append([4,5])\n",
    "x.append('tyz')\n",
    "x"
   ]
  },
  {
   "cell_type": "code",
   "execution_count": 66,
   "id": "c5efff1e",
   "metadata": {},
   "outputs": [
    {
     "data": {
      "text/plain": [
       "[1, 2, 3, 't', 'y', 'z', 'tyz', 'yz']"
      ]
     },
     "execution_count": 66,
     "metadata": {},
     "output_type": "execute_result"
    }
   ],
   "source": [
    "x=[1,2,3]\n",
    "x.extend('tyz')\n",
    "x.extend(['tyz','yz'])\n",
    "x"
   ]
  },
  {
   "cell_type": "code",
   "execution_count": 62,
   "id": "d31e54c9",
   "metadata": {},
   "outputs": [
    {
     "data": {
      "text/plain": [
       "[1, 2, 3, 1, 3]"
      ]
     },
     "execution_count": 62,
     "metadata": {},
     "output_type": "execute_result"
    }
   ],
   "source": [
    "y=[1,2,3]\n",
    "y.extend([1,3])\n",
    "y"
   ]
  },
  {
   "cell_type": "code",
   "execution_count": 64,
   "id": "6bfc32d7",
   "metadata": {},
   "outputs": [
    {
     "data": {
      "text/plain": [
       "[12, 54, 45, 88, 99]"
      ]
     },
     "execution_count": 64,
     "metadata": {},
     "output_type": "execute_result"
    }
   ],
   "source": [
    "list1=[1,2,3,4,5]\n",
    "list2=[12,54,45,88,99]\n",
    "list1.extend(list2)\n",
    "list2"
   ]
  },
  {
   "cell_type": "markdown",
   "id": "65352aad",
   "metadata": {},
   "source": [
    "## Insert\n",
    "\n",
    "Two argument can be placed in insert\n",
    "\n",
    "Syntax: insert(index,object)"
   ]
  },
  {
   "cell_type": "code",
   "execution_count": 67,
   "id": "850f392c",
   "metadata": {},
   "outputs": [
    {
     "data": {
      "text/plain": [
       "[1, 2, 'inder', 3, 4]"
      ]
     },
     "execution_count": 67,
     "metadata": {},
     "output_type": "execute_result"
    }
   ],
   "source": [
    "list1=[1,2,3,4]\n",
    "list1.insert(2,'inder')\n",
    "list1"
   ]
  },
  {
   "cell_type": "code",
   "execution_count": 68,
   "id": "228f1e28",
   "metadata": {},
   "outputs": [
    {
     "data": {
      "text/plain": [
       "[1, 2, [1, 2], 'inder', 3, 4]"
      ]
     },
     "execution_count": 68,
     "metadata": {},
     "output_type": "execute_result"
    }
   ],
   "source": [
    "list1.insert(2,[1,2])\n",
    "list1"
   ]
  },
  {
   "cell_type": "markdown",
   "id": "f3c098b5",
   "metadata": {},
   "source": [
    "## Remove --> This method removes the first occurrence of the value in a list\n",
    "\n",
    "Syntax: list_name.remove(object)"
   ]
  },
  {
   "cell_type": "code",
   "execution_count": 69,
   "id": "f89ba348",
   "metadata": {},
   "outputs": [
    {
     "data": {
      "text/plain": [
       "[1, 2, 3, 1, 2, 3, 'inder']"
      ]
     },
     "execution_count": 69,
     "metadata": {},
     "output_type": "execute_result"
    }
   ],
   "source": [
    "list1=[1,2,3,'inder',1,2,3,'inder']\n",
    "list1.remove('inder')\n",
    "list1"
   ]
  },
  {
   "cell_type": "markdown",
   "id": "41e51ded",
   "metadata": {},
   "source": [
    "## Reverse"
   ]
  },
  {
   "cell_type": "markdown",
   "id": "5f10bfa3",
   "metadata": {},
   "source": [
    "As the name suggest, reverse() helps to reverse a list\n",
    "\n",
    "Syntax: list_name.reverse()"
   ]
  },
  {
   "cell_type": "code",
   "execution_count": 81,
   "id": "190f939c",
   "metadata": {},
   "outputs": [
    {
     "data": {
      "text/plain": [
       "'inder'"
      ]
     },
     "execution_count": 81,
     "metadata": {},
     "output_type": "execute_result"
    }
   ],
   "source": [
    "str1='inder'\n",
    "str1"
   ]
  },
  {
   "cell_type": "code",
   "execution_count": 71,
   "id": "a28ef736",
   "metadata": {},
   "outputs": [],
   "source": [
    "list1.reverse()"
   ]
  },
  {
   "cell_type": "code",
   "execution_count": 72,
   "id": "0034271f",
   "metadata": {},
   "outputs": [
    {
     "data": {
      "text/plain": [
       "['inder', 3, 2, 1, 3, 2, 1]"
      ]
     },
     "execution_count": 72,
     "metadata": {},
     "output_type": "execute_result"
    }
   ],
   "source": [
    "list1"
   ]
  },
  {
   "cell_type": "markdown",
   "id": "1031c0d3",
   "metadata": {},
   "source": [
    "## Sort\n",
    "\n",
    "It will sort your list either in ascending(low->high) or descending order (high->low)\n",
    "1. By default sort functions sort alll the items in ascending order\n",
    "2. To sort the items in list using Descending we have to pass a parameter reverse=True\n",
    "\n"
   ]
  },
  {
   "cell_type": "code",
   "execution_count": 82,
   "id": "51e61d4f",
   "metadata": {},
   "outputs": [
    {
     "data": {
      "text/plain": [
       "[11, 22, 33, 45, 45, 67, 68, 98]"
      ]
     },
     "execution_count": 82,
     "metadata": {},
     "output_type": "execute_result"
    }
   ],
   "source": [
    "list_marks=[33,45,11,22,98,67,45,68]\n",
    "list_marks.sort()\n",
    "list_marks"
   ]
  },
  {
   "cell_type": "code",
   "execution_count": 74,
   "id": "56d61d35",
   "metadata": {},
   "outputs": [
    {
     "data": {
      "text/plain": [
       "[98, 68, 67, 45, 45, 33, 22, 11]"
      ]
     },
     "execution_count": 74,
     "metadata": {},
     "output_type": "execute_result"
    }
   ],
   "source": [
    "list_marks=[33,45,11,22,98,67,45,68]\n",
    "list_marks.sort(reverse=True)\n",
    "list_marks"
   ]
  },
  {
   "cell_type": "markdown",
   "id": "7af06dec",
   "metadata": {},
   "source": [
    "## Sorted Function\n",
    "\n",
    "Sorted function sorts the given sequence in ascending or descending order and returns the sort list. This method does not affect the order of the elements \n",
    "in the original list."
   ]
  },
  {
   "cell_type": "code",
   "execution_count": 75,
   "id": "8b3d2fc6",
   "metadata": {},
   "outputs": [
    {
     "data": {
      "text/plain": [
       "[11, 22, 33, 45, 45, 67, 68, 98]"
      ]
     },
     "execution_count": 75,
     "metadata": {},
     "output_type": "execute_result"
    }
   ],
   "source": [
    "list_marks=[33,45,11,22,98,67,45,68]\n",
    "list_marks.sort()\n",
    "list_marks"
   ]
  },
  {
   "cell_type": "code",
   "execution_count": 83,
   "id": "91d802e8",
   "metadata": {},
   "outputs": [
    {
     "data": {
      "text/plain": [
       "[3, 12, 12, 22, 32, 545454]"
      ]
     },
     "execution_count": 83,
     "metadata": {},
     "output_type": "execute_result"
    }
   ],
   "source": [
    "orig_list=[22,3,12,32,545454,12]\n",
    "sorted(orig_list)\n"
   ]
  },
  {
   "cell_type": "code",
   "execution_count": 84,
   "id": "e79db530",
   "metadata": {},
   "outputs": [
    {
     "data": {
      "text/plain": [
       "[22, 3, 12, 32, 545454, 12]"
      ]
     },
     "execution_count": 84,
     "metadata": {},
     "output_type": "execute_result"
    }
   ],
   "source": [
    "orig_list"
   ]
  },
  {
   "cell_type": "code",
   "execution_count": 76,
   "id": "50e49250",
   "metadata": {},
   "outputs": [
    {
     "data": {
      "text/plain": [
       "[11, 22, 33, 45, 45, 67, 68, 98]"
      ]
     },
     "execution_count": 76,
     "metadata": {},
     "output_type": "execute_result"
    }
   ],
   "source": [
    "list_marks=[33,45,11,22,98,67,45,68]\n",
    "sorted(list_marks)"
   ]
  },
  {
   "cell_type": "code",
   "execution_count": 77,
   "id": "52ad38e9",
   "metadata": {},
   "outputs": [
    {
     "data": {
      "text/plain": [
       "[33, 45, 11, 22, 98, 67, 45, 68]"
      ]
     },
     "execution_count": 77,
     "metadata": {},
     "output_type": "execute_result"
    }
   ],
   "source": [
    "list_marks"
   ]
  },
  {
   "cell_type": "code",
   "execution_count": 78,
   "id": "bd42f245",
   "metadata": {},
   "outputs": [
    {
     "data": {
      "text/plain": [
       "[120, 99, 27, 25, 24, 23, 22, 18]"
      ]
     },
     "execution_count": 78,
     "metadata": {},
     "output_type": "execute_result"
    }
   ],
   "source": [
    "list2_age=[22,23,24,25,27,18,99,120]\n",
    "sorted(list2_age,reverse=True)"
   ]
  },
  {
   "cell_type": "markdown",
   "id": "4ebcc1dd",
   "metadata": {},
   "source": [
    " Split() ignores the whitespaces on the end of the input\n",
    " Strip() does not ignore the whitespace"
   ]
  },
  {
   "cell_type": "code",
   "execution_count": 86,
   "id": "0169c4ac",
   "metadata": {},
   "outputs": [
    {
     "data": {
      "text/plain": [
       "'Inder preet'"
      ]
     },
     "execution_count": 86,
     "metadata": {},
     "output_type": "execute_result"
    }
   ],
   "source": [
    "string=\"Inder preet\"\n",
    "string.strip()"
   ]
  },
  {
   "cell_type": "code",
   "execution_count": 87,
   "id": "7186db2f",
   "metadata": {},
   "outputs": [
    {
     "data": {
      "text/plain": [
       "['Inder', 'preet']"
      ]
     },
     "execution_count": 87,
     "metadata": {},
     "output_type": "execute_result"
    }
   ],
   "source": [
    "string=\"Inder preet\"\n",
    "string.split()"
   ]
  },
  {
   "cell_type": "markdown",
   "id": "baba7c18",
   "metadata": {},
   "source": [
    "## Tuples"
   ]
  },
  {
   "cell_type": "markdown",
   "id": "4d250880",
   "metadata": {},
   "source": [
    "Tuples are similiar to lists but they are immutable that means they can't be changed\n",
    "\n",
    "Tuples are used to present data that we don't want to change. For example: Aadhaar no,debit card no, account no, admission no\n",
    "\n",
    "Tuples are represented using-------> ()"
   ]
  },
  {
   "cell_type": "code",
   "execution_count": 88,
   "id": "2aac0781",
   "metadata": {},
   "outputs": [
    {
     "data": {
      "text/plain": [
       "(61642343445454, 121211212212, 21221434334)"
      ]
     },
     "execution_count": 88,
     "metadata": {},
     "output_type": "execute_result"
    }
   ],
   "source": [
    "tup_1=(61642343445454,121211212212,21221434334)\n",
    "tup_1"
   ]
  },
  {
   "cell_type": "code",
   "execution_count": 90,
   "id": "59d975a8",
   "metadata": {},
   "outputs": [
    {
     "ename": "TypeError",
     "evalue": "'tuple' object does not support item assignment",
     "output_type": "error",
     "traceback": [
      "\u001b[1;31m---------------------------------------------------------------------------\u001b[0m",
      "\u001b[1;31mTypeError\u001b[0m                                 Traceback (most recent call last)",
      "\u001b[1;32m~\\AppData\\Local\\Temp/ipykernel_17940/3838847710.py\u001b[0m in \u001b[0;36m<module>\u001b[1;34m\u001b[0m\n\u001b[1;32m----> 1\u001b[1;33m \u001b[0mtup_1\u001b[0m\u001b[1;33m[\u001b[0m\u001b[1;36m0\u001b[0m\u001b[1;33m]\u001b[0m\u001b[1;33m=\u001b[0m\u001b[1;36m54544554545454\u001b[0m\u001b[1;33m\u001b[0m\u001b[1;33m\u001b[0m\u001b[0m\n\u001b[0m",
      "\u001b[1;31mTypeError\u001b[0m: 'tuple' object does not support item assignment"
     ]
    }
   ],
   "source": [
    "tup_1[0]=54544554545454\n"
   ]
  },
  {
   "cell_type": "code",
   "execution_count": 91,
   "id": "4edf49a5",
   "metadata": {},
   "outputs": [
    {
     "data": {
      "text/plain": [
       "[545445545445, 121211212212, 21221434334]"
      ]
     },
     "execution_count": 91,
     "metadata": {},
     "output_type": "execute_result"
    }
   ],
   "source": [
    "list1=[61642343445454,121211212212,21221434334]\n",
    "list1[0]=545445545445\n",
    "list1"
   ]
  },
  {
   "cell_type": "code",
   "execution_count": 92,
   "id": "1aa57c7e",
   "metadata": {},
   "outputs": [
    {
     "ename": "AttributeError",
     "evalue": "'tuple' object has no attribute 'sort'",
     "output_type": "error",
     "traceback": [
      "\u001b[1;31m---------------------------------------------------------------------------\u001b[0m",
      "\u001b[1;31mAttributeError\u001b[0m                            Traceback (most recent call last)",
      "\u001b[1;32m~\\AppData\\Local\\Temp/ipykernel_17940/1780029137.py\u001b[0m in \u001b[0;36m<module>\u001b[1;34m\u001b[0m\n\u001b[0;32m      2\u001b[0m \u001b[1;33m\u001b[0m\u001b[0m\n\u001b[0;32m      3\u001b[0m \u001b[0mtup1\u001b[0m\u001b[1;33m=\u001b[0m\u001b[1;33m(\u001b[0m\u001b[1;36m1\u001b[0m\u001b[1;33m,\u001b[0m\u001b[1;36m43\u001b[0m\u001b[1;33m,\u001b[0m\u001b[1;36m231\u001b[0m\u001b[1;33m,\u001b[0m\u001b[1;36m45\u001b[0m\u001b[1;33m,\u001b[0m\u001b[1;36m2332\u001b[0m\u001b[1;33m,\u001b[0m\u001b[1;36m65\u001b[0m\u001b[1;33m,\u001b[0m\u001b[1;36m34\u001b[0m\u001b[1;33m,\u001b[0m\u001b[1;36m54\u001b[0m\u001b[1;33m,\u001b[0m\u001b[1;36m234\u001b[0m\u001b[1;33m,\u001b[0m\u001b[1;36m567\u001b[0m\u001b[1;33m)\u001b[0m\u001b[1;33m\u001b[0m\u001b[1;33m\u001b[0m\u001b[0m\n\u001b[1;32m----> 4\u001b[1;33m \u001b[0mtup1\u001b[0m\u001b[1;33m.\u001b[0m\u001b[0msort\u001b[0m\u001b[1;33m(\u001b[0m\u001b[1;33m)\u001b[0m\u001b[1;33m\u001b[0m\u001b[1;33m\u001b[0m\u001b[0m\n\u001b[0m\u001b[0;32m      5\u001b[0m \u001b[0mtup1\u001b[0m\u001b[1;33m\u001b[0m\u001b[1;33m\u001b[0m\u001b[0m\n",
      "\u001b[1;31mAttributeError\u001b[0m: 'tuple' object has no attribute 'sort'"
     ]
    }
   ],
   "source": [
    "# sort the tuple using sort function\n",
    "\n",
    "tup1=(1,43,231,45,2332,65,34,54,234,567)\n",
    "tup1.sort()\n",
    "tup1"
   ]
  },
  {
   "cell_type": "markdown",
   "id": "5e63b56e",
   "metadata": {},
   "source": [
    "This error shows that tuples are immutable and they can't change their index"
   ]
  },
  {
   "cell_type": "code",
   "execution_count": 93,
   "id": "a706a615",
   "metadata": {},
   "outputs": [
    {
     "data": {
      "text/plain": [
       "[1, 34, 43, 45, 54, 65, 231, 234, 567, 2332]"
      ]
     },
     "execution_count": 93,
     "metadata": {},
     "output_type": "execute_result"
    }
   ],
   "source": [
    "sorted(tup1)"
   ]
  },
  {
   "cell_type": "code",
   "execution_count": null,
   "id": "7e38f8b5",
   "metadata": {},
   "outputs": [],
   "source": [
    "List2=[2,3,4,1,1]\n"
   ]
  },
  {
   "cell_type": "code",
   "execution_count": 94,
   "id": "51d61f4e",
   "metadata": {},
   "outputs": [
    {
     "data": {
      "text/plain": [
       "['ashwin', 'inder', 'mahesh', 'ravi']"
      ]
     },
     "execution_count": 94,
     "metadata": {},
     "output_type": "execute_result"
    }
   ],
   "source": [
    "list_string=['inder','mahesh','ravi','ashwin']\n",
    "list_string.sort()\n",
    "list_string"
   ]
  },
  {
   "cell_type": "code",
   "execution_count": 97,
   "id": "8941da56",
   "metadata": {},
   "outputs": [
    {
     "ename": "TypeError",
     "evalue": "'<' not supported between instances of 'str' and 'int'",
     "output_type": "error",
     "traceback": [
      "\u001b[1;31m---------------------------------------------------------------------------\u001b[0m",
      "\u001b[1;31mTypeError\u001b[0m                                 Traceback (most recent call last)",
      "\u001b[1;32m~\\AppData\\Local\\Temp/ipykernel_17940/3299532884.py\u001b[0m in \u001b[0;36m<module>\u001b[1;34m\u001b[0m\n\u001b[0;32m      1\u001b[0m \u001b[0mlist_mix\u001b[0m\u001b[1;33m=\u001b[0m\u001b[1;33m[\u001b[0m\u001b[1;36m1\u001b[0m\u001b[1;33m,\u001b[0m\u001b[1;36m2\u001b[0m\u001b[1;33m,\u001b[0m\u001b[1;36m3\u001b[0m\u001b[1;33m,\u001b[0m\u001b[1;34m'inder'\u001b[0m\u001b[1;33m,\u001b[0m\u001b[1;34m'mahesh'\u001b[0m\u001b[1;33m,\u001b[0m\u001b[1;34m'ashwin'\u001b[0m\u001b[1;33m]\u001b[0m\u001b[1;33m\u001b[0m\u001b[1;33m\u001b[0m\u001b[0m\n\u001b[1;32m----> 2\u001b[1;33m \u001b[0mlist_mix\u001b[0m\u001b[1;33m.\u001b[0m\u001b[0msort\u001b[0m\u001b[1;33m(\u001b[0m\u001b[1;33m)\u001b[0m\u001b[1;33m\u001b[0m\u001b[1;33m\u001b[0m\u001b[0m\n\u001b[0m",
      "\u001b[1;31mTypeError\u001b[0m: '<' not supported between instances of 'str' and 'int'"
     ]
    }
   ],
   "source": [
    "list_mix=[1,2,3,'inder','mahesh','ashwin']\n",
    "list_mix.sort()\n"
   ]
  },
  {
   "cell_type": "code",
   "execution_count": 99,
   "id": "bed67416",
   "metadata": {},
   "outputs": [
    {
     "ename": "TypeError",
     "evalue": "'<' not supported between instances of 'str' and 'int'",
     "output_type": "error",
     "traceback": [
      "\u001b[1;31m---------------------------------------------------------------------------\u001b[0m",
      "\u001b[1;31mTypeError\u001b[0m                                 Traceback (most recent call last)",
      "\u001b[1;32m~\\AppData\\Local\\Temp/ipykernel_17940/3989339811.py\u001b[0m in \u001b[0;36m<module>\u001b[1;34m\u001b[0m\n\u001b[0;32m      1\u001b[0m \u001b[0mlist_mix\u001b[0m\u001b[1;33m=\u001b[0m\u001b[1;33m[\u001b[0m\u001b[1;36m1\u001b[0m\u001b[1;33m,\u001b[0m\u001b[1;36m2\u001b[0m\u001b[1;33m,\u001b[0m\u001b[1;36m3\u001b[0m\u001b[1;33m,\u001b[0m\u001b[1;34m'air'\u001b[0m\u001b[1;33m,\u001b[0m\u001b[1;36m4\u001b[0m\u001b[1;33m,\u001b[0m\u001b[1;34m'max'\u001b[0m\u001b[1;33m,\u001b[0m\u001b[1;36m5\u001b[0m\u001b[1;33m]\u001b[0m\u001b[1;33m\u001b[0m\u001b[1;33m\u001b[0m\u001b[0m\n\u001b[1;32m----> 2\u001b[1;33m \u001b[0mlist_mix\u001b[0m\u001b[1;33m.\u001b[0m\u001b[0msort\u001b[0m\u001b[1;33m(\u001b[0m\u001b[1;33m)\u001b[0m\u001b[1;33m\u001b[0m\u001b[1;33m\u001b[0m\u001b[0m\n\u001b[0m\u001b[0;32m      3\u001b[0m \u001b[0mlist_mix\u001b[0m\u001b[1;33m\u001b[0m\u001b[1;33m\u001b[0m\u001b[0m\n",
      "\u001b[1;31mTypeError\u001b[0m: '<' not supported between instances of 'str' and 'int'"
     ]
    }
   ],
   "source": [
    "list_mix=[1,2,3,'air',4,'max',5]\n",
    "list_mix.sort()\n",
    "list_mix"
   ]
  },
  {
   "cell_type": "code",
   "execution_count": 100,
   "id": "9adbddbe",
   "metadata": {},
   "outputs": [
    {
     "data": {
      "text/plain": [
       "['1', '2', '2', '3', 'air']"
      ]
     },
     "execution_count": 100,
     "metadata": {},
     "output_type": "execute_result"
    }
   ],
   "source": [
    "list2=[\"1\",\"2\",\"3\",\"air\",\"2\"]\n",
    "1-34\n",
    "2-43\n",
    "\n",
    "air-->222\n",
    "3-76\n",
    "\n",
    "list2.sort()\n",
    "list2"
   ]
  },
  {
   "cell_type": "code",
   "execution_count": 104,
   "id": "73f2a7db",
   "metadata": {},
   "outputs": [
    {
     "data": {
      "text/plain": [
       "50"
      ]
     },
     "execution_count": 104,
     "metadata": {},
     "output_type": "execute_result"
    }
   ],
   "source": [
    "ord('2') #ord is used to find ASCII value of any data type"
   ]
  },
  {
   "cell_type": "markdown",
   "id": "540e0f97",
   "metadata": {},
   "source": [
    "# Sets\n",
    "\n",
    "Sets are unordered collection of unique elements\n",
    "Sets are denoted by curly braces---> {}\n"
   ]
  },
  {
   "cell_type": "code",
   "execution_count": 105,
   "id": "b2430aa3",
   "metadata": {},
   "outputs": [
    {
     "data": {
      "text/plain": [
       "{1, 2, 3}"
      ]
     },
     "execution_count": 105,
     "metadata": {},
     "output_type": "execute_result"
    }
   ],
   "source": [
    "set1={1,2,3}\n",
    "set1"
   ]
  },
  {
   "cell_type": "code",
   "execution_count": 106,
   "id": "1e7e548e",
   "metadata": {},
   "outputs": [
    {
     "data": {
      "text/plain": [
       "{1, 2, 3}"
      ]
     },
     "execution_count": 106,
     "metadata": {},
     "output_type": "execute_result"
    }
   ],
   "source": [
    "set1.add(1)\n",
    "set1"
   ]
  },
  {
   "cell_type": "code",
   "execution_count": 107,
   "id": "4f416cb6",
   "metadata": {},
   "outputs": [
    {
     "data": {
      "text/plain": [
       "{1, 2, 3, 'inder'}"
      ]
     },
     "execution_count": 107,
     "metadata": {},
     "output_type": "execute_result"
    }
   ],
   "source": [
    "set1.add('inder')\n",
    "set1"
   ]
  },
  {
   "cell_type": "code",
   "execution_count": 108,
   "id": "d5c210ab",
   "metadata": {},
   "outputs": [
    {
     "ename": "TypeError",
     "evalue": "'set' object is not subscriptable",
     "output_type": "error",
     "traceback": [
      "\u001b[1;31m---------------------------------------------------------------------------\u001b[0m",
      "\u001b[1;31mTypeError\u001b[0m                                 Traceback (most recent call last)",
      "\u001b[1;32m~\\AppData\\Local\\Temp/ipykernel_17940/2166654704.py\u001b[0m in \u001b[0;36m<module>\u001b[1;34m\u001b[0m\n\u001b[1;32m----> 1\u001b[1;33m \u001b[0mset1\u001b[0m\u001b[1;33m[\u001b[0m\u001b[1;36m0\u001b[0m\u001b[1;33m]\u001b[0m\u001b[1;33m\u001b[0m\u001b[1;33m\u001b[0m\u001b[0m\n\u001b[0m",
      "\u001b[1;31mTypeError\u001b[0m: 'set' object is not subscriptable"
     ]
    }
   ],
   "source": [
    "set1[0]"
   ]
  },
  {
   "cell_type": "markdown",
   "id": "82ed0d9f",
   "metadata": {},
   "source": [
    "Why this error?\n",
    "\n",
    "Ans. Because sets are unordered that means no fix index for any element in sets"
   ]
  },
  {
   "cell_type": "markdown",
   "id": "0f61793e",
   "metadata": {},
   "source": [
    "videos\n",
    "I want only unique videos\n",
    "So for that we can use sets. Because set stores unique elements\n"
   ]
  },
  {
   "cell_type": "code",
   "execution_count": 109,
   "id": "1aae1101",
   "metadata": {},
   "outputs": [
    {
     "data": {
      "text/plain": [
       "(1, 2, 3, 1, 2, 3)"
      ]
     },
     "execution_count": 109,
     "metadata": {},
     "output_type": "execute_result"
    }
   ],
   "source": [
    "tup1=(1,2,3,1,2,3)\n",
    "tup1"
   ]
  },
  {
   "cell_type": "code",
   "execution_count": null,
   "id": "f54e7f67",
   "metadata": {},
   "outputs": [],
   "source": []
  }
 ],
 "metadata": {
  "kernelspec": {
   "display_name": "Python 3 (ipykernel)",
   "language": "python",
   "name": "python3"
  },
  "language_info": {
   "codemirror_mode": {
    "name": "ipython",
    "version": 3
   },
   "file_extension": ".py",
   "mimetype": "text/x-python",
   "name": "python",
   "nbconvert_exporter": "python",
   "pygments_lexer": "ipython3",
   "version": "3.7.6"
  }
 },
 "nbformat": 4,
 "nbformat_minor": 5
}
