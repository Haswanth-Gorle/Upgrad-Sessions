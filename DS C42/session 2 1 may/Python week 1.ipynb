{
 "cells": [
  {
   "cell_type": "markdown",
   "id": "51661b78",
   "metadata": {},
   "source": [
    "# Input/Output in Python"
   ]
  },
  {
   "cell_type": "code",
   "execution_count": 12,
   "id": "b445b57a",
   "metadata": {},
   "outputs": [
    {
     "name": "stdout",
     "output_type": "stream",
     "text": [
      "Please enter your name inder\n"
     ]
    },
    {
     "data": {
      "text/plain": [
       "'inder'"
      ]
     },
     "execution_count": 12,
     "metadata": {},
     "output_type": "execute_result"
    }
   ],
   "source": [
    "#input method is used to take an input and bydefault the input is of string type\n",
    "\n",
    "name=input(\"Please enter your name \")\n",
    "name"
   ]
  },
  {
   "cell_type": "code",
   "execution_count": 10,
   "id": "6272d0ef",
   "metadata": {},
   "outputs": [
    {
     "name": "stdout",
     "output_type": "stream",
     "text": [
      "please enter an even no 6\n"
     ]
    },
    {
     "data": {
      "text/plain": [
       "6"
      ]
     },
     "execution_count": 10,
     "metadata": {},
     "output_type": "execute_result"
    }
   ],
   "source": [
    "#converting string into integer\n",
    "no=int(input(\"please enter an even no \"))\n",
    "no"
   ]
  },
  {
   "cell_type": "code",
   "execution_count": 6,
   "id": "5afaccdf",
   "metadata": {},
   "outputs": [
    {
     "data": {
      "text/plain": [
       "'inder'"
      ]
     },
     "execution_count": 6,
     "metadata": {},
     "output_type": "execute_result"
    }
   ],
   "source": [
    "name"
   ]
  },
  {
   "cell_type": "code",
   "execution_count": 2,
   "id": "4b64f8b5",
   "metadata": {},
   "outputs": [
    {
     "data": {
      "text/plain": [
       "5"
      ]
     },
     "execution_count": 2,
     "metadata": {},
     "output_type": "execute_result"
    }
   ],
   "source": [
    "a=5\n",
    "a"
   ]
  },
  {
   "cell_type": "code",
   "execution_count": 4,
   "id": "7b927f5c",
   "metadata": {},
   "outputs": [
    {
     "data": {
      "text/plain": [
       "'Inderpreet Singh'"
      ]
     },
     "execution_count": 4,
     "metadata": {},
     "output_type": "execute_result"
    }
   ],
   "source": [
    "name"
   ]
  },
  {
   "cell_type": "markdown",
   "id": "594e348f",
   "metadata": {},
   "source": [
    "# Typecasting\n",
    "\n",
    "What is typecasting?\n",
    "\n",
    "Conversion of a data type to another category of data type is called typecasting"
   ]
  },
  {
   "cell_type": "code",
   "execution_count": 17,
   "id": "81b52c7f",
   "metadata": {},
   "outputs": [],
   "source": [
    "a='3.1111211'"
   ]
  },
  {
   "cell_type": "code",
   "execution_count": 18,
   "id": "4e096843",
   "metadata": {},
   "outputs": [
    {
     "data": {
      "text/plain": [
       "str"
      ]
     },
     "execution_count": 18,
     "metadata": {},
     "output_type": "execute_result"
    }
   ],
   "source": [
    "type(a)"
   ]
  },
  {
   "cell_type": "code",
   "execution_count": 19,
   "id": "b577a892",
   "metadata": {},
   "outputs": [
    {
     "data": {
      "text/plain": [
       "bool"
      ]
     },
     "execution_count": 19,
     "metadata": {},
     "output_type": "execute_result"
    }
   ],
   "source": [
    "b=True\n",
    "type(b)"
   ]
  },
  {
   "cell_type": "code",
   "execution_count": 20,
   "id": "4848cc3e",
   "metadata": {},
   "outputs": [
    {
     "name": "stdout",
     "output_type": "stream",
     "text": [
      "Hello everyone welcome to the session \n"
     ]
    }
   ],
   "source": [
    "print(\"Hello everyone welcome to the session \")"
   ]
  },
  {
   "cell_type": "code",
   "execution_count": 21,
   "id": "9063f4eb",
   "metadata": {},
   "outputs": [
    {
     "name": "stdout",
     "output_type": "stream",
     "text": [
      " My number a is--------->  1000\n"
     ]
    }
   ],
   "source": [
    "a=1000\n",
    "print(\" My number a is---------> \",a)"
   ]
  },
  {
   "cell_type": "code",
   "execution_count": 24,
   "id": "8c2571bc",
   "metadata": {},
   "outputs": [
    {
     "name": "stdout",
     "output_type": "stream",
     "text": [
      "My name is inder\n"
     ]
    }
   ],
   "source": [
    "name=\"inder\"\n",
    "print(\"My name is\",name)"
   ]
  },
  {
   "cell_type": "code",
   "execution_count": 28,
   "id": "538f8b07",
   "metadata": {},
   "outputs": [
    {
     "name": "stdout",
     "output_type": "stream",
     "text": [
      "Hello everyone  1212121\n"
     ]
    }
   ],
   "source": [
    "var=1212121\n",
    "print(\"Hello everyone \",var)"
   ]
  },
  {
   "cell_type": "code",
   "execution_count": 29,
   "id": "c90bf59e",
   "metadata": {},
   "outputs": [
    {
     "name": "stdout",
     "output_type": "stream",
     "text": [
      " I am working as a data scientist from past 3 years\n"
     ]
    }
   ],
   "source": [
    "#Q. Write a print statement about yourself.\n",
    "\n",
    "\n",
    "print(\" I am working as a data scientist from past 3 years\")\n",
    "\n"
   ]
  },
  {
   "cell_type": "code",
   "execution_count": 30,
   "id": "95ec5d7d",
   "metadata": {},
   "outputs": [
    {
     "data": {
      "text/plain": [
       "6"
      ]
     },
     "execution_count": 30,
     "metadata": {},
     "output_type": "execute_result"
    }
   ],
   "source": [
    "#Q. Write a python program to multiply 2 numbers (*).. Ex 2,3--->6\n",
    "\n",
    "2*3\n",
    "\n"
   ]
  },
  {
   "cell_type": "code",
   "execution_count": 31,
   "id": "2347a058",
   "metadata": {},
   "outputs": [
    {
     "name": "stdout",
     "output_type": "stream",
     "text": [
      " The product after multiplication is->  6\n"
     ]
    }
   ],
   "source": [
    "#Q. Print the product of those two numbers .\n",
    "\n",
    "num1=2\n",
    "num2=3\n",
    "product=num1*num2\n",
    "print(\" The product after multiplication is-> \",product)"
   ]
  },
  {
   "cell_type": "code",
   "execution_count": 34,
   "id": "0a8dd001",
   "metadata": {},
   "outputs": [
    {
     "name": "stdout",
     "output_type": "stream",
     "text": [
      "Please enter the first no 5\n",
      "Please enter the second no 2\n",
      "the result after division is----> 2.5\n"
     ]
    }
   ],
   "source": [
    "#Q. Divide 2 numbers by taking an input from the user\n",
    "\n",
    "num1=int(input(\"Please enter the first no \"))\n",
    "num2=int(input(\"Please enter the second no \"))\n",
    "\n",
    "# division=0\n",
    "division=num1/num2\n",
    "print(\"the result after division is---->\",division)\n"
   ]
  },
  {
   "cell_type": "code",
   "execution_count": 44,
   "id": "dc840cae",
   "metadata": {},
   "outputs": [
    {
     "data": {
      "text/plain": [
       "'?'"
      ]
     },
     "execution_count": 44,
     "metadata": {},
     "output_type": "execute_result"
    }
   ],
   "source": [
    "str2=\" Welcome  to  the !?! session\"\n",
    "\n",
    "str2[19]"
   ]
  },
  {
   "cell_type": "code",
   "execution_count": 43,
   "id": "6af10780",
   "metadata": {},
   "outputs": [
    {
     "data": {
      "text/plain": [
       "'p'"
      ]
     },
     "execution_count": 43,
     "metadata": {},
     "output_type": "execute_result"
    }
   ],
   "source": [
    "name='Deepak'\n",
    "name[3]"
   ]
  },
  {
   "cell_type": "markdown",
   "id": "f51f8aa2",
   "metadata": {},
   "source": [
    "# Slicing is a technique to extract the substring from the main string\n"
   ]
  },
  {
   "cell_type": "code",
   "execution_count": 48,
   "id": "956f5a14",
   "metadata": {
    "scrolled": true
   },
   "outputs": [
    {
     "data": {
      "text/plain": [
       "'gra'"
      ]
     },
     "execution_count": 48,
     "metadata": {},
     "output_type": "execute_result"
    }
   ],
   "source": [
    "str3=\"Upgrad\"\n",
    "\n",
    "str3[2:5]"
   ]
  },
  {
   "cell_type": "code",
   "execution_count": 49,
   "id": "f32d28a7",
   "metadata": {},
   "outputs": [
    {
     "data": {
      "text/plain": [
       "' to the '"
      ]
     },
     "execution_count": 49,
     "metadata": {},
     "output_type": "execute_result"
    }
   ],
   "source": [
    "str4=\"Welcome to the session\"\n",
    "\n",
    "str4[7:15]"
   ]
  },
  {
   "cell_type": "code",
   "execution_count": 50,
   "id": "849ec541",
   "metadata": {},
   "outputs": [],
   "source": [
    "# Link for more questions: https://www.geeksforgeeks.org/python-programming-examples/\n"
   ]
  },
  {
   "cell_type": "code",
   "execution_count": 57,
   "id": "b02de887",
   "metadata": {},
   "outputs": [
    {
     "data": {
      "text/plain": [
       "'d Clas'"
      ]
     },
     "execution_count": 57,
     "metadata": {},
     "output_type": "execute_result"
    }
   ],
   "source": [
    "str5=\"Upgrad Class\"\n",
    "\n",
    "str5[5:11]"
   ]
  },
  {
   "cell_type": "code",
   "execution_count": null,
   "id": "1054b14f",
   "metadata": {},
   "outputs": [],
   "source": [
    "str6=\"Welcome to my data science course\"\n",
    "str6[4:18:2]"
   ]
  },
  {
   "cell_type": "code",
   "execution_count": 59,
   "id": "ae370eb0",
   "metadata": {},
   "outputs": [
    {
     "data": {
      "text/plain": [
       "'petS'"
      ]
     },
     "execution_count": 59,
     "metadata": {},
     "output_type": "execute_result"
    }
   ],
   "source": [
    "str7='Inderpreet Singh'\n",
    "str7[5:13:2]"
   ]
  },
  {
   "cell_type": "code",
   "execution_count": 60,
   "id": "c1eda920",
   "metadata": {},
   "outputs": [
    {
     "data": {
      "text/plain": [
       "6"
      ]
     },
     "execution_count": 60,
     "metadata": {},
     "output_type": "execute_result"
    }
   ],
   "source": [
    "str8=\"Shweta\"\n",
    "len(str8)"
   ]
  },
  {
   "cell_type": "code",
   "execution_count": 61,
   "id": "a4b9b472",
   "metadata": {},
   "outputs": [
    {
     "data": {
      "text/plain": [
       "10"
      ]
     },
     "execution_count": 61,
     "metadata": {},
     "output_type": "execute_result"
    }
   ],
   "source": [
    "str9=\"Hello How \"\n",
    "len(str9)"
   ]
  },
  {
   "cell_type": "code",
   "execution_count": 63,
   "id": "994e77c4",
   "metadata": {},
   "outputs": [
    {
     "name": "stdout",
     "output_type": "stream",
     "text": [
      "Please enter a stringHello folks how are you\n"
     ]
    },
    {
     "data": {
      "text/plain": [
       "'folks how '"
      ]
     },
     "execution_count": 63,
     "metadata": {},
     "output_type": "execute_result"
    }
   ],
   "source": [
    "str10=input(\"Please enter a string\")\n",
    "\n",
    "str10[6:16]"
   ]
  },
  {
   "cell_type": "code",
   "execution_count": 64,
   "id": "1e9ce4dd",
   "metadata": {},
   "outputs": [
    {
     "data": {
      "text/plain": [
       "'Inderpreet Singh'"
      ]
     },
     "execution_count": 64,
     "metadata": {},
     "output_type": "execute_result"
    }
   ],
   "source": [
    "str11=\"Inderpreet Singh\"\n",
    "\n",
    "str11[0:len(str11)]"
   ]
  },
  {
   "cell_type": "code",
   "execution_count": 68,
   "id": "7f609e04",
   "metadata": {},
   "outputs": [
    {
     "data": {
      "text/plain": [
       "'Upgrad my name is inde'"
      ]
     },
     "execution_count": 68,
     "metadata": {},
     "output_type": "execute_result"
    }
   ],
   "source": [
    "str12=\"Upgrad my name is inderpreet so I will be taking today's sessions. \"\n",
    "str12[0:22]"
   ]
  },
  {
   "cell_type": "code",
   "execution_count": 78,
   "id": "58b0e80c",
   "metadata": {},
   "outputs": [
    {
     "data": {
      "text/plain": [
       "'rad'"
      ]
     },
     "execution_count": 78,
     "metadata": {},
     "output_type": "execute_result"
    }
   ],
   "source": [
    "str_new=\"Upgrad\"\n",
    "\n",
    "str_new[-3:]"
   ]
  },
  {
   "cell_type": "markdown",
   "id": "11dbad62",
   "metadata": {},
   "source": [
    "# String InBuilt functions\n",
    "\n",
    "#https://www.w3schools.com/python/python_ref_string.asp\n",
    "\n",
    "\n",
    "Method\tDescription\n",
    "\n",
    "capitalize()\tConverts the first character to upper case\n",
    "\n",
    "casefold()\tConverts string into lower case\n",
    "\n",
    "center()\tReturns a centered string\n",
    "\n",
    "count()\tReturns the number of times a specified value occurs in a string\n",
    "\n",
    "encode()\tReturns an encoded version of the string\n",
    "\n",
    "endswith()\tReturns true if the string ends with the specified value\n",
    "\n",
    "expandtabs()\tSets the tab size of the string\n",
    "\n",
    "find()\tSearches the string for a specified value and returns the position of where it was found\n",
    "\n",
    "format()\tFormats specified values in a string\n",
    "\n",
    "format_map()\tFormats specified values in a string\n",
    "\n",
    "index()\tSearches the string for a specified value and returns the position of where it was found\n",
    "\n",
    "isalnum()\tReturns True if all characters in the string are alphanumeric\n",
    "\n",
    "isalpha()\tReturns True if all characters in the string are in the alphabet\n",
    "\n",
    "isascii()\tReturns True if all characters in the string are ascii characters\n",
    "\n",
    "isdecimal()\tReturns True if all characters in the string are decimals\n",
    "\n",
    "isdigit()\tReturns True if all characters in the string are digits\n",
    "\n",
    "isidentifier()\tReturns True if the string is an identifier\n",
    "\n",
    "islower()\tReturns True if all characters in the string are lower case\n",
    "\n",
    "isnumeric()\tReturns True if all characters in the string are numeric\n",
    "\n",
    "isprintable()\tReturns True if all characters in the string are printable\n",
    "\n",
    "isspace()\tReturns True if all characters in the string are whitespaces\n",
    "\n",
    "istitle()\tReturns True if the string follows the rules of a title\n",
    "\n",
    "isupper()\tReturns True if all characters in the string are upper case\n",
    "\n",
    "join()\tConverts the elements of an iterable into a string\n",
    "\n",
    "\n",
    "ljust()\tReturns a left justified version of the string\n",
    "\n",
    "lower()\tConverts a string into lower case\n",
    "\n",
    "lstrip()\tReturns a left trim version of the string\n",
    "\n",
    "maketrans()\tReturns a translation table to be used in translations\n",
    "\n",
    "partition()\tReturns a tuple where the string is parted into three parts\n",
    "\n",
    "replace()\tReturns a string where a specified value is replaced with a \n",
    "specified value\n",
    "\n",
    "rfind()\tSearches the string for a specified value and returns the last position of where it was found\n",
    "\n",
    "rindex()\tSearches the string for a specified value and returns the last position of where it was found\n",
    "\n",
    "rjust()\tReturns a right justified version of the string\n",
    "\n",
    "rpartition()\tReturns a tuple where the string is parted into three parts\n",
    "\n",
    "rsplit()\tSplits the string at the specified separator, and returns a list\n",
    "\n",
    "rstrip()\tReturns a right trim version of the string\n",
    "\n",
    "split()\tSplits the string at the specified separator, and returns a list\n",
    "\n",
    "splitlines()\tSplits the string at line breaks and returns a list\n",
    "\n",
    "startswith()\tReturns true if the string starts with the specified value\n",
    "\n",
    "strip()\tReturns a trimmed version of the string\n",
    "\n",
    "swapcase()\tSwaps cases, lower case becomes upper case and vice versa\n",
    "\n",
    "title()\tConverts the first character of each word to upper case\n",
    "\n",
    "translate()\tReturns a translated string\n",
    "\n",
    "upper()\tConverts a string into upper case\n",
    "\n",
    "zfill()\tFills the string with a specified number of 0 values at the beginning"
   ]
  },
  {
   "cell_type": "code",
   "execution_count": 81,
   "id": "8128fa36",
   "metadata": {},
   "outputs": [
    {
     "data": {
      "text/plain": [
       "'Inderpreet'"
      ]
     },
     "execution_count": 81,
     "metadata": {},
     "output_type": "execute_result"
    }
   ],
   "source": [
    "string='inderpreet'\n",
    "string.capitalize()\n"
   ]
  },
  {
   "cell_type": "code",
   "execution_count": 82,
   "id": "f468fc61",
   "metadata": {},
   "outputs": [
    {
     "data": {
      "text/plain": [
       "3"
      ]
     },
     "execution_count": 82,
     "metadata": {},
     "output_type": "execute_result"
    }
   ],
   "source": [
    "string.count('e') # gives the total count of the character in the string"
   ]
  },
  {
   "cell_type": "code",
   "execution_count": 83,
   "id": "8b6835e5",
   "metadata": {},
   "outputs": [
    {
     "data": {
      "text/plain": [
       "9"
      ]
     },
     "execution_count": 83,
     "metadata": {},
     "output_type": "execute_result"
    }
   ],
   "source": [
    "string=\"Priyanka Ankul Nikhil Gaurav\"\n",
    "string.find('Ankul')"
   ]
  },
  {
   "cell_type": "code",
   "execution_count": 84,
   "id": "3d6a8ace",
   "metadata": {},
   "outputs": [
    {
     "data": {
      "text/plain": [
       "9"
      ]
     },
     "execution_count": 84,
     "metadata": {},
     "output_type": "execute_result"
    }
   ],
   "source": [
    "string.index('Ankul')"
   ]
  },
  {
   "cell_type": "code",
   "execution_count": 85,
   "id": "03cad1f2",
   "metadata": {},
   "outputs": [
    {
     "data": {
      "text/plain": [
       "True"
      ]
     },
     "execution_count": 85,
     "metadata": {},
     "output_type": "execute_result"
    }
   ],
   "source": [
    "string=\"9953422421\"\n",
    "string.isdigit()"
   ]
  },
  {
   "cell_type": "code",
   "execution_count": 87,
   "id": "ce8a5b48",
   "metadata": {},
   "outputs": [
    {
     "data": {
      "text/plain": [
       "True"
      ]
     },
     "execution_count": 87,
     "metadata": {},
     "output_type": "execute_result"
    }
   ],
   "source": [
    "string='Rohit'\n",
    "string.isalpha()"
   ]
  },
  {
   "cell_type": "code",
   "execution_count": 89,
   "id": "d8ba878b",
   "metadata": {},
   "outputs": [
    {
     "data": {
      "text/plain": [
       "True"
      ]
     },
     "execution_count": 89,
     "metadata": {},
     "output_type": "execute_result"
    }
   ],
   "source": [
    "string='ROHIT'\n",
    "\n",
    "string.isupper()"
   ]
  },
  {
   "cell_type": "code",
   "execution_count": 90,
   "id": "22eaaf44",
   "metadata": {},
   "outputs": [
    {
     "data": {
      "text/plain": [
       "'upgrad'"
      ]
     },
     "execution_count": 90,
     "metadata": {},
     "output_type": "execute_result"
    }
   ],
   "source": [
    "string=\"                                  upgrad\"\n",
    "string.lstrip()\n"
   ]
  },
  {
   "cell_type": "code",
   "execution_count": 91,
   "id": "d2d72318",
   "metadata": {},
   "outputs": [
    {
     "data": {
      "text/plain": [
       "'upgrad'"
      ]
     },
     "execution_count": 91,
     "metadata": {},
     "output_type": "execute_result"
    }
   ],
   "source": [
    "string=\"upgrad                                                                \"\n",
    "string.rstrip()\n"
   ]
  },
  {
   "cell_type": "code",
   "execution_count": 92,
   "id": "54a7965f",
   "metadata": {
    "scrolled": true
   },
   "outputs": [
    {
     "data": {
      "text/plain": [
       "['H', 'llo']"
      ]
     },
     "execution_count": 92,
     "metadata": {},
     "output_type": "execute_result"
    }
   ],
   "source": [
    "string=\"Hello\"\n",
    "string.split('e')"
   ]
  },
  {
   "cell_type": "code",
   "execution_count": 93,
   "id": "8952a129",
   "metadata": {},
   "outputs": [
    {
     "data": {
      "text/plain": [
       "['Hello', 'everyone']"
      ]
     },
     "execution_count": 93,
     "metadata": {},
     "output_type": "execute_result"
    }
   ],
   "source": [
    "string=\"Hello everyone\"\n",
    "string.split(' ')"
   ]
  },
  {
   "cell_type": "code",
   "execution_count": 95,
   "id": "d001bd3a",
   "metadata": {},
   "outputs": [],
   "source": [
    "# Write a python program to take an input of your name and use a string inbuilt\n",
    "# to capitalize the first character of your first name and first name of your last name "
   ]
  },
  {
   "cell_type": "code",
   "execution_count": 96,
   "id": "48698190",
   "metadata": {},
   "outputs": [
    {
     "name": "stdout",
     "output_type": "stream",
     "text": [
      "Please enter your name inderpreet singh\n"
     ]
    },
    {
     "data": {
      "text/plain": [
       "'inderpreet singh'"
      ]
     },
     "execution_count": 96,
     "metadata": {},
     "output_type": "execute_result"
    }
   ],
   "source": [
    "str1=input(\"Please enter your name \")\n",
    "str1"
   ]
  },
  {
   "cell_type": "code",
   "execution_count": 113,
   "id": "aa1a244c",
   "metadata": {},
   "outputs": [
    {
     "data": {
      "text/plain": [
       "'Inderpreet'"
      ]
     },
     "execution_count": 113,
     "metadata": {},
     "output_type": "execute_result"
    }
   ],
   "source": [
    "str1.split(\" \")[0].capitalize()"
   ]
  },
  {
   "cell_type": "code",
   "execution_count": 104,
   "id": "c9c03697",
   "metadata": {},
   "outputs": [
    {
     "data": {
      "text/plain": [
       "'Inderpreet Singh'"
      ]
     },
     "execution_count": 104,
     "metadata": {},
     "output_type": "execute_result"
    }
   ],
   "source": [
    "str1.split(' ')[0].capitalize()+\" \"+ str1.split(' ')[1].capitalize()"
   ]
  },
  {
   "cell_type": "code",
   "execution_count": 107,
   "id": "162db724",
   "metadata": {},
   "outputs": [
    {
     "data": {
      "text/plain": [
       "\"inderpreetsingh is  our today's mentor\""
      ]
     },
     "execution_count": 107,
     "metadata": {},
     "output_type": "execute_result"
    }
   ],
   "source": [
    "\"inderpreet\" + \"singh\" +\" is  our \" + \"today's mentor\""
   ]
  },
  {
   "cell_type": "code",
   "execution_count": 114,
   "id": "249f99f8",
   "metadata": {},
   "outputs": [
    {
     "data": {
      "text/plain": [
       "'Inderpreet Singh'"
      ]
     },
     "execution_count": 114,
     "metadata": {},
     "output_type": "execute_result"
    }
   ],
   "source": [
    "str1.title()"
   ]
  },
  {
   "cell_type": "code",
   "execution_count": 115,
   "id": "4df22349",
   "metadata": {},
   "outputs": [
    {
     "data": {
      "text/plain": [
       "True"
      ]
     },
     "execution_count": 115,
     "metadata": {},
     "output_type": "execute_result"
    }
   ],
   "source": [
    "string=\"Inder12233223\"\n",
    "string.isalnum()"
   ]
  },
  {
   "cell_type": "code",
   "execution_count": 116,
   "id": "0514073f",
   "metadata": {},
   "outputs": [
    {
     "data": {
      "text/plain": [
       "'Ind?rpr??t'"
      ]
     },
     "execution_count": 116,
     "metadata": {},
     "output_type": "execute_result"
    }
   ],
   "source": [
    "string=\"Inderpreet\"\n",
    "\n",
    "string.replace(\"e\",'?')"
   ]
  },
  {
   "cell_type": "code",
   "execution_count": null,
   "id": "e6d3cfa6",
   "metadata": {},
   "outputs": [],
   "source": []
  }
 ],
 "metadata": {
  "kernelspec": {
   "display_name": "Python 3 (ipykernel)",
   "language": "python",
   "name": "python3"
  },
  "language_info": {
   "codemirror_mode": {
    "name": "ipython",
    "version": 3
   },
   "file_extension": ".py",
   "mimetype": "text/x-python",
   "name": "python",
   "nbconvert_exporter": "python",
   "pygments_lexer": "ipython3",
   "version": "3.7.6"
  }
 },
 "nbformat": 4,
 "nbformat_minor": 5
}
