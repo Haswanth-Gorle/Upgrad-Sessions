{
 "cells": [
  {
   "cell_type": "code",
   "execution_count": 2,
   "id": "8eabc190",
   "metadata": {},
   "outputs": [
    {
     "data": {
      "text/plain": [
       "2"
      ]
     },
     "execution_count": 2,
     "metadata": {},
     "output_type": "execute_result"
    }
   ],
   "source": [
    "a=2\n",
    "a\n",
    "# shortcut to run the code--> shift+enter"
   ]
  },
  {
   "cell_type": "code",
   "execution_count": null,
   "id": "3558e420",
   "metadata": {},
   "outputs": [],
   "source": []
  },
  {
   "cell_type": "markdown",
   "id": "dd200748",
   "metadata": {},
   "source": [
    "# Input/Output in Python"
   ]
  },
  {
   "cell_type": "code",
   "execution_count": 4,
   "id": "776d4257",
   "metadata": {},
   "outputs": [
    {
     "name": "stdout",
     "output_type": "stream",
     "text": [
      "please enter your name inderpreet\n"
     ]
    },
    {
     "data": {
      "text/plain": [
       "'inderpreet'"
      ]
     },
     "execution_count": 4,
     "metadata": {},
     "output_type": "execute_result"
    }
   ],
   "source": [
    "name=input(\"please enter your name \")\n",
    "name"
   ]
  },
  {
   "cell_type": "code",
   "execution_count": 5,
   "id": "0246ea4f",
   "metadata": {},
   "outputs": [
    {
     "data": {
      "text/plain": [
       "'inderpreet'"
      ]
     },
     "execution_count": 5,
     "metadata": {},
     "output_type": "execute_result"
    }
   ],
   "source": [
    "name"
   ]
  },
  {
   "cell_type": "code",
   "execution_count": 7,
   "id": "3fda3b19",
   "metadata": {},
   "outputs": [
    {
     "name": "stdout",
     "output_type": "stream",
     "text": [
      "My name is inderpreet singh walia and I love$$$@@@^^#!%^*&%$ data science\n"
     ]
    }
   ],
   "source": [
    "print('My name is inderpreet singh walia and I love$$$@@@^^#!%^*&%$ data science')"
   ]
  },
  {
   "cell_type": "code",
   "execution_count": 8,
   "id": "3f6d70fa",
   "metadata": {},
   "outputs": [
    {
     "data": {
      "text/plain": [
       "5"
      ]
     },
     "execution_count": 8,
     "metadata": {},
     "output_type": "execute_result"
    }
   ],
   "source": [
    "a=2\n",
    "b=3\n",
    "a+b"
   ]
  },
  {
   "cell_type": "code",
   "execution_count": 9,
   "id": "24e4efcd",
   "metadata": {},
   "outputs": [
    {
     "data": {
      "text/plain": [
       "6"
      ]
     },
     "execution_count": 9,
     "metadata": {},
     "output_type": "execute_result"
    }
   ],
   "source": [
    "a*b"
   ]
  },
  {
   "cell_type": "code",
   "execution_count": 10,
   "id": "e51cddd9",
   "metadata": {},
   "outputs": [
    {
     "data": {
      "text/plain": [
       "0.6666666666666666"
      ]
     },
     "execution_count": 10,
     "metadata": {},
     "output_type": "execute_result"
    }
   ],
   "source": [
    "a/b"
   ]
  },
  {
   "cell_type": "code",
   "execution_count": 14,
   "id": "c087dae6",
   "metadata": {},
   "outputs": [
    {
     "name": "stdout",
     "output_type": "stream",
     "text": [
      "Please input the no1 5\n"
     ]
    },
    {
     "data": {
      "text/plain": [
       "5"
      ]
     },
     "execution_count": 14,
     "metadata": {},
     "output_type": "execute_result"
    }
   ],
   "source": [
    "first_no=int(input(\"Please input the no1 \"))\n",
    "first_no"
   ]
  },
  {
   "cell_type": "code",
   "execution_count": 17,
   "id": "aa76b95a",
   "metadata": {},
   "outputs": [
    {
     "data": {
      "text/plain": [
       "str"
      ]
     },
     "execution_count": 17,
     "metadata": {},
     "output_type": "execute_result"
    }
   ],
   "source": [
    "first_no=\"inder\"\n",
    "type(first_no)"
   ]
  },
  {
   "cell_type": "code",
   "execution_count": 18,
   "id": "ed32ef81",
   "metadata": {},
   "outputs": [
    {
     "data": {
      "text/plain": [
       "bool"
      ]
     },
     "execution_count": 18,
     "metadata": {},
     "output_type": "execute_result"
    }
   ],
   "source": [
    "first_no=True\n",
    "type(first_no)"
   ]
  },
  {
   "cell_type": "markdown",
   "id": "fe54ff9f",
   "metadata": {},
   "source": [
    "# Typecasting this means that converting the data of one type into another"
   ]
  },
  {
   "cell_type": "code",
   "execution_count": 23,
   "id": "0e2b9469",
   "metadata": {},
   "outputs": [
    {
     "data": {
      "text/plain": [
       "'a'"
      ]
     },
     "execution_count": 23,
     "metadata": {},
     "output_type": "execute_result"
    }
   ],
   "source": [
    "# num=5-->'5'\n",
    "num='a'\n",
    "str1=str(num)\n",
    "str1"
   ]
  },
  {
   "cell_type": "code",
   "execution_count": 25,
   "id": "8e32b320",
   "metadata": {},
   "outputs": [],
   "source": [
    "num=\"5\""
   ]
  },
  {
   "cell_type": "markdown",
   "id": "e51d502f",
   "metadata": {},
   "source": [
    "# Class questions\n",
    "\n",
    "1. Write a python program to output a sentence about yourself.\n",
    "2. Write a python program to multiple and divide 2 numbers. Those numbers should be taken as an input by the user.\n",
    "3. Write a python program to display the division of 2 numbers.\n",
    "\n"
   ]
  },
  {
   "cell_type": "code",
   "execution_count": 27,
   "id": "c16b21b7",
   "metadata": {},
   "outputs": [
    {
     "name": "stdout",
     "output_type": "stream",
     "text": [
      "I am working as a data scientist form last 3 years\n"
     ]
    }
   ],
   "source": [
    "#Q.1\n",
    "print(\"I am working as a data scientist form last 3 years\")"
   ]
  },
  {
   "cell_type": "code",
   "execution_count": 37,
   "id": "e3cef08f",
   "metadata": {},
   "outputs": [
    {
     "name": "stdout",
     "output_type": "stream",
     "text": [
      "Please enter the first no20\n",
      "Please enter the second no 50\n",
      "the result after multiplication----> 1000\n",
      "the result after division----> 0.4\n"
     ]
    }
   ],
   "source": [
    "num1=int(input(\"Please enter the first no \"))\n",
    "num2=int(input(\"Please enter the second no \"))\n",
    "multiply=num1*num2\n",
    "divide=num1/num2\n",
    "print(\"the result after multiplication---->\",multiply)\n",
    "print(\"the result after division---->\",divide)\n",
    "\n",
    "\n"
   ]
  },
  {
   "cell_type": "code",
   "execution_count": 36,
   "id": "f72ad709",
   "metadata": {},
   "outputs": [
    {
     "name": "stdout",
     "output_type": "stream",
     "text": [
      "my name is  inder\n"
     ]
    }
   ],
   "source": [
    "num='inder'\n",
    "print(\"my number is \",num)"
   ]
  },
  {
   "cell_type": "code",
   "execution_count": 38,
   "id": "734cfa83",
   "metadata": {},
   "outputs": [
    {
     "data": {
      "text/plain": [
       "6.212121212112212"
      ]
     },
     "execution_count": 38,
     "metadata": {},
     "output_type": "execute_result"
    }
   ],
   "source": [
    "a=5\n",
    "b=1.21212121211221212121\n",
    "a+b"
   ]
  },
  {
   "cell_type": "markdown",
   "id": "dab507fd",
   "metadata": {},
   "source": [
    "# String in Python"
   ]
  },
  {
   "cell_type": "markdown",
   "id": "1789f7eb",
   "metadata": {},
   "source": [
    "Indexing is defined as the position of each character in strings."
   ]
  },
  {
   "cell_type": "code",
   "execution_count": 42,
   "id": "e6733662",
   "metadata": {},
   "outputs": [
    {
     "data": {
      "text/plain": [
       "'w'"
      ]
     },
     "execution_count": 42,
     "metadata": {},
     "output_type": "execute_result"
    }
   ],
   "source": [
    "string=\"Inderpreet singh walia\"\n",
    "\n",
    "string[13]\n",
    "string[17]"
   ]
  },
  {
   "cell_type": "code",
   "execution_count": 44,
   "id": "5b80eef8",
   "metadata": {},
   "outputs": [
    {
     "data": {
      "text/plain": [
       "'$'"
      ]
     },
     "execution_count": 44,
     "metadata": {},
     "output_type": "execute_result"
    }
   ],
   "source": [
    "string2=\"method rns a str%%%%ing represe$nting a character whose Unicode code\"\n",
    "string2[31]"
   ]
  },
  {
   "cell_type": "markdown",
   "id": "f7997707",
   "metadata": {},
   "source": [
    "# Slicing-> Extracting a substring from the original string using indexing"
   ]
  },
  {
   "cell_type": "code",
   "execution_count": 45,
   "id": "a770308c",
   "metadata": {},
   "outputs": [
    {
     "data": {
      "text/plain": [
       "'gra'"
      ]
     },
     "execution_count": 45,
     "metadata": {},
     "output_type": "execute_result"
    }
   ],
   "source": [
    "str1=\"Upgrad\"\n",
    "str1[2:5]"
   ]
  },
  {
   "cell_type": "code",
   "execution_count": 46,
   "id": "4a66c41d",
   "metadata": {},
   "outputs": [
    {
     "data": {
      "text/plain": [
       "'derpre'"
      ]
     },
     "execution_count": 46,
     "metadata": {},
     "output_type": "execute_result"
    }
   ],
   "source": [
    "str2=\"Inderpreet\"\n",
    "str2[2:8]"
   ]
  },
  {
   "cell_type": "code",
   "execution_count": 47,
   "id": "7a9ad0ae",
   "metadata": {},
   "outputs": [
    {
     "data": {
      "text/plain": [
       "'u as'"
      ]
     },
     "execution_count": 47,
     "metadata": {},
     "output_type": "execute_result"
    }
   ],
   "source": [
    "str3=\"Ankur Bansal\"\n",
    "str3[3:10:2]"
   ]
  },
  {
   "cell_type": "code",
   "execution_count": 51,
   "id": "eccf4dab",
   "metadata": {},
   "outputs": [
    {
     "data": {
      "text/plain": [
       "'H'"
      ]
     },
     "execution_count": 51,
     "metadata": {},
     "output_type": "execute_result"
    }
   ],
   "source": [
    "string=\"My favorite book is on the topics Hands-On machine learning\"\n",
    "\n",
    "# Q.1 Find the index of 'H' from l to r and r to l indexing\n",
    "string[34] #from l to r\n"
   ]
  },
  {
   "cell_type": "code",
   "execution_count": 52,
   "id": "183ac3f4",
   "metadata": {},
   "outputs": [
    {
     "data": {
      "text/plain": [
       "'H'"
      ]
     },
     "execution_count": 52,
     "metadata": {},
     "output_type": "execute_result"
    }
   ],
   "source": [
    "string[-25] # from r to l"
   ]
  },
  {
   "cell_type": "markdown",
   "id": "b7f8a5c5",
   "metadata": {},
   "source": [
    "# String Inbuilt functions'\n",
    "\n",
    "url:https://www.w3schools.com/python/python_ref_string.asp\n",
    "\n",
    "\n",
    "capitalize()\tConverts the first character to upper case\n",
    "\n",
    "casefold()\tConverts string into lower case\n",
    "\n",
    "center()\tReturns a centered string\n",
    "\n",
    "count()\tReturns the number of times a specified value occurs in a string\n",
    "\n",
    "encode()\tReturns an encoded version of the string\n",
    "\n",
    "endswith()\tReturns true if the string ends with the specified value\n",
    "\n",
    "expandtabs()\tSets the tab size of the string\n",
    "\n",
    "find()\tSearches the string for a specified value and returns the position of where it was found\n",
    "\n",
    "format()\tFormats specified values in a string\n",
    "\n",
    "format_map()\tFormats specified values in a string\n",
    "\n",
    "index()\tSearches the string for a specified value and returns the position of where it was found\n",
    "\n",
    "isalnum()\tReturns True if all characters in the string are alphanumeric\n",
    "\n",
    "isalpha()\tReturns True if all characters in the string are in the alphabet\n",
    "\n",
    "isascii()\tReturns True if all characters in the string are ascii characters\n",
    "\n",
    "isdecimal()\tReturns True if all characters in the string are decimals\n",
    "\n",
    "isdigit()\tReturns True if all characters in the string are digits\n",
    "\n",
    "isidentifier()\tReturns True if the string is an identifier\n",
    "\n",
    "islower()\tReturns True if all characters in the string are lower case\n",
    "\n",
    "isnumeric()\tReturns True if all characters in the string are numeric\n",
    "\n",
    "isprintable()\tReturns True if all characters in the string are printable\n",
    "\n",
    "isspace()\tReturns True if all characters in the string are whitespaces\n",
    "\n",
    "istitle()\tReturns True if the string follows the rules of a title\n",
    "\n",
    "isupper()\tReturns True if all characters in the string are upper case\n",
    "\n",
    "join()\tConverts the elements of an iterable into a string\n",
    "\n",
    "ljust()\tReturns a left justified version of the string\n",
    "\n",
    "lower()\tConverts a string into lower case\n",
    "\n",
    "lstrip()\tReturns a left trim version of the string\n",
    "\n",
    "maketrans()\tReturns a translation table to be used in translations\n",
    "\n",
    "partition()\tReturns a tuple where the string is parted into three parts\n",
    "\n",
    "replace()\tReturns a string where a specified value is replaced with a specified value\n",
    "\n",
    "rfind()\tSearches the string for a specified value and returns the last position of where it was found\n",
    "\n",
    "rindex()\tSearches the string for a specified value and returns the last position of where it was found\n",
    "\n",
    "rjust()\tReturns a right justified version of the string\n",
    "\n",
    "rpartition()\tReturns a tuple where the string is parted into three parts\n",
    "\n",
    "rsplit()\tSplits the string at the specified separator, and returns a list\n",
    "\n",
    "rstrip()\tReturns a right trim version of the string\n",
    "\n",
    "\n",
    "split()\tSplits the string at the specified separator, and returns a list\n",
    "\n",
    "splitlines()\tSplits the string at line breaks and returns a list\n",
    "\n",
    "startswith()\tReturns true if the string starts with the specified value\n",
    "\n",
    "strip()\tReturns a trimmed version of the string\n",
    "\n",
    "swapcase()\tSwaps cases, lower case becomes upper case and vice versa\n",
    "\n",
    "title()\tConverts the first character of each word to upper case\n",
    "\n",
    "translate()\tReturns a translated string\n",
    "\n",
    "upper()\tConverts a string into upper case\n",
    "\n",
    "zfill()\tFills the string with a specified number of 0 values at the beginning"
   ]
  },
  {
   "cell_type": "code",
   "execution_count": 53,
   "id": "4d23be63",
   "metadata": {},
   "outputs": [
    {
     "data": {
      "text/plain": [
       "8"
      ]
     },
     "execution_count": 53,
     "metadata": {},
     "output_type": "execute_result"
    }
   ],
   "source": [
    "string=\"Kaustubh\"\n",
    "len(string)"
   ]
  },
  {
   "cell_type": "code",
   "execution_count": 55,
   "id": "862efd14",
   "metadata": {},
   "outputs": [
    {
     "data": {
      "text/plain": [
       "6"
      ]
     },
     "execution_count": 55,
     "metadata": {},
     "output_type": "execute_result"
    }
   ],
   "source": [
    "string=\"Python\"\n",
    "len(string)"
   ]
  },
  {
   "cell_type": "code",
   "execution_count": 59,
   "id": "6ae3d407",
   "metadata": {},
   "outputs": [
    {
     "data": {
      "text/plain": [
       "'Inderpreet'"
      ]
     },
     "execution_count": 59,
     "metadata": {},
     "output_type": "execute_result"
    }
   ],
   "source": [
    "nam=\"inderpreet\"\n",
    "nam.capitalize()\n"
   ]
  },
  {
   "cell_type": "code",
   "execution_count": 58,
   "id": "254b07fe",
   "metadata": {},
   "outputs": [
    {
     "data": {
      "text/plain": [
       "3"
      ]
     },
     "execution_count": 58,
     "metadata": {},
     "output_type": "execute_result"
    }
   ],
   "source": [
    "name.count('e')"
   ]
  },
  {
   "cell_type": "code",
   "execution_count": 60,
   "id": "e6629337",
   "metadata": {},
   "outputs": [
    {
     "data": {
      "text/plain": [
       "6"
      ]
     },
     "execution_count": 60,
     "metadata": {},
     "output_type": "execute_result"
    }
   ],
   "source": [
    "string=\"Rohit rohan deepak kaustubh\"\n",
    "\n",
    "string.find('rohan')"
   ]
  },
  {
   "cell_type": "code",
   "execution_count": 62,
   "id": "2763aec3",
   "metadata": {},
   "outputs": [
    {
     "data": {
      "text/plain": [
       "False"
      ]
     },
     "execution_count": 62,
     "metadata": {},
     "output_type": "execute_result"
    }
   ],
   "source": [
    "str1=\"in2111111derpreet\"\n",
    "str1.isalpha()"
   ]
  },
  {
   "cell_type": "code",
   "execution_count": 63,
   "id": "5a5b0ca1",
   "metadata": {},
   "outputs": [
    {
     "data": {
      "text/plain": [
       "True"
      ]
     },
     "execution_count": 63,
     "metadata": {},
     "output_type": "execute_result"
    }
   ],
   "source": [
    "str2=\"12122121122\"\n",
    "str2.isdigit()"
   ]
  },
  {
   "cell_type": "code",
   "execution_count": 65,
   "id": "03867f7b",
   "metadata": {},
   "outputs": [],
   "source": [
    "str3=\"inderpreet\"\n",
    "\n",
    "str4=str3.upper()"
   ]
  },
  {
   "cell_type": "code",
   "execution_count": 67,
   "id": "7168a3ba",
   "metadata": {},
   "outputs": [
    {
     "data": {
      "text/plain": [
       "'inderpreet'"
      ]
     },
     "execution_count": 67,
     "metadata": {},
     "output_type": "execute_result"
    }
   ],
   "source": [
    "str4.lower()"
   ]
  },
  {
   "cell_type": "code",
   "execution_count": 68,
   "id": "0c912a1b",
   "metadata": {},
   "outputs": [
    {
     "data": {
      "text/plain": [
       "'my name is inderpreet'"
      ]
     },
     "execution_count": 68,
     "metadata": {},
     "output_type": "execute_result"
    }
   ],
   "source": [
    "str5=\"             my name is inderpreet\"\n",
    "str5.lstrip()"
   ]
  },
  {
   "cell_type": "code",
   "execution_count": 69,
   "id": "40d10250",
   "metadata": {},
   "outputs": [
    {
     "data": {
      "text/plain": [
       "' my name is inderpreet'"
      ]
     },
     "execution_count": 69,
     "metadata": {},
     "output_type": "execute_result"
    }
   ],
   "source": [
    "str6=\" my name is inderpreet                                      \"\n",
    "str6.rstrip()"
   ]
  },
  {
   "cell_type": "code",
   "execution_count": 70,
   "id": "6a20c2a0",
   "metadata": {},
   "outputs": [
    {
     "data": {
      "text/plain": [
       "['Up', 'rad']"
      ]
     },
     "execution_count": 70,
     "metadata": {},
     "output_type": "execute_result"
    }
   ],
   "source": [
    "str7='Upgrad'\n",
    "\n",
    "str7.split('g')"
   ]
  },
  {
   "cell_type": "code",
   "execution_count": 71,
   "id": "1740cbdd",
   "metadata": {},
   "outputs": [
    {
     "data": {
      "text/plain": [
       "['Inde', 'p', 'eet']"
      ]
     },
     "execution_count": 71,
     "metadata": {},
     "output_type": "execute_result"
    }
   ],
   "source": [
    "str8='Inderpreet'\n",
    "str8.split('r')"
   ]
  },
  {
   "cell_type": "code",
   "execution_count": 72,
   "id": "40d04278",
   "metadata": {},
   "outputs": [
    {
     "data": {
      "text/plain": [
       "['Inderpreet', 'Singh']"
      ]
     },
     "execution_count": 72,
     "metadata": {},
     "output_type": "execute_result"
    }
   ],
   "source": [
    "str9='Inderpreet Singh'\n",
    "str9.split(' ')"
   ]
  },
  {
   "cell_type": "code",
   "execution_count": 73,
   "id": "b15d133a",
   "metadata": {},
   "outputs": [
    {
     "data": {
      "text/plain": [
       "'Inder Preet Rohan Rohit Raju Rahul Mohit'"
      ]
     },
     "execution_count": 73,
     "metadata": {},
     "output_type": "execute_result"
    }
   ],
   "source": [
    "str10='inder preet rohan rohit raju rahul mohit'\n",
    "\n",
    "str10.title()"
   ]
  },
  {
   "cell_type": "code",
   "execution_count": null,
   "id": "fcc1240c",
   "metadata": {},
   "outputs": [],
   "source": []
  }
 ],
 "metadata": {
  "kernelspec": {
   "display_name": "Python 3 (ipykernel)",
   "language": "python",
   "name": "python3"
  },
  "language_info": {
   "codemirror_mode": {
    "name": "ipython",
    "version": 3
   },
   "file_extension": ".py",
   "mimetype": "text/x-python",
   "name": "python",
   "nbconvert_exporter": "python",
   "pygments_lexer": "ipython3",
   "version": "3.7.6"
  }
 },
 "nbformat": 4,
 "nbformat_minor": 5
}
