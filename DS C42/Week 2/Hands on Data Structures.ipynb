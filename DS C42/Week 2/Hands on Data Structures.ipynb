{
 "cells": [
  {
   "cell_type": "code",
   "execution_count": 26,
   "id": "02e74c04",
   "metadata": {},
   "outputs": [],
   "source": [
    "amazon_dict={\"Books\":{\"Personal Transformation\":['Reflection_of_man','think_grow_rich'],\n",
    "                      \"Self-Help\":['Deep-work','medidation'],'Society & Social Sciences':\n",
    "                      ['Think like a monk']},\n",
    "             \"Mobiles\":{\"Android\":{\"Samsung\":['S21','note11'],\"M1\":['Redmi note 6','redmi note s'],\n",
    "                                   \"Oneplus\":['Oneplus 7','One plus nord']},\n",
    "                        \"IOS\":['Iphone11','Iphone 11 pro','Iphone 11 pro max']},\"Electronics\":\n",
    "                        {\"Laptops\":{\"MSI\":\"MSI1\",\"Dell\":\"g5\",\"Hp\":'pavilion series'}}}\n",
    "\n",
    "#Q. How to access the one plus nord phone from amazon_dict"
   ]
  },
  {
   "cell_type": "code",
   "execution_count": 30,
   "id": "2165af6f",
   "metadata": {},
   "outputs": [
    {
     "data": {
      "text/plain": [
       "'One plus nord'"
      ]
     },
     "execution_count": 30,
     "metadata": {},
     "output_type": "execute_result"
    }
   ],
   "source": [
    "amazon_dict['Mobiles']['Android']['Oneplus'][1]"
   ]
  },
  {
   "cell_type": "code",
   "execution_count": 32,
   "id": "7158c440",
   "metadata": {},
   "outputs": [
    {
     "data": {
      "text/plain": [
       "'Think like a monk'"
      ]
     },
     "execution_count": 32,
     "metadata": {},
     "output_type": "execute_result"
    }
   ],
   "source": [
    "amazon_dict['Books']['Society & Social Sciences'][0]"
   ]
  },
  {
   "cell_type": "code",
   "execution_count": 24,
   "id": "478445a7",
   "metadata": {},
   "outputs": [],
   "source": [
    "#Q1. Find the price of Samsung 21 after applying the discount\n",
    "\n",
    "amazon_dict2={\"Books\":{\"Personal Transformation\":['Reflection_of_man','think_grow_rich'],\n",
    "                      \"Self-Help\":['Deep-work','medidation'],'Society & Social Sciences':\n",
    "                      ['Think like a monk']},\n",
    "             \"Mobiles\":{\"Android\":{\"Samsung\":{\"S21\":{\"Battery\":'4000mah','price':'Rs.80000',\n",
    "                                                     'Discount':'10% off'}},\n",
    "                        \"IOS\":{\"Iphone 11 pro\":{\"Battery\":'3500mah','price':'Rs.90000',\n",
    "                               'Discount':'12% off'}}}}}"
   ]
  },
  {
   "cell_type": "code",
   "execution_count": 25,
   "id": "6c7355fb",
   "metadata": {},
   "outputs": [
    {
     "data": {
      "text/plain": [
       "{'Books': {'Personal Transformation': ['Reflection_of_man', 'think_grow_rich'],\n",
       "  'Self-Help': ['Deep-work', 'medidation'],\n",
       "  'Society & Social Sciences': ['Think like a monk']},\n",
       " 'Mobiles': {'Android': {'Samsung': {'S21': {'Battery': '4000mah',\n",
       "     'price': 'Rs.80000',\n",
       "     'Discount': '10% off'}},\n",
       "   'IOS': {'Iphone 11 pro': {'Battery': '3500mah',\n",
       "     'price': 'Rs.90000',\n",
       "     'Discount': '12% off'}}}}}"
      ]
     },
     "execution_count": 25,
     "metadata": {},
     "output_type": "execute_result"
    }
   ],
   "source": [
    "amazon_dict2"
   ]
  },
  {
   "cell_type": "code",
   "execution_count": 47,
   "id": "ec09860b",
   "metadata": {},
   "outputs": [
    {
     "data": {
      "text/plain": [
       "'Rs.72000.0'"
      ]
     },
     "execution_count": 47,
     "metadata": {},
     "output_type": "execute_result"
    }
   ],
   "source": [
    "Price_of_S21=int(amazon_dict2['Mobiles']['Android']['Samsung']['S21']['price'].split('.')[1])\n",
    "Discount_for_S21=int(amazon_dict2['Mobiles']['Android']['Samsung']['S21']['Discount'].split('%')[0])\n",
    "\n",
    "Price_after_discount=Price_of_S21-(Discount_for_S21*Price_of_S21)/100\n",
    "Price_after_discount='Rs.'+str(Price_after_discount)\n",
    "Price_after_discount"
   ]
  },
  {
   "cell_type": "code",
   "execution_count": 48,
   "id": "a00fdcbe",
   "metadata": {},
   "outputs": [
    {
     "data": {
      "text/plain": [
       "'10% off'"
      ]
     },
     "execution_count": 48,
     "metadata": {},
     "output_type": "execute_result"
    }
   ],
   "source": [
    "#amazon_dict2['Mobiles']['Android']['Samsung']['S21']['Discount']"
   ]
  },
  {
   "cell_type": "code",
   "execution_count": 54,
   "id": "18911496",
   "metadata": {},
   "outputs": [],
   "source": [
    "# Find the percentage difference between chandani and rohit\n",
    "\n",
    "Dict_school={\"inder\":{'Marks':[56,43,65,34,98]},'Chandani':{\"Marks\":[65,43,56,98,56]},\n",
    "             \"Rohit\":{\"Marks\":[76,87,45,67,32]}}"
   ]
  },
  {
   "cell_type": "code",
   "execution_count": 64,
   "id": "c2854a2a",
   "metadata": {},
   "outputs": [],
   "source": [
    "Percentage_of_chandani=(sum(Dict_school['Chandani']['Marks'])/(100*5))*100"
   ]
  },
  {
   "cell_type": "code",
   "execution_count": 65,
   "id": "e748effc",
   "metadata": {},
   "outputs": [
    {
     "data": {
      "text/plain": [
       "61.4"
      ]
     },
     "execution_count": 65,
     "metadata": {},
     "output_type": "execute_result"
    }
   ],
   "source": [
    "Percentage_of_Rohit=(sum(Dict_school['Rohit']['Marks'])/(100*5))*100\n",
    "Percentage_of_Rohit"
   ]
  },
  {
   "cell_type": "code",
   "execution_count": 66,
   "id": "dcdecab7",
   "metadata": {},
   "outputs": [
    {
     "data": {
      "text/plain": [
       "2.200000000000003"
      ]
     },
     "execution_count": 66,
     "metadata": {},
     "output_type": "execute_result"
    }
   ],
   "source": [
    "Difference_of_percentage=Percentage_of_chandani-Percentage_of_Rohit\n",
    "Difference_of_percentage"
   ]
  },
  {
   "cell_type": "markdown",
   "id": "1096c6cb",
   "metadata": {},
   "source": [
    "# Pop and popitem\n",
    "\n",
    "pop()---> removes the item with the specfied key name\n",
    "\n",
    "popitem()----> removes the last inserted item"
   ]
  },
  {
   "cell_type": "code",
   "execution_count": 80,
   "id": "edac14de",
   "metadata": {},
   "outputs": [
    {
     "data": {
      "text/plain": [
       "'12th'"
      ]
     },
     "execution_count": 80,
     "metadata": {},
     "output_type": "execute_result"
    }
   ],
   "source": [
    "dict3={'Name':'Rohan','Class':'12th','Marks':65}\n",
    "dict3.pop('Class')"
   ]
  },
  {
   "cell_type": "code",
   "execution_count": 81,
   "id": "96b376ea",
   "metadata": {},
   "outputs": [
    {
     "data": {
      "text/plain": [
       "{'Name': 'Rohan', 'Marks': 65}"
      ]
     },
     "execution_count": 81,
     "metadata": {},
     "output_type": "execute_result"
    }
   ],
   "source": [
    "dict3"
   ]
  },
  {
   "cell_type": "code",
   "execution_count": 82,
   "id": "da1c672a",
   "metadata": {},
   "outputs": [
    {
     "data": {
      "text/plain": [
       "('Marks', 65)"
      ]
     },
     "execution_count": 82,
     "metadata": {},
     "output_type": "execute_result"
    }
   ],
   "source": [
    "dict3.popitem()"
   ]
  },
  {
   "cell_type": "code",
   "execution_count": 83,
   "id": "a96f34f8",
   "metadata": {},
   "outputs": [
    {
     "data": {
      "text/plain": [
       "{'Name': 'Rohan'}"
      ]
     },
     "execution_count": 83,
     "metadata": {},
     "output_type": "execute_result"
    }
   ],
   "source": [
    "dict3"
   ]
  },
  {
   "cell_type": "markdown",
   "id": "bd32048f",
   "metadata": {},
   "source": [
    "# Setdefault---> returns the value of the key. If the key does not exist it will insert the key"
   ]
  },
  {
   "cell_type": "code",
   "execution_count": 85,
   "id": "4e4307d7",
   "metadata": {},
   "outputs": [
    {
     "data": {
      "text/plain": [
       "{'Name': 'Rohan', 'Name2': 'rohit'}"
      ]
     },
     "execution_count": 85,
     "metadata": {},
     "output_type": "execute_result"
    }
   ],
   "source": [
    "dict3.setdefault('Name2','rohit')\n",
    "dict3"
   ]
  },
  {
   "cell_type": "code",
   "execution_count": 86,
   "id": "c3052056",
   "metadata": {},
   "outputs": [
    {
     "data": {
      "text/plain": [
       "{'Marks_rohan': 65, 'Marks_rohit': 86}"
      ]
     },
     "execution_count": 86,
     "metadata": {},
     "output_type": "execute_result"
    }
   ],
   "source": [
    "dict4={'Marks_rohan':65,'Marks_rohit':86}\n",
    "dict4\n"
   ]
  },
  {
   "cell_type": "code",
   "execution_count": 87,
   "id": "9f15cea0",
   "metadata": {},
   "outputs": [
    {
     "data": {
      "text/plain": [
       "{'Name': 'Rohan', 'Name2': 'rohit', 'Marks_rohan': 65, 'Marks_rohit': 86}"
      ]
     },
     "execution_count": 87,
     "metadata": {},
     "output_type": "execute_result"
    }
   ],
   "source": [
    "dict3.update(dict4)\n",
    "dict3"
   ]
  },
  {
   "cell_type": "code",
   "execution_count": 92,
   "id": "9a3bf1d9",
   "metadata": {},
   "outputs": [
    {
     "data": {
      "text/plain": [
       "'Rohan'"
      ]
     },
     "execution_count": 92,
     "metadata": {},
     "output_type": "execute_result"
    }
   ],
   "source": [
    "list(dict3.values())[0]"
   ]
  },
  {
   "cell_type": "code",
   "execution_count": 93,
   "id": "e41574ae",
   "metadata": {},
   "outputs": [
    {
     "data": {
      "text/plain": [
       "{'Name': 'Rohan', 'Name2': 'rohit', 'Marks_rohan': 65, 'Marks_rohit': 86}"
      ]
     },
     "execution_count": 93,
     "metadata": {},
     "output_type": "execute_result"
    }
   ],
   "source": [
    "dict3"
   ]
  },
  {
   "cell_type": "code",
   "execution_count": 94,
   "id": "74ca6e12",
   "metadata": {},
   "outputs": [
    {
     "data": {
      "text/plain": [
       "{'Name': 'Rohan', 'Name2': 'rohit', 'Marks_rohan': 65, 'Marks_rohit': 86}"
      ]
     },
     "execution_count": 94,
     "metadata": {},
     "output_type": "execute_result"
    }
   ],
   "source": [
    "dict3.copy()"
   ]
  },
  {
   "cell_type": "markdown",
   "id": "569b9cda",
   "metadata": {},
   "source": [
    "# Miscellaneous topics Sets "
   ]
  },
  {
   "cell_type": "code",
   "execution_count": 99,
   "id": "9e136e40",
   "metadata": {},
   "outputs": [
    {
     "data": {
      "text/plain": [
       "{'apple', 'banana'}"
      ]
     },
     "execution_count": 99,
     "metadata": {},
     "output_type": "execute_result"
    }
   ],
   "source": [
    "fruits={'apple','banana','mango','guava','cherry'}\n",
    "fruits2={'banana','apple','pineapple'}\n",
    "fruits.intersection(fruits2)"
   ]
  },
  {
   "cell_type": "code",
   "execution_count": 101,
   "id": "3363bd93",
   "metadata": {},
   "outputs": [],
   "source": [
    "fruits=fruits.union(fruits2)"
   ]
  },
  {
   "cell_type": "code",
   "execution_count": 103,
   "id": "4e033731",
   "metadata": {},
   "outputs": [],
   "source": [
    "fruits.remove('banana')"
   ]
  },
  {
   "cell_type": "code",
   "execution_count": 104,
   "id": "e21ba440",
   "metadata": {},
   "outputs": [
    {
     "data": {
      "text/plain": [
       "{'apple', 'cherry', 'guava', 'mango', 'pineapple'}"
      ]
     },
     "execution_count": 104,
     "metadata": {},
     "output_type": "execute_result"
    }
   ],
   "source": [
    "fruits"
   ]
  },
  {
   "cell_type": "code",
   "execution_count": 105,
   "id": "554bc7b0",
   "metadata": {},
   "outputs": [
    {
     "data": {
      "text/plain": [
       "{'apple', 'cherry', 'mango', 'pineapple'}"
      ]
     },
     "execution_count": 105,
     "metadata": {},
     "output_type": "execute_result"
    }
   ],
   "source": [
    "fruits.discard('guava')\n",
    "fruits"
   ]
  },
  {
   "cell_type": "markdown",
   "id": "aa984665",
   "metadata": {},
   "source": [
    "# Remove will give you an error if the item is not present in the set . So in those scenarios use discard"
   ]
  },
  {
   "cell_type": "code",
   "execution_count": 107,
   "id": "53f6530b",
   "metadata": {},
   "outputs": [],
   "source": [
    "fruits.discard('blueberry')"
   ]
  },
  {
   "cell_type": "code",
   "execution_count": 108,
   "id": "6c1b6044",
   "metadata": {},
   "outputs": [
    {
     "data": {
      "text/plain": [
       "['Inderpreet', 'Rohit']"
      ]
     },
     "execution_count": 108,
     "metadata": {},
     "output_type": "execute_result"
    }
   ],
   "source": [
    "lst=['Inderpreet','Rohit']\n",
    "lst"
   ]
  },
  {
   "cell_type": "code",
   "execution_count": 110,
   "id": "4b044455",
   "metadata": {},
   "outputs": [
    {
     "data": {
      "text/plain": [
       "['Inderpreet',\n",
       " 'Rohit',\n",
       " 'Inderpreet',\n",
       " 'Rohit',\n",
       " 'Inderpreet',\n",
       " 'Rohit',\n",
       " 'Inderpreet',\n",
       " 'Rohit',\n",
       " 'Inderpreet',\n",
       " 'Rohit',\n",
       " 'Inderpreet',\n",
       " 'Rohit',\n",
       " 'Inderpreet',\n",
       " 'Rohit',\n",
       " 'Inderpreet',\n",
       " 'Rohit']"
      ]
     },
     "execution_count": 110,
     "metadata": {},
     "output_type": "execute_result"
    }
   ],
   "source": [
    "lst*8"
   ]
  },
  {
   "cell_type": "code",
   "execution_count": 111,
   "id": "5bd6e10c",
   "metadata": {},
   "outputs": [
    {
     "data": {
      "text/plain": [
       "['Inder', 'rohian', 'raju']"
      ]
     },
     "execution_count": 111,
     "metadata": {},
     "output_type": "execute_result"
    }
   ],
   "source": [
    "['Inder','rohian']+['raju']"
   ]
  },
  {
   "cell_type": "code",
   "execution_count": 115,
   "id": "6b87651e",
   "metadata": {},
   "outputs": [
    {
     "data": {
      "text/plain": [
       "(11, 21, 21, 2121, 11, 21, 21, 2121, 11, 21, 21, 2121, 11, 21, 21, 2121)"
      ]
     },
     "execution_count": 115,
     "metadata": {},
     "output_type": "execute_result"
    }
   ],
   "source": [
    "s1=(11,21,21,2121)\n",
    "s1*4"
   ]
  },
  {
   "cell_type": "code",
   "execution_count": 120,
   "id": "07712546",
   "metadata": {},
   "outputs": [
    {
     "data": {
      "text/plain": [
       "(11, 21, 21, 'inder', 1, 21, 'aman')"
      ]
     },
     "execution_count": 120,
     "metadata": {},
     "output_type": "execute_result"
    }
   ],
   "source": [
    "(11,21,21,'inder')+(1,21,'aman')"
   ]
  },
  {
   "cell_type": "code",
   "execution_count": 121,
   "id": "bb5cba12",
   "metadata": {},
   "outputs": [
    {
     "data": {
      "text/plain": [
       "10"
      ]
     },
     "execution_count": 121,
     "metadata": {},
     "output_type": "execute_result"
    }
   ],
   "source": [
    "#How many unique numbers present in this list\n",
    "lst_magical_no=[43,12,65,23,76,54,9,32,34,21,9,43,65,34]\n",
    "len(set(lst_magical_no))\n"
   ]
  },
  {
   "cell_type": "markdown",
   "id": "c4beb3f5",
   "metadata": {},
   "source": [
    "# Regex-> Regular expressions\n",
    "\n",
    "It can check if a string have a specific pattern\n",
    "\n",
    "Link:https://www.w3schools.com/python/gloss_python_regex_metacharacters.asp"
   ]
  },
  {
   "cell_type": "code",
   "execution_count": 125,
   "id": "fd8d4a2c",
   "metadata": {},
   "outputs": [
    {
     "data": {
      "text/plain": [
       "[]"
      ]
     },
     "execution_count": 125,
     "metadata": {},
     "output_type": "execute_result"
    }
   ],
   "source": [
    "import re\n",
    "txt=\"My name is inderpreet. My name have 10 characters\"\n",
    "\n",
    "re.findall('rohit',txt)"
   ]
  },
  {
   "cell_type": "code",
   "execution_count": 132,
   "id": "c7e9e660",
   "metadata": {},
   "outputs": [
    {
     "data": {
      "text/plain": [
       "13"
      ]
     },
     "execution_count": 132,
     "metadata": {},
     "output_type": "execute_result"
    }
   ],
   "source": [
    "x=re.search('d',txt)\n",
    "x.start()"
   ]
  },
  {
   "cell_type": "code",
   "execution_count": 140,
   "id": "575c1d5f",
   "metadata": {},
   "outputs": [
    {
     "data": {
      "text/plain": [
       "'have'"
      ]
     },
     "execution_count": 140,
     "metadata": {},
     "output_type": "execute_result"
    }
   ],
   "source": [
    "x=re.search(r\"\\bh\\w+\",txt)\n",
    "x.group()"
   ]
  },
  {
   "cell_type": "code",
   "execution_count": 141,
   "id": "30ee082c",
   "metadata": {},
   "outputs": [
    {
     "data": {
      "text/plain": [
       "'indhrprhht'"
      ]
     },
     "execution_count": 141,
     "metadata": {},
     "output_type": "execute_result"
    }
   ],
   "source": [
    "str1='inderpreet'\n",
    "str1.replace('e','h')"
   ]
  },
  {
   "cell_type": "code",
   "execution_count": 156,
   "id": "85e1e7ce",
   "metadata": {},
   "outputs": [
    {
     "data": {
      "text/plain": [
       "re.compile(r'[^a-zA-Z0-9]', re.UNICODE)"
      ]
     },
     "execution_count": 156,
     "metadata": {},
     "output_type": "execute_result"
    }
   ],
   "source": [
    "#Write a python program to check if the string have A-Z and 0-9\n",
    "string2='ABCD1234543232'\n",
    "search_pat1=re.compile(r'[^a-zA-Z0-9]')\n",
    "# search_pat1.search(string)\n",
    "# search_pat1.search(string2)\n",
    "search_pat1"
   ]
  },
  {
   "cell_type": "code",
   "execution_count": 167,
   "id": "fcd7b5e0",
   "metadata": {},
   "outputs": [
    {
     "data": {
      "text/plain": [
       "<re.Match object; span=(0, 3), match='bbc'>"
      ]
     },
     "execution_count": 167,
     "metadata": {},
     "output_type": "execute_result"
    }
   ],
   "source": [
    "#Write a python program that matches a string that has a b are followed by zero or more c\n",
    "\n",
    "pattern='^b(c*)$'\n",
    "string='bcc'\n",
    "re.search(pattern,string)\n"
   ]
  },
  {
   "cell_type": "code",
   "execution_count": 169,
   "id": "2e5f1672",
   "metadata": {},
   "outputs": [
    {
     "data": {
      "text/plain": [
       "<re.Match object; span=(1, 5), match='deee'>"
      ]
     },
     "execution_count": 169,
     "metadata": {},
     "output_type": "execute_result"
    }
   ],
   "source": [
    "#Write a python program that matches a string that has d follwed by 2  to 3 'e'\n",
    "string='de'\n",
    "string2='ddeee'\n",
    "\n",
    "pattern='de{2,3}'\n",
    "# re.search(pattern,string)\n",
    "re.search(pattern,string2)\n"
   ]
  },
  {
   "cell_type": "code",
   "execution_count": 172,
   "id": "1307f131",
   "metadata": {},
   "outputs": [
    {
     "data": {
      "text/plain": [
       "<re.Match object; span=(0, 8), match='aAV_BFDA'>"
      ]
     },
     "execution_count": 172,
     "metadata": {},
     "output_type": "execute_result"
    }
   ],
   "source": [
    "#Write a python program to find sequence of lowercase letter joined with a _(underscore)\n",
    "\n",
    "pattern='^[a-z]+_[a-z]+$'\n",
    "string2='abc_bda'\n",
    "string3='aAV_BFDA'\n",
    "re.search(pattern,string2)\n"
   ]
  },
  {
   "cell_type": "code",
   "execution_count": null,
   "id": "10933470",
   "metadata": {},
   "outputs": [],
   "source": [
    "'abc_bda'\n",
    "'aAV_BFDA'\n",
    "'aab_abbc"
   ]
  }
 ],
 "metadata": {
  "kernelspec": {
   "display_name": "Python 3 (ipykernel)",
   "language": "python",
   "name": "python3"
  },
  "language_info": {
   "codemirror_mode": {
    "name": "ipython",
    "version": 3
   },
   "file_extension": ".py",
   "mimetype": "text/x-python",
   "name": "python",
   "nbconvert_exporter": "python",
   "pygments_lexer": "ipython3",
   "version": "3.7.6"
  }
 },
 "nbformat": 4,
 "nbformat_minor": 5
}
