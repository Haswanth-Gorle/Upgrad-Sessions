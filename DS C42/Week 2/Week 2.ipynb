{
 "cells": [
  {
   "cell_type": "code",
   "execution_count": 1,
   "id": "b4cb2967",
   "metadata": {},
   "outputs": [
    {
     "name": "stdout",
     "output_type": "stream",
     "text": [
      "what flavuour would you like?chocolate\n",
      "what type of dessert would you like?moose\n",
      "you have entered chocolatemoose\n"
     ]
    }
   ],
   "source": [
    "flavour=input(\"what flavuour would you like?\")\n",
    "dessert_type=input(\"what type of dessert would you like?\")\n",
    "print(\"you have entered\", flavour + dessert_type)\n"
   ]
  },
  {
   "cell_type": "code",
   "execution_count": 4,
   "id": "58adeaf4",
   "metadata": {},
   "outputs": [
    {
     "data": {
      "text/plain": [
       "'pd'"
      ]
     },
     "execution_count": 4,
     "metadata": {},
     "output_type": "execute_result"
    }
   ],
   "source": [
    "str1='Upgrad'\n",
    "str1[1::4]"
   ]
  },
  {
   "cell_type": "code",
   "execution_count": 2,
   "id": "68d74148",
   "metadata": {},
   "outputs": [
    {
     "data": {
      "text/plain": [
       "'de'"
      ]
     },
     "execution_count": 2,
     "metadata": {},
     "output_type": "execute_result"
    }
   ],
   "source": [
    "str1='Inderpreet'\n",
    "str1[2::6]"
   ]
  },
  {
   "cell_type": "markdown",
   "id": "67624619",
   "metadata": {},
   "source": [
    "# List\n",
    "\n",
    "1. Lists can be considered as a sequence of items. Lists can contain one or more than one primitive data structure and non-primitive data structure.\n",
    "2. Lists are represented by ----->[ ]\n",
    "3. Lists are mutable that means we can changes the lists"
   ]
  },
  {
   "cell_type": "code",
   "execution_count": 13,
   "id": "cbe8a1db",
   "metadata": {},
   "outputs": [
    {
     "data": {
      "text/plain": [
       "['Milk', 'eggs', 'oats', 'cereal', 'cottage-cheese']"
      ]
     },
     "execution_count": 13,
     "metadata": {},
     "output_type": "execute_result"
    }
   ],
   "source": [
    "grocery=[\"Milk\",\"eggs\",'oats','cereal','cottage-cheese']\n",
    "grocery"
   ]
  },
  {
   "cell_type": "code",
   "execution_count": 14,
   "id": "8742a9e6",
   "metadata": {},
   "outputs": [
    {
     "data": {
      "text/plain": [
       "['Milk', 'eggs', 'oats', 'cereal', 'Cheese']"
      ]
     },
     "execution_count": 14,
     "metadata": {},
     "output_type": "execute_result"
    }
   ],
   "source": [
    "grocery[4]='Cheese'\n",
    "grocery"
   ]
  },
  {
   "cell_type": "code",
   "execution_count": 23,
   "id": "384a3aab",
   "metadata": {},
   "outputs": [],
   "source": [
    "grocery=[\"Milk\",\"eggs\",'oats','cereal','cottage-cheese']\n",
    "#Q1. Write a python program to change the 3 elements of the list in upper case\n",
    "\n",
    "\n",
    "grocery[2]=grocery[2].upper()"
   ]
  },
  {
   "cell_type": "code",
   "execution_count": 24,
   "id": "ee95114e",
   "metadata": {},
   "outputs": [
    {
     "data": {
      "text/plain": [
       "['Milk', 'eggs', 'OATS', 'cereal', 'cottage-cheese']"
      ]
     },
     "execution_count": 24,
     "metadata": {},
     "output_type": "execute_result"
    }
   ],
   "source": [
    "grocery"
   ]
  },
  {
   "cell_type": "markdown",
   "id": "530e5f20",
   "metadata": {},
   "source": [
    "# Indexing"
   ]
  },
  {
   "cell_type": "code",
   "execution_count": 25,
   "id": "4efe41ce",
   "metadata": {},
   "outputs": [
    {
     "data": {
      "text/plain": [
       "['Milk', 'eggs', 'OATS']"
      ]
     },
     "execution_count": 25,
     "metadata": {},
     "output_type": "execute_result"
    }
   ],
   "source": [
    "# That we need to buy the first 3 items from the list\n",
    "grocery[0:3]"
   ]
  },
  {
   "cell_type": "code",
   "execution_count": 31,
   "id": "5a41d654",
   "metadata": {},
   "outputs": [
    {
     "data": {
      "text/plain": [
       "['eggs', 'cereal']"
      ]
     },
     "execution_count": 31,
     "metadata": {},
     "output_type": "execute_result"
    }
   ],
   "source": [
    "#I want to buy only the odd index items from the list\n",
    "grocery[1::2]"
   ]
  },
  {
   "cell_type": "code",
   "execution_count": 32,
   "id": "867f1232",
   "metadata": {},
   "outputs": [
    {
     "data": {
      "text/plain": [
       "['Milk', 'eggs', 'OATS', 'cereal', 'cottage-cheese']"
      ]
     },
     "execution_count": 32,
     "metadata": {},
     "output_type": "execute_result"
    }
   ],
   "source": [
    "grocery"
   ]
  },
  {
   "cell_type": "markdown",
   "id": "51e3a5c0",
   "metadata": {},
   "source": [
    "# Append function in function--> it adds element at the end of the list"
   ]
  },
  {
   "cell_type": "code",
   "execution_count": 34,
   "id": "4c424c58",
   "metadata": {},
   "outputs": [],
   "source": [
    "grocery.append('Poha')"
   ]
  },
  {
   "cell_type": "code",
   "execution_count": 35,
   "id": "7d031a07",
   "metadata": {},
   "outputs": [
    {
     "data": {
      "text/plain": [
       "['Milk', 'eggs', 'OATS', 'cereal', 'cottage-cheese', 'Poha']"
      ]
     },
     "execution_count": 35,
     "metadata": {},
     "output_type": "execute_result"
    }
   ],
   "source": [
    "grocery"
   ]
  },
  {
   "cell_type": "code",
   "execution_count": 36,
   "id": "16a8df32",
   "metadata": {},
   "outputs": [
    {
     "data": {
      "text/plain": [
       "['Milk', 'eggs', 'OATS', 'cereal', 'cottage-cheese', 'Poha', 5, True]"
      ]
     },
     "execution_count": 36,
     "metadata": {},
     "output_type": "execute_result"
    }
   ],
   "source": [
    "grocery.append(5)\n",
    "grocery.append(True)\n",
    "grocery"
   ]
  },
  {
   "cell_type": "code",
   "execution_count": 37,
   "id": "0ffbe1fe",
   "metadata": {},
   "outputs": [
    {
     "data": {
      "text/plain": [
       "14"
      ]
     },
     "execution_count": 37,
     "metadata": {},
     "output_type": "execute_result"
    }
   ],
   "source": [
    "lst=[1,2,3,1,21,21,21,1,2,1,2,12,21,1,212,21,21,21,12,21,1,21,21,2,1,21,2,21,21,21]\n",
    "lst.count(21)\n",
    "#it will give you the count of an element in list"
   ]
  },
  {
   "cell_type": "markdown",
   "id": "8a1af991",
   "metadata": {},
   "source": [
    "# Index\n",
    "\n",
    "Index function return the position at which the element is stored"
   ]
  },
  {
   "cell_type": "code",
   "execution_count": 38,
   "id": "dfeca82c",
   "metadata": {},
   "outputs": [
    {
     "data": {
      "text/plain": [
       "3"
      ]
     },
     "execution_count": 38,
     "metadata": {},
     "output_type": "execute_result"
    }
   ],
   "source": [
    "lst2=['4',3,'inder','upgrad','rohit','rahul']\n",
    "lst2.index('upgrad')\n",
    "\n"
   ]
  },
  {
   "cell_type": "code",
   "execution_count": 39,
   "id": "18cc6958",
   "metadata": {},
   "outputs": [
    {
     "data": {
      "text/plain": [
       "5"
      ]
     },
     "execution_count": 39,
     "metadata": {},
     "output_type": "execute_result"
    }
   ],
   "source": [
    "lst2.index('rahul')\n"
   ]
  },
  {
   "cell_type": "code",
   "execution_count": 40,
   "id": "9db62f79",
   "metadata": {},
   "outputs": [
    {
     "data": {
      "text/plain": [
       "['4', 3, 'inder', 'upgrad', 'rohit', 'rahul']"
      ]
     },
     "execution_count": 40,
     "metadata": {},
     "output_type": "execute_result"
    }
   ],
   "source": [
    "lst2"
   ]
  },
  {
   "cell_type": "markdown",
   "id": "32a8a41a",
   "metadata": {},
   "source": [
    "# Pop---> this function will remove the last element by default,otherwise it will remove the element with the index"
   ]
  },
  {
   "cell_type": "code",
   "execution_count": 42,
   "id": "6fb08719",
   "metadata": {},
   "outputs": [
    {
     "data": {
      "text/plain": [
       "'rahul'"
      ]
     },
     "execution_count": 42,
     "metadata": {},
     "output_type": "execute_result"
    }
   ],
   "source": [
    "lst2.pop()"
   ]
  },
  {
   "cell_type": "code",
   "execution_count": 43,
   "id": "90a19e9e",
   "metadata": {},
   "outputs": [
    {
     "data": {
      "text/plain": [
       "['4', 3, 'inder', 'upgrad', 'rohit']"
      ]
     },
     "execution_count": 43,
     "metadata": {},
     "output_type": "execute_result"
    }
   ],
   "source": [
    "lst2"
   ]
  },
  {
   "cell_type": "code",
   "execution_count": 44,
   "id": "05358c0d",
   "metadata": {},
   "outputs": [
    {
     "data": {
      "text/plain": [
       "'inder'"
      ]
     },
     "execution_count": 44,
     "metadata": {},
     "output_type": "execute_result"
    }
   ],
   "source": [
    "lst2.pop(2)"
   ]
  },
  {
   "cell_type": "code",
   "execution_count": 45,
   "id": "4a2db26b",
   "metadata": {},
   "outputs": [
    {
     "data": {
      "text/plain": [
       "['4', 3, 'upgrad', 'rohit']"
      ]
     },
     "execution_count": 45,
     "metadata": {},
     "output_type": "execute_result"
    }
   ],
   "source": [
    "lst2"
   ]
  },
  {
   "cell_type": "code",
   "execution_count": 46,
   "id": "49b6b1e9",
   "metadata": {},
   "outputs": [
    {
     "data": {
      "text/plain": [
       "'rohit'"
      ]
     },
     "execution_count": 46,
     "metadata": {},
     "output_type": "execute_result"
    }
   ],
   "source": [
    "lst2.pop()"
   ]
  },
  {
   "cell_type": "code",
   "execution_count": 47,
   "id": "0cd2de2d",
   "metadata": {},
   "outputs": [
    {
     "data": {
      "text/plain": [
       "['4', 3, 'upgrad']"
      ]
     },
     "execution_count": 47,
     "metadata": {},
     "output_type": "execute_result"
    }
   ],
   "source": [
    "lst2\n"
   ]
  },
  {
   "cell_type": "code",
   "execution_count": 48,
   "id": "474eb41a",
   "metadata": {},
   "outputs": [
    {
     "data": {
      "text/plain": [
       "['4', 3, 'upgrad']"
      ]
     },
     "execution_count": 48,
     "metadata": {},
     "output_type": "execute_result"
    }
   ],
   "source": [
    "lst2"
   ]
  },
  {
   "cell_type": "markdown",
   "id": "7ccec785",
   "metadata": {},
   "source": [
    "# insert\n",
    "\n",
    "Two arguments are placed in insert method\n",
    "\n",
    "Syntax: insert(index,object)"
   ]
  },
  {
   "cell_type": "code",
   "execution_count": 49,
   "id": "6454087f",
   "metadata": {},
   "outputs": [
    {
     "data": {
      "text/plain": [
       "['4', 3, 'upgrad']"
      ]
     },
     "execution_count": 49,
     "metadata": {},
     "output_type": "execute_result"
    }
   ],
   "source": [
    "lst2\n"
   ]
  },
  {
   "cell_type": "code",
   "execution_count": 50,
   "id": "d9eb9860",
   "metadata": {},
   "outputs": [
    {
     "data": {
      "text/plain": [
       "['4', 3, 'upgrad', 'Vaidehi ']"
      ]
     },
     "execution_count": 50,
     "metadata": {},
     "output_type": "execute_result"
    }
   ],
   "source": [
    "lst2.insert(3,'Vaidehi ')\n",
    "lst2"
   ]
  },
  {
   "cell_type": "code",
   "execution_count": 51,
   "id": "292fddc1",
   "metadata": {},
   "outputs": [
    {
     "data": {
      "text/plain": [
       "['4', 3, 'upgrad', 'Vaidehi ', 'rohan']"
      ]
     },
     "execution_count": 51,
     "metadata": {},
     "output_type": "execute_result"
    }
   ],
   "source": [
    "lst2.insert(4,'rohan')\n",
    "lst2\n"
   ]
  },
  {
   "cell_type": "code",
   "execution_count": 53,
   "id": "79581f71",
   "metadata": {},
   "outputs": [
    {
     "data": {
      "text/plain": [
       "['4', 3, 'youtube', 'upgrad', 'Vaidehi ', 'rohan']"
      ]
     },
     "execution_count": 53,
     "metadata": {},
     "output_type": "execute_result"
    }
   ],
   "source": [
    "lst2.insert(2,'youtube')\n",
    "lst2\n"
   ]
  },
  {
   "cell_type": "code",
   "execution_count": 54,
   "id": "5df9141e",
   "metadata": {},
   "outputs": [
    {
     "data": {
      "text/plain": [
       "['4', 3, 'youtube', 'upgrad', 'Vaidehi ', 'rohan']"
      ]
     },
     "execution_count": 54,
     "metadata": {},
     "output_type": "execute_result"
    }
   ],
   "source": [
    "lst2"
   ]
  },
  {
   "cell_type": "code",
   "execution_count": 56,
   "id": "d01c97e0",
   "metadata": {},
   "outputs": [
    {
     "data": {
      "text/plain": [
       "['4', 3, 'netflix', 'upgrad', 'Vaidehi ', 'rohan']"
      ]
     },
     "execution_count": 56,
     "metadata": {},
     "output_type": "execute_result"
    }
   ],
   "source": [
    "lst2[2]='netflix'\n",
    "lst2"
   ]
  },
  {
   "cell_type": "markdown",
   "id": "6b9f1098",
   "metadata": {},
   "source": [
    "# remove--> it will remove the first occurence of a value"
   ]
  },
  {
   "cell_type": "code",
   "execution_count": 57,
   "id": "711461cd",
   "metadata": {},
   "outputs": [
    {
     "data": {
      "text/plain": [
       "[1, 3, 2]"
      ]
     },
     "execution_count": 57,
     "metadata": {},
     "output_type": "execute_result"
    }
   ],
   "source": [
    "lst3=[1,2,3,2]\n",
    "lst3.remove(2)\n",
    "lst3"
   ]
  },
  {
   "cell_type": "code",
   "execution_count": 58,
   "id": "05a4feb8",
   "metadata": {},
   "outputs": [
    {
     "data": {
      "text/plain": [
       "2"
      ]
     },
     "execution_count": 58,
     "metadata": {},
     "output_type": "execute_result"
    }
   ],
   "source": [
    "string='Inder preet Inder'\n",
    "string.count('Inder')"
   ]
  },
  {
   "cell_type": "code",
   "execution_count": 59,
   "id": "92f0d20a",
   "metadata": {},
   "outputs": [],
   "source": [
    "lst4=[1,2,3,4]\n",
    "del lst4"
   ]
  },
  {
   "cell_type": "code",
   "execution_count": 62,
   "id": "187110a9",
   "metadata": {},
   "outputs": [
    {
     "data": {
      "text/plain": [
       "[1, 2, 'aditya roy']"
      ]
     },
     "execution_count": 62,
     "metadata": {},
     "output_type": "execute_result"
    }
   ],
   "source": [
    "lst5=[1,2,'aditya']\n",
    "lst5[2]='aditya roy'\n",
    "lst5"
   ]
  },
  {
   "cell_type": "code",
   "execution_count": 66,
   "id": "b4111842",
   "metadata": {},
   "outputs": [
    {
     "data": {
      "text/plain": [
       "[1, 2, 4, 5]"
      ]
     },
     "execution_count": 66,
     "metadata": {},
     "output_type": "execute_result"
    }
   ],
   "source": [
    "lst1=[1,2,3,4,5]\n",
    "lst1.pop(2)\n",
    "\n",
    "lst1"
   ]
  },
  {
   "cell_type": "code",
   "execution_count": 67,
   "id": "b936d3c2",
   "metadata": {},
   "outputs": [
    {
     "data": {
      "text/plain": [
       "[1, 3, 4, 5]"
      ]
     },
     "execution_count": 67,
     "metadata": {},
     "output_type": "execute_result"
    }
   ],
   "source": [
    "lst2=[1,2,3,4,5]\n",
    "lst2.remove(2)\n",
    "lst2"
   ]
  },
  {
   "cell_type": "code",
   "execution_count": 74,
   "id": "2b65a010",
   "metadata": {},
   "outputs": [],
   "source": [
    "lst=['inder','rohit','rahul','rohit']\n",
    "\n",
    "# Q1. Add any name at the end of the list\n",
    "# Q2. Remove the element stored at 2 index using pop and remove\n",
    "# Q3. Count the number of times rohit is present in the list using function\n",
    "\n",
    "\n",
    "\n"
   ]
  },
  {
   "cell_type": "code",
   "execution_count": 75,
   "id": "594ad644",
   "metadata": {},
   "outputs": [
    {
     "data": {
      "text/plain": [
       "['inder', 'rohit', 'rahul', 'rohit', 'vasu']"
      ]
     },
     "execution_count": 75,
     "metadata": {},
     "output_type": "execute_result"
    }
   ],
   "source": [
    "#Ans1.\n",
    "lst.append('vasu')\n",
    "lst"
   ]
  },
  {
   "cell_type": "code",
   "execution_count": null,
   "id": "540d964d",
   "metadata": {},
   "outputs": [],
   "source": [
    "#Ans2\n",
    "#lst.pop(2)\n",
    "lst.remove('rahul')\n"
   ]
  },
  {
   "cell_type": "code",
   "execution_count": 76,
   "id": "02beef3d",
   "metadata": {},
   "outputs": [
    {
     "data": {
      "text/plain": [
       "2"
      ]
     },
     "execution_count": 76,
     "metadata": {},
     "output_type": "execute_result"
    }
   ],
   "source": [
    "lst.count('rohit')"
   ]
  },
  {
   "cell_type": "code",
   "execution_count": 73,
   "id": "7bb4d42b",
   "metadata": {},
   "outputs": [
    {
     "data": {
      "text/plain": [
       "74"
      ]
     },
     "execution_count": 73,
     "metadata": {},
     "output_type": "execute_result"
    }
   ],
   "source": [
    "string = \"OQYWFClFhFGAvIWYwGKpmZhnJiyzTslSIhSwvOsqJMEphzmifTkyqOMNpnOtXZxmCfgDYqbaBHAUvIWhMnvwZnEMVDvmEfLrDoQnAZgQEgXQVnmSYkfedpAdhrtpOgORpYLRZYGWdhWYuqQssCUXtTzKRDAhpjUheOzUroZNzWFtZOVwIapzUYtbSbjYNErzQ\"\n",
    "string.index('A',12)"
   ]
  },
  {
   "cell_type": "markdown",
   "id": "e7d4c327",
   "metadata": {},
   "source": [
    "# Sort function\n",
    "\n"
   ]
  },
  {
   "cell_type": "code",
   "execution_count": 81,
   "id": "f252c9e6",
   "metadata": {},
   "outputs": [
    {
     "data": {
      "text/plain": [
       "[-1, 1, 4, 12, 12, 12, 21, 21, 21, 21, 453]"
      ]
     },
     "execution_count": 81,
     "metadata": {},
     "output_type": "execute_result"
    }
   ],
   "source": [
    "lst3=[1,12,12,21,4,21,12,453,21,21,-1] \n",
    "#sort the list in ascending order---> low to high\n",
    "\n",
    "lst3.sort()\n",
    "lst3"
   ]
  },
  {
   "cell_type": "code",
   "execution_count": 83,
   "id": "3f20665f",
   "metadata": {},
   "outputs": [
    {
     "data": {
      "text/plain": [
       "[453, 21, 21, 21, 21, 12, 12, 12, 4, 1, -1]"
      ]
     },
     "execution_count": 83,
     "metadata": {},
     "output_type": "execute_result"
    }
   ],
   "source": [
    "#sort the list in descending order-----> high to low\n",
    "lst4=[1,12,12,21,4,21,12,453,21,21,-1] \n",
    "lst4.sort(reverse=True)\n",
    "lst4"
   ]
  },
  {
   "cell_type": "markdown",
   "id": "56d71ab5",
   "metadata": {},
   "source": [
    "# Important things about sort\n",
    "\n",
    "1. Sort function will change your original iterable"
   ]
  },
  {
   "cell_type": "code",
   "execution_count": null,
   "id": "a1107440",
   "metadata": {},
   "outputs": [],
   "source": [
    "#[-1,1,-11,2]--->[-11,-1,1,2]--> [2,1,-1,-11]\n",
    "#original_lst--->list after sort->reverse the list\n"
   ]
  },
  {
   "cell_type": "code",
   "execution_count": 92,
   "id": "c0f758ba",
   "metadata": {},
   "outputs": [],
   "source": [
    "lst=[1,11,-2]\n",
    "lst.sort(reverse=True)"
   ]
  },
  {
   "cell_type": "code",
   "execution_count": 93,
   "id": "22db35c9",
   "metadata": {},
   "outputs": [
    {
     "data": {
      "text/plain": [
       "[11, 1, -2]"
      ]
     },
     "execution_count": 93,
     "metadata": {},
     "output_type": "execute_result"
    }
   ],
   "source": [
    "lst"
   ]
  },
  {
   "cell_type": "code",
   "execution_count": 101,
   "id": "3dd5b4c3",
   "metadata": {},
   "outputs": [
    {
     "data": {
      "text/plain": [
       "['1', '100', '50', 'aman', 'inder', 'rohit']"
      ]
     },
     "execution_count": 101,
     "metadata": {},
     "output_type": "execute_result"
    }
   ],
   "source": [
    "lst3=['inder','aman','rohit','50','1','100']\n",
    "lst3.sort()\n",
    "lst3"
   ]
  },
  {
   "cell_type": "markdown",
   "id": "149361bc",
   "metadata": {},
   "source": [
    "# Sorted Function\n"
   ]
  },
  {
   "cell_type": "code",
   "execution_count": 102,
   "id": "58b4714e",
   "metadata": {},
   "outputs": [
    {
     "data": {
      "text/plain": [
       "['ajit', 'aman', 'inder', 'kaustubh', 'rohan', 'shashi']"
      ]
     },
     "execution_count": 102,
     "metadata": {},
     "output_type": "execute_result"
    }
   ],
   "source": [
    "lst3=['inder','aman','ajit','rohan','kaustubh','shashi']\n",
    "lst3.sort()\n",
    "lst3"
   ]
  },
  {
   "cell_type": "code",
   "execution_count": 104,
   "id": "36ef558e",
   "metadata": {},
   "outputs": [
    {
     "data": {
      "text/plain": [
       "['ajit', 'aman', 'inder', 'kaustubh', 'rohan', 'shashi']"
      ]
     },
     "execution_count": 104,
     "metadata": {},
     "output_type": "execute_result"
    }
   ],
   "source": [
    "lst3=['inder','aman','ajit','rohan','kaustubh','shashi']\n",
    "sorted(lst3)\n"
   ]
  },
  {
   "cell_type": "code",
   "execution_count": 105,
   "id": "291f9968",
   "metadata": {},
   "outputs": [
    {
     "data": {
      "text/plain": [
       "['inder', 'aman', 'ajit', 'rohan', 'kaustubh', 'shashi']"
      ]
     },
     "execution_count": 105,
     "metadata": {},
     "output_type": "execute_result"
    }
   ],
   "source": [
    "lst3"
   ]
  },
  {
   "cell_type": "markdown",
   "id": "7ee2feeb",
   "metadata": {},
   "source": [
    "# Difference between sort and sorted\n",
    "\n",
    "1.Sort function will affect the original iterable that means it will change the order of the original list.\n",
    "\n",
    "2. Sorted function will never affect the original iterable that means it will keep the original list intact.\n"
   ]
  },
  {
   "cell_type": "code",
   "execution_count": 107,
   "id": "669db9a2",
   "metadata": {},
   "outputs": [
    {
     "data": {
      "text/plain": [
       "15"
      ]
     },
     "execution_count": 107,
     "metadata": {},
     "output_type": "execute_result"
    }
   ],
   "source": [
    "string = \"OQYWFClFhFGAvIWYwGKpmZhnJiyzTslSIhSwvOsqJMEphzmifTkyqOMNpnOtXZxmCfgDYqbaBHAUvIWhMnvwZnEMVDvmEfLrDoQnAZgQEgXQVnmSYkfedpAdhrtpOgORpYLRZYGWdhWYuqQssCUXtTzKRDAhpjUheOzUroZNzWFtZOVwIapzUYtbSbjYNErzQ\"\n",
    "\n",
    "string.index('Y',3)"
   ]
  },
  {
   "cell_type": "code",
   "execution_count": 109,
   "id": "97c7cfa1",
   "metadata": {},
   "outputs": [
    {
     "data": {
      "text/plain": [
       "9"
      ]
     },
     "execution_count": 109,
     "metadata": {},
     "output_type": "execute_result"
    }
   ],
   "source": [
    "lst = [12, 12, 15, 16, 19, 12, 3, 72, 0, 12]\n",
    "lst.index(12,6)"
   ]
  },
  {
   "cell_type": "code",
   "execution_count": 110,
   "id": "c9ed295d",
   "metadata": {},
   "outputs": [
    {
     "data": {
      "text/plain": [
       "4"
      ]
     },
     "execution_count": 110,
     "metadata": {},
     "output_type": "execute_result"
    }
   ],
   "source": [
    "lst.count(12)"
   ]
  },
  {
   "cell_type": "code",
   "execution_count": 111,
   "id": "78009ec9",
   "metadata": {},
   "outputs": [
    {
     "data": {
      "text/plain": [
       "dict"
      ]
     },
     "execution_count": 111,
     "metadata": {},
     "output_type": "execute_result"
    }
   ],
   "source": [
    "d={}\n",
    "type(d)"
   ]
  },
  {
   "cell_type": "markdown",
   "id": "e2ff142b",
   "metadata": {},
   "source": [
    "# Tuples\n",
    "\n",
    "1. Tuples are immutable.\n",
    "2. Tuples would represent the data that we cannot change.\n",
    "3. Tuples are represented by----> ()\n",
    "\n",
    "#For example: We don't want someone to change our Aadhaar no,passport number, credit card,etc. -->"
   ]
  },
  {
   "cell_type": "code",
   "execution_count": 112,
   "id": "e21564ae",
   "metadata": {},
   "outputs": [],
   "source": [
    "tup=(1,2,3,4,5)"
   ]
  },
  {
   "cell_type": "code",
   "execution_count": 114,
   "id": "5301a14b",
   "metadata": {},
   "outputs": [
    {
     "data": {
      "text/plain": [
       "tuple"
      ]
     },
     "execution_count": 114,
     "metadata": {},
     "output_type": "execute_result"
    }
   ],
   "source": [
    "type(tup)"
   ]
  },
  {
   "cell_type": "code",
   "execution_count": 115,
   "id": "6b6548d5",
   "metadata": {},
   "outputs": [
    {
     "data": {
      "text/plain": [
       "('inder', 'deepak', 'giguru', True)"
      ]
     },
     "execution_count": 115,
     "metadata": {},
     "output_type": "execute_result"
    }
   ],
   "source": [
    "tup2=('inder','deepak','giguru',True)\n",
    "tup2"
   ]
  },
  {
   "cell_type": "code",
   "execution_count": 116,
   "id": "39744930",
   "metadata": {},
   "outputs": [
    {
     "data": {
      "text/plain": [
       "'giguru'"
      ]
     },
     "execution_count": 116,
     "metadata": {},
     "output_type": "execute_result"
    }
   ],
   "source": [
    "tup2[2]"
   ]
  },
  {
   "cell_type": "code",
   "execution_count": 117,
   "id": "670f9345",
   "metadata": {},
   "outputs": [
    {
     "ename": "TypeError",
     "evalue": "'tuple' object does not support item assignment",
     "output_type": "error",
     "traceback": [
      "\u001b[1;31m---------------------------------------------------------------------------\u001b[0m",
      "\u001b[1;31mTypeError\u001b[0m                                 Traceback (most recent call last)",
      "\u001b[1;32m~\\AppData\\Local\\Temp/ipykernel_2232/1496246984.py\u001b[0m in \u001b[0;36m<module>\u001b[1;34m\u001b[0m\n\u001b[1;32m----> 1\u001b[1;33m \u001b[0mtup2\u001b[0m\u001b[1;33m[\u001b[0m\u001b[1;36m2\u001b[0m\u001b[1;33m]\u001b[0m\u001b[1;33m=\u001b[0m\u001b[1;34m'rohit'\u001b[0m\u001b[1;33m\u001b[0m\u001b[1;33m\u001b[0m\u001b[0m\n\u001b[0m",
      "\u001b[1;31mTypeError\u001b[0m: 'tuple' object does not support item assignment"
     ]
    }
   ],
   "source": [
    "tup2[2]='rohit' #that means we cannot change tuples"
   ]
  },
  {
   "cell_type": "code",
   "execution_count": 118,
   "id": "8c951eb7",
   "metadata": {},
   "outputs": [
    {
     "ename": "TypeError",
     "evalue": "'tuple' object does not support item assignment",
     "output_type": "error",
     "traceback": [
      "\u001b[1;31m---------------------------------------------------------------------------\u001b[0m",
      "\u001b[1;31mTypeError\u001b[0m                                 Traceback (most recent call last)",
      "\u001b[1;32m~\\AppData\\Local\\Temp/ipykernel_2232/2661730983.py\u001b[0m in \u001b[0;36m<module>\u001b[1;34m\u001b[0m\n\u001b[0;32m      1\u001b[0m \u001b[0mtuple_aadhaar\u001b[0m\u001b[1;33m=\u001b[0m\u001b[1;33m(\u001b[0m\u001b[1;36m616412121345\u001b[0m\u001b[1;33m,\u001b[0m\u001b[1;36m534211234567\u001b[0m\u001b[1;33m,\u001b[0m\u001b[1;36m656576874354\u001b[0m\u001b[1;33m)\u001b[0m\u001b[1;33m\u001b[0m\u001b[1;33m\u001b[0m\u001b[0m\n\u001b[1;32m----> 2\u001b[1;33m \u001b[0mtuple_aadhaar\u001b[0m\u001b[1;33m[\u001b[0m\u001b[1;36m0\u001b[0m\u001b[1;33m]\u001b[0m\u001b[1;33m=\u001b[0m\u001b[1;36m652343\u001b[0m\u001b[1;33m\u001b[0m\u001b[1;33m\u001b[0m\u001b[0m\n\u001b[0m",
      "\u001b[1;31mTypeError\u001b[0m: 'tuple' object does not support item assignment"
     ]
    }
   ],
   "source": [
    "tuple_aadhaar=(616412121345,534211234567,656576874354)\n",
    "tuple_aadhaar[0]=652343"
   ]
  },
  {
   "cell_type": "code",
   "execution_count": 122,
   "id": "a4d02122",
   "metadata": {},
   "outputs": [
    {
     "data": {
      "text/plain": [
       "1"
      ]
     },
     "execution_count": 122,
     "metadata": {},
     "output_type": "execute_result"
    }
   ],
   "source": [
    "tuple1=(1,3,5,23,21,-1,1,-2121)\n",
    "sorted(tuple1)[2]"
   ]
  },
  {
   "cell_type": "code",
   "execution_count": 130,
   "id": "eba271ea",
   "metadata": {},
   "outputs": [
    {
     "ename": "TypeError",
     "evalue": "'list' object is not callable",
     "output_type": "error",
     "traceback": [
      "\u001b[1;31m---------------------------------------------------------------------------\u001b[0m",
      "\u001b[1;31mTypeError\u001b[0m                                 Traceback (most recent call last)",
      "\u001b[1;32m~\\AppData\\Local\\Temp/ipykernel_2232/2813443111.py\u001b[0m in \u001b[0;36m<module>\u001b[1;34m\u001b[0m\n\u001b[0;32m      1\u001b[0m \u001b[0mtuple2\u001b[0m\u001b[1;33m=\u001b[0m\u001b[1;33m(\u001b[0m\u001b[1;36m1\u001b[0m\u001b[1;33m,\u001b[0m\u001b[1;36m43\u001b[0m\u001b[1;33m,\u001b[0m\u001b[1;36m21\u001b[0m\u001b[1;33m,\u001b[0m\u001b[1;36m21\u001b[0m\u001b[1;33m,\u001b[0m\u001b[1;36m43\u001b[0m\u001b[1;33m,\u001b[0m\u001b[1;36m1221\u001b[0m\u001b[1;33m)\u001b[0m\u001b[1;33m\u001b[0m\u001b[1;33m\u001b[0m\u001b[0m\n\u001b[0;32m      2\u001b[0m \u001b[0mtype\u001b[0m\u001b[1;33m(\u001b[0m\u001b[0mtuple2\u001b[0m\u001b[1;33m)\u001b[0m\u001b[1;33m\u001b[0m\u001b[1;33m\u001b[0m\u001b[0m\n\u001b[1;32m----> 3\u001b[1;33m \u001b[0mlst\u001b[0m\u001b[1;33m(\u001b[0m\u001b[0mtuple2\u001b[0m\u001b[1;33m)\u001b[0m\u001b[1;33m\u001b[0m\u001b[1;33m\u001b[0m\u001b[0m\n\u001b[0m\u001b[0;32m      4\u001b[0m \u001b[1;33m\u001b[0m\u001b[0m\n\u001b[0;32m      5\u001b[0m \u001b[1;31m#tuples cannot be changed into another Non primitive data structure\u001b[0m\u001b[1;33m\u001b[0m\u001b[1;33m\u001b[0m\u001b[1;33m\u001b[0m\u001b[0m\n",
      "\u001b[1;31mTypeError\u001b[0m: 'list' object is not callable"
     ]
    }
   ],
   "source": [
    "tuple2=(1,43,21,21,43,1221)\n",
    "type(tuple2)\n",
    "lst(tuple2)\n",
    "\n",
    "#tuples cannot be changed into another Non primitive data structure"
   ]
  },
  {
   "cell_type": "code",
   "execution_count": 129,
   "id": "5bcfe722",
   "metadata": {},
   "outputs": [
    {
     "data": {
      "text/plain": [
       "(1, 2, 12, 43)"
      ]
     },
     "execution_count": 129,
     "metadata": {},
     "output_type": "execute_result"
    }
   ],
   "source": [
    "lst=[1,2,12,43]\n",
    "tuple(lst)"
   ]
  },
  {
   "cell_type": "code",
   "execution_count": 133,
   "id": "7871b178",
   "metadata": {},
   "outputs": [],
   "source": [
    "tup=(1,21,12222222,342)\n",
    "lsttup1=[tup]"
   ]
  },
  {
   "cell_type": "code",
   "execution_count": 135,
   "id": "ccfb0679",
   "metadata": {},
   "outputs": [
    {
     "data": {
      "text/plain": [
       "(1, 21, 12222222, 342)"
      ]
     },
     "execution_count": 135,
     "metadata": {},
     "output_type": "execute_result"
    }
   ],
   "source": [
    "lsttup1[0]"
   ]
  },
  {
   "cell_type": "code",
   "execution_count": 140,
   "id": "efc93a12",
   "metadata": {},
   "outputs": [
    {
     "data": {
      "text/plain": [
       "[1, 2, 12, 122222, 12]"
      ]
     },
     "execution_count": 140,
     "metadata": {},
     "output_type": "execute_result"
    }
   ],
   "source": [
    "lst2=(1,2,12,122222,12)\n",
    "lst2=list(lst2)\n",
    "lst2"
   ]
  },
  {
   "cell_type": "markdown",
   "id": "6e878d40",
   "metadata": {},
   "source": [
    "# Sets\n",
    "\n",
    "1. Sets are unordered collection of unique element that means sets always contain distinct values and\n",
    "there is no indexing possible.\n",
    "\n",
    "2. Sets are represented by------>{}\n",
    "\n",
    "3. Empty Set---->set()"
   ]
  },
  {
   "cell_type": "code",
   "execution_count": 146,
   "id": "e131ba37",
   "metadata": {},
   "outputs": [],
   "source": [
    "sets={1,2,2,'index','5'}"
   ]
  },
  {
   "cell_type": "code",
   "execution_count": 148,
   "id": "00d1a031",
   "metadata": {},
   "outputs": [
    {
     "ename": "TypeError",
     "evalue": "'set' object is not subscriptable",
     "output_type": "error",
     "traceback": [
      "\u001b[1;31m---------------------------------------------------------------------------\u001b[0m",
      "\u001b[1;31mTypeError\u001b[0m                                 Traceback (most recent call last)",
      "\u001b[1;32m~\\AppData\\Local\\Temp/ipykernel_2232/2335416556.py\u001b[0m in \u001b[0;36m<module>\u001b[1;34m\u001b[0m\n\u001b[1;32m----> 1\u001b[1;33m \u001b[0msets\u001b[0m\u001b[1;33m[\u001b[0m\u001b[1;36m2\u001b[0m\u001b[1;33m]\u001b[0m\u001b[1;33m\u001b[0m\u001b[1;33m\u001b[0m\u001b[0m\n\u001b[0m",
      "\u001b[1;31mTypeError\u001b[0m: 'set' object is not subscriptable"
     ]
    }
   ],
   "source": [
    "sets[2] #Its an unordered collection"
   ]
  },
  {
   "cell_type": "code",
   "execution_count": 151,
   "id": "3542241d",
   "metadata": {},
   "outputs": [
    {
     "data": {
      "text/plain": [
       "['inder', 'rohit', 'rohan']"
      ]
     },
     "execution_count": 151,
     "metadata": {},
     "output_type": "execute_result"
    }
   ],
   "source": [
    "#Q. Out of the given list make sure that all elements stored in the list are unique\n",
    "unique_name=['inder','inder','rohit','rohan']\n",
    "unique_name=list(set(unique_name))\n",
    "marks=[56,32,76]\n",
    "unique_name\n",
    "\n",
    "\n"
   ]
  },
  {
   "cell_type": "code",
   "execution_count": 158,
   "id": "d197099f",
   "metadata": {},
   "outputs": [
    {
     "data": {
      "text/plain": [
       "{'I', 'd', 'e', 'n', 'p', 'r', 't'}"
      ]
     },
     "execution_count": 158,
     "metadata": {},
     "output_type": "execute_result"
    }
   ],
   "source": [
    "string='Inderpreet'\n",
    "\n",
    "set(string)"
   ]
  },
  {
   "cell_type": "markdown",
   "id": "7176d8e0",
   "metadata": {},
   "source": [
    "# Dictionaries\n",
    "\n",
    "1. Dictionaries are mutable\n",
    "\n",
    "2. Dictionaries exist in key and value\n",
    "\n",
    "3. Dictionaries are represented by -------> {}\n",
    "\n"
   ]
  },
  {
   "cell_type": "code",
   "execution_count": 159,
   "id": "450c913c",
   "metadata": {},
   "outputs": [
    {
     "data": {
      "text/plain": [
       "87"
      ]
     },
     "execution_count": 159,
     "metadata": {},
     "output_type": "execute_result"
    }
   ],
   "source": [
    "dict_marks={\"Sankalp\":76,\"Gaurav\":87,\"Supriti\":76}\n",
    "\n",
    "dict_marks['Gaurav']"
   ]
  },
  {
   "cell_type": "code",
   "execution_count": 162,
   "id": "7073a1a8",
   "metadata": {},
   "outputs": [],
   "source": [
    "dict_amazon={\"Books\":[\"zero_to_one\",\"harry_potter\",\"intelligent_investor\"],\"Mobiles\":[\"Apple\",\"Samsung\"],\"Fashion\":['Kurtis',\"T-Shirts\"]}"
   ]
  },
  {
   "cell_type": "code",
   "execution_count": 167,
   "id": "3720f3d1",
   "metadata": {},
   "outputs": [
    {
     "data": {
      "text/plain": [
       "'Kurtis'"
      ]
     },
     "execution_count": 167,
     "metadata": {},
     "output_type": "execute_result"
    }
   ],
   "source": [
    "dict_amazon['Fashion'][0]"
   ]
  },
  {
   "cell_type": "code",
   "execution_count": 169,
   "id": "6fbd36b3",
   "metadata": {},
   "outputs": [],
   "source": [
    "dict_amazon={\"Books\":{\"Finance\":['Psychology of Money'],'Life':['Beloved']},\"Mobiles\":{\"Apple\":['Iphone12'],\"Samsung\":['S21','Note12']},\"Fashion\":{\"Kurtis\":['Girls Kurtis','Women kurtis']},\"T-shirt\":['V-neck','Round-next']}"
   ]
  },
  {
   "cell_type": "code",
   "execution_count": 178,
   "id": "39c88a2b",
   "metadata": {},
   "outputs": [
    {
     "data": {
      "text/plain": [
       "{'Books': {'Finance': ['Psychology of Money'], 'Life': ['Beloved']},\n",
       " 'Mobiles': {'Apple': ['Iphone12'], 'Samsung': ['S21', 'Note12']},\n",
       " 'Fashion': {'Kurtis': ['Girls Kurtis', 'Women kurtis']},\n",
       " 'T-shirt': ['V-neck', 'Round-next']}"
      ]
     },
     "execution_count": 178,
     "metadata": {},
     "output_type": "execute_result"
    }
   ],
   "source": [
    "dict_amazon"
   ]
  },
  {
   "cell_type": "code",
   "execution_count": 181,
   "id": "f4c52513",
   "metadata": {},
   "outputs": [
    {
     "data": {
      "text/plain": [
       "'Note12'"
      ]
     },
     "execution_count": 181,
     "metadata": {},
     "output_type": "execute_result"
    }
   ],
   "source": [
    "dict_amazon['Mobiles']['Samsung'][1]"
   ]
  },
  {
   "cell_type": "code",
   "execution_count": null,
   "id": "5c2665fe",
   "metadata": {},
   "outputs": [],
   "source": []
  }
 ],
 "metadata": {
  "kernelspec": {
   "display_name": "Python 3 (ipykernel)",
   "language": "python",
   "name": "python3"
  },
  "language_info": {
   "codemirror_mode": {
    "name": "ipython",
    "version": 3
   },
   "file_extension": ".py",
   "mimetype": "text/x-python",
   "name": "python",
   "nbconvert_exporter": "python",
   "pygments_lexer": "ipython3",
   "version": "3.7.6"
  }
 },
 "nbformat": 4,
 "nbformat_minor": 5
}
