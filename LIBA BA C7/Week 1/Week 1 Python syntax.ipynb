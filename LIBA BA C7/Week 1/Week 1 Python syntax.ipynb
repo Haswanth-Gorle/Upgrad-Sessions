{
 "cells": [
  {
   "cell_type": "code",
   "execution_count": 1,
   "id": "685e919a",
   "metadata": {},
   "outputs": [
    {
     "data": {
      "text/plain": [
       "5"
      ]
     },
     "execution_count": 1,
     "metadata": {},
     "output_type": "execute_result"
    }
   ],
   "source": [
    "a=2\n",
    "b=3\n",
    "a+b"
   ]
  },
  {
   "cell_type": "code",
   "execution_count": 2,
   "id": "ac238084",
   "metadata": {},
   "outputs": [
    {
     "name": "stdout",
     "output_type": "stream",
     "text": [
      "Hello Everyone\n"
     ]
    }
   ],
   "source": [
    "print(\"Hello Everyone\")"
   ]
  },
  {
   "cell_type": "code",
   "execution_count": 4,
   "id": "062ff375",
   "metadata": {},
   "outputs": [
    {
     "name": "stdout",
     "output_type": "stream",
     "text": [
      "hello everyone\n"
     ]
    }
   ],
   "source": [
    "print(\"hello everyone\")"
   ]
  },
  {
   "cell_type": "code",
   "execution_count": 5,
   "id": "966ce7ae",
   "metadata": {},
   "outputs": [
    {
     "data": {
      "text/plain": [
       "0.75"
      ]
     },
     "execution_count": 5,
     "metadata": {},
     "output_type": "execute_result"
    }
   ],
   "source": [
    "3/4"
   ]
  },
  {
   "cell_type": "code",
   "execution_count": 6,
   "id": "8238116e",
   "metadata": {},
   "outputs": [
    {
     "data": {
      "text/plain": [
       "5"
      ]
     },
     "execution_count": 6,
     "metadata": {},
     "output_type": "execute_result"
    }
   ],
   "source": [
    "2+3"
   ]
  },
  {
   "cell_type": "code",
   "execution_count": 5,
   "id": "022c6ce2",
   "metadata": {},
   "outputs": [
    {
     "data": {
      "text/plain": [
       "0.75"
      ]
     },
     "execution_count": 5,
     "metadata": {},
     "output_type": "execute_result"
    }
   ],
   "source": [
    "3/4"
   ]
  },
  {
   "cell_type": "code",
   "execution_count": 7,
   "id": "4218b3e2",
   "metadata": {},
   "outputs": [
    {
     "data": {
      "text/plain": [
       "15"
      ]
     },
     "execution_count": 7,
     "metadata": {},
     "output_type": "execute_result"
    }
   ],
   "source": [
    "5+10 #(Shortcut to run the cell is Shift +Enter)"
   ]
  },
  {
   "cell_type": "code",
   "execution_count": 8,
   "id": "2436fbdb",
   "metadata": {},
   "outputs": [],
   "source": [
    "#hi how are you guys\n",
    "#Comment- It is used to note down anything important in the code"
   ]
  },
  {
   "cell_type": "code",
   "execution_count": 9,
   "id": "4b032955",
   "metadata": {},
   "outputs": [
    {
     "data": {
      "text/plain": [
       "23"
      ]
     },
     "execution_count": 9,
     "metadata": {},
     "output_type": "execute_result"
    }
   ],
   "source": [
    "22+1"
   ]
  },
  {
   "cell_type": "code",
   "execution_count": 10,
   "id": "ea056359",
   "metadata": {},
   "outputs": [
    {
     "data": {
      "text/plain": [
       "3"
      ]
     },
     "execution_count": 10,
     "metadata": {},
     "output_type": "execute_result"
    }
   ],
   "source": [
    "1+2"
   ]
  },
  {
   "cell_type": "markdown",
   "id": "121c2e7c",
   "metadata": {},
   "source": [
    "# How to open the jupyter notebook in a specific Folder\n",
    "\n",
    "1. Open Command Prompt\n",
    "2. Command------> cd Path_location\n",
    "3. Write-------->jupyter notebook\n",
    "It will be opened in your browser"
   ]
  },
  {
   "cell_type": "markdown",
   "id": "23495bcb",
   "metadata": {},
   "source": [
    "# Integers\n",
    "#Integers are the numbers without any decimal or complex component\n",
    "\n",
    "Examples--> (1,2,3,-1,-5,-222,12,21123424,43421212112)"
   ]
  },
  {
   "cell_type": "code",
   "execution_count": 11,
   "id": "075dbefc",
   "metadata": {},
   "outputs": [
    {
     "data": {
      "text/plain": [
       "int"
      ]
     },
     "execution_count": 11,
     "metadata": {},
     "output_type": "execute_result"
    }
   ],
   "source": [
    "a=2\n",
    "b=3\n",
    "type(a)"
   ]
  },
  {
   "cell_type": "code",
   "execution_count": 12,
   "id": "a2363668",
   "metadata": {},
   "outputs": [
    {
     "data": {
      "text/plain": [
       "int"
      ]
     },
     "execution_count": 12,
     "metadata": {},
     "output_type": "execute_result"
    }
   ],
   "source": [
    "a=342222213\n",
    "type(a)    #Type syntax helps us to identify the data type"
   ]
  },
  {
   "cell_type": "markdown",
   "id": "86357f0d",
   "metadata": {},
   "source": [
    "# Float\n",
    "\n",
    "Float are the numbers with a decimal component\n",
    "\n",
    "Example------>(1.1112,3.2121,1.5,-4312.222)"
   ]
  },
  {
   "cell_type": "code",
   "execution_count": 13,
   "id": "ba6f7450",
   "metadata": {},
   "outputs": [
    {
     "data": {
      "text/plain": [
       "float"
      ]
     },
     "execution_count": 13,
     "metadata": {},
     "output_type": "execute_result"
    }
   ],
   "source": [
    "num=1.3212\n",
    "type(num)"
   ]
  },
  {
   "cell_type": "markdown",
   "id": "af354b46",
   "metadata": {},
   "source": [
    "# Boolean \n",
    "Boolean can be defined by typing True or False\n",
    "True------->Yes(In human language)\n",
    "False------->No(In human language)"
   ]
  },
  {
   "cell_type": "code",
   "execution_count": null,
   "id": "2b14edc4",
   "metadata": {},
   "outputs": [],
   "source": [
    "a=True\n",
    "type(a)"
   ]
  },
  {
   "cell_type": "code",
   "execution_count": 14,
   "id": "1653561a",
   "metadata": {},
   "outputs": [
    {
     "data": {
      "text/plain": [
       "False"
      ]
     },
     "execution_count": 14,
     "metadata": {},
     "output_type": "execute_result"
    }
   ],
   "source": [
    "a=1\n",
    "\n",
    "a==3"
   ]
  },
  {
   "cell_type": "code",
   "execution_count": 15,
   "id": "a1dac619",
   "metadata": {},
   "outputs": [
    {
     "data": {
      "text/plain": [
       "False"
      ]
     },
     "execution_count": 15,
     "metadata": {},
     "output_type": "execute_result"
    }
   ],
   "source": [
    "a=3\n",
    "\n",
    "a>10"
   ]
  },
  {
   "cell_type": "markdown",
   "id": "3b756e33",
   "metadata": {},
   "source": [
    "# Strings\n",
    "\n",
    "Strings can be defined with any of single quotes('),double quotes (\") or triple quotes ('\"). All will give the same results."
   ]
  },
  {
   "cell_type": "code",
   "execution_count": 16,
   "id": "26a65da5",
   "metadata": {},
   "outputs": [
    {
     "data": {
      "text/plain": [
       "str"
      ]
     },
     "execution_count": 16,
     "metadata": {},
     "output_type": "execute_result"
    }
   ],
   "source": [
    "Name=\"Inderpreet\"\n",
    "type(Name)"
   ]
  },
  {
   "cell_type": "code",
   "execution_count": 18,
   "id": "8c8c23ec",
   "metadata": {},
   "outputs": [
    {
     "data": {
      "text/plain": [
       "False"
      ]
     },
     "execution_count": 18,
     "metadata": {},
     "output_type": "execute_result"
    }
   ],
   "source": [
    "var=False\n",
    "var"
   ]
  },
  {
   "cell_type": "code",
   "execution_count": 19,
   "id": "1af1c50f",
   "metadata": {},
   "outputs": [
    {
     "data": {
      "text/plain": [
       "str"
      ]
     },
     "execution_count": 19,
     "metadata": {},
     "output_type": "execute_result"
    }
   ],
   "source": [
    "a=\"a\"\n",
    "type(a)"
   ]
  },
  {
   "cell_type": "code",
   "execution_count": 20,
   "id": "a41c9a4e",
   "metadata": {},
   "outputs": [
    {
     "data": {
      "text/plain": [
       "'My name is Inderpreet and I am your instructor for Data Science batch'"
      ]
     },
     "execution_count": 20,
     "metadata": {},
     "output_type": "execute_result"
    }
   ],
   "source": [
    "Sent=\"My name is Inderpreet and I am your instructor for Data Science batch\"\n",
    "Sent\n"
   ]
  },
  {
   "cell_type": "code",
   "execution_count": 21,
   "id": "cd733c52",
   "metadata": {},
   "outputs": [
    {
     "data": {
      "text/plain": [
       "'Hello guys'"
      ]
     },
     "execution_count": 21,
     "metadata": {},
     "output_type": "execute_result"
    }
   ],
   "source": [
    "name='Hello guys'\n",
    "name"
   ]
  },
  {
   "cell_type": "code",
   "execution_count": 22,
   "id": "391c3eed",
   "metadata": {},
   "outputs": [
    {
     "data": {
      "text/plain": [
       "str"
      ]
     },
     "execution_count": 22,
     "metadata": {},
     "output_type": "execute_result"
    }
   ],
   "source": [
    "type(name)"
   ]
  },
  {
   "cell_type": "code",
   "execution_count": 23,
   "id": "815c73f8",
   "metadata": {},
   "outputs": [
    {
     "data": {
      "text/plain": [
       "str"
      ]
     },
     "execution_count": 23,
     "metadata": {},
     "output_type": "execute_result"
    }
   ],
   "source": [
    "a=\"123456789inder#$%^&*($##@$%%^)\"\n",
    "type(a)"
   ]
  },
  {
   "cell_type": "code",
   "execution_count": 24,
   "id": "770d5c05",
   "metadata": {},
   "outputs": [
    {
     "data": {
      "text/plain": [
       "str"
      ]
     },
     "execution_count": 24,
     "metadata": {},
     "output_type": "execute_result"
    }
   ],
   "source": [
    "b=\"1.4\"\n",
    "type(b)"
   ]
  },
  {
   "cell_type": "markdown",
   "id": "171eab31",
   "metadata": {},
   "source": [
    "# Variables\n",
    "A variable in Python is defined through assignment. \n",
    "a=10"
   ]
  },
  {
   "cell_type": "code",
   "execution_count": 25,
   "id": "314d2792",
   "metadata": {},
   "outputs": [],
   "source": [
    "a=10"
   ]
  },
  {
   "cell_type": "code",
   "execution_count": 26,
   "id": "83960997",
   "metadata": {},
   "outputs": [],
   "source": [
    "b=15"
   ]
  },
  {
   "cell_type": "markdown",
   "id": "cb9000f3",
   "metadata": {},
   "source": [
    "# Simple Boolean Expression"
   ]
  },
  {
   "cell_type": "code",
   "execution_count": 27,
   "id": "765302d6",
   "metadata": {},
   "outputs": [
    {
     "data": {
      "text/plain": [
       "False"
      ]
     },
     "execution_count": 27,
     "metadata": {},
     "output_type": "execute_result"
    }
   ],
   "source": [
    "True and False\n"
   ]
  },
  {
   "cell_type": "code",
   "execution_count": 28,
   "id": "e61dccf9",
   "metadata": {},
   "outputs": [
    {
     "data": {
      "text/plain": [
       "True"
      ]
     },
     "execution_count": 28,
     "metadata": {},
     "output_type": "execute_result"
    }
   ],
   "source": [
    "True or False"
   ]
  },
  {
   "cell_type": "code",
   "execution_count": 29,
   "id": "df79c411",
   "metadata": {},
   "outputs": [
    {
     "data": {
      "text/plain": [
       "False"
      ]
     },
     "execution_count": 29,
     "metadata": {},
     "output_type": "execute_result"
    }
   ],
   "source": [
    "not True"
   ]
  },
  {
   "cell_type": "code",
   "execution_count": 30,
   "id": "ddd17051",
   "metadata": {},
   "outputs": [
    {
     "data": {
      "text/plain": [
       "True"
      ]
     },
     "execution_count": 30,
     "metadata": {},
     "output_type": "execute_result"
    }
   ],
   "source": [
    "not False"
   ]
  },
  {
   "cell_type": "markdown",
   "id": "f23bf942",
   "metadata": {},
   "source": [
    "# IF/ELIF/ELSE\n",
    "\n",
    "Python provides the if statement based on condition. It will only go inside the if condition if it is true\n",
    "\n",
    "Syntax: if(Condition):\n",
    "            Code"
   ]
  },
  {
   "cell_type": "code",
   "execution_count": 36,
   "id": "4ea814d7",
   "metadata": {},
   "outputs": [
    {
     "name": "stdout",
     "output_type": "stream",
     "text": [
      "I am out of the if condition\n"
     ]
    }
   ],
   "source": [
    "a=10\n",
    "if(a<5):\n",
    "    print(\"I am inside if condition\")\n",
    "print(\"I am out of the if condition\")\n"
   ]
  },
  {
   "cell_type": "code",
   "execution_count": 39,
   "id": "02fb3e59",
   "metadata": {},
   "outputs": [
    {
     "name": "stdout",
     "output_type": "stream",
     "text": [
      "Number is between 5 and 10\n"
     ]
    }
   ],
   "source": [
    "num=8\n",
    "\n",
    "if(num<5):\n",
    "    print(\"This number is less than 5\")\n",
    "elif(num>5 and num<10):\n",
    "    print(\"Number is between 5 and 10\")\n"
   ]
  },
  {
   "cell_type": "code",
   "execution_count": 37,
   "id": "f90b410d",
   "metadata": {},
   "outputs": [
    {
     "data": {
      "text/plain": [
       "True"
      ]
     },
     "execution_count": 37,
     "metadata": {},
     "output_type": "execute_result"
    }
   ],
   "source": [
    "num=8\n",
    "num>5 and num<10"
   ]
  },
  {
   "cell_type": "code",
   "execution_count": 41,
   "id": "e24b9c14",
   "metadata": {},
   "outputs": [
    {
     "name": "stdout",
     "output_type": "stream",
     "text": [
      "This is a odd number\n"
     ]
    }
   ],
   "source": [
    "num=13\n",
    "if(num%2==0):\n",
    "    print(\"This is a even number\")\n",
    "elif(num%2!=0):\n",
    "    print(\"This is a odd number\")"
   ]
  },
  {
   "cell_type": "markdown",
   "id": "922f2f7f",
   "metadata": {},
   "source": [
    "\n",
    "# ! This means not condition\n",
    "\n",
    "So 3!=5 (This means we are checking if 3 is not equal to 5)"
   ]
  },
  {
   "cell_type": "code",
   "execution_count": 42,
   "id": "afc6a114",
   "metadata": {},
   "outputs": [
    {
     "data": {
      "text/plain": [
       "True"
      ]
     },
     "execution_count": 42,
     "metadata": {},
     "output_type": "execute_result"
    }
   ],
   "source": [
    "3!=5"
   ]
  },
  {
   "cell_type": "code",
   "execution_count": 43,
   "id": "bd03764e",
   "metadata": {},
   "outputs": [
    {
     "data": {
      "text/plain": [
       "False"
      ]
     },
     "execution_count": 43,
     "metadata": {},
     "output_type": "execute_result"
    }
   ],
   "source": [
    "5!=5"
   ]
  },
  {
   "cell_type": "markdown",
   "id": "9bbb872c",
   "metadata": {},
   "source": [
    "# Some more examples on String"
   ]
  },
  {
   "cell_type": "code",
   "execution_count": 45,
   "id": "aa81c4b3",
   "metadata": {},
   "outputs": [],
   "source": [
    "NAME='INDER'"
   ]
  },
  {
   "cell_type": "code",
   "execution_count": 46,
   "id": "8ed04938",
   "metadata": {},
   "outputs": [
    {
     "name": "stdout",
     "output_type": "stream",
     "text": [
      "hello everyone\n"
     ]
    }
   ],
   "source": [
    "print(\"hello everyone\")"
   ]
  },
  {
   "cell_type": "code",
   "execution_count": 47,
   "id": "1fe672f6",
   "metadata": {},
   "outputs": [
    {
     "name": "stdout",
     "output_type": "stream",
     "text": [
      "8\n"
     ]
    }
   ],
   "source": [
    "print(3+5)"
   ]
  },
  {
   "cell_type": "markdown",
   "id": "8a465a1f",
   "metadata": {},
   "source": [
    "# String Indexing---> Python use indexes for each character in the string. \n",
    "We use brackets[] to access the character present at that index"
   ]
  },
  {
   "cell_type": "code",
   "execution_count": 49,
   "id": "12e93d4f",
   "metadata": {},
   "outputs": [
    {
     "data": {
      "text/plain": [
       "'I'"
      ]
     },
     "execution_count": 49,
     "metadata": {},
     "output_type": "execute_result"
    }
   ],
   "source": [
    "Name=\"Inderpreet\"\n",
    "Name[0]"
   ]
  },
  {
   "cell_type": "code",
   "execution_count": 50,
   "id": "70a40637",
   "metadata": {},
   "outputs": [
    {
     "data": {
      "text/plain": [
       "'r'"
      ]
     },
     "execution_count": 50,
     "metadata": {},
     "output_type": "execute_result"
    }
   ],
   "source": [
    "Name[4]"
   ]
  },
  {
   "cell_type": "markdown",
   "id": "d0311b93",
   "metadata": {},
   "source": [
    "# Strings are immutable that means unchangeable"
   ]
  },
  {
   "cell_type": "code",
   "execution_count": 55,
   "id": "ac28956d",
   "metadata": {},
   "outputs": [
    {
     "data": {
      "text/plain": [
       "'P'"
      ]
     },
     "execution_count": 55,
     "metadata": {},
     "output_type": "execute_result"
    }
   ],
   "source": [
    "Name2='Pradeep'\n",
    "Name2[0]"
   ]
  },
  {
   "cell_type": "code",
   "execution_count": 56,
   "id": "7e574365",
   "metadata": {},
   "outputs": [
    {
     "name": "stdout",
     "output_type": "stream",
     "text": [
      "My name is----> Pradeep\n"
     ]
    }
   ],
   "source": [
    "print(\"My name is---->\",Name2)"
   ]
  },
  {
   "cell_type": "markdown",
   "id": "d9531f9e",
   "metadata": {},
   "source": [
    "# Slicing----> It grabs anything from the point that is designated"
   ]
  },
  {
   "cell_type": "code",
   "execution_count": 58,
   "id": "e7e79188",
   "metadata": {},
   "outputs": [
    {
     "data": {
      "text/plain": [
       "'Inde'"
      ]
     },
     "execution_count": 58,
     "metadata": {},
     "output_type": "execute_result"
    }
   ],
   "source": [
    "Name=\"Inderpreet\"\n",
    "\n",
    "Name[0:4]"
   ]
  },
  {
   "cell_type": "code",
   "execution_count": 59,
   "id": "57526ff4",
   "metadata": {},
   "outputs": [
    {
     "data": {
      "text/plain": [
       "'pre'"
      ]
     },
     "execution_count": 59,
     "metadata": {},
     "output_type": "execute_result"
    }
   ],
   "source": [
    "Name[5:8]"
   ]
  },
  {
   "cell_type": "code",
   "execution_count": 61,
   "id": "0b81c928",
   "metadata": {},
   "outputs": [
    {
     "data": {
      "text/plain": [
       "'t'"
      ]
     },
     "execution_count": 61,
     "metadata": {},
     "output_type": "execute_result"
    }
   ],
   "source": [
    "Name[-1]"
   ]
  },
  {
   "cell_type": "code",
   "execution_count": 62,
   "id": "3ee7bb98",
   "metadata": {},
   "outputs": [
    {
     "data": {
      "text/plain": [
       "'Inder'"
      ]
     },
     "execution_count": 62,
     "metadata": {},
     "output_type": "execute_result"
    }
   ],
   "source": [
    "Name[0:5]"
   ]
  },
  {
   "cell_type": "code",
   "execution_count": 64,
   "id": "f4cbfce1",
   "metadata": {},
   "outputs": [
    {
     "data": {
      "text/plain": [
       "'Inder'"
      ]
     },
     "execution_count": 64,
     "metadata": {},
     "output_type": "execute_result"
    }
   ],
   "source": [
    "Name[:-5]          #Indexing from right to left"
   ]
  },
  {
   "cell_type": "code",
   "execution_count": 65,
   "id": "bab7d396",
   "metadata": {},
   "outputs": [
    {
     "data": {
      "text/plain": [
       "'ate'"
      ]
     },
     "execution_count": 65,
     "metadata": {},
     "output_type": "execute_result"
    }
   ],
   "source": [
    "name ='Venkatesh'\n",
    "name[-5:-2] "
   ]
  },
  {
   "cell_type": "code",
   "execution_count": null,
   "id": "b32572da",
   "metadata": {},
   "outputs": [],
   "source": []
  }
 ],
 "metadata": {
  "kernelspec": {
   "display_name": "Python 3 (ipykernel)",
   "language": "python",
   "name": "python3"
  },
  "language_info": {
   "codemirror_mode": {
    "name": "ipython",
    "version": 3
   },
   "file_extension": ".py",
   "mimetype": "text/x-python",
   "name": "python",
   "nbconvert_exporter": "python",
   "pygments_lexer": "ipython3",
   "version": "3.7.6"
  }
 },
 "nbformat": 4,
 "nbformat_minor": 5
}
