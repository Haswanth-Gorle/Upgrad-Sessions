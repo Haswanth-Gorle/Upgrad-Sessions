{
 "cells": [
  {
   "cell_type": "code",
   "execution_count": 5,
   "id": "ffe93cb9",
   "metadata": {},
   "outputs": [
    {
     "name": "stdout",
     "output_type": "stream",
     "text": [
      "WELCOME TO INDUSIND BANK\n",
      "please enter your account number:12454\n",
      "please enter the pin number:8554\n"
     ]
    }
   ],
   "source": [
    "print('WELCOME TO INDUSIND BANK')\n",
    "AC =259714252876\n",
    "DICT={AC:8554}\n",
    "bal =30000\n",
    "ACCT1=int(input('please enter your account number:'))\n",
    "PIN =int(input('please enter the pin number:'))\n",
    "\n",
    "if ACCT1==AC:\n",
    "    print('ACCOUNT NUMBER IS:',AC)\n",
    "    if PIN==DICT.get(AC):\n",
    "        amt=int(input('enter the amount:'))\n",
    "        if amt<=bal:\n",
    "            print('collect the cash')\n",
    "    else:\n",
    "        print('your pin is incorrect ')"
   ]
  },
  {
   "cell_type": "markdown",
   "id": "381fde50",
   "metadata": {},
   "source": [
    "# Map Function in Python\n",
    "\n",
    "The map() is a function that takes two arguments.\n",
    "\n",
    "1.A function name\n",
    "\n",
    "2. A sequence iterable like list,tuple.\n",
    "\n",
    "Syntax(function_name,iterable)\n",
    "\n",
    "\n",
    "The first argument is the function name and the second is a sequence (e.g list).\n",
    "\n"
   ]
  },
  {
   "cell_type": "code",
   "execution_count": 6,
   "id": "cacfe5fa",
   "metadata": {},
   "outputs": [],
   "source": [
    "def convert_celsius_to_fahrenheit(temp):\n",
    "    return (9/5)*temp +32\n"
   ]
  },
  {
   "cell_type": "code",
   "execution_count": 7,
   "id": "4298173f",
   "metadata": {},
   "outputs": [],
   "source": [
    "lst_tmp=[32,54,32,12,65]"
   ]
  },
  {
   "cell_type": "code",
   "execution_count": 9,
   "id": "d2442814",
   "metadata": {},
   "outputs": [
    {
     "data": {
      "text/plain": [
       "[89.6, 129.2, 89.6, 53.6, 149.0]"
      ]
     },
     "execution_count": 9,
     "metadata": {},
     "output_type": "execute_result"
    }
   ],
   "source": [
    "list(map(convert_celsius_to_fahrenheit,lst_tmp))"
   ]
  },
  {
   "cell_type": "code",
   "execution_count": 11,
   "id": "fede673f",
   "metadata": {},
   "outputs": [
    {
     "data": {
      "text/plain": [
       "[89.6, 95.0, 113.0, 212.0]"
      ]
     },
     "execution_count": 11,
     "metadata": {},
     "output_type": "execute_result"
    }
   ],
   "source": [
    "def celsius1(temp): \n",
    "    return (9/5)*temp+32 \n",
    "list_temp =[32,35,45,100] \n",
    "tem =list(map(celsius1,list_temp))\n",
    "tem"
   ]
  },
  {
   "cell_type": "code",
   "execution_count": 14,
   "id": "01cd50d7",
   "metadata": {},
   "outputs": [
    {
     "data": {
      "text/plain": [
       "[6, 8, 10, 12]"
      ]
     },
     "execution_count": 14,
     "metadata": {},
     "output_type": "execute_result"
    }
   ],
   "source": [
    "Marks=[1,2,3,4]\n",
    "Marks2=[5,6,7,8,10,12]\n",
    "\n",
    "\n",
    "def summ(x,y):\n",
    "    return x+y\n",
    "\n",
    "list(map(summ,Marks,Marks2))"
   ]
  },
  {
   "cell_type": "code",
   "execution_count": 15,
   "id": "342c4bc6",
   "metadata": {},
   "outputs": [
    {
     "data": {
      "text/plain": [
       "[8, 16, 24, 32]"
      ]
     },
     "execution_count": 15,
     "metadata": {},
     "output_type": "execute_result"
    }
   ],
   "source": [
    "#Write a python program to quadruple the number given in a list using map function\n",
    "\n",
    "lst=[2,4,6,8]\n",
    "# Output: [2+2+2+2,4+4+4+4,24,32]\n",
    "    \n",
    "def quadruple(num):\n",
    "    return 4*num\n",
    "\n",
    "list(map(quadruple,lst))\n"
   ]
  },
  {
   "cell_type": "code",
   "execution_count": null,
   "id": "bada1b1f",
   "metadata": {},
   "outputs": [],
   "source": [
    "# Write a python program to find the square of each number in the list using map\n",
    "#function"
   ]
  },
  {
   "cell_type": "code",
   "execution_count": 18,
   "id": "378576dc",
   "metadata": {},
   "outputs": [
    {
     "data": {
      "text/plain": [
       "[1, 4, 9, 16]"
      ]
     },
     "execution_count": 18,
     "metadata": {},
     "output_type": "execute_result"
    }
   ],
   "source": [
    "def square(num):\n",
    "    return num**2\n",
    "\n",
    "\n",
    "lst=[1,2,3,4]\n",
    "list(map(square,lst))"
   ]
  },
  {
   "cell_type": "code",
   "execution_count": 21,
   "id": "e8e9769c",
   "metadata": {},
   "outputs": [
    {
     "data": {
      "text/plain": [
       "['1', '3', '5', '6']"
      ]
     },
     "execution_count": 21,
     "metadata": {},
     "output_type": "execute_result"
    }
   ],
   "source": [
    "# #Write a python program to convert a list of integers and a tuple of integers\n",
    "# in a list of string\n",
    "\n",
    "# num_lst=[1,3,5,6] -----> ['1','3','5','6']\n",
    "# nums_tuple=(0,1,2,3)----> ('0','1','2','3')\n",
    "num_lst=[1,3,5,6] \n",
    "nums_tuple=(0,1,2,3)\n",
    "\n",
    "\n",
    "resulted_lst=list(map(str,num_lst))\n",
    "resulted_lst"
   ]
  },
  {
   "cell_type": "code",
   "execution_count": 23,
   "id": "9c986ea0",
   "metadata": {},
   "outputs": [
    {
     "data": {
      "text/plain": [
       "('0', '1', '2', '3')"
      ]
     },
     "execution_count": 23,
     "metadata": {},
     "output_type": "execute_result"
    }
   ],
   "source": [
    "resulted_tup=tuple(map(str,nums_tuple))\n",
    "resulted_tup"
   ]
  },
  {
   "cell_type": "code",
   "execution_count": 25,
   "id": "87e5438e",
   "metadata": {},
   "outputs": [],
   "source": [
    "#Write a python program to extract the strings in the list which have vowels\n",
    "# lst_string=[\"Inderpreet\",\"Mohammed\",\"Kinjalika\",\"Gym\",'Dry']\n",
    "\n",
    "# Output:[\"Inderpreet\",\"Mohammed\",\"Kinjalika\"]\n"
   ]
  },
  {
   "cell_type": "code",
   "execution_count": 4,
   "id": "d050d8ca",
   "metadata": {},
   "outputs": [
    {
     "name": "stdout",
     "output_type": "stream",
     "text": [
      "['INDERPREET', 'MOHAMMED', 'KINJALIKA', '', '']\n"
     ]
    }
   ],
   "source": [
    "def vowel_in_string(string):\n",
    "    string=string.upper()\n",
    "    for i in string:\n",
    "        if i in 'AEIOU':\n",
    "            return string\n",
    "    else:\n",
    "        return \"\"\n",
    "        \n",
    "lst_string=[\"Inderpreet\",\"Mohammed\",\"Kinjalika\",\"Gym\",\"Dry\"]\n",
    "        \n",
    "print(list(map(vowel_in_string,lst_string)))\n"
   ]
  },
  {
   "cell_type": "markdown",
   "id": "a0121e47",
   "metadata": {},
   "source": [
    "# Filter function in Python\n",
    "\n",
    "The filter() method will filter the given iterable with the help of the function that will check whether the element in the sequence true or not.\n",
    "\n",
    "Syntax: filter(function_name,iterable)\n",
    "\n",
    "iterable can be set,list,tuple or any type of iterator"
   ]
  },
  {
   "cell_type": "code",
   "execution_count": 8,
   "id": "782a0f93",
   "metadata": {},
   "outputs": [],
   "source": [
    "def even_no(num):\n",
    "    return num%2==0"
   ]
  },
  {
   "cell_type": "code",
   "execution_count": 9,
   "id": "83d595d9",
   "metadata": {},
   "outputs": [
    {
     "data": {
      "text/plain": [
       "[2, 4, 12, 4, 22]"
      ]
     },
     "execution_count": 9,
     "metadata": {},
     "output_type": "execute_result"
    }
   ],
   "source": [
    "# Write a program using filter function to extract even numbers from the list\n",
    "\n",
    "lst=[2,4,12,4,1,67,43,22]\n",
    "\n",
    "list(filter(even_no,lst))"
   ]
  },
  {
   "cell_type": "code",
   "execution_count": 12,
   "id": "04e3e385",
   "metadata": {},
   "outputs": [],
   "source": [
    "# Write a python program to filter out the consonants\n",
    "\n",
    "lst=['a','v','c','d','e','j','s','f','a','d']\n",
    "\n",
    "\n"
   ]
  },
  {
   "cell_type": "code",
   "execution_count": 13,
   "id": "7123a31b",
   "metadata": {},
   "outputs": [
    {
     "data": {
      "text/plain": [
       "['v', 'c', 'd', 'j', 's', 'f', 'd']"
      ]
     },
     "execution_count": 13,
     "metadata": {},
     "output_type": "execute_result"
    }
   ],
   "source": [
    "def check_consonants(char):\n",
    "    char=char.lower()\n",
    "    if char not in 'aeiou':\n",
    "        return True\n",
    "    \n",
    "list(filter(check_consonants,lst))"
   ]
  },
  {
   "cell_type": "markdown",
   "id": "6439b3d4",
   "metadata": {},
   "source": [
    "# Lambda Function\n",
    "\n",
    "Lambda function are anonymous functions that means functions without name\n",
    "\n",
    "Syntax:\n",
    "\n",
    "lambda arguments: expressions\n",
    "\n",
    "1. This function can have any number of arguments but only 1 expression.\n",
    "2. Lambda function dont have any name\n"
   ]
  },
  {
   "cell_type": "code",
   "execution_count": 19,
   "id": "d7a8e7af",
   "metadata": {},
   "outputs": [
    {
     "name": "stdout",
     "output_type": "stream",
     "text": [
      "Inderpreet\n"
     ]
    }
   ],
   "source": [
    "string=\"Inderpreet\"\n",
    "\n",
    "(lambda alphabet:print(string))(string)"
   ]
  },
  {
   "cell_type": "code",
   "execution_count": 22,
   "id": "1b7ce072",
   "metadata": {},
   "outputs": [],
   "source": [
    "def cube(num):\n",
    "    return num**(3)"
   ]
  },
  {
   "cell_type": "code",
   "execution_count": 23,
   "id": "2a5e8e3e",
   "metadata": {},
   "outputs": [
    {
     "data": {
      "text/plain": [
       "27"
      ]
     },
     "execution_count": 23,
     "metadata": {},
     "output_type": "execute_result"
    }
   ],
   "source": [
    "cube(3)"
   ]
  },
  {
   "cell_type": "code",
   "execution_count": 25,
   "id": "37a26232",
   "metadata": {},
   "outputs": [
    {
     "data": {
      "text/plain": [
       "27"
      ]
     },
     "execution_count": 25,
     "metadata": {},
     "output_type": "execute_result"
    }
   ],
   "source": [
    "lambda_cube=lambda num:num**3\n",
    "lambda_cube(3)"
   ]
  },
  {
   "cell_type": "code",
   "execution_count": 27,
   "id": "95dede3e",
   "metadata": {},
   "outputs": [],
   "source": [
    "def max_two_numbers(num1,num2):\n",
    "    if num1>num2:\n",
    "        return num1\n",
    "    else:\n",
    "        return num2"
   ]
  },
  {
   "cell_type": "code",
   "execution_count": 28,
   "id": "8e851295",
   "metadata": {},
   "outputs": [
    {
     "data": {
      "text/plain": [
       "20"
      ]
     },
     "execution_count": 28,
     "metadata": {},
     "output_type": "execute_result"
    }
   ],
   "source": [
    "max_two_numbers(15,20)"
   ]
  },
  {
   "cell_type": "code",
   "execution_count": 29,
   "id": "6547bbac",
   "metadata": {},
   "outputs": [
    {
     "data": {
      "text/plain": [
       "20"
      ]
     },
     "execution_count": 29,
     "metadata": {},
     "output_type": "execute_result"
    }
   ],
   "source": [
    "max_two_numbers2=lambda num1,num2: num1 if (num1>num2) else num2\n",
    "max_two_numbers2(15,20)"
   ]
  },
  {
   "cell_type": "code",
   "execution_count": 31,
   "id": "a2d04881",
   "metadata": {},
   "outputs": [],
   "source": [
    "#Q. Write a python program to filter out even numbers from a \n",
    "#list using filter and lambda function\n",
    "lst=[1,3,2,4,65,43,21,33,66]"
   ]
  },
  {
   "cell_type": "code",
   "execution_count": 32,
   "id": "5de833a8",
   "metadata": {},
   "outputs": [
    {
     "data": {
      "text/plain": [
       "[2, 4, 66]"
      ]
     },
     "execution_count": 32,
     "metadata": {},
     "output_type": "execute_result"
    }
   ],
   "source": [
    "list(filter((lambda num:num%2==0),lst))"
   ]
  },
  {
   "cell_type": "code",
   "execution_count": 33,
   "id": "e159e9d5",
   "metadata": {},
   "outputs": [
    {
     "data": {
      "text/plain": [
       "[67, 98, 65]"
      ]
     },
     "execution_count": 33,
     "metadata": {},
     "output_type": "execute_result"
    }
   ],
   "source": [
    "# Write a python program to filter out ages in the list who are 60 years old\n",
    "\n",
    "age_lst=[34,12,45,56,67,32,98,43,65,23]\n",
    "\n",
    "list(filter(lambda age:age>60,age_lst))"
   ]
  },
  {
   "cell_type": "code",
   "execution_count": 35,
   "id": "611e04c2",
   "metadata": {},
   "outputs": [
    {
     "data": {
      "text/plain": [
       "[None, None, None, None, 67, None, 98, None, 65, None]"
      ]
     },
     "execution_count": 35,
     "metadata": {},
     "output_type": "execute_result"
    }
   ],
   "source": [
    "def check_age(age):\n",
    "    if age>60:\n",
    "        return age\n",
    "\n",
    "list(map(check_age,age_lst))"
   ]
  },
  {
   "cell_type": "code",
   "execution_count": 38,
   "id": "ca2030ab",
   "metadata": {},
   "outputs": [],
   "source": [
    "students_marks=[(\"Muna\",67),(\"Inder\",33),('Saket',55)]\n",
    "students_marks[0][1]\n",
    "students_marks.sort(key=lambda x:x[1])"
   ]
  },
  {
   "cell_type": "code",
   "execution_count": 39,
   "id": "0c4081ee",
   "metadata": {},
   "outputs": [
    {
     "data": {
      "text/plain": [
       "[('Inder', 33), ('Saket', 55), ('Muna', 67)]"
      ]
     },
     "execution_count": 39,
     "metadata": {},
     "output_type": "execute_result"
    }
   ],
   "source": [
    "students_marks"
   ]
  },
  {
   "cell_type": "code",
   "execution_count": 40,
   "id": "3ac61502",
   "metadata": {},
   "outputs": [],
   "source": [
    "students_marks.reverse()"
   ]
  },
  {
   "cell_type": "code",
   "execution_count": 41,
   "id": "50c13f40",
   "metadata": {},
   "outputs": [
    {
     "data": {
      "text/plain": [
       "[('Muna', 67), ('Saket', 55), ('Inder', 33)]"
      ]
     },
     "execution_count": 41,
     "metadata": {},
     "output_type": "execute_result"
    }
   ],
   "source": [
    "students_marks"
   ]
  },
  {
   "cell_type": "markdown",
   "id": "66f217e2",
   "metadata": {},
   "source": [
    "# Reduce function in python\n",
    "\n",
    "The reduce function is used to apply a particular function passed in its argument to all of the list element\n",
    "\n",
    "How does reduce works:\n",
    "\n",
    "1. At first step, it will choose only the first two elements of the sequence\n",
    "2. Next step it will apply the same function to the previous result and the number just succeeding to the second element and again the result is stored.\n",
    "3. This will continue until no element is left in the sequence.\n",
    "\n",
    "You have to import functools to use reduce function\n"
   ]
  },
  {
   "cell_type": "code",
   "execution_count": 43,
   "id": "8e1eee4b",
   "metadata": {},
   "outputs": [
    {
     "data": {
      "text/plain": [
       "33"
      ]
     },
     "execution_count": 43,
     "metadata": {},
     "output_type": "execute_result"
    }
   ],
   "source": [
    "lst=[1,3,5,7,8,9]\n",
    "\n",
    "#Find the sum of elements in the list using reduce functions\n",
    "\n",
    "import functools\n",
    "\n",
    "functools.reduce(lambda num,num2:num+num2,lst)"
   ]
  },
  {
   "cell_type": "code",
   "execution_count": 44,
   "id": "d3b56851",
   "metadata": {},
   "outputs": [
    {
     "data": {
      "text/plain": [
       "7560"
      ]
     },
     "execution_count": 44,
     "metadata": {},
     "output_type": "execute_result"
    }
   ],
   "source": [
    "functools.reduce(lambda num,num2:num*num2,lst)"
   ]
  },
  {
   "cell_type": "code",
   "execution_count": 45,
   "id": "35c742ab",
   "metadata": {},
   "outputs": [],
   "source": [
    "def dollar_to_inr(currency):\n",
    "    return currency*76"
   ]
  },
  {
   "cell_type": "code",
   "execution_count": 46,
   "id": "4be47ccc",
   "metadata": {},
   "outputs": [
    {
     "data": {
      "text/plain": [
       "[38000, 53200, 83600, 25840]"
      ]
     },
     "execution_count": 46,
     "metadata": {},
     "output_type": "execute_result"
    }
   ],
   "source": [
    "lst_dollars=[500,700,1100,340]\n",
    "\n",
    "money_in_inr=list(map(dollar_to_inr,lst_dollars))"
   ]
  },
  {
   "cell_type": "code",
   "execution_count": 48,
   "id": "3fc9db87",
   "metadata": {},
   "outputs": [
    {
     "data": {
      "text/plain": [
       "110"
      ]
     },
     "execution_count": 48,
     "metadata": {},
     "output_type": "execute_result"
    }
   ],
   "source": [
    "nums=[1,3,4,5,2,1,110,2,21,43]\n",
    "\n",
    "#Use reduce function in python to find the maximum element in the nums list\n",
    "\n",
    "functools.reduce(lambda num1,num2:num1 if (num1>num2) else num2,nums)"
   ]
  },
  {
   "cell_type": "markdown",
   "id": "c773ab63",
   "metadata": {},
   "source": [
    "# List Comprehension\n",
    "\n",
    "List comprehension consist of brackets containing the expression, which is executed for each element along with the loop to iterate over each element\n",
    "\n",
    "Syntax: [expression(element) for element in lst ]"
   ]
  },
  {
   "cell_type": "code",
   "execution_count": 49,
   "id": "df507714",
   "metadata": {
    "scrolled": true
   },
   "outputs": [
    {
     "data": {
      "text/plain": [
       "['I', 'n', 'd', 'e', 'r', 'p', 'r', 'e', 'e', 't']"
      ]
     },
     "execution_count": 49,
     "metadata": {},
     "output_type": "execute_result"
    }
   ],
   "source": [
    "string='Inderpreet'\n",
    "\n",
    "[alphabet for alphabet in string]"
   ]
  },
  {
   "cell_type": "code",
   "execution_count": 50,
   "id": "ee29eb01",
   "metadata": {},
   "outputs": [],
   "source": [
    "# Write a python program using list comprehension to find the squares of the no\n",
    "#in the list"
   ]
  },
  {
   "cell_type": "code",
   "execution_count": 51,
   "id": "aa18369a",
   "metadata": {},
   "outputs": [
    {
     "data": {
      "text/plain": [
       "[1, 9, 25, 36, 64, 100]"
      ]
     },
     "execution_count": 51,
     "metadata": {},
     "output_type": "execute_result"
    }
   ],
   "source": [
    "lst=[1,3,5,6,8,10]\n",
    "[num**2 for num in lst]"
   ]
  },
  {
   "cell_type": "code",
   "execution_count": null,
   "id": "747e20ef",
   "metadata": {},
   "outputs": [],
   "source": [
    "[[1,2,3],[1,2,3],[1,2,3]]"
   ]
  },
  {
   "cell_type": "code",
   "execution_count": 52,
   "id": "0f737288",
   "metadata": {},
   "outputs": [
    {
     "data": {
      "text/plain": [
       "[[1, 2, 3], [1, 2, 3], [1, 2, 3]]"
      ]
     },
     "execution_count": 52,
     "metadata": {},
     "output_type": "execute_result"
    }
   ],
   "source": [
    "[[j for j in range(1,4)] for i in range(1,4)]"
   ]
  },
  {
   "cell_type": "code",
   "execution_count": null,
   "id": "b5dca90b",
   "metadata": {},
   "outputs": [],
   "source": []
  }
 ],
 "metadata": {
  "kernelspec": {
   "display_name": "Python 3 (ipykernel)",
   "language": "python",
   "name": "python3"
  },
  "language_info": {
   "codemirror_mode": {
    "name": "ipython",
    "version": 3
   },
   "file_extension": ".py",
   "mimetype": "text/x-python",
   "name": "python",
   "nbconvert_exporter": "python",
   "pygments_lexer": "ipython3",
   "version": "3.7.6"
  }
 },
 "nbformat": 4,
 "nbformat_minor": 5
}
