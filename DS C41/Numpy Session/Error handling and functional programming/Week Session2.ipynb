{
 "cells": [
  {
   "cell_type": "markdown",
   "id": "7b09b8d8",
   "metadata": {},
   "source": [
    "# Rules of Python\n",
    "\n",
    "1. Python language is an interpreter based language that means it reads code line by line.\n",
    "\n"
   ]
  },
  {
   "cell_type": "code",
   "execution_count": 1,
   "id": "24f2bcc9",
   "metadata": {},
   "outputs": [
    {
     "name": "stdout",
     "output_type": "stream",
     "text": [
      "Hello World\n",
      "Hello Students\n"
     ]
    },
    {
     "ename": "ZeroDivisionError",
     "evalue": "division by zero",
     "output_type": "error",
     "traceback": [
      "\u001b[1;31m---------------------------------------------------------------------------\u001b[0m",
      "\u001b[1;31mZeroDivisionError\u001b[0m                         Traceback (most recent call last)",
      "\u001b[1;32m~\\AppData\\Local\\Temp/ipykernel_5960/1451365991.py\u001b[0m in \u001b[0;36m<module>\u001b[1;34m\u001b[0m\n\u001b[0;32m      1\u001b[0m \u001b[0mprint\u001b[0m\u001b[1;33m(\u001b[0m\u001b[1;34m\"Hello World\"\u001b[0m\u001b[1;33m)\u001b[0m\u001b[1;33m\u001b[0m\u001b[1;33m\u001b[0m\u001b[0m\n\u001b[0;32m      2\u001b[0m \u001b[0mprint\u001b[0m\u001b[1;33m(\u001b[0m\u001b[1;34m\"Hello Students\"\u001b[0m\u001b[1;33m)\u001b[0m\u001b[1;33m\u001b[0m\u001b[1;33m\u001b[0m\u001b[0m\n\u001b[1;32m----> 3\u001b[1;33m \u001b[0mprint\u001b[0m\u001b[1;33m(\u001b[0m\u001b[1;36m5\u001b[0m\u001b[1;33m/\u001b[0m\u001b[1;36m0\u001b[0m\u001b[1;33m)\u001b[0m\u001b[1;33m\u001b[0m\u001b[1;33m\u001b[0m\u001b[0m\n\u001b[0m\u001b[0;32m      4\u001b[0m \u001b[0mprint\u001b[0m\u001b[1;33m(\u001b[0m\u001b[1;34m\"I love programming\"\u001b[0m\u001b[1;33m)\u001b[0m\u001b[1;33m\u001b[0m\u001b[1;33m\u001b[0m\u001b[0m\n",
      "\u001b[1;31mZeroDivisionError\u001b[0m: division by zero"
     ]
    }
   ],
   "source": [
    "print(\"Hello World\")\n",
    "print(\"Hello Students\")\n",
    "print(5/0)\n",
    "print(\"I love programming\")"
   ]
  },
  {
   "cell_type": "markdown",
   "id": "92a716dc",
   "metadata": {},
   "source": [
    "# Exception\tDescription\n",
    "\n",
    "\n",
    "IndexError\tWhen the wrong index of a list is retrieved.\n",
    "\n",
    "AssertionError\tIt occurs when the assert statement fails\n",
    "\n",
    "AttributeError\tIt occurs when an attribute assignment is failed.\n",
    "\n",
    "ImportError\tIt occurs when an imported module is not found.\n",
    "\n",
    "KeyError\tIt occurs when the key of the dictionary is not found.\n",
    "\n",
    "NameError\tIt occurs when the variable is not defined.\n",
    "\n",
    "MemoryError\tIt occurs when a program runs out of memory.\n",
    "\n",
    "TypeError\tIt occurs when a function and operation are applied in an incorrect type."
   ]
  },
  {
   "cell_type": "code",
   "execution_count": 2,
   "id": "005e068e",
   "metadata": {},
   "outputs": [
    {
     "ename": "IndexError",
     "evalue": "list index out of range",
     "output_type": "error",
     "traceback": [
      "\u001b[1;31m---------------------------------------------------------------------------\u001b[0m",
      "\u001b[1;31mIndexError\u001b[0m                                Traceback (most recent call last)",
      "\u001b[1;32m~\\AppData\\Local\\Temp/ipykernel_5960/470072992.py\u001b[0m in \u001b[0;36m<module>\u001b[1;34m\u001b[0m\n\u001b[0;32m      1\u001b[0m \u001b[0mlst\u001b[0m\u001b[1;33m=\u001b[0m\u001b[1;33m[\u001b[0m\u001b[1;36m1\u001b[0m\u001b[1;33m,\u001b[0m\u001b[1;36m2\u001b[0m\u001b[1;33m,\u001b[0m\u001b[1;36m3\u001b[0m\u001b[1;33m]\u001b[0m\u001b[1;33m\u001b[0m\u001b[1;33m\u001b[0m\u001b[0m\n\u001b[1;32m----> 2\u001b[1;33m \u001b[0mlst\u001b[0m\u001b[1;33m[\u001b[0m\u001b[1;36m5\u001b[0m\u001b[1;33m]\u001b[0m\u001b[1;33m\u001b[0m\u001b[1;33m\u001b[0m\u001b[0m\n\u001b[0m",
      "\u001b[1;31mIndexError\u001b[0m: list index out of range"
     ]
    }
   ],
   "source": [
    "lst=[1,2,3]\n",
    "lst[5]"
   ]
  },
  {
   "cell_type": "code",
   "execution_count": 3,
   "id": "0ac2d6ab",
   "metadata": {},
   "outputs": [
    {
     "ename": "AttributeError",
     "evalue": "'int' object has no attribute 'append'",
     "output_type": "error",
     "traceback": [
      "\u001b[1;31m---------------------------------------------------------------------------\u001b[0m",
      "\u001b[1;31mAttributeError\u001b[0m                            Traceback (most recent call last)",
      "\u001b[1;32m~\\AppData\\Local\\Temp/ipykernel_5960/2902739097.py\u001b[0m in \u001b[0;36m<module>\u001b[1;34m\u001b[0m\n\u001b[0;32m      1\u001b[0m \u001b[0ma\u001b[0m\u001b[1;33m=\u001b[0m\u001b[1;36m3\u001b[0m\u001b[1;33m\u001b[0m\u001b[1;33m\u001b[0m\u001b[0m\n\u001b[1;32m----> 2\u001b[1;33m \u001b[0ma\u001b[0m\u001b[1;33m.\u001b[0m\u001b[0mappend\u001b[0m\u001b[1;33m(\u001b[0m\u001b[1;36m10\u001b[0m\u001b[1;33m)\u001b[0m\u001b[1;33m\u001b[0m\u001b[1;33m\u001b[0m\u001b[0m\n\u001b[0m",
      "\u001b[1;31mAttributeError\u001b[0m: 'int' object has no attribute 'append'"
     ]
    }
   ],
   "source": [
    "a=3\n",
    "a.append(10)"
   ]
  },
  {
   "cell_type": "code",
   "execution_count": 5,
   "id": "0942fd08",
   "metadata": {},
   "outputs": [
    {
     "ename": "ModuleNotFoundError",
     "evalue": "No module named 'Upgrad'",
     "output_type": "error",
     "traceback": [
      "\u001b[1;31m---------------------------------------------------------------------------\u001b[0m",
      "\u001b[1;31mModuleNotFoundError\u001b[0m                       Traceback (most recent call last)",
      "\u001b[1;32m~\\AppData\\Local\\Temp/ipykernel_5960/3631394137.py\u001b[0m in \u001b[0;36m<module>\u001b[1;34m\u001b[0m\n\u001b[1;32m----> 1\u001b[1;33m \u001b[1;32mfrom\u001b[0m \u001b[0mUpgrad\u001b[0m \u001b[1;32mimport\u001b[0m \u001b[0minder\u001b[0m\u001b[1;33m\u001b[0m\u001b[1;33m\u001b[0m\u001b[0m\n\u001b[0m",
      "\u001b[1;31mModuleNotFoundError\u001b[0m: No module named 'Upgrad'"
     ]
    }
   ],
   "source": [
    "from Upgrad import inder"
   ]
  },
  {
   "cell_type": "code",
   "execution_count": 6,
   "id": "68cf8daf",
   "metadata": {},
   "outputs": [
    {
     "ename": "KeyError",
     "evalue": "'Name'",
     "output_type": "error",
     "traceback": [
      "\u001b[1;31m---------------------------------------------------------------------------\u001b[0m",
      "\u001b[1;31mKeyError\u001b[0m                                  Traceback (most recent call last)",
      "\u001b[1;32m~\\AppData\\Local\\Temp/ipykernel_5960/2804062240.py\u001b[0m in \u001b[0;36m<module>\u001b[1;34m\u001b[0m\n\u001b[0;32m      1\u001b[0m \u001b[0mdict1\u001b[0m\u001b[1;33m=\u001b[0m\u001b[1;33m{\u001b[0m\u001b[1;34m\"Marks\"\u001b[0m\u001b[1;33m:\u001b[0m\u001b[1;33m[\u001b[0m\u001b[1;36m45\u001b[0m\u001b[1;33m,\u001b[0m\u001b[1;36m67\u001b[0m\u001b[1;33m,\u001b[0m\u001b[1;36m87\u001b[0m\u001b[1;33m]\u001b[0m\u001b[1;33m}\u001b[0m\u001b[1;33m\u001b[0m\u001b[1;33m\u001b[0m\u001b[0m\n\u001b[1;32m----> 2\u001b[1;33m \u001b[0mdict1\u001b[0m\u001b[1;33m[\u001b[0m\u001b[1;34m'Name'\u001b[0m\u001b[1;33m]\u001b[0m\u001b[1;33m\u001b[0m\u001b[1;33m\u001b[0m\u001b[0m\n\u001b[0m",
      "\u001b[1;31mKeyError\u001b[0m: 'Name'"
     ]
    }
   ],
   "source": [
    "dict1={\"Marks\":[45,67,87]}\n",
    "dict1['Name']"
   ]
  },
  {
   "cell_type": "code",
   "execution_count": 7,
   "id": "f01422d0",
   "metadata": {},
   "outputs": [
    {
     "ename": "NameError",
     "evalue": "name 'B' is not defined",
     "output_type": "error",
     "traceback": [
      "\u001b[1;31m---------------------------------------------------------------------------\u001b[0m",
      "\u001b[1;31mNameError\u001b[0m                                 Traceback (most recent call last)",
      "\u001b[1;32m~\\AppData\\Local\\Temp/ipykernel_5960/2079371697.py\u001b[0m in \u001b[0;36m<module>\u001b[1;34m\u001b[0m\n\u001b[1;32m----> 1\u001b[1;33m \u001b[0mB\u001b[0m\u001b[1;33m\u001b[0m\u001b[1;33m\u001b[0m\u001b[0m\n\u001b[0m",
      "\u001b[1;31mNameError\u001b[0m: name 'B' is not defined"
     ]
    }
   ],
   "source": [
    "B"
   ]
  },
  {
   "cell_type": "code",
   "execution_count": 8,
   "id": "ee119620",
   "metadata": {},
   "outputs": [
    {
     "ename": "TypeError",
     "evalue": "can only concatenate str (not \"int\") to str",
     "output_type": "error",
     "traceback": [
      "\u001b[1;31m---------------------------------------------------------------------------\u001b[0m",
      "\u001b[1;31mTypeError\u001b[0m                                 Traceback (most recent call last)",
      "\u001b[1;32m~\\AppData\\Local\\Temp/ipykernel_5960/605451319.py\u001b[0m in \u001b[0;36m<module>\u001b[1;34m\u001b[0m\n\u001b[1;32m----> 1\u001b[1;33m \u001b[1;34m\"Inderpreet\"\u001b[0m\u001b[1;33m+\u001b[0m\u001b[1;36m30\u001b[0m\u001b[1;33m\u001b[0m\u001b[1;33m\u001b[0m\u001b[0m\n\u001b[0m",
      "\u001b[1;31mTypeError\u001b[0m: can only concatenate str (not \"int\") to str"
     ]
    }
   ],
   "source": [
    "\"Inderpreet\"+30"
   ]
  },
  {
   "cell_type": "code",
   "execution_count": 10,
   "id": "037089c1",
   "metadata": {},
   "outputs": [],
   "source": [
    "# cnt=0\n",
    "# while(True):\n",
    "#     print(\"My name is \",cnt)"
   ]
  },
  {
   "cell_type": "code",
   "execution_count": 11,
   "id": "358009f3",
   "metadata": {},
   "outputs": [
    {
     "ename": "ModuleNotFoundError",
     "evalue": "No module named 'request'",
     "output_type": "error",
     "traceback": [
      "\u001b[1;31m---------------------------------------------------------------------------\u001b[0m",
      "\u001b[1;31mModuleNotFoundError\u001b[0m                       Traceback (most recent call last)",
      "\u001b[1;32m~\\AppData\\Local\\Temp/ipykernel_5960/1724168889.py\u001b[0m in \u001b[0;36m<module>\u001b[1;34m\u001b[0m\n\u001b[1;32m----> 1\u001b[1;33m \u001b[1;32mimport\u001b[0m \u001b[0mrequest\u001b[0m\u001b[1;33m\u001b[0m\u001b[1;33m\u001b[0m\u001b[0m\n\u001b[0m",
      "\u001b[1;31mModuleNotFoundError\u001b[0m: No module named 'request'"
     ]
    }
   ],
   "source": [
    "import request"
   ]
  },
  {
   "cell_type": "markdown",
   "id": "9a9555ba",
   "metadata": {},
   "source": [
    "# Try except in Python \n",
    "\n",
    "\n",
    "Try and except statements are used to handle the errors in Python. The try block will be executed when there is no error and if there is any then except will be executed.\n",
    "\n",
    "Syntax:\n",
    "\n",
    "try:\n",
    "\n",
    "    #Some code\n",
    "    \n",
    "except:\n",
    "\n",
    "    #This will be executed if there is any error\n",
    "    "
   ]
  },
  {
   "cell_type": "code",
   "execution_count": 12,
   "id": "c5222a52",
   "metadata": {},
   "outputs": [
    {
     "ename": "ZeroDivisionError",
     "evalue": "division by zero",
     "output_type": "error",
     "traceback": [
      "\u001b[1;31m---------------------------------------------------------------------------\u001b[0m",
      "\u001b[1;31mZeroDivisionError\u001b[0m                         Traceback (most recent call last)",
      "\u001b[1;32m~\\AppData\\Local\\Temp/ipykernel_5960/2874912419.py\u001b[0m in \u001b[0;36m<module>\u001b[1;34m\u001b[0m\n\u001b[1;32m----> 1\u001b[1;33m \u001b[1;36m5\u001b[0m\u001b[1;33m/\u001b[0m\u001b[1;36m0\u001b[0m\u001b[1;33m\u001b[0m\u001b[1;33m\u001b[0m\u001b[0m\n\u001b[0m",
      "\u001b[1;31mZeroDivisionError\u001b[0m: division by zero"
     ]
    }
   ],
   "source": [
    "5/0"
   ]
  },
  {
   "cell_type": "code",
   "execution_count": 14,
   "id": "3872ca81",
   "metadata": {},
   "outputs": [
    {
     "name": "stdout",
     "output_type": "stream",
     "text": [
      "You cannot divide a number by zero\n"
     ]
    }
   ],
   "source": [
    "try:\n",
    "    print(5/0)\n",
    "except ZeroDivisionError:\n",
    "    print(\"You cannot divide a number by zero\")"
   ]
  },
  {
   "cell_type": "code",
   "execution_count": null,
   "id": "1c7adcbb",
   "metadata": {},
   "outputs": [],
   "source": [
    "# Write a python program which takes input of\n",
    "# two number and if the number is divided by zero then handle it with exception handling."
   ]
  },
  {
   "cell_type": "code",
   "execution_count": 18,
   "id": "e269f39e",
   "metadata": {},
   "outputs": [
    {
     "name": "stdout",
     "output_type": "stream",
     "text": [
      "Please enter the first number 5\n",
      "Please enter the second number 0\n",
      "Please dont divide a number with zero\n"
     ]
    }
   ],
   "source": [
    "num1=int(input(\"Please enter the first number \"))\n",
    "num2=int(input(\"Please enter the second number \"))\n",
    "try:\n",
    "    print(\"division of num1 with num2--> \",num1/num2)\n",
    "except:\n",
    "    print(\"Please dont divide a number with zero\")"
   ]
  },
  {
   "cell_type": "code",
   "execution_count": 23,
   "id": "dd5d5db9",
   "metadata": {},
   "outputs": [
    {
     "name": "stdout",
     "output_type": "stream",
     "text": [
      "Enter first number:5\n",
      "Enter second number:0\n",
      "Number cannot divided by zero\n"
     ]
    }
   ],
   "source": [
    "try:\n",
    "    a=int(input(\"Enter first number:\" ))\n",
    "    b=int(input (\"Enter second number:\"))\n",
    "    try:\n",
    "\n",
    "        print(\"div:\" ,a/b)\n",
    "\n",
    "    except ZeroDivisionError:\n",
    "        print(\"Number cannot divided by zero\")\n",
    "except:\n",
    "    print(\"Please input the correct number\")\n"
   ]
  },
  {
   "cell_type": "code",
   "execution_count": 24,
   "id": "4b0da3a8",
   "metadata": {},
   "outputs": [],
   "source": [
    "# #Write a python program w\n",
    "# here you handle the index error in a list \n",
    "# using exception handling and the input index will using the input functio"
   ]
  },
  {
   "cell_type": "code",
   "execution_count": 28,
   "id": "b3bcfa99",
   "metadata": {},
   "outputs": [
    {
     "name": "stdout",
     "output_type": "stream",
     "text": [
      "Enter index of your list:4\n",
      "Index out of the range in list\n"
     ]
    }
   ],
   "source": [
    "lst=[1,2,3]\n",
    "index=int(input(\"Enter index of your list:\" ))\n",
    "try:\n",
    "    print(\"the element at \",index,\"is--->\",lst[index])\n",
    "except:\n",
    "    print(\"Index out of the range in list\")"
   ]
  },
  {
   "cell_type": "code",
   "execution_count": 29,
   "id": "c73dc5e0",
   "metadata": {},
   "outputs": [
    {
     "name": "stdout",
     "output_type": "stream",
     "text": [
      "index error\n"
     ]
    }
   ],
   "source": [
    "try:\n",
    "    a = [1,2,3,4,5,6]\n",
    "    print (a[67])\n",
    "except:\n",
    "    print(\"index error\")\n"
   ]
  },
  {
   "cell_type": "markdown",
   "id": "fdba5003",
   "metadata": {},
   "source": [
    "# How try statements works\n",
    "\n",
    "1. First the try will be executed between try and except\n",
    "\n",
    "2. If there is no except then try will run otherwise except will run\n",
    "\n",
    "3. If there is any exception then try clause will be skipped\n",
    "\n",
    "4. A try statement can have more than one except clause"
   ]
  },
  {
   "cell_type": "code",
   "execution_count": 34,
   "id": "5aabaf31",
   "metadata": {},
   "outputs": [
    {
     "name": "stdout",
     "output_type": "stream",
     "text": [
      "Please enter the first number 1\n",
      "Please enter the second number 2\n",
      "Please enter the third number 3\n",
      "Please enter the fourth number 0\n",
      "incorrect division\n"
     ]
    }
   ],
   "source": [
    "try:\n",
    "    num1=int(input(\"Please enter the first number \"))\n",
    "    num2=int(input(\"Please enter the second number \"))\n",
    "    try:\n",
    "        num3=int(input(\"Please enter the third number \"))\n",
    "        num4=int(input(\"Please enter the fourth number \"))\n",
    "        print(\"the division of \",((num1+num2)*num3)/num4)\n",
    "    except:\n",
    "        print(\"incorrect division\")\n",
    "except:\n",
    "    print(\"Please enter correct 1st and 2nd number\")"
   ]
  },
  {
   "cell_type": "markdown",
   "id": "9b18c2ed",
   "metadata": {},
   "source": [
    "# Else clause\n",
    "\n",
    "In python we have else clause  in this try except block else block will be executed if there is no exception\n",
    "\n",
    "Syntax:\n",
    "\n",
    "try:\n",
    "\n",
    "    #block of code\n",
    "\n",
    "except:\n",
    "\n",
    "    #this will be executed if there is any error\n",
    "   \n",
    "else:\n",
    "\n",
    "    #this will be executed if there is no exception or error\n",
    "\n",
    "\n"
   ]
  },
  {
   "cell_type": "code",
   "execution_count": 36,
   "id": "e7d9a451",
   "metadata": {},
   "outputs": [
    {
     "name": "stdout",
     "output_type": "stream",
     "text": [
      "Please enter the first number 5 \n",
      "Please enter the second number 0\n",
      "Please dont divide a number with zero\n"
     ]
    }
   ],
   "source": [
    "try:\n",
    "    num1=int(input(\"Please enter the first number \"))\n",
    "    num2=int(input(\"Please enter the second number \"))\n",
    "    print(\"division of num1 with num2--> \",num1/num2)\n",
    "except:\n",
    "    print(\"Please dont divide a number with zero\")\n",
    "else:\n",
    "    print(\"Multiply the numbers \",num1*num2)"
   ]
  },
  {
   "cell_type": "markdown",
   "id": "bd57d534",
   "metadata": {},
   "source": [
    "# Real Life Scenario"
   ]
  },
  {
   "cell_type": "code",
   "execution_count": 38,
   "id": "a7b959bd",
   "metadata": {},
   "outputs": [
    {
     "name": "stdout",
     "output_type": "stream",
     "text": [
      "Please enter the 4 digit pin a\n",
      "Please add the valid pin\n"
     ]
    }
   ],
   "source": [
    "try:\n",
    "    pin=int(input(\"Please enter the 4 digit pin \"))\n",
    "    print(\"Logged in Successfully\")\n",
    "except:\n",
    "    print(\"Please add the valid pin\")\n",
    "else:\n",
    "    print(\"The cash is withdrawn\")"
   ]
  },
  {
   "cell_type": "code",
   "execution_count": 39,
   "id": "907b3644",
   "metadata": {},
   "outputs": [],
   "source": [
    "# Write a python program for multiplication and division of numbers using else condition along\n",
    "#with try else"
   ]
  },
  {
   "cell_type": "code",
   "execution_count": 42,
   "id": "bd78aa07",
   "metadata": {},
   "outputs": [
    {
     "name": "stdout",
     "output_type": "stream",
     "text": [
      "Please enter the first number a\n",
      "Please input the correct data type\n"
     ]
    }
   ],
   "source": [
    "try:\n",
    "    num1=int(input(\"Please enter the first number \"))\n",
    "    num2=int(input(\"Please enter the second number \"))\n",
    "    try:\n",
    "        print(\"division of numbers \",num1/num2)\n",
    "    except:\n",
    "        print(\"You cannot divide number by 0\")\n",
    "    try:\n",
    "        print(\"The multiplication of numbers \",num1*num2)\n",
    "    except:\n",
    "        print(\"Exception in multiplication\")\n",
    "except:\n",
    "    print(\"Please input the correct data type\")"
   ]
  },
  {
   "cell_type": "markdown",
   "id": "3cd97bc8",
   "metadata": {},
   "source": [
    "# Finally Keyword in Python\n",
    "\n",
    "Finally keyword is always executed after try and except,else block. The final block always executed after normal termination of try block or after try block due to exceptions\n",
    "\n",
    "\n",
    "Syntax:\n",
    "\n",
    "try:\n",
    "\n",
    "    #block of code\n",
    "\n",
    "except:\n",
    "\n",
    "    #this will be executed if there is any error\n",
    "   \n",
    "else:\n",
    "\n",
    "    #this will be executed if there is no exception or error\n",
    "    \n",
    "finally:\n",
    "\n",
    "    #this will be executed everytime"
   ]
  },
  {
   "cell_type": "code",
   "execution_count": 44,
   "id": "bc2a6ea9",
   "metadata": {},
   "outputs": [
    {
     "name": "stdout",
     "output_type": "stream",
     "text": [
      "Please enter the first number 5\n",
      "Please enter the second number 0\n",
      "Please dont divide a number with zero\n",
      "Inside finally statement\n"
     ]
    }
   ],
   "source": [
    "try:\n",
    "    num1=int(input(\"Please enter the first number \"))\n",
    "    num2=int(input(\"Please enter the second number \"))\n",
    "    print(\"division of num1 with num2--> \",num1/num2)\n",
    "except:\n",
    "    print(\"Please dont divide a number with zero\")\n",
    "else:\n",
    "    print(\"Multiply the numbers \",num1*num2)\n",
    "finally:\n",
    "    print(\"Inside finally statement\")"
   ]
  },
  {
   "cell_type": "markdown",
   "id": "f41650e9",
   "metadata": {},
   "source": [
    "# ATM Real life use case"
   ]
  },
  {
   "cell_type": "code",
   "execution_count": 48,
   "id": "88fa0bfd",
   "metadata": {},
   "outputs": [
    {
     "name": "stdout",
     "output_type": "stream",
     "text": [
      "Please enter the 4 digit pin 123\n",
      "Please enter the 4 digit pin\n",
      "The cash is withdrawn\n",
      "Thanks for using HDFC ATM\n"
     ]
    }
   ],
   "source": [
    "try:\n",
    "    pin=input(\"Please enter the 4 digit pin \")\n",
    "#     print(\"Logged in Successfully\")\n",
    "    if len(pin)==4:\n",
    "        print(\"Add the amount to withdraw\")\n",
    "    else:\n",
    "        print(\"Please enter the 4 digit pin\")\n",
    "except:\n",
    "    print(\"Please add the valid pin\")\n",
    "else:\n",
    "    print(\"The cash is withdrawn\")\n",
    "finally:\n",
    "    print(\"Thanks for using HDFC ATM\")"
   ]
  },
  {
   "cell_type": "markdown",
   "id": "ca12c465",
   "metadata": {},
   "source": [
    "# Functional Programming\n",
    "\n",
    "Functional programming is a programming method in which we try to bind everything. Its main goal is to use the code efficiently without rewriting the code again.\n",
    "\n",
    "Syntax for Function:\n",
    "\n",
    "\n",
    "def function_name():\n",
    "\n",
    "    #block of code"
   ]
  },
  {
   "cell_type": "code",
   "execution_count": 55,
   "id": "73375973",
   "metadata": {},
   "outputs": [],
   "source": [
    "def cube(number):\n",
    "    print(\"The cube of number \",number ,\"is-> \",number**3)\n",
    "#     print(\"The cube of other number \",number2 ,\"is-> \",number2**3)\n"
   ]
  },
  {
   "cell_type": "code",
   "execution_count": 54,
   "id": "e622d51a",
   "metadata": {},
   "outputs": [
    {
     "name": "stdout",
     "output_type": "stream",
     "text": [
      "The cube of number  5 is->  125\n",
      "The cube of other number  3 is->  27\n"
     ]
    }
   ],
   "source": [
    "cube(5,3)"
   ]
  },
  {
   "cell_type": "code",
   "execution_count": 56,
   "id": "157f6ce2",
   "metadata": {},
   "outputs": [
    {
     "name": "stdout",
     "output_type": "stream",
     "text": [
      "The cube of number  1 is->  1\n",
      "The cube of number  2 is->  8\n",
      "The cube of number  3 is->  27\n",
      "The cube of number  4 is->  64\n",
      "The cube of number  5 is->  125\n",
      "The cube of number  6 is->  216\n",
      "The cube of number  7 is->  343\n",
      "The cube of number  8 is->  512\n",
      "The cube of number  9 is->  729\n",
      "The cube of number  10 is->  1000\n",
      "The cube of number  11 is->  1331\n",
      "The cube of number  12 is->  1728\n",
      "The cube of number  13 is->  2197\n",
      "The cube of number  14 is->  2744\n",
      "The cube of number  15 is->  3375\n",
      "The cube of number  16 is->  4096\n",
      "The cube of number  17 is->  4913\n",
      "The cube of number  18 is->  5832\n",
      "The cube of number  19 is->  6859\n",
      "The cube of number  20 is->  8000\n"
     ]
    }
   ],
   "source": [
    "#Write a python program to find the cube of a number from 1 to 20\n",
    "\n",
    "for i in range(1,21):\n",
    "    cube(i)"
   ]
  },
  {
   "cell_type": "code",
   "execution_count": 64,
   "id": "9e0941e9",
   "metadata": {},
   "outputs": [],
   "source": [
    "def cube(number):\n",
    "    print(\"The cube of number \",number ,\"is-> \",number**3)\n",
    "#     print(\"The cube of other number \",number2 ,\"is-> \",number2**3)\n",
    "    return number**3"
   ]
  },
  {
   "cell_type": "code",
   "execution_count": 65,
   "id": "bbb39db2",
   "metadata": {},
   "outputs": [
    {
     "name": "stdout",
     "output_type": "stream",
     "text": [
      "The cube of number  5 is->  125\n"
     ]
    }
   ],
   "source": [
    "store=cube(5)"
   ]
  },
  {
   "cell_type": "code",
   "execution_count": 66,
   "id": "83104b50",
   "metadata": {},
   "outputs": [
    {
     "data": {
      "text/plain": [
       "125"
      ]
     },
     "execution_count": 66,
     "metadata": {},
     "output_type": "execute_result"
    }
   ],
   "source": [
    "store"
   ]
  },
  {
   "cell_type": "code",
   "execution_count": 72,
   "id": "9291a644",
   "metadata": {},
   "outputs": [],
   "source": [
    "def capitalize(string):\n",
    "    return string.upper()"
   ]
  },
  {
   "cell_type": "code",
   "execution_count": 73,
   "id": "4c2100d9",
   "metadata": {},
   "outputs": [
    {
     "data": {
      "text/plain": [
       "'KRUNAL Sharma'"
      ]
     },
     "execution_count": 73,
     "metadata": {},
     "output_type": "execute_result"
    }
   ],
   "source": [
    "capitalize(\"krunal\")+\" Sharma\""
   ]
  },
  {
   "cell_type": "code",
   "execution_count": 75,
   "id": "64007ab4",
   "metadata": {},
   "outputs": [],
   "source": [
    "#Write a python program that finds the vowels in a name and returns the vowels present in the name\n",
    "\n",
    "def vowel_from_string(name):\n",
    "    vowel_string=''\n",
    "    name=name.upper()\n",
    "    \n",
    "    for alphabet in name:\n",
    "        if alphabet in \"AEIOU\":\n",
    "            vowel_string+=alphabet\n",
    "\n",
    "    return vowel_string\n",
    "    \n",
    "    \n",
    "    \n",
    "# Example:Ananya\n",
    "    \n",
    "# Output:AAA or aaa"
   ]
  },
  {
   "cell_type": "code",
   "execution_count": 78,
   "id": "a2984c10",
   "metadata": {},
   "outputs": [
    {
     "data": {
      "text/plain": [
       "'AIA'"
      ]
     },
     "execution_count": 78,
     "metadata": {},
     "output_type": "execute_result"
    }
   ],
   "source": [
    "vowel_from_string('Vaibhav')\n"
   ]
  },
  {
   "cell_type": "code",
   "execution_count": null,
   "id": "e6de1eca",
   "metadata": {},
   "outputs": [],
   "source": [
    "# Write a python program to convert celsius to fahrenheit\n"
   ]
  },
  {
   "cell_type": "code",
   "execution_count": 81,
   "id": "5d136bf3",
   "metadata": {},
   "outputs": [],
   "source": [
    "\n",
    "def convert_celsius_to_fahrenheit(temperature):\n",
    "    return (temperature*(9/5))+32"
   ]
  },
  {
   "cell_type": "code",
   "execution_count": 86,
   "id": "36402260",
   "metadata": {},
   "outputs": [
    {
     "data": {
      "text/plain": [
       "109.4"
      ]
     },
     "execution_count": 86,
     "metadata": {},
     "output_type": "execute_result"
    }
   ],
   "source": [
    "convert_celsius_to_fahrenheit(43)"
   ]
  },
  {
   "cell_type": "code",
   "execution_count": 83,
   "id": "0a907dea",
   "metadata": {},
   "outputs": [],
   "source": [
    "lst_temperature=[34,43,231,65,32,214,321]"
   ]
  },
  {
   "cell_type": "code",
   "execution_count": 85,
   "id": "26e99391",
   "metadata": {},
   "outputs": [
    {
     "data": {
      "text/plain": [
       "[93.2, 109.4, 447.8, 149.0, 89.6, 417.2, 609.8000000000001]"
      ]
     },
     "execution_count": 85,
     "metadata": {},
     "output_type": "execute_result"
    }
   ],
   "source": [
    "for i in range(len(lst_temperature)):\n",
    "    lst_temperature[i]=convert_celsius_to_fahrenheit(lst_temperature[i])\n",
    "    \n",
    "lst_temperature"
   ]
  },
  {
   "cell_type": "markdown",
   "id": "3a89ba08",
   "metadata": {},
   "source": [
    "# Write a function that can do mathematical operations like division,multiplication,subtraction and addition along with that use exception handling"
   ]
  },
  {
   "cell_type": "code",
   "execution_count": 87,
   "id": "6b8a59ed",
   "metadata": {},
   "outputs": [],
   "source": [
    "def calculator(num1,num2,operator):\n",
    "    if operator=='+':\n",
    "        print(\"The result after addition is---> \",num1+num2 )\n",
    "    if operator=='-':\n",
    "        print(\"The result after subtraction is---> \",num1-num2 )\n",
    "    if operator=='*':\n",
    "        print(\"The result after multiplication is---> \",num1*num2 )\n",
    "    if operator=='/':\n",
    "        try:\n",
    "            print(\"The result after division is---> \",num1/num2)\n",
    "        except:\n",
    "            print(\"Don't divide the number by zero\")\n",
    "            break\n",
    "            \n",
    "            \n",
    "\n",
    "while True:\n",
    "    try:\n",
    "        num1=int(input(\"Please enter first number \"))\n",
    "        num2=int(input(\"Please enter second number \"))\n",
    "    except:\n",
    "        print(\"Please add vald numbers\")\n",
    "    operator=input(\"Please enter the operator\")\n",
    "    calculator(num1,num2,operator)"
   ]
  },
  {
   "cell_type": "code",
   "execution_count": 94,
   "id": "24d52b68",
   "metadata": {},
   "outputs": [
    {
     "name": "stdout",
     "output_type": "stream",
     "text": [
      "Please enter first number 5\n",
      "Please enter second number 3\n",
      "Please enter the operator/\n",
      "The result after division is--->  1.6666666666666667\n",
      "Please enter first number 5\n",
      "Please enter second number 3\n",
      "Please enter the operator/\n",
      "The result after division is--->  1.6666666666666667\n",
      "Please enter first number 5\n",
      "Please enter second number 0\n",
      "Please enter the operator/\n",
      "Don't divide the number by zero\n",
      "Please add vald numbers\n"
     ]
    },
    {
     "ename": "KeyboardInterrupt",
     "evalue": "Interrupted by user",
     "output_type": "error",
     "traceback": [
      "\u001b[1;31m---------------------------------------------------------------------------\u001b[0m",
      "\u001b[1;31mKeyboardInterrupt\u001b[0m                         Traceback (most recent call last)",
      "\u001b[1;32m~\\AppData\\Local\\Temp/ipykernel_5960/3297554857.py\u001b[0m in \u001b[0;36m<module>\u001b[1;34m\u001b[0m\n\u001b[0;32m      5\u001b[0m     \u001b[1;32mexcept\u001b[0m\u001b[1;33m:\u001b[0m\u001b[1;33m\u001b[0m\u001b[1;33m\u001b[0m\u001b[0m\n\u001b[0;32m      6\u001b[0m         \u001b[0mprint\u001b[0m\u001b[1;33m(\u001b[0m\u001b[1;34m\"Please add vald numbers\"\u001b[0m\u001b[1;33m)\u001b[0m\u001b[1;33m\u001b[0m\u001b[1;33m\u001b[0m\u001b[0m\n\u001b[1;32m----> 7\u001b[1;33m     \u001b[0moperator\u001b[0m\u001b[1;33m=\u001b[0m\u001b[0minput\u001b[0m\u001b[1;33m(\u001b[0m\u001b[1;34m\"Please enter the operator\"\u001b[0m\u001b[1;33m)\u001b[0m\u001b[1;33m\u001b[0m\u001b[1;33m\u001b[0m\u001b[0m\n\u001b[0m\u001b[0;32m      8\u001b[0m     \u001b[0mcalculator\u001b[0m\u001b[1;33m(\u001b[0m\u001b[0mnum1\u001b[0m\u001b[1;33m,\u001b[0m\u001b[0mnum2\u001b[0m\u001b[1;33m,\u001b[0m\u001b[0moperator\u001b[0m\u001b[1;33m)\u001b[0m\u001b[1;33m\u001b[0m\u001b[1;33m\u001b[0m\u001b[0m\n",
      "\u001b[1;32mc:\\program files\\python37\\lib\\site-packages\\ipykernel\\kernelbase.py\u001b[0m in \u001b[0;36mraw_input\u001b[1;34m(self, prompt)\u001b[0m\n\u001b[0;32m   1008\u001b[0m             \u001b[0mself\u001b[0m\u001b[1;33m.\u001b[0m\u001b[0m_parent_ident\u001b[0m\u001b[1;33m[\u001b[0m\u001b[1;34m\"shell\"\u001b[0m\u001b[1;33m]\u001b[0m\u001b[1;33m,\u001b[0m\u001b[1;33m\u001b[0m\u001b[1;33m\u001b[0m\u001b[0m\n\u001b[0;32m   1009\u001b[0m             \u001b[0mself\u001b[0m\u001b[1;33m.\u001b[0m\u001b[0mget_parent\u001b[0m\u001b[1;33m(\u001b[0m\u001b[1;34m\"shell\"\u001b[0m\u001b[1;33m)\u001b[0m\u001b[1;33m,\u001b[0m\u001b[1;33m\u001b[0m\u001b[1;33m\u001b[0m\u001b[0m\n\u001b[1;32m-> 1010\u001b[1;33m             \u001b[0mpassword\u001b[0m\u001b[1;33m=\u001b[0m\u001b[1;32mFalse\u001b[0m\u001b[1;33m,\u001b[0m\u001b[1;33m\u001b[0m\u001b[1;33m\u001b[0m\u001b[0m\n\u001b[0m\u001b[0;32m   1011\u001b[0m         )\n\u001b[0;32m   1012\u001b[0m \u001b[1;33m\u001b[0m\u001b[0m\n",
      "\u001b[1;32mc:\\program files\\python37\\lib\\site-packages\\ipykernel\\kernelbase.py\u001b[0m in \u001b[0;36m_input_request\u001b[1;34m(self, prompt, ident, parent, password)\u001b[0m\n\u001b[0;32m   1049\u001b[0m             \u001b[1;32mexcept\u001b[0m \u001b[0mKeyboardInterrupt\u001b[0m\u001b[1;33m:\u001b[0m\u001b[1;33m\u001b[0m\u001b[1;33m\u001b[0m\u001b[0m\n\u001b[0;32m   1050\u001b[0m                 \u001b[1;31m# re-raise KeyboardInterrupt, to truncate traceback\u001b[0m\u001b[1;33m\u001b[0m\u001b[1;33m\u001b[0m\u001b[1;33m\u001b[0m\u001b[0m\n\u001b[1;32m-> 1051\u001b[1;33m                 \u001b[1;32mraise\u001b[0m \u001b[0mKeyboardInterrupt\u001b[0m\u001b[1;33m(\u001b[0m\u001b[1;34m\"Interrupted by user\"\u001b[0m\u001b[1;33m)\u001b[0m \u001b[1;32mfrom\u001b[0m \u001b[1;32mNone\u001b[0m\u001b[1;33m\u001b[0m\u001b[1;33m\u001b[0m\u001b[0m\n\u001b[0m\u001b[0;32m   1052\u001b[0m             \u001b[1;32mexcept\u001b[0m \u001b[0mException\u001b[0m\u001b[1;33m:\u001b[0m\u001b[1;33m\u001b[0m\u001b[1;33m\u001b[0m\u001b[0m\n\u001b[0;32m   1053\u001b[0m                 \u001b[0mself\u001b[0m\u001b[1;33m.\u001b[0m\u001b[0mlog\u001b[0m\u001b[1;33m.\u001b[0m\u001b[0mwarning\u001b[0m\u001b[1;33m(\u001b[0m\u001b[1;34m\"Invalid Message:\"\u001b[0m\u001b[1;33m,\u001b[0m \u001b[0mexc_info\u001b[0m\u001b[1;33m=\u001b[0m\u001b[1;32mTrue\u001b[0m\u001b[1;33m)\u001b[0m\u001b[1;33m\u001b[0m\u001b[1;33m\u001b[0m\u001b[0m\n",
      "\u001b[1;31mKeyboardInterrupt\u001b[0m: Interrupted by user"
     ]
    }
   ],
   "source": [
    "\n",
    "while True:\n",
    "    try:\n",
    "        num1=int(input(\"Please enter first number \"))\n",
    "        num2=int(input(\"Please enter second number \"))\n",
    "    except:\n",
    "        print(\"Please add vald numbers\")\n",
    "    operator=input(\"Please enter the operator\")\n",
    "    calculator(num1,num2,operator)"
   ]
  },
  {
   "cell_type": "code",
   "execution_count": null,
   "id": "0c2a1581",
   "metadata": {},
   "outputs": [],
   "source": []
  }
 ],
 "metadata": {
  "kernelspec": {
   "display_name": "Python 3 (ipykernel)",
   "language": "python",
   "name": "python3"
  },
  "language_info": {
   "codemirror_mode": {
    "name": "ipython",
    "version": 3
   },
   "file_extension": ".py",
   "mimetype": "text/x-python",
   "name": "python",
   "nbconvert_exporter": "python",
   "pygments_lexer": "ipython3",
   "version": "3.7.6"
  }
 },
 "nbformat": 4,
 "nbformat_minor": 5
}
