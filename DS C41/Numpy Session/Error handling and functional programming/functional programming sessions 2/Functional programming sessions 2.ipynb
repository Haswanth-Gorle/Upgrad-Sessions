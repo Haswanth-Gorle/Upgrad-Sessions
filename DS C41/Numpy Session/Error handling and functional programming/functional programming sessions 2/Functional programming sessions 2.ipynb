{
 "cells": [
  {
   "cell_type": "code",
   "execution_count": 11,
   "id": "8c5bd295",
   "metadata": {},
   "outputs": [],
   "source": [
    "# # Convert the list of usd in indian currency and japanese currency.\n",
    "# Create a function for this task\n",
    "\n",
    "lst_usd=[100,500,7660,450]\n",
    "# lst_inr=[7600,33000,]\n",
    "# lst_jap=[]\n",
    "\n",
    "\n",
    "def currency_conver(lst_usd):\n",
    "    lst_inr=[]\n",
    "    lst_jap=[]\n",
    "    for i in lst_usd:\n",
    "        lst_inr.append(i*76)\n",
    "        lst_jap.append(i*124)\n",
    "    return lst_inr,lst_jap"
   ]
  },
  {
   "cell_type": "code",
   "execution_count": 13,
   "id": "3221e254",
   "metadata": {},
   "outputs": [
    {
     "data": {
      "text/plain": [
       "[7600, 38000, 582160, 34200]"
      ]
     },
     "execution_count": 13,
     "metadata": {},
     "output_type": "execute_result"
    }
   ],
   "source": [
    "lst_inr,lst_jap=currency_conver(lst_usd)\n",
    "lst_inr"
   ]
  },
  {
   "cell_type": "markdown",
   "id": "cd246611",
   "metadata": {},
   "source": [
    "# Map function in Python\n",
    "\n",
    "The map function takes two arguments\n",
    "\n",
    "1. A function name\n",
    "\n",
    "2. A sequence iterable that is a list,tuple,string.\n",
    "\n",
    "Syntax: map(function_name,iterable)"
   ]
  },
  {
   "cell_type": "code",
   "execution_count": 15,
   "id": "cc048da4",
   "metadata": {},
   "outputs": [
    {
     "data": {
      "text/plain": [
       "[7600, 38000, 582160, 34200]"
      ]
     },
     "execution_count": 15,
     "metadata": {},
     "output_type": "execute_result"
    }
   ],
   "source": [
    "def convert_usd_to_inr(curr):\n",
    "    return curr*76\n",
    "\n",
    "\n",
    "lst_usd=[100,500,7660,450]\n",
    "\n",
    "list(map(convert_usd_to_inr,lst_usd))"
   ]
  },
  {
   "cell_type": "code",
   "execution_count": 20,
   "id": "28314bce",
   "metadata": {},
   "outputs": [
    {
     "data": {
      "text/plain": [
       "[25.555555555555557,\n",
       " 18.333333333333336,\n",
       " 36.66666666666667,\n",
       " 6.111111111111112,\n",
       " 13.333333333333334]"
      ]
     },
     "execution_count": 20,
     "metadata": {},
     "output_type": "execute_result"
    }
   ],
   "source": [
    "# Convert a list of temperature from fahrenheit to celsius using map function\n",
    "\n",
    "lst_temp=[78,65,98,43,56]\n",
    "\n",
    "def farhenheit_to_celsius(temp):\n",
    "    return (temp-32)*(5/9)\n",
    "\n",
    "list(map(farhenheit_to_celsius,lst_temp))"
   ]
  },
  {
   "cell_type": "code",
   "execution_count": 23,
   "id": "81219e2b",
   "metadata": {},
   "outputs": [],
   "source": [
    "#Write a python program to find total marks from both lists using map function\n",
    "Marks=[45,65,43,65,43]\n",
    "Marks2=[65,78,43,54,6]\n",
    "\n",
    "# Total_marks=[45+65,65+78....]"
   ]
  },
  {
   "cell_type": "code",
   "execution_count": 24,
   "id": "9ab4ffcc",
   "metadata": {},
   "outputs": [
    {
     "data": {
      "text/plain": [
       "[110, 143, 86, 119, 49]"
      ]
     },
     "execution_count": 24,
     "metadata": {},
     "output_type": "execute_result"
    }
   ],
   "source": [
    "def summ(Marks1,Marks2):\n",
    "    return Marks1+Marks2\n",
    "\n",
    "list(map(summ,Marks,Marks2))"
   ]
  },
  {
   "cell_type": "code",
   "execution_count": 25,
   "id": "f67c73b7",
   "metadata": {},
   "outputs": [
    {
     "data": {
      "text/plain": [
       "['1', '2', '3', '4']"
      ]
     },
     "execution_count": 25,
     "metadata": {},
     "output_type": "execute_result"
    }
   ],
   "source": [
    "lst=[1,2,3,4]\n",
    "list(map(str,lst))\n"
   ]
  },
  {
   "cell_type": "code",
   "execution_count": 26,
   "id": "217ecb5d",
   "metadata": {},
   "outputs": [
    {
     "data": {
      "text/plain": [
       "[27, 64, 1728, 32768, 157464, 32768]"
      ]
     },
     "execution_count": 26,
     "metadata": {},
     "output_type": "execute_result"
    }
   ],
   "source": [
    "# Write a python program to find the cube of each number in the list\n",
    "lst=[3,4,12,32,54,32]\n",
    "def cube(num):\n",
    "    return num**3\n",
    "list(map(cube,lst))\n",
    "\n",
    "\n"
   ]
  },
  {
   "cell_type": "code",
   "execution_count": 27,
   "id": "b6d3cac0",
   "metadata": {},
   "outputs": [],
   "source": [
    "# Write a python program to listify a list of given strings\n",
    "\n",
    "\n",
    "lst_colors=[\"Red\",\"Black\",\"Blue\",\"Orange\"]\n",
    "\n",
    "# Output:\n",
    "#     [['R','e','d'],['B','l','a','c','k'],['B','l','u','e'],['O','r','a','n','g','e']]"
   ]
  },
  {
   "cell_type": "code",
   "execution_count": 28,
   "id": "606b41d5",
   "metadata": {},
   "outputs": [
    {
     "data": {
      "text/plain": [
       "[['R', 'e', 'd'],\n",
       " ['B', 'l', 'a', 'c', 'k'],\n",
       " ['B', 'l', 'u', 'e'],\n",
       " ['O', 'r', 'a', 'n', 'g', 'e']]"
      ]
     },
     "execution_count": 28,
     "metadata": {},
     "output_type": "execute_result"
    }
   ],
   "source": [
    "list(map(list,lst_colors))"
   ]
  },
  {
   "cell_type": "code",
   "execution_count": 30,
   "id": "17f0edda",
   "metadata": {},
   "outputs": [
    {
     "data": {
      "text/plain": [
       "['U', 'p', 'g', 'r', 'a', 'd']"
      ]
     },
     "execution_count": 30,
     "metadata": {},
     "output_type": "execute_result"
    }
   ],
   "source": [
    "string='Upgrad'\n",
    "list(string)"
   ]
  },
  {
   "cell_type": "code",
   "execution_count": 35,
   "id": "82289ef6",
   "metadata": {},
   "outputs": [],
   "source": [
    "# Write a python program to extract the string in the list which have vowels\n",
    "\n",
    "Strings=['Inderpreet','Sonal','Abhishek','Gym','Dry']\n",
    "\n",
    "def vowel_in_string(string):\n",
    "    string=string.upper()\n",
    "    for i in string:\n",
    "        if i in 'AEIOU':\n",
    "            return string\n",
    "    else:\n",
    "        return \"\"\n"
   ]
  },
  {
   "cell_type": "code",
   "execution_count": 34,
   "id": "65b5a5e6",
   "metadata": {},
   "outputs": [
    {
     "data": {
      "text/plain": [
       "['INDERPREET', 'SONAL', 'ABHISHEK', None, None]"
      ]
     },
     "execution_count": 34,
     "metadata": {},
     "output_type": "execute_result"
    }
   ],
   "source": [
    "list(map(vowel_in_string,Strings))"
   ]
  },
  {
   "cell_type": "markdown",
   "id": "4e75634f",
   "metadata": {},
   "source": [
    "# Filter function\n",
    "\n",
    "The filter method will filter the given iterable with the help of a function that will check whether the element in the sequence is true or not\n",
    "\n",
    "Syntax: filter(func_name,iterable)\n",
    "\n",
    "Iterable can be a list,set,tuple or any other iterator"
   ]
  },
  {
   "cell_type": "code",
   "execution_count": 7,
   "id": "72f9289c",
   "metadata": {},
   "outputs": [
    {
     "name": "stdout",
     "output_type": "stream",
     "text": [
      "I\n",
      "S\n",
      "A\n",
      "G\n",
      "D\n",
      "R\n"
     ]
    },
    {
     "data": {
      "text/plain": [
       "['Inderpreet', 'Sonal', 'Abhishek', 'Gym', 'Dry', 'Rohit']"
      ]
     },
     "execution_count": 7,
     "metadata": {},
     "output_type": "execute_result"
    }
   ],
   "source": [
    "# Write a python program to extract the string in the list which have vowels\n",
    "#using filter function\n",
    "\n",
    "Strings=['Inderpreet','Sonal','Abhishek','Gym','Dry',\"Rohit\",'']\n",
    "\n",
    "def vowel_in_string(string):\n",
    "    string=string.upper()\n",
    "    for alphabet in string:\n",
    "        print(alphabet)\n",
    "        if alphabet in 'AEIOU':\n",
    "            print(string)\n",
    "            return string\n",
    "\n",
    "    \n",
    "list(filter(vowel_in_string,Strings))"
   ]
  },
  {
   "cell_type": "code",
   "execution_count": 23,
   "id": "7e264690",
   "metadata": {},
   "outputs": [
    {
     "data": {
      "text/plain": [
       "[2]"
      ]
     },
     "execution_count": 23,
     "metadata": {},
     "output_type": "execute_result"
    }
   ],
   "source": [
    "#Write a python program to extract prime numbers from a list\n",
    "\n",
    "lst_prime=[1,2,3,5,7,12,43,17,32]\n",
    "\n",
    "\n",
    "def check_prime(num):\n",
    "\n",
    "    if num==1:\n",
    "        return False\n",
    "    for i in range(2,int(num/2)+1):\n",
    "        print(\"The number is---\",num)\n",
    "        if(num%i==0):\n",
    "            print(\"This number is not prime\",num)\n",
    "            return False\n",
    "    \n",
    "    return True\n",
    "    \n",
    "list(filter(check_prime,lst_prime))"
   ]
  },
  {
   "cell_type": "code",
   "execution_count": 19,
   "id": "088e9a66",
   "metadata": {},
   "outputs": [],
   "source": [
    "for i in range(2,2):\n",
    "    print(i)"
   ]
  },
  {
   "cell_type": "markdown",
   "id": "9a95f487",
   "metadata": {},
   "source": [
    "# Lambda function in Python\n",
    "\n",
    "Lambda functions are anonymous functions that means functions without name\n",
    "\n",
    "\n",
    "Syntax: lambda arguments: expressions\n",
    "\n"
   ]
  },
  {
   "cell_type": "code",
   "execution_count": 25,
   "id": "9ddd391a",
   "metadata": {},
   "outputs": [],
   "source": [
    "def cube(num):\n",
    "    return num**3\n"
   ]
  },
  {
   "cell_type": "code",
   "execution_count": 26,
   "id": "06efb08f",
   "metadata": {},
   "outputs": [
    {
     "data": {
      "text/plain": [
       "27"
      ]
     },
     "execution_count": 26,
     "metadata": {},
     "output_type": "execute_result"
    }
   ],
   "source": [
    "cube(3)"
   ]
  },
  {
   "cell_type": "code",
   "execution_count": 27,
   "id": "5514ad40",
   "metadata": {},
   "outputs": [
    {
     "data": {
      "text/plain": [
       "27"
      ]
     },
     "execution_count": 27,
     "metadata": {},
     "output_type": "execute_result"
    }
   ],
   "source": [
    "lambda_cube=lambda num:num**3\n",
    "lambda_cube(3)"
   ]
  },
  {
   "cell_type": "code",
   "execution_count": 32,
   "id": "5d184698",
   "metadata": {},
   "outputs": [],
   "source": [
    "def max_two_numbers(num1,num2):\n",
    "    if num1>num2:\n",
    "        return num1\n",
    "    else :\n",
    "        return num2\n",
    "    "
   ]
  },
  {
   "cell_type": "code",
   "execution_count": 33,
   "id": "26fe5eda",
   "metadata": {},
   "outputs": [
    {
     "data": {
      "text/plain": [
       "20"
      ]
     },
     "execution_count": 33,
     "metadata": {},
     "output_type": "execute_result"
    }
   ],
   "source": [
    "max_two_numbers(20,16)"
   ]
  },
  {
   "cell_type": "code",
   "execution_count": 34,
   "id": "84cc02ee",
   "metadata": {},
   "outputs": [
    {
     "data": {
      "text/plain": [
       "20"
      ]
     },
     "execution_count": 34,
     "metadata": {},
     "output_type": "execute_result"
    }
   ],
   "source": [
    "max_two_numb2=lambda num1,num2:num1 if(num1>num2) else num2\n",
    "max_two_numb2(20,16)"
   ]
  },
  {
   "cell_type": "code",
   "execution_count": 36,
   "id": "d74b290e",
   "metadata": {
    "scrolled": true
   },
   "outputs": [
    {
     "data": {
      "text/plain": [
       "[65, 56]"
      ]
     },
     "execution_count": 36,
     "metadata": {},
     "output_type": "execute_result"
    }
   ],
   "source": [
    "# Write a python program to filter out a list of ages where age is>50\n",
    "\n",
    "age_lst=[30,21,43,12,43,65,56,21]\n",
    "\n",
    "list(filter(lambda age:age>50,age_lst))"
   ]
  },
  {
   "cell_type": "markdown",
   "id": "bdc1f3f9",
   "metadata": {},
   "source": [
    "# Reduce Function in Python\n",
    "\n",
    "The reduce function is used to apply a specific function passed in the arguments to all elements of the list\n",
    "\n",
    "How does reduce function works:\n",
    "\n",
    "1. At first, it will choose only the first two elements of the sequence\n",
    "\n",
    "2. Next step it will apply the same function to the previous result and the number just succeeding to the second element and result is stored.\n",
    "\n",
    "3. This will continue until there is no element left in the sequence.\n",
    "\n",
    "\n",
    "For using this reduce function we have to import functools"
   ]
  },
  {
   "cell_type": "code",
   "execution_count": 39,
   "id": "a9d3b505",
   "metadata": {},
   "outputs": [
    {
     "data": {
      "text/plain": [
       "65"
      ]
     },
     "execution_count": 39,
     "metadata": {},
     "output_type": "execute_result"
    }
   ],
   "source": [
    "import functools\n",
    "lst=(1,2,3,4,12,43)\n",
    "functools.reduce(lambda num,num2:num+num2,lst)"
   ]
  },
  {
   "cell_type": "code",
   "execution_count": 44,
   "id": "f7b48834",
   "metadata": {},
   "outputs": [
    {
     "data": {
      "text/plain": [
       "122121"
      ]
     },
     "execution_count": 44,
     "metadata": {},
     "output_type": "execute_result"
    }
   ],
   "source": [
    "# Write a python program to find the greatest\n",
    "#number from the list using reduce function with lambda\n",
    "\n",
    "numbers=[1,43,555,21,34,65,122121,54,21,431]\n",
    "\n",
    "functools.reduce(lambda num1,num2:num1 if (num1>num2) else num2,numbers)"
   ]
  },
  {
   "cell_type": "code",
   "execution_count": 45,
   "id": "8a1369ce",
   "metadata": {},
   "outputs": [
    {
     "data": {
      "text/plain": [
       "'My Name is Inderpreet'"
      ]
     },
     "execution_count": 45,
     "metadata": {},
     "output_type": "execute_result"
    }
   ],
   "source": [
    "strings=[\"My\",\"Name\",\"is\",\"Inderpreet\"]\n",
    "functools.reduce(lambda num,num2:num+\" \"+ num2,strings)"
   ]
  },
  {
   "cell_type": "markdown",
   "id": "5385f9b6",
   "metadata": {},
   "source": [
    "# List comprehension\n",
    "\n",
    "\n",
    "List comprehension consist of brackets containing the expression, which is executed for each element along with the loop to iterate over each element\n",
    "\n",
    "\n",
    "Syntax: [expression (element) for element in lst]"
   ]
  },
  {
   "cell_type": "code",
   "execution_count": 56,
   "id": "58219518",
   "metadata": {},
   "outputs": [
    {
     "data": {
      "text/plain": [
       "['I', 'n', 'd', 'e', 'r', 'p', 'r', 'e', 'e', 't']"
      ]
     },
     "execution_count": 56,
     "metadata": {},
     "output_type": "execute_result"
    }
   ],
   "source": [
    "string='Inderpreet'\n",
    "\n",
    "[alphabet for alphabet in string]"
   ]
  },
  {
   "cell_type": "code",
   "execution_count": 50,
   "id": "1dcf6193",
   "metadata": {},
   "outputs": [
    {
     "data": {
      "text/plain": [
       "['e', 'e', 'e']"
      ]
     },
     "execution_count": 50,
     "metadata": {},
     "output_type": "execute_result"
    }
   ],
   "source": [
    "string='Inderpreet'\n",
    "\n",
    "[alphabet for alphabet in string if alphabet in 'aeiou']"
   ]
  },
  {
   "cell_type": "code",
   "execution_count": 52,
   "id": "4de383f8",
   "metadata": {},
   "outputs": [
    {
     "data": {
      "text/plain": [
       "[1, 25, 49, 3136, 1024]"
      ]
     },
     "execution_count": 52,
     "metadata": {},
     "output_type": "execute_result"
    }
   ],
   "source": [
    "# Write a python program using list comprehension to find square of the number\n",
    "\n",
    "lst=[1,5,7,56,32]\n",
    "[num**2 for num in lst]"
   ]
  },
  {
   "cell_type": "code",
   "execution_count": 60,
   "id": "da6f4e37",
   "metadata": {},
   "outputs": [
    {
     "data": {
      "text/plain": [
       "[[1, 2, 3, 4, 5], [1, 2, 3, 4, 5], [1, 2, 3, 4, 5]]"
      ]
     },
     "execution_count": 60,
     "metadata": {},
     "output_type": "execute_result"
    }
   ],
   "source": [
    "lst=[]\n",
    "for i in range(0,3):\n",
    "    lst2=[]\n",
    "    for j in range(1,6):\n",
    "        lst2.append(j)\n",
    "    lst.append(lst2)\n",
    "lst"
   ]
  },
  {
   "cell_type": "code",
   "execution_count": 61,
   "id": "9b0ebf92",
   "metadata": {},
   "outputs": [
    {
     "data": {
      "text/plain": [
       "[[1, 2, 3, 4, 5], [1, 2, 3, 4, 5], [1, 2, 3, 4, 5]]"
      ]
     },
     "execution_count": 61,
     "metadata": {},
     "output_type": "execute_result"
    }
   ],
   "source": [
    "[[j for j in range(1,6)] for i in range(0,3)]"
   ]
  },
  {
   "cell_type": "code",
   "execution_count": null,
   "id": "2b46f81b",
   "metadata": {},
   "outputs": [],
   "source": [
    "[[1,2,3,4,5],[1,2,3,4,5]]"
   ]
  }
 ],
 "metadata": {
  "kernelspec": {
   "display_name": "Python 3 (ipykernel)",
   "language": "python",
   "name": "python3"
  },
  "language_info": {
   "codemirror_mode": {
    "name": "ipython",
    "version": 3
   },
   "file_extension": ".py",
   "mimetype": "text/x-python",
   "name": "python",
   "nbconvert_exporter": "python",
   "pygments_lexer": "ipython3",
   "version": "3.7.6"
  }
 },
 "nbformat": 4,
 "nbformat_minor": 5
}
