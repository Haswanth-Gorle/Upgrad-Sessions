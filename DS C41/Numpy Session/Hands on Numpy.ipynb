{
 "cells": [
  {
   "cell_type": "markdown",
   "id": "ecc006bf",
   "metadata": {},
   "source": [
    "# Numpy Array\n",
    "\n",
    "1.Numpy is a numperical python library used to work with arrays.\n",
    "\n",
    "2. Numpy arrays are faster than the list because the arrangement of the elements are continuous in the computer memory.\n",
    "\n",
    "3. Numpy array's are faster than list."
   ]
  },
  {
   "cell_type": "code",
   "execution_count": null,
   "id": "315545ba",
   "metadata": {},
   "outputs": [],
   "source": [
    "!pip3 install numpy"
   ]
  },
  {
   "cell_type": "code",
   "execution_count": 1,
   "id": "1e3c7bae",
   "metadata": {},
   "outputs": [],
   "source": [
    "import numpy as np"
   ]
  },
  {
   "cell_type": "code",
   "execution_count": 7,
   "id": "396a96e0",
   "metadata": {},
   "outputs": [
    {
     "name": "stdout",
     "output_type": "stream",
     "text": [
      "the list is-------> [1, 2, 3, 4, 'inder', False]\n",
      "the array is -------> ['1' '2' '3' '4' 'inder' 'False']\n"
     ]
    }
   ],
   "source": [
    "list1=[1,2,3,4,\"inder\",False]\n",
    "print(\"the list is------->\",list1)\n",
    "array=np.array(list1)\n",
    "print(\"the array is ------->\",array)\n",
    "\n"
   ]
  },
  {
   "cell_type": "markdown",
   "id": "b5697180",
   "metadata": {},
   "source": [
    "# Multi-Dimensional Array\n",
    "\n",
    "Data in the arrays are stored in a tabular arrangement."
   ]
  },
  {
   "cell_type": "code",
   "execution_count": 17,
   "id": "c90c2004",
   "metadata": {},
   "outputs": [
    {
     "name": "stdout",
     "output_type": "stream",
     "text": [
      "Shape of my array (3, 4)\n"
     ]
    }
   ],
   "source": [
    "list1=[1,3,5,10]\n",
    "list2=[2,4,6,8]\n",
    "list3=[2,3,5,7]\n",
    "\n",
    "\n",
    "array=np.array([list1,list2,list3])\n",
    "print(\"Shape of my array\",array.shape)"
   ]
  },
  {
   "cell_type": "code",
   "execution_count": 11,
   "id": "a4a942d7",
   "metadata": {},
   "outputs": [
    {
     "data": {
      "text/plain": [
       "5"
      ]
     },
     "execution_count": 11,
     "metadata": {},
     "output_type": "execute_result"
    }
   ],
   "source": [
    "array[0][2]"
   ]
  },
  {
   "cell_type": "code",
   "execution_count": 15,
   "id": "7a2e6611",
   "metadata": {},
   "outputs": [
    {
     "data": {
      "text/plain": [
       "array([1, 3, 5, 7])"
      ]
     },
     "execution_count": 15,
     "metadata": {},
     "output_type": "execute_result"
    }
   ],
   "source": [
    "np.array(list1)"
   ]
  },
  {
   "cell_type": "markdown",
   "id": "1efe1182",
   "metadata": {},
   "source": [
    "# Ranks in Numpy Array\n",
    "\n",
    "The rank of an array would be the number of axis it has\n",
    "\n",
    "For example a 1-d Array has rank 1.\n"
   ]
  },
  {
   "cell_type": "code",
   "execution_count": 18,
   "id": "8896d410",
   "metadata": {},
   "outputs": [
    {
     "data": {
      "text/plain": [
       "array([[0., 0., 0.],\n",
       "       [0., 0., 0.],\n",
       "       [0., 0., 0.],\n",
       "       [0., 0., 0.]])"
      ]
     },
     "execution_count": 18,
     "metadata": {},
     "output_type": "execute_result"
    }
   ],
   "source": [
    "np.zeros([4,3])"
   ]
  },
  {
   "cell_type": "markdown",
   "id": "b4753f12",
   "metadata": {},
   "source": [
    "The shape of an array is number of elements in each dimension\n",
    "\n"
   ]
  },
  {
   "cell_type": "markdown",
   "id": "1dabd9c0",
   "metadata": {},
   "source": [
    "# Reshaping in Arrays"
   ]
  },
  {
   "cell_type": "markdown",
   "id": "4ed6f226",
   "metadata": {},
   "source": [
    "# Reshaping changes the shapes of an array\n",
    "\n",
    "By reshaping we can add or remove dimension from an array"
   ]
  },
  {
   "cell_type": "code",
   "execution_count": 32,
   "id": "da3a65d5",
   "metadata": {},
   "outputs": [
    {
     "data": {
      "text/plain": [
       "(12,)"
      ]
     },
     "execution_count": 32,
     "metadata": {},
     "output_type": "execute_result"
    }
   ],
   "source": [
    "arr=np.array([1,3,5,7,9,11,13,15,17,19,21,23])\n",
    "arr.shape"
   ]
  },
  {
   "cell_type": "code",
   "execution_count": 35,
   "id": "19275109",
   "metadata": {},
   "outputs": [
    {
     "data": {
      "text/plain": [
       "array([[ 1,  3,  5,  7,  9, 11],\n",
       "       [13, 15, 17, 19, 21, 23]])"
      ]
     },
     "execution_count": 35,
     "metadata": {},
     "output_type": "execute_result"
    }
   ],
   "source": [
    "arr.reshape(2,6)"
   ]
  },
  {
   "cell_type": "code",
   "execution_count": 36,
   "id": "d187237f",
   "metadata": {},
   "outputs": [
    {
     "data": {
      "text/plain": [
       "array([[ 1,  3],\n",
       "       [ 5,  7],\n",
       "       [ 9, 11],\n",
       "       [13, 15],\n",
       "       [17, 19],\n",
       "       [21, 23]])"
      ]
     },
     "execution_count": 36,
     "metadata": {},
     "output_type": "execute_result"
    }
   ],
   "source": [
    "arr.reshape(6,2)"
   ]
  },
  {
   "cell_type": "code",
   "execution_count": 37,
   "id": "8f1a8ebb",
   "metadata": {},
   "outputs": [
    {
     "data": {
      "text/plain": [
       "array([[ 1,  3,  5,  7],\n",
       "       [ 9, 11, 13, 15],\n",
       "       [17, 19, 21, 23]])"
      ]
     },
     "execution_count": 37,
     "metadata": {},
     "output_type": "execute_result"
    }
   ],
   "source": [
    "arr.reshape(3,4)"
   ]
  },
  {
   "cell_type": "code",
   "execution_count": 44,
   "id": "1554e604",
   "metadata": {},
   "outputs": [
    {
     "data": {
      "text/plain": [
       "4333"
      ]
     },
     "execution_count": 44,
     "metadata": {},
     "output_type": "execute_result"
    }
   ],
   "source": [
    "# Q.1 Find the position of 4333 in this array.\n",
    "arr=np.array([[1,2,3,4,5,6,7],[1,15,21,32,21,4333,12]])\n",
    "\n",
    "arr[1][-2]\n",
    "arr[-1][-2]\n",
    "arr[1][5]"
   ]
  },
  {
   "cell_type": "code",
   "execution_count": 47,
   "id": "fc40a48a",
   "metadata": {},
   "outputs": [
    {
     "data": {
      "text/plain": [
       "4333"
      ]
     },
     "execution_count": 47,
     "metadata": {},
     "output_type": "execute_result"
    }
   ],
   "source": [
    "arr[-1][-2]"
   ]
  },
  {
   "cell_type": "markdown",
   "id": "e7edfdd9",
   "metadata": {},
   "source": [
    "# Joining the Arrays\n",
    "\n",
    "If there are two array we will combine them into single one"
   ]
  },
  {
   "cell_type": "code",
   "execution_count": 49,
   "id": "b08b32ff",
   "metadata": {},
   "outputs": [
    {
     "data": {
      "text/plain": [
       "array([  1,  11, 111,   2,  22, 222])"
      ]
     },
     "execution_count": 49,
     "metadata": {},
     "output_type": "execute_result"
    }
   ],
   "source": [
    "arr1=np.array([1,11,111])\n",
    "arr2=np.array([2,22,222])\n",
    "\n",
    "resultant_array=np.concatenate((arr1,arr2))\n",
    "resultant_array"
   ]
  },
  {
   "cell_type": "code",
   "execution_count": 58,
   "id": "3bc40263",
   "metadata": {},
   "outputs": [
    {
     "data": {
      "text/plain": [
       "array([[ 1,  3,  5,  7],\n",
       "       [ 4,  5, 14, 15]])"
      ]
     },
     "execution_count": 58,
     "metadata": {},
     "output_type": "execute_result"
    }
   ],
   "source": [
    "arr1=np.array([[1,3],[4,5]])\n",
    "arr2=np.array([[5,7],[14,15]])\n",
    "\n",
    "resultant_array=np.concatenate((arr1,arr2),axis=1)\n",
    "resultant_array"
   ]
  },
  {
   "cell_type": "code",
   "execution_count": 63,
   "id": "00748fbe",
   "metadata": {},
   "outputs": [
    {
     "data": {
      "text/plain": [
       "array([[[ 1,  3],\n",
       "        [ 5,  7]],\n",
       "\n",
       "       [[ 4,  5],\n",
       "        [14, 15]]])"
      ]
     },
     "execution_count": 63,
     "metadata": {},
     "output_type": "execute_result"
    }
   ],
   "source": [
    "arr1=np.array([[1,3],[4,5]])\n",
    "arr2=np.array([[5,7],[14,15]])\n",
    "\n",
    "resultant_array=np.stack( (arr1,arr2),axis=1)\n",
    "resultant_array"
   ]
  },
  {
   "cell_type": "markdown",
   "id": "fb4d42ef",
   "metadata": {},
   "source": [
    "# horizontal stack is used to stack along rows and vertical stack is used to stack along columns"
   ]
  },
  {
   "cell_type": "code",
   "execution_count": 65,
   "id": "356e93d7",
   "metadata": {},
   "outputs": [
    {
     "data": {
      "text/plain": [
       "array([  1,  11, 111,   2,  22, 222])"
      ]
     },
     "execution_count": 65,
     "metadata": {},
     "output_type": "execute_result"
    }
   ],
   "source": [
    "arr1=np.array([1,11,111])\n",
    "arr2=np.array([2,22,222])\n",
    "horizontal_stack=np.hstack((arr1,arr2))\n",
    "horizontal_stack"
   ]
  },
  {
   "cell_type": "code",
   "execution_count": 66,
   "id": "47317161",
   "metadata": {},
   "outputs": [
    {
     "data": {
      "text/plain": [
       "array([[  1,  11, 111],\n",
       "       [  2,  22, 222]])"
      ]
     },
     "execution_count": 66,
     "metadata": {},
     "output_type": "execute_result"
    }
   ],
   "source": [
    "arr1=np.array([1,11,111])\n",
    "arr2=np.array([2,22,222])\n",
    "horizontal_stack=np.vstack((arr1,arr2))\n",
    "horizontal_stack"
   ]
  },
  {
   "cell_type": "markdown",
   "id": "20f9c8f5",
   "metadata": {},
   "source": [
    "# Splitting the Numpy arrays\n",
    "\n",
    "Splitting you can see is reverse of joining"
   ]
  },
  {
   "cell_type": "code",
   "execution_count": 74,
   "id": "4679efa9",
   "metadata": {},
   "outputs": [
    {
     "data": {
      "text/plain": [
       "[array([  1,  11, 111]), array([    32, 122222,     32]), array([21, 32, 21])]"
      ]
     },
     "execution_count": 74,
     "metadata": {},
     "output_type": "execute_result"
    }
   ],
   "source": [
    "arr1=np.array([1,11,111,32,122222,32,21,32,21])\n",
    "np.array_split(arr1,3)"
   ]
  },
  {
   "cell_type": "code",
   "execution_count": 78,
   "id": "e8fd5de5",
   "metadata": {},
   "outputs": [
    {
     "data": {
      "text/plain": [
       "array([1, 3, 5])"
      ]
     },
     "execution_count": 78,
     "metadata": {},
     "output_type": "execute_result"
    }
   ],
   "source": [
    "np.array([1  ,3 , 5])"
   ]
  },
  {
   "cell_type": "code",
   "execution_count": 75,
   "id": "bb7bafc3",
   "metadata": {},
   "outputs": [
    {
     "data": {
      "text/plain": [
       "array([[1, 2],\n",
       "       [3, 4],\n",
       "       [5, 6],\n",
       "       [7, 8],\n",
       "       [8, 9]])"
      ]
     },
     "execution_count": 75,
     "metadata": {},
     "output_type": "execute_result"
    }
   ],
   "source": [
    "arr_2d=np.array([[1,2],[3,4],[5,6],[7,8],[8,9]])\n",
    "arr_2d"
   ]
  },
  {
   "cell_type": "markdown",
   "id": "7c25f016",
   "metadata": {},
   "source": [
    "# Searching in Arrays"
   ]
  },
  {
   "cell_type": "code",
   "execution_count": 76,
   "id": "cec5c899",
   "metadata": {},
   "outputs": [
    {
     "data": {
      "text/plain": [
       "(array([4], dtype=int64),)"
      ]
     },
     "execution_count": 76,
     "metadata": {},
     "output_type": "execute_result"
    }
   ],
   "source": [
    "arr1=np.array([1,11,111,32,122222,32,21,32,21])\n",
    "np.where(arr1==122222)"
   ]
  },
  {
   "cell_type": "code",
   "execution_count": 77,
   "id": "baf917fd",
   "metadata": {},
   "outputs": [
    {
     "data": {
      "text/plain": [
       "(array([3, 4, 5, 7], dtype=int64),)"
      ]
     },
     "execution_count": 77,
     "metadata": {},
     "output_type": "execute_result"
    }
   ],
   "source": [
    "np.where(arr1%2==0)"
   ]
  },
  {
   "cell_type": "code",
   "execution_count": 79,
   "id": "45eb3ae4",
   "metadata": {},
   "outputs": [
    {
     "data": {
      "text/plain": [
       "array([     1,     11,     21,     21,     32,     32,     32,    111,\n",
       "       122222])"
      ]
     },
     "execution_count": 79,
     "metadata": {},
     "output_type": "execute_result"
    }
   ],
   "source": [
    "np.sort(arr1) #this is used to sort array in ascending order"
   ]
  },
  {
   "cell_type": "code",
   "execution_count": 87,
   "id": "f10037a1",
   "metadata": {},
   "outputs": [
    {
     "data": {
      "text/plain": [
       "array([122222,    111,     32,     32,     32,     21,     21,     11,\n",
       "            1])"
      ]
     },
     "execution_count": 87,
     "metadata": {},
     "output_type": "execute_result"
    }
   ],
   "source": [
    "-np.sort(-arr1)  #this is used to sort array in descending order"
   ]
  },
  {
   "cell_type": "code",
   "execution_count": 89,
   "id": "f9786ad5",
   "metadata": {},
   "outputs": [
    {
     "data": {
      "text/plain": [
       "array([[0., 0., 0., 0.],\n",
       "       [0., 0., 0., 0.],\n",
       "       [0., 0., 0., 0.]])"
      ]
     },
     "execution_count": 89,
     "metadata": {},
     "output_type": "execute_result"
    }
   ],
   "source": [
    "np.zeros((3,4))"
   ]
  },
  {
   "cell_type": "code",
   "execution_count": 102,
   "id": "5228f3be",
   "metadata": {},
   "outputs": [
    {
     "data": {
      "text/plain": [
       "array([[1., 1.],\n",
       "       [1., 1.],\n",
       "       [1., 1.],\n",
       "       [1., 1.],\n",
       "       [1., 1.]])"
      ]
     },
     "execution_count": 102,
     "metadata": {},
     "output_type": "execute_result"
    }
   ],
   "source": [
    "np.ones((5,2))"
   ]
  },
  {
   "cell_type": "code",
   "execution_count": 100,
   "id": "99afb155",
   "metadata": {},
   "outputs": [
    {
     "data": {
      "text/plain": [
       "array([1, 1, 1, 1, 1])"
      ]
     },
     "execution_count": 100,
     "metadata": {},
     "output_type": "execute_result"
    }
   ],
   "source": [
    "arr=np.ones(5)\n",
    "arr.astype(int)\n"
   ]
  },
  {
   "cell_type": "code",
   "execution_count": 91,
   "id": "23f75f8a",
   "metadata": {},
   "outputs": [
    {
     "data": {
      "text/plain": [
       "array([[1., 1., 1., 1., 1.],\n",
       "       [1., 1., 1., 1., 1.],\n",
       "       [1., 1., 1., 1., 1.]])"
      ]
     },
     "execution_count": 91,
     "metadata": {},
     "output_type": "execute_result"
    }
   ],
   "source": [
    "np.ones((3,5))"
   ]
  },
  {
   "cell_type": "code",
   "execution_count": 94,
   "id": "e3b02f90",
   "metadata": {},
   "outputs": [
    {
     "name": "stdout",
     "output_type": "stream",
     "text": [
      "1\n",
      "2\n",
      "3\n",
      "4\n",
      "5\n",
      "6\n",
      "7\n",
      "8\n",
      "9\n"
     ]
    }
   ],
   "source": [
    "for i in range(1,10):\n",
    "    print(i)"
   ]
  },
  {
   "cell_type": "code",
   "execution_count": 92,
   "id": "d1174832",
   "metadata": {},
   "outputs": [
    {
     "data": {
      "text/plain": [
       "array([3, 4, 5, 6])"
      ]
     },
     "execution_count": 92,
     "metadata": {},
     "output_type": "execute_result"
    }
   ],
   "source": [
    "np.arange(3,7)"
   ]
  },
  {
   "cell_type": "code",
   "execution_count": 103,
   "id": "866040f9",
   "metadata": {},
   "outputs": [
    {
     "data": {
      "text/plain": [
       "array([0, 1, 2, 3, 4, 5, 6])"
      ]
     },
     "execution_count": 103,
     "metadata": {},
     "output_type": "execute_result"
    }
   ],
   "source": [
    "np.arange(7)"
   ]
  },
  {
   "cell_type": "code",
   "execution_count": 104,
   "id": "412d6814",
   "metadata": {},
   "outputs": [
    {
     "data": {
      "text/plain": [
       "array([2.  , 2.25, 2.5 , 2.75, 3.  ])"
      ]
     },
     "execution_count": 104,
     "metadata": {},
     "output_type": "execute_result"
    }
   ],
   "source": [
    "np.linspace(2,3,num=5)"
   ]
  },
  {
   "cell_type": "code",
   "execution_count": 113,
   "id": "88c78df3",
   "metadata": {},
   "outputs": [
    {
     "data": {
      "text/plain": [
       "array([2. , 2.2, 2.4, 2.6, 2.8])"
      ]
     },
     "execution_count": 113,
     "metadata": {},
     "output_type": "execute_result"
    }
   ],
   "source": [
    "np.linspace(2,3,num=5,endpoint=False)"
   ]
  },
  {
   "cell_type": "code",
   "execution_count": 105,
   "id": "c1950a2d",
   "metadata": {},
   "outputs": [
    {
     "data": {
      "text/plain": [
       "array([2. , 2.2, 2.4, 2.6, 2.8])"
      ]
     },
     "execution_count": 105,
     "metadata": {},
     "output_type": "execute_result"
    }
   ],
   "source": [
    "np.linspace(2,3,num=5,endpoint=False)"
   ]
  },
  {
   "cell_type": "code",
   "execution_count": 107,
   "id": "ffa4a666",
   "metadata": {},
   "outputs": [],
   "source": [
    "x_axis=np.linspace(1,10,num=5)\n",
    "y_axis=np.linspace(11,20,num=5)\n"
   ]
  },
  {
   "cell_type": "code",
   "execution_count": 108,
   "id": "6b0119f4",
   "metadata": {},
   "outputs": [
    {
     "data": {
      "text/plain": [
       "array([ 1.  ,  3.25,  5.5 ,  7.75, 10.  ])"
      ]
     },
     "execution_count": 108,
     "metadata": {},
     "output_type": "execute_result"
    }
   ],
   "source": [
    "x_axis"
   ]
  },
  {
   "cell_type": "code",
   "execution_count": 109,
   "id": "10ae5b3e",
   "metadata": {},
   "outputs": [
    {
     "data": {
      "text/plain": [
       "array([11.  , 13.25, 15.5 , 17.75, 20.  ])"
      ]
     },
     "execution_count": 109,
     "metadata": {},
     "output_type": "execute_result"
    }
   ],
   "source": [
    "y_axis"
   ]
  },
  {
   "cell_type": "code",
   "execution_count": 174,
   "id": "13176c55",
   "metadata": {},
   "outputs": [
    {
     "data": {
      "text/plain": [
       "array([1., 3., 5., 7., 9.])"
      ]
     },
     "execution_count": 174,
     "metadata": {},
     "output_type": "execute_result"
    }
   ],
   "source": [
    "np.linspace(1,9,5)"
   ]
  },
  {
   "cell_type": "markdown",
   "id": "4dcd7cde",
   "metadata": {},
   "source": [
    "# numpy.logspace"
   ]
  },
  {
   "cell_type": "code",
   "execution_count": 117,
   "id": "49075b58",
   "metadata": {},
   "outputs": [
    {
     "data": {
      "text/plain": [
       "array([4.        , 4.75682846, 5.65685425, 6.72717132, 8.        ])"
      ]
     },
     "execution_count": 117,
     "metadata": {},
     "output_type": "execute_result"
    }
   ],
   "source": [
    "np.logspace(2,3,num=5,base=2)"
   ]
  },
  {
   "cell_type": "code",
   "execution_count": 123,
   "id": "1d0e6e06",
   "metadata": {},
   "outputs": [
    {
     "data": {
      "text/plain": [
       "array([[ 0,  1,  2,  3],\n",
       "       [ 4,  5,  6,  7],\n",
       "       [ 8,  9, 10, 11],\n",
       "       [12, 13, 14, 15]])"
      ]
     },
     "execution_count": 123,
     "metadata": {},
     "output_type": "execute_result"
    }
   ],
   "source": [
    "x=np.arange(16).reshape((4,-1))\n",
    "x"
   ]
  },
  {
   "cell_type": "code",
   "execution_count": 127,
   "id": "8403f78e",
   "metadata": {},
   "outputs": [
    {
     "data": {
      "text/plain": [
       "array([3])"
      ]
     },
     "execution_count": 127,
     "metadata": {},
     "output_type": "execute_result"
    }
   ],
   "source": [
    "np.diag(x,k=3)"
   ]
  },
  {
   "cell_type": "markdown",
   "id": "5fe10c84",
   "metadata": {},
   "source": [
    "# The exponential function calcualtes the exponential power of all elements"
   ]
  },
  {
   "cell_type": "code",
   "execution_count": 118,
   "id": "76a4651e",
   "metadata": {},
   "outputs": [
    {
     "data": {
      "text/plain": [
       "array([ 2.71828183,  7.3890561 , 20.08553692, 54.59815003])"
      ]
     },
     "execution_count": 118,
     "metadata": {},
     "output_type": "execute_result"
    }
   ],
   "source": [
    "arr1=np.array([1,2,3,4])\n",
    "np.exp(arr1)\n"
   ]
  },
  {
   "cell_type": "markdown",
   "id": "e9ffed62",
   "metadata": {},
   "source": [
    "# Random number generation"
   ]
  },
  {
   "cell_type": "code",
   "execution_count": 130,
   "id": "80cef1f3",
   "metadata": {},
   "outputs": [
    {
     "data": {
      "text/plain": [
       "array([[0.27615115, 0.19109096, 0.6519224 ],\n",
       "       [0.07826724, 0.34174171, 0.66661254]])"
      ]
     },
     "execution_count": 130,
     "metadata": {},
     "output_type": "execute_result"
    }
   ],
   "source": [
    "#Uniform Distribution\n",
    "np.random.rand(2,3)"
   ]
  },
  {
   "cell_type": "code",
   "execution_count": 131,
   "id": "c036c062",
   "metadata": {},
   "outputs": [
    {
     "data": {
      "text/plain": [
       "array([[ 0.78181655, -0.17259924,  2.18127359],\n",
       "       [-0.65044707,  0.66143825,  0.16367238]])"
      ]
     },
     "execution_count": 131,
     "metadata": {},
     "output_type": "execute_result"
    }
   ],
   "source": [
    "#Uniform Distribution\n",
    "np.random.randn(2,3)"
   ]
  },
  {
   "cell_type": "code",
   "execution_count": 137,
   "id": "6247e030",
   "metadata": {},
   "outputs": [
    {
     "data": {
      "text/plain": [
       "3"
      ]
     },
     "execution_count": 137,
     "metadata": {},
     "output_type": "execute_result"
    }
   ],
   "source": [
    "np.random.randint(1,10)"
   ]
  },
  {
   "cell_type": "code",
   "execution_count": 149,
   "id": "f282ad4b",
   "metadata": {},
   "outputs": [],
   "source": [
    "def guess_game():\n",
    "    flag=True\n",
    "    money=1000\n",
    "    while flag:\n",
    "        input_no=int(input(\"Please insert a number\"))\n",
    "        random_no=np.random.randint(1,10)\n",
    "        if money==0:\n",
    "            print(\"Please add more money in your game\")\n",
    "            break\n",
    "        if input_no==random_no:\n",
    "            flag=False\n",
    "            money=money+100000000000000000000\n",
    "            print(\"You won a lottery of ------>\",money)\n",
    "            print(\"You won the game\")\n",
    "        else:\n",
    "            money=money-200\n",
    "            print(\"Try again\")"
   ]
  },
  {
   "cell_type": "code",
   "execution_count": 150,
   "id": "8ff3ca20",
   "metadata": {},
   "outputs": [
    {
     "name": "stdout",
     "output_type": "stream",
     "text": [
      "Please insert a number5\n",
      "Try again\n",
      "Please insert a number1\n",
      "Try again\n",
      "Please insert a number2\n",
      "Try again\n",
      "Please insert a number3\n",
      "Try again\n",
      "Please insert a number1\n",
      "Try again\n",
      "Please insert a number2\n",
      "Please add more money in your game\n"
     ]
    }
   ],
   "source": [
    "guess_game()"
   ]
  },
  {
   "cell_type": "code",
   "execution_count": 151,
   "id": "63807cc4",
   "metadata": {},
   "outputs": [
    {
     "data": {
      "text/plain": [
       "122222"
      ]
     },
     "execution_count": 151,
     "metadata": {},
     "output_type": "execute_result"
    }
   ],
   "source": [
    "arr1=np.array([1,11,111,32,122222,32,21,32,21])\n",
    "arr1.max()"
   ]
  },
  {
   "cell_type": "code",
   "execution_count": 153,
   "id": "4777296a",
   "metadata": {},
   "outputs": [
    {
     "data": {
      "text/plain": [
       "1"
      ]
     },
     "execution_count": 153,
     "metadata": {},
     "output_type": "execute_result"
    }
   ],
   "source": [
    "arr1.min()"
   ]
  },
  {
   "cell_type": "code",
   "execution_count": 154,
   "id": "287f327d",
   "metadata": {},
   "outputs": [
    {
     "data": {
      "text/plain": [
       "array([[ 0,  1,  2,  3],\n",
       "       [ 4,  5,  6,  7],\n",
       "       [ 8,  9, 10, 11],\n",
       "       [12, 13, 14, 15]])"
      ]
     },
     "execution_count": 154,
     "metadata": {},
     "output_type": "execute_result"
    }
   ],
   "source": [
    "x=np.arange(16).reshape((4,-1))\n",
    "x"
   ]
  },
  {
   "cell_type": "code",
   "execution_count": 155,
   "id": "4410e4db",
   "metadata": {},
   "outputs": [
    {
     "data": {
      "text/plain": [
       "7"
      ]
     },
     "execution_count": 155,
     "metadata": {},
     "output_type": "execute_result"
    }
   ],
   "source": [
    "x[1,3]"
   ]
  },
  {
   "cell_type": "markdown",
   "id": "af8bb995",
   "metadata": {},
   "source": [
    "# Slicing in arrays"
   ]
  },
  {
   "cell_type": "code",
   "execution_count": 156,
   "id": "102e9d50",
   "metadata": {},
   "outputs": [
    {
     "data": {
      "text/plain": [
       "array([ 0,  1,  2,  3,  4,  5,  6,  7,  8,  9, 10, 11])"
      ]
     },
     "execution_count": 156,
     "metadata": {},
     "output_type": "execute_result"
    }
   ],
   "source": [
    "arr=np.arange(0,12)\n",
    "arr"
   ]
  },
  {
   "cell_type": "code",
   "execution_count": 158,
   "id": "713a2bb4",
   "metadata": {},
   "outputs": [
    {
     "data": {
      "text/plain": [
       "array([1, 2])"
      ]
     },
     "execution_count": 158,
     "metadata": {},
     "output_type": "execute_result"
    }
   ],
   "source": [
    "arr[1:3]"
   ]
  },
  {
   "cell_type": "code",
   "execution_count": 160,
   "id": "69f187c9",
   "metadata": {},
   "outputs": [
    {
     "data": {
      "text/plain": [
       "array([1, 3, 5, 7, 9])"
      ]
     },
     "execution_count": 160,
     "metadata": {},
     "output_type": "execute_result"
    }
   ],
   "source": [
    "arr[1:10:2]"
   ]
  },
  {
   "cell_type": "code",
   "execution_count": 161,
   "id": "5bd7d48d",
   "metadata": {},
   "outputs": [
    {
     "data": {
      "text/plain": [
       "array([[ 0,  1,  2,  3],\n",
       "       [ 4,  5,  6,  7],\n",
       "       [ 8,  9, 10, 11],\n",
       "       [12, 13, 14, 15]])"
      ]
     },
     "execution_count": 161,
     "metadata": {},
     "output_type": "execute_result"
    }
   ],
   "source": [
    "x=np.arange(16).reshape((4,-1))\n",
    "x"
   ]
  },
  {
   "cell_type": "code",
   "execution_count": 168,
   "id": "9f4064f3",
   "metadata": {},
   "outputs": [
    {
     "data": {
      "text/plain": [
       "array([[0],\n",
       "       [4],\n",
       "       [8]])"
      ]
     },
     "execution_count": 168,
     "metadata": {},
     "output_type": "execute_result"
    }
   ],
   "source": [
    "x[:3,:1]"
   ]
  },
  {
   "cell_type": "code",
   "execution_count": 170,
   "id": "6c951c8d",
   "metadata": {},
   "outputs": [
    {
     "data": {
      "text/plain": [
       "array([[ 0,  1,  2,  3],\n",
       "       [ 4,  5,  6,  7],\n",
       "       [ 8,  9, 10, 11],\n",
       "       [12, 13, 14, 15]])"
      ]
     },
     "execution_count": 170,
     "metadata": {},
     "output_type": "execute_result"
    }
   ],
   "source": [
    "arr1=np.arange(16).reshape((4,-1))\n",
    "arr1"
   ]
  },
  {
   "cell_type": "code",
   "execution_count": 169,
   "id": "46528347",
   "metadata": {},
   "outputs": [
    {
     "data": {
      "text/plain": [
       "array([[16, 17, 18, 19],\n",
       "       [20, 21, 22, 23],\n",
       "       [24, 25, 26, 27],\n",
       "       [28, 29, 30, 31]])"
      ]
     },
     "execution_count": 169,
     "metadata": {},
     "output_type": "execute_result"
    }
   ],
   "source": [
    "arr2=np.arange(16,32).reshape((4,-1))\n",
    "arr2"
   ]
  },
  {
   "cell_type": "code",
   "execution_count": 171,
   "id": "34bbbef2",
   "metadata": {},
   "outputs": [
    {
     "data": {
      "text/plain": [
       "array([[  0,  17,  36,  57],\n",
       "       [ 80, 105, 132, 161],\n",
       "       [192, 225, 260, 297],\n",
       "       [336, 377, 420, 465]])"
      ]
     },
     "execution_count": 171,
     "metadata": {},
     "output_type": "execute_result"
    }
   ],
   "source": [
    "arr1*arr2 #multiplication of array"
   ]
  },
  {
   "cell_type": "code",
   "execution_count": 172,
   "id": "1a364016",
   "metadata": {},
   "outputs": [
    {
     "data": {
      "text/plain": [
       "1.4142135623730951"
      ]
     },
     "execution_count": 172,
     "metadata": {},
     "output_type": "execute_result"
    }
   ],
   "source": [
    "np.sqrt(2)"
   ]
  },
  {
   "cell_type": "code",
   "execution_count": 173,
   "id": "9e3c288c",
   "metadata": {},
   "outputs": [
    {
     "data": {
      "text/plain": [
       "0.47712125471966244"
      ]
     },
     "execution_count": 173,
     "metadata": {},
     "output_type": "execute_result"
    }
   ],
   "source": [
    "np.log10(3)"
   ]
  },
  {
   "cell_type": "code",
   "execution_count": 175,
   "id": "70d678d3",
   "metadata": {},
   "outputs": [
    {
     "data": {
      "text/plain": [
       "array([[ 0,  1,  2,  3],\n",
       "       [ 4,  5,  6,  7],\n",
       "       [ 8,  9, 10, 11],\n",
       "       [12, 13, 14, 15]])"
      ]
     },
     "execution_count": 175,
     "metadata": {},
     "output_type": "execute_result"
    }
   ],
   "source": [
    "arr1=np.arange(16).reshape((4,-1))\n",
    "arr1\n"
   ]
  },
  {
   "cell_type": "code",
   "execution_count": 179,
   "id": "cd385d43",
   "metadata": {},
   "outputs": [
    {
     "data": {
      "text/plain": [
       "array([ 0,  1,  2,  3,  4,  5,  6,  7,  8,  9, 10, 11, 12, 13, 14, 15])"
      ]
     },
     "execution_count": 179,
     "metadata": {},
     "output_type": "execute_result"
    }
   ],
   "source": [
    "arr1.flat[:]"
   ]
  },
  {
   "cell_type": "code",
   "execution_count": null,
   "id": "68cfe557",
   "metadata": {},
   "outputs": [],
   "source": []
  }
 ],
 "metadata": {
  "kernelspec": {
   "display_name": "Python 3 (ipykernel)",
   "language": "python",
   "name": "python3"
  },
  "language_info": {
   "codemirror_mode": {
    "name": "ipython",
    "version": 3
   },
   "file_extension": ".py",
   "mimetype": "text/x-python",
   "name": "python",
   "nbconvert_exporter": "python",
   "pygments_lexer": "ipython3",
   "version": "3.7.6"
  }
 },
 "nbformat": 4,
 "nbformat_minor": 5
}
