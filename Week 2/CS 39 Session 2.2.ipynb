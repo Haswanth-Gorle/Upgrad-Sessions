{
 "cells": [
  {
   "cell_type": "markdown",
   "id": "8aa46770",
   "metadata": {},
   "source": [
    "## Loops\n",
    "If we have to do the same thing multiple times we use the concept of loops\n",
    "\n",
    "Repeat action------------>Loops"
   ]
  },
  {
   "cell_type": "markdown",
   "id": "da4cf4aa",
   "metadata": {},
   "source": [
    "While Loop\n",
    "\n",
    "Syntax:  while Test Expression:\n",
    "            BLOCK OF CODE"
   ]
  },
  {
   "cell_type": "code",
   "execution_count": 1,
   "id": "3bd07069",
   "metadata": {},
   "outputs": [
    {
     "name": "stdout",
     "output_type": "stream",
     "text": [
      "My start number---> 1\n",
      "My start number---> 2\n",
      "My start number---> 3\n",
      "My start number---> 4\n",
      "My start number---> 5\n",
      "My start number---> 6\n",
      "My start number---> 7\n",
      "My start number---> 8\n",
      "My start number---> 9\n",
      "My start number---> 10\n"
     ]
    }
   ],
   "source": [
    "# Print Numbers from 1 to 10 using while loop\n",
    "\n",
    "start=1\n",
    "end=10\n",
    "while(start<=end):\n",
    "    print(\"My start number--->\",start)\n",
    "    start=start+1"
   ]
  },
  {
   "cell_type": "code",
   "execution_count": 2,
   "id": "8e748b2d",
   "metadata": {},
   "outputs": [
    {
     "name": "stdout",
     "output_type": "stream",
     "text": [
      "this is a even number--> 2\n",
      "this is a even number--> 4\n",
      "this is a even number--> 6\n",
      "this is a even number--> 8\n",
      "this is a even number--> 10\n",
      "this is a even number--> 12\n",
      "this is a even number--> 14\n",
      "this is a even number--> 16\n",
      "this is a even number--> 18\n",
      "this is a even number--> 20\n",
      "this is a even number--> 22\n",
      "this is a even number--> 24\n"
     ]
    }
   ],
   "source": [
    "#Print even number between 1 to 25\n",
    "start=1\n",
    "end=25\n",
    "\n",
    "while(start<=end):\n",
    "    if(start%2==0):\n",
    "        print(\"this is a even number-->\",start)\n",
    "    start=start+1\n"
   ]
  },
  {
   "cell_type": "code",
   "execution_count": 4,
   "id": "6d324800",
   "metadata": {},
   "outputs": [
    {
     "name": "stdout",
     "output_type": "stream",
     "text": [
      "my starting number 0\n",
      "my starting number 1\n",
      "my starting number 2\n",
      "my starting number 3\n",
      "my starting number 4\n",
      "my starting number 5\n",
      "my starting number 6\n",
      "my starting number 7\n",
      "my starting number 8\n",
      "my starting number 9\n"
     ]
    }
   ],
   "source": [
    "#Infinite Loops\n",
    "\n",
    "start=0\n",
    "end=10\n",
    "while(start<end):\n",
    "    print(\"my starting number\",start)\n",
    "    start=start+1"
   ]
  },
  {
   "cell_type": "markdown",
   "id": "0072dbcc",
   "metadata": {},
   "source": [
    "## For Loops"
   ]
  },
  {
   "cell_type": "markdown",
   "id": "db9fe302",
   "metadata": {},
   "source": [
    "For loops are used for sequential traversal that means we are iterating over \n",
    "an iterables like string,list,tuple,etc. It falls under definite iteration that\n",
    "means we know the number of repetitions\n",
    "\n",
    "Syntax:\n",
    "    For x in iterable:\n",
    "        #Block of code"
   ]
  },
  {
   "cell_type": "code",
   "execution_count": 5,
   "id": "70de328b",
   "metadata": {},
   "outputs": [
    {
     "data": {
      "text/plain": [
       "[1, 2, 3, 4, 5, 6, 7, 8, 1, 2, 3, 4, 5, 6, 7, 8]"
      ]
     },
     "execution_count": 5,
     "metadata": {},
     "output_type": "execute_result"
    }
   ],
   "source": [
    "lst=[1,2,3,4,5,6,7,8]*2\n",
    "lst"
   ]
  },
  {
   "cell_type": "code",
   "execution_count": 7,
   "id": "5bbbcc0f",
   "metadata": {},
   "outputs": [
    {
     "name": "stdout",
     "output_type": "stream",
     "text": [
      "The element is--- 1\n",
      "The element is--- 2\n",
      "The element is--- 3\n",
      "The element is--- 4\n",
      "The element is--- 5\n"
     ]
    }
   ],
   "source": [
    "print(\"The element is---\",lst[0])\n",
    "print(\"The element is---\",lst[1])\n",
    "print(\"The element is---\",lst[2])\n",
    "print(\"The element is---\",lst[3])\n",
    "print(\"The element is---\",lst[4])\n"
   ]
  },
  {
   "cell_type": "code",
   "execution_count": 8,
   "id": "e110ea24",
   "metadata": {},
   "outputs": [
    {
     "name": "stdout",
     "output_type": "stream",
     "text": [
      "The element is-->  1\n",
      "The element is-->  2\n",
      "The element is-->  3\n",
      "The element is-->  4\n",
      "The element is-->  5\n",
      "The element is-->  6\n",
      "The element is-->  7\n",
      "The element is-->  8\n",
      "The element is-->  1\n",
      "The element is-->  2\n",
      "The element is-->  3\n",
      "The element is-->  4\n",
      "The element is-->  5\n",
      "The element is-->  6\n",
      "The element is-->  7\n",
      "The element is-->  8\n"
     ]
    }
   ],
   "source": [
    "for ele in lst:\n",
    "    print(\"The element is--> \",ele)"
   ]
  },
  {
   "cell_type": "code",
   "execution_count": 9,
   "id": "c6a04eb8",
   "metadata": {},
   "outputs": [
    {
     "data": {
      "text/plain": [
       "5"
      ]
     },
     "execution_count": 9,
     "metadata": {},
     "output_type": "execute_result"
    }
   ],
   "source": [
    "str1='inder'\n",
    "len(str1)"
   ]
  },
  {
   "cell_type": "code",
   "execution_count": 11,
   "id": "c26b59a2",
   "metadata": {},
   "outputs": [
    {
     "name": "stdout",
     "output_type": "stream",
     "text": [
      "The alphabet is---> a\n",
      "The alphabet is---> a\n",
      "The alphabet is---> i\n",
      "The alphabet is---> a\n",
      "The alphabet is---> a\n",
      "The alphabet is---> e\n"
     ]
    }
   ],
   "source": [
    "name='Kalyani Pakhale'\n",
    "vowel='aeiou'\n",
    "for i in name:\n",
    "    if i in vowel:\n",
    "        print(\"The alphabet is--->\",i)"
   ]
  },
  {
   "cell_type": "code",
   "execution_count": 14,
   "id": "30ecbdf3",
   "metadata": {},
   "outputs": [
    {
     "name": "stdout",
     "output_type": "stream",
     "text": [
      "My even numbers in the list----> [2, 4, 6, 8, 10, 12, 14, 16, 18, 20]\n"
     ]
    }
   ],
   "source": [
    "# Store even numbers in a list from 1 to 20\n",
    "\n",
    "#Answer->[2,4,6,8,10,12,14,16,18,20]\n",
    "\n",
    "even_number=[]\n",
    "start=1\n",
    "end=20\n",
    "\n",
    "for number in range(1,21):\n",
    "    if(number%2==0):\n",
    "        even_number.append(number)\n",
    "\n",
    "print(\"My even numbers in the list---->\",even_number)\n",
    "\n",
    "\n",
    "\n",
    "    \n",
    "\n"
   ]
  },
  {
   "cell_type": "code",
   "execution_count": 19,
   "id": "d263e373",
   "metadata": {},
   "outputs": [
    {
     "name": "stdout",
     "output_type": "stream",
     "text": [
      "This is my even number 2\n",
      "This is my even number 4\n",
      "This is my even number 6\n",
      "This is my even number 8\n",
      "This is my even number 10\n",
      "This is my even number 12\n",
      "This is my even number 14\n",
      "This is my even number 16\n",
      "This is my even number 18\n",
      "This is my even number 20\n"
     ]
    },
    {
     "data": {
      "text/plain": [
       "[2, 4, 6, 8, 10, 12, 14, 16, 18, 20]"
      ]
     },
     "execution_count": 19,
     "metadata": {},
     "output_type": "execute_result"
    }
   ],
   "source": [
    "# Store even numbers in a list from 1 to 20\n",
    "\n",
    "#Answer->[2,4,6,8,10,12,14,16,18,20]\n",
    "\n",
    "#Use a while loop\n",
    "\n",
    "start=1\n",
    "end=20\n",
    "even_number=[]\n",
    "while(start<=end):\n",
    "    if(start%2==0):\n",
    "        print(\"This is my even number\",start)\n",
    "        even_number.append(start)\n",
    "    start=start+1\n",
    "\n",
    "even_number\n",
    "        \n",
    "\n"
   ]
  },
  {
   "cell_type": "markdown",
   "id": "35b462b6",
   "metadata": {},
   "source": [
    "##Range Function\n",
    "This function returns a sequence of numbers starting from 0 by default and increment by 1\n",
    "\n",
    "range(start,end,step)\n",
    "\n",
    "range(1,21)"
   ]
  },
  {
   "cell_type": "code",
   "execution_count": 17,
   "id": "2ab9d195",
   "metadata": {},
   "outputs": [
    {
     "name": "stdout",
     "output_type": "stream",
     "text": [
      "2\n",
      "4\n",
      "6\n",
      "8\n",
      "10\n",
      "12\n",
      "14\n",
      "16\n",
      "18\n",
      "20\n"
     ]
    }
   ],
   "source": [
    "for number in range(2,21,2):\n",
    "    print(number)"
   ]
  },
  {
   "cell_type": "code",
   "execution_count": 20,
   "id": "f2f28250",
   "metadata": {},
   "outputs": [
    {
     "data": {
      "text/plain": [
       "['inder',\n",
       " 'inder',\n",
       " 'inder',\n",
       " 'inder',\n",
       " 'inder',\n",
       " 'inder',\n",
       " 'inder',\n",
       " 'inder',\n",
       " 'inder',\n",
       " 'inder',\n",
       " 'inder',\n",
       " 'inder',\n",
       " 'inder',\n",
       " 'inder',\n",
       " 'inder',\n",
       " 'inder',\n",
       " 'inder',\n",
       " 'inder',\n",
       " 'inder',\n",
       " 'inder']"
      ]
     },
     "execution_count": 20,
     "metadata": {},
     "output_type": "execute_result"
    }
   ],
   "source": [
    "lst=[]\n",
    "\n",
    "for i in range(0,20):\n",
    "    lst.insert(i,'inder')\n",
    "    \n",
    "lst"
   ]
  },
  {
   "cell_type": "code",
   "execution_count": 21,
   "id": "a8d56ed8",
   "metadata": {},
   "outputs": [
    {
     "data": {
      "text/plain": [
       "13"
      ]
     },
     "execution_count": 21,
     "metadata": {},
     "output_type": "execute_result"
    }
   ],
   "source": [
    "lst=[1,2,3,4,5,6,7,8,1,2,'inder','kalyani','upgrad']\n",
    "\n",
    "#Find the length of the list without a len function\n",
    "\n",
    "length=0\n",
    "for ele in lst:\n",
    "    length=length+1\n",
    "\n",
    "length\n",
    "\n"
   ]
  },
  {
   "cell_type": "code",
   "execution_count": 26,
   "id": "503418b4",
   "metadata": {},
   "outputs": [
    {
     "name": "stdout",
     "output_type": "stream",
     "text": [
      " Please enter the StringMy name is inder\n"
     ]
    }
   ],
   "source": [
    "# Python program to print even length words\n",
    "\n",
    "str1=input(\" Please enter the String\")\n"
   ]
  },
  {
   "cell_type": "code",
   "execution_count": 28,
   "id": "0f2a4673",
   "metadata": {},
   "outputs": [
    {
     "name": "stdout",
     "output_type": "stream",
     "text": [
      "The even length word is---> My\n",
      "The even length word is---> name\n",
      "The even length word is---> is\n"
     ]
    }
   ],
   "source": [
    "\n",
    "lst_words=str1.split(' ')\n",
    "\n",
    "for word in lst_words:\n",
    "    if(len(word)%2==0):\n",
    "        print(\"The even length word is--->\",word)\n"
   ]
  },
  {
   "cell_type": "code",
   "execution_count": 30,
   "id": "9079788f",
   "metadata": {},
   "outputs": [
    {
     "data": {
      "text/plain": [
       "{'key': 2}"
      ]
     },
     "execution_count": 30,
     "metadata": {},
     "output_type": "execute_result"
    }
   ],
   "source": [
    "dict1={\"key\":1,\"key\":2}\n",
    "dict1\n"
   ]
  },
  {
   "cell_type": "code",
   "execution_count": 34,
   "id": "9342f82e",
   "metadata": {},
   "outputs": [
    {
     "data": {
      "text/plain": [
       "{'Best_Seller': {'Beauty': 'lakme', 'Book': 'Python'},\n",
       " 'Mobiles': {'Mobile_accessories': 'Phone_cover', 'Sim_cards': 'Jio'},\n",
       " 'Todays_deals': {'Deal of the Day': 'Iphone at 30% discount'}}"
      ]
     },
     "execution_count": 34,
     "metadata": {},
     "output_type": "execute_result"
    }
   ],
   "source": [
    "dict_amazon={\"Best_Seller\":{\"Beauty\":'lakme',\"Book\":'Python'},\"Mobiles\":{\"Mobile_accessories\":'Phone_cover',\"Sim_cards\":'Jio'},\"Todays_deals\":{\"Deal of the Day\":\"Iphone at 30% discount\"}}\n",
    "dict_amazon"
   ]
  },
  {
   "cell_type": "code",
   "execution_count": 37,
   "id": "2b9a908e",
   "metadata": {},
   "outputs": [],
   "source": [
    "dict_amazon['Mobiles']['Sim_cards']='Airtel'\n"
   ]
  },
  {
   "cell_type": "code",
   "execution_count": 38,
   "id": "3326ad31",
   "metadata": {},
   "outputs": [
    {
     "data": {
      "text/plain": [
       "{'Best_Seller': {'Beauty': 'lakme', 'Book': 'Python'},\n",
       " 'Mobiles': {'Mobile_accessories': 'Phone_cover', 'Sim_cards': 'Airtel'},\n",
       " 'Todays_deals': {'Deal of the Day': 'Iphone at 30% discount'}}"
      ]
     },
     "execution_count": 38,
     "metadata": {},
     "output_type": "execute_result"
    }
   ],
   "source": [
    "dict_amazon"
   ]
  },
  {
   "cell_type": "code",
   "execution_count": 39,
   "id": "9b02776f",
   "metadata": {},
   "outputs": [],
   "source": [
    "dict_List={\"Names_list\":['Maheshvaran','Sneha','Inder','Ravi'],\"Designation\":['Student','Student','Instructor','Student']}"
   ]
  },
  {
   "cell_type": "code",
   "execution_count": 42,
   "id": "130e64ab",
   "metadata": {},
   "outputs": [
    {
     "data": {
      "text/plain": [
       "'Sneha'"
      ]
     },
     "execution_count": 42,
     "metadata": {},
     "output_type": "execute_result"
    }
   ],
   "source": [
    "dict_List['Names_list'][1]"
   ]
  },
  {
   "cell_type": "code",
   "execution_count": 49,
   "id": "789ea37f",
   "metadata": {},
   "outputs": [
    {
     "data": {
      "text/plain": [
       "('Lover', 35)"
      ]
     },
     "execution_count": 49,
     "metadata": {},
     "output_type": "execute_result"
    }
   ],
   "source": [
    "dict1={'Lover':35,\"Beautiful\":43,\"Butter\":75,\"Stay\":78}\n"
   ]
  },
  {
   "cell_type": "code",
   "execution_count": 57,
   "id": "7a3c56e6",
   "metadata": {},
   "outputs": [
    {
     "data": {
      "text/plain": [
       "{'Lover': 35, 'Beautiful': 43, 'Butter': 75, 'Stay': 78}"
      ]
     },
     "execution_count": 57,
     "metadata": {},
     "output_type": "execute_result"
    }
   ],
   "source": [
    "dict1"
   ]
  },
  {
   "cell_type": "code",
   "execution_count": 58,
   "id": "01e1f918",
   "metadata": {},
   "outputs": [
    {
     "data": {
      "text/plain": [
       "78"
      ]
     },
     "execution_count": 58,
     "metadata": {},
     "output_type": "execute_result"
    }
   ],
   "source": [
    "highest_views=sorted(dict1.values(),reverse=True)\n",
    "max_views=highest_views[0]\n",
    "max_views\n"
   ]
  },
  {
   "cell_type": "code",
   "execution_count": 59,
   "id": "0dd0b2b0",
   "metadata": {},
   "outputs": [
    {
     "name": "stdout",
     "output_type": "stream",
     "text": [
      "Please tell me the name of the song-> Stay And the views 78\n"
     ]
    }
   ],
   "source": [
    "for k in dict1:\n",
    "    if(dict1[k]==max_views):\n",
    "        print(\"Please tell me the name of the song->\",k,\"And the views\",dict1[k])\n",
    "    \n",
    "    "
   ]
  },
  {
   "cell_type": "markdown",
   "id": "e525685c",
   "metadata": {},
   "source": [
    "# Create the Fibonacci Sequence"
   ]
  },
  {
   "cell_type": "code",
   "execution_count": 60,
   "id": "42dfc2d0",
   "metadata": {},
   "outputs": [
    {
     "data": {
      "text/plain": [
       "[0, 1, 1, 2, 3, 5, 8, 13, 21, 34, 55]"
      ]
     },
     "execution_count": 60,
     "metadata": {},
     "output_type": "execute_result"
    }
   ],
   "source": [
    "first=0\n",
    "second=1\n",
    "next_number=0\n",
    "n=10\n",
    "lst_fibonacci=[0,1]\n",
    "\n",
    "for i in range(1,n):\n",
    "    next_number=first+second\n",
    "    lst_fibonacci.append(next_number)\n",
    "    first=second\n",
    "    second=next_number\n",
    "    \n",
    "lst_fibonacci    \n",
    "    "
   ]
  },
  {
   "cell_type": "markdown",
   "id": "bb9139f6",
   "metadata": {},
   "source": [
    "## Dictionary Practice Questions"
   ]
  },
  {
   "cell_type": "code",
   "execution_count": 74,
   "id": "8b622416",
   "metadata": {},
   "outputs": [],
   "source": [
    "Mobile_phones={'Android':{\"Mobile_type\":'Touchscreen',\"OS\":['Lollipop','Orea'],\"Battery\":{\"Size\":\"3500mAH\",\"Duration\":\"5hr\"}},\"Iphone\":{\"Versions\":['IOS14,IOS15'],\"Models_available\":['Iphone10,Iphone_xr','Iphone_pro_max']},\"Windows\":{'OS':'Windows10','Mobile_available':['Lumia'],\"Battery\":{'type':'lition_ion'}}}"
   ]
  },
  {
   "cell_type": "code",
   "execution_count": 75,
   "id": "dec9eeb1",
   "metadata": {},
   "outputs": [],
   "source": [
    "import json\n"
   ]
  },
  {
   "cell_type": "code",
   "execution_count": 77,
   "id": "a5cb829a",
   "metadata": {},
   "outputs": [
    {
     "data": {
      "text/plain": [
       "'{\"Android\": {\"Mobile_type\": \"Touchscreen\", \"OS\": [\"Lollipop\", \"Orea\"], \"Battery\": {\"Size\": \"3500mAH\", \"Duration\": \"5hr\"}}, \"Iphone\": {\"Versions\": [\"IOS14,IOS15\"], \"Models_available\": [\"Iphone10,Iphone_xr\", \"Iphone_pro_max\"]}, \"Windows\": {\"OS\": \"Windows10\", \"Mobile_available\": [\"Lumia\"], \"Battery\": {\"type\": \"lition_ion\"}}}'"
      ]
     },
     "execution_count": 77,
     "metadata": {},
     "output_type": "execute_result"
    }
   ],
   "source": [
    "json.dumps(Mobile_phones)"
   ]
  },
  {
   "cell_type": "markdown",
   "id": "813f990f",
   "metadata": {},
   "source": [
    "## Ordered Dict\n",
    "\n",
    "An ordered dictionary makes the dictionary in the order in which the keys are insered\n",
    "\n",
    "Let's understand the difference between Dictionary and Ordered Dictionary"
   ]
  },
  {
   "cell_type": "code",
   "execution_count": 87,
   "id": "86f6ee38",
   "metadata": {},
   "outputs": [
    {
     "name": "stdout",
     "output_type": "stream",
     "text": [
      "key is--> 1 value is----> 1\n",
      "key is--> 2 value is----> 2\n",
      "key is--> 3 value is----> 3\n",
      "key is--> 4 value is----> 4\n",
      "key is--> 5 value is----> 5\n",
      "key is--> 6 value is----> 6\n",
      "key is--> 7 value is----> 7\n",
      "key is--> 8 value is----> 8\n",
      "key is--> raj value is----> 21.2\n",
      "key is--> inder value is----> 556\n",
      "key is--> 9 value is----> 9\n",
      "key is--> 10 value is----> 10\n",
      "key is--> 11 value is----> 11\n"
     ]
    }
   ],
   "source": [
    "dict1={\n",
    "'1': '1',\n",
    "'2': '2',\n",
    "'3': '3',\n",
    "'4': '4',\n",
    "'5': '5',\n",
    "'6': '6',\n",
    "'7': '7',\n",
    "'8': '8',\n",
    "'raj':21.2,    \n",
    "'inder':'556',\n",
    "'9': '9',\n",
    "'10': '10',\n",
    "'11': '11'\n",
    "}\n",
    "\n",
    "for k,v in dict1.items():\n",
    "    print(\"key is-->\",k ,\"value is---->\",v)\n",
    "    \n"
   ]
  },
  {
   "cell_type": "code",
   "execution_count": 88,
   "id": "baac3ab6",
   "metadata": {},
   "outputs": [],
   "source": [
    "from collections import OrderedDict"
   ]
  },
  {
   "cell_type": "code",
   "execution_count": 94,
   "id": "08734708",
   "metadata": {},
   "outputs": [
    {
     "data": {
      "text/plain": [
       "['aman', 'inder', 'rajnish', 'ravi']"
      ]
     },
     "execution_count": 94,
     "metadata": {},
     "output_type": "execute_result"
    }
   ],
   "source": [
    "dict1={'ravi':'10',\"rajnish\":'21','inder':'33','aman':'21'}\n",
    "list(OrderedDict(sorted(dict1.items())))"
   ]
  },
  {
   "cell_type": "code",
   "execution_count": 97,
   "id": "0eb786bd",
   "metadata": {},
   "outputs": [
    {
     "data": {
      "text/plain": [
       "('ravi', '10')"
      ]
     },
     "execution_count": 97,
     "metadata": {},
     "output_type": "execute_result"
    }
   ],
   "source": [
    "lst=list(dict1.items())\n",
    "lst[0]"
   ]
  },
  {
   "cell_type": "code",
   "execution_count": 100,
   "id": "8c5b24b7",
   "metadata": {},
   "outputs": [
    {
     "name": "stdout",
     "output_type": "stream",
     "text": [
      "2\n",
      "4\n",
      "6\n",
      "8\n",
      "10\n",
      "12\n",
      "14\n",
      "16\n",
      "18\n",
      "20\n",
      "22\n",
      "24\n",
      "26\n",
      "28\n",
      "30\n",
      "32\n",
      "34\n",
      "36\n",
      "38\n",
      "40\n",
      "42\n",
      "44\n",
      "46\n",
      "48\n",
      "50\n"
     ]
    }
   ],
   "source": [
    "x=range(2,51,2)\n",
    "\n",
    "for n in x:\n",
    "    print(n)"
   ]
  },
  {
   "cell_type": "code",
   "execution_count": null,
   "id": "95a40e68",
   "metadata": {},
   "outputs": [],
   "source": [
    "dict1={\"inder\":32,\"sid\":21,\"aman\":22}\n",
    "\n",
    "dict1={\"sid\":21,\"aman\":22,\"inder\":32}"
   ]
  },
  {
   "cell_type": "code",
   "execution_count": 110,
   "id": "96ad5c6d",
   "metadata": {},
   "outputs": [
    {
     "name": "stdout",
     "output_type": "stream",
     "text": [
      "the key1 is key1\n",
      "the value is---> ['inder', 'preet']\n",
      "This string preet\n",
      "the key1 is key2\n",
      "the value is---> ['preetat']\n",
      "This string inder\n"
     ]
    }
   ],
   "source": [
    "dict_words={\"key1\":['inder','preet'],\"key2\":['preetat']}\n",
    "\n",
    "for k in dict_words:\n",
    "    print(\"the key1 is\",k)\n",
    "    print(\"the value is--->\",dict_words[k])\n",
    "    for j in range(len(dict_words[k])):\n",
    "        if((dict_words[k][j][0]=='p') and (dict_words[k][j][-1]=='t')):\n",
    "            print(\"This string\",lst2[j])\n",
    "        \n"
   ]
  },
  {
   "cell_type": "code",
   "execution_count": 107,
   "id": "86afa521",
   "metadata": {},
   "outputs": [
    {
     "name": "stdout",
     "output_type": "stream",
     "text": [
      "This string preet\n"
     ]
    }
   ],
   "source": [
    "lst2=['inder','preet']\n",
    "for j in range(len(lst2)):\n",
    "    if( (lst2[j][0]=='p') and (lst2[j][-1]=='t')):\n",
    "        print(\"This string\",lst2[j])"
   ]
  },
  {
   "cell_type": "code",
   "execution_count": null,
   "id": "2a34a9ff",
   "metadata": {},
   "outputs": [],
   "source": []
  }
 ],
 "metadata": {
  "kernelspec": {
   "display_name": "Python 3 (ipykernel)",
   "language": "python",
   "name": "python3"
  },
  "language_info": {
   "codemirror_mode": {
    "name": "ipython",
    "version": 3
   },
   "file_extension": ".py",
   "mimetype": "text/x-python",
   "name": "python",
   "nbconvert_exporter": "python",
   "pygments_lexer": "ipython3",
   "version": "3.7.6"
  }
 },
 "nbformat": 4,
 "nbformat_minor": 5
}
