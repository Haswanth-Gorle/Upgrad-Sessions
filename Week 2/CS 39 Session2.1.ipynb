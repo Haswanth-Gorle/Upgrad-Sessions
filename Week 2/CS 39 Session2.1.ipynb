{
 "cells": [
  {
   "cell_type": "code",
   "execution_count": 1,
   "id": "5c6b8794",
   "metadata": {},
   "outputs": [
    {
     "ename": "SyntaxError",
     "evalue": "EOL while scanning string literal (Temp/ipykernel_6008/3548481302.py, line 1)",
     "output_type": "error",
     "traceback": [
      "\u001b[1;36m  File \u001b[1;32m\"C:\\Users\\sidak\\AppData\\Local\\Temp/ipykernel_6008/3548481302.py\"\u001b[1;36m, line \u001b[1;32m1\u001b[0m\n\u001b[1;33m    print(\"Inder)\u001b[0m\n\u001b[1;37m                 ^\u001b[0m\n\u001b[1;31mSyntaxError\u001b[0m\u001b[1;31m:\u001b[0m EOL while scanning string literal\n"
     ]
    }
   ],
   "source": [
    "print(\"Inder)\n",
    "print(\"Inder\")"
   ]
  },
  {
   "cell_type": "code",
   "execution_count": 2,
   "id": "9c86b3a7",
   "metadata": {},
   "outputs": [
    {
     "data": {
      "text/plain": [
       "False"
      ]
     },
     "execution_count": 2,
     "metadata": {},
     "output_type": "execute_result"
    }
   ],
   "source": [
    "x=4\n",
    "y=2\n",
    "\n",
    "x==y\n"
   ]
  },
  {
   "cell_type": "code",
   "execution_count": 3,
   "id": "c448fcbf",
   "metadata": {},
   "outputs": [
    {
     "data": {
      "text/plain": [
       "True"
      ]
     },
     "execution_count": 3,
     "metadata": {},
     "output_type": "execute_result"
    }
   ],
   "source": [
    "x>y"
   ]
  },
  {
   "cell_type": "code",
   "execution_count": 5,
   "id": "d010ad73",
   "metadata": {},
   "outputs": [
    {
     "data": {
      "text/plain": [
       "False"
      ]
     },
     "execution_count": 5,
     "metadata": {},
     "output_type": "execute_result"
    }
   ],
   "source": [
    "x<y"
   ]
  },
  {
   "cell_type": "code",
   "execution_count": 6,
   "id": "4d3cc5c0",
   "metadata": {},
   "outputs": [
    {
     "data": {
      "text/plain": [
       "int"
      ]
     },
     "execution_count": 6,
     "metadata": {},
     "output_type": "execute_result"
    }
   ],
   "source": [
    "a=5\n",
    "type(a)"
   ]
  },
  {
   "cell_type": "code",
   "execution_count": 7,
   "id": "3dcd5dda",
   "metadata": {},
   "outputs": [
    {
     "data": {
      "text/plain": [
       "float"
      ]
     },
     "execution_count": 7,
     "metadata": {},
     "output_type": "execute_result"
    }
   ],
   "source": [
    "a=5.1\n",
    "type(a)"
   ]
  },
  {
   "cell_type": "code",
   "execution_count": 8,
   "id": "b1be603e",
   "metadata": {},
   "outputs": [
    {
     "data": {
      "text/plain": [
       "bool"
      ]
     },
     "execution_count": 8,
     "metadata": {},
     "output_type": "execute_result"
    }
   ],
   "source": [
    "a=False\n",
    "type(a)"
   ]
  },
  {
   "cell_type": "code",
   "execution_count": 9,
   "id": "008dd99a",
   "metadata": {},
   "outputs": [
    {
     "data": {
      "text/plain": [
       "str"
      ]
     },
     "execution_count": 9,
     "metadata": {},
     "output_type": "execute_result"
    }
   ],
   "source": [
    "a=\"Inder\"\n",
    "type(a)"
   ]
  },
  {
   "cell_type": "markdown",
   "id": "01223728",
   "metadata": {},
   "source": [
    "# List"
   ]
  },
  {
   "cell_type": "markdown",
   "id": "28bbd08b",
   "metadata": {},
   "source": [
    "Lists are constructed with brackets[] and commas are used to separate each element in the list"
   ]
  },
  {
   "cell_type": "code",
   "execution_count": 10,
   "id": "80083499",
   "metadata": {},
   "outputs": [
    {
     "data": {
      "text/plain": [
       "['Inder', 76, 1413, False]"
      ]
     },
     "execution_count": 10,
     "metadata": {},
     "output_type": "execute_result"
    }
   ],
   "source": [
    "my_list=[\"Inder\",76,1413,False]\n",
    "my_list"
   ]
  },
  {
   "cell_type": "code",
   "execution_count": 11,
   "id": "6ba7f5d3",
   "metadata": {},
   "outputs": [
    {
     "data": {
      "text/plain": [
       "str"
      ]
     },
     "execution_count": 11,
     "metadata": {},
     "output_type": "execute_result"
    }
   ],
   "source": [
    "type(my_list[0])"
   ]
  },
  {
   "cell_type": "markdown",
   "id": "e3ac0a68",
   "metadata": {},
   "source": [
    "# Append\n",
    "Use the append method to permanently add an item to the end of a list:"
   ]
  },
  {
   "cell_type": "code",
   "execution_count": 12,
   "id": "aae8a7c6",
   "metadata": {},
   "outputs": [
    {
     "data": {
      "text/plain": [
       "['Inder', 76, 1413, False, 'Vipin']"
      ]
     },
     "execution_count": 12,
     "metadata": {},
     "output_type": "execute_result"
    }
   ],
   "source": [
    "my_list.append(\"Vipin\")\n",
    "my_list"
   ]
  },
  {
   "cell_type": "markdown",
   "id": "9bdc4cee",
   "metadata": {},
   "source": [
    "## Indexing and Slicing"
   ]
  },
  {
   "cell_type": "markdown",
   "id": "1be6d4ba",
   "metadata": {},
   "source": [
    "Indexing and Slicing works just like in Strings"
   ]
  },
  {
   "cell_type": "code",
   "execution_count": 13,
   "id": "b7a96dd4",
   "metadata": {},
   "outputs": [],
   "source": [
    "my_list2=['one','two','three',4.5]\n"
   ]
  },
  {
   "cell_type": "markdown",
   "id": "8402a090",
   "metadata": {},
   "source": [
    "We can use  \"+\" to concatenate Lists, just like we did for Strings "
   ]
  },
  {
   "cell_type": "code",
   "execution_count": 14,
   "id": "7f8c6c21",
   "metadata": {},
   "outputs": [
    {
     "data": {
      "text/plain": [
       "['one', 'two', 'three', 4.5, 'inder', 'aman']"
      ]
     },
     "execution_count": 14,
     "metadata": {},
     "output_type": "execute_result"
    }
   ],
   "source": [
    "my_list2+ ['inder','aman']"
   ]
  },
  {
   "cell_type": "code",
   "execution_count": 15,
   "id": "a3713d67",
   "metadata": {},
   "outputs": [
    {
     "data": {
      "text/plain": [
       "['one', 'two', 'three', 4.5]"
      ]
     },
     "execution_count": 15,
     "metadata": {},
     "output_type": "execute_result"
    }
   ],
   "source": [
    "my_list2"
   ]
  },
  {
   "cell_type": "code",
   "execution_count": 16,
   "id": "d0b56ed4",
   "metadata": {},
   "outputs": [
    {
     "data": {
      "text/plain": [
       "['two', 'three', 4.5]"
      ]
     },
     "execution_count": 16,
     "metadata": {},
     "output_type": "execute_result"
    }
   ],
   "source": [
    "my_list2[1:]"
   ]
  },
  {
   "cell_type": "code",
   "execution_count": 17,
   "id": "d9e3308a",
   "metadata": {},
   "outputs": [
    {
     "data": {
      "text/plain": [
       "['two']"
      ]
     },
     "execution_count": 17,
     "metadata": {},
     "output_type": "execute_result"
    }
   ],
   "source": [
    "my_list2[1:2]"
   ]
  },
  {
   "cell_type": "code",
   "execution_count": 19,
   "id": "032cfec5",
   "metadata": {},
   "outputs": [
    {
     "data": {
      "text/plain": [
       "['two', 'three']"
      ]
     },
     "execution_count": 19,
     "metadata": {},
     "output_type": "execute_result"
    }
   ],
   "source": [
    "my_list2[1:3]"
   ]
  },
  {
   "cell_type": "markdown",
   "id": "77987df0",
   "metadata": {},
   "source": [
    "We can use the * for a duplication method similiar to strings"
   ]
  },
  {
   "cell_type": "code",
   "execution_count": 22,
   "id": "4c0d4104",
   "metadata": {},
   "outputs": [
    {
     "data": {
      "text/plain": [
       "['one',\n",
       " 'two',\n",
       " 'three',\n",
       " 4.5,\n",
       " 'one',\n",
       " 'two',\n",
       " 'three',\n",
       " 4.5,\n",
       " 'one',\n",
       " 'two',\n",
       " 'three',\n",
       " 4.5]"
      ]
     },
     "execution_count": 22,
     "metadata": {},
     "output_type": "execute_result"
    }
   ],
   "source": [
    "my_list2*3"
   ]
  },
  {
   "cell_type": "markdown",
   "id": "9b55a8d7",
   "metadata": {},
   "source": [
    "## Pop Method in Lists"
   ]
  },
  {
   "cell_type": "markdown",
   "id": "64640dcd",
   "metadata": {},
   "source": [
    "Pop is to remove an item from the list. By default pop will always take the last index,but you can also specify which index to pop:\n",
    "    Let's take an example"
   ]
  },
  {
   "cell_type": "code",
   "execution_count": 23,
   "id": "03573547",
   "metadata": {},
   "outputs": [
    {
     "data": {
      "text/plain": [
       "['one', 'two', 'three', 4.5]"
      ]
     },
     "execution_count": 23,
     "metadata": {},
     "output_type": "execute_result"
    }
   ],
   "source": [
    "my_list2"
   ]
  },
  {
   "cell_type": "code",
   "execution_count": 24,
   "id": "84ac9268",
   "metadata": {},
   "outputs": [
    {
     "data": {
      "text/plain": [
       "4.5"
      ]
     },
     "execution_count": 24,
     "metadata": {},
     "output_type": "execute_result"
    }
   ],
   "source": [
    "my_list2.pop()"
   ]
  },
  {
   "cell_type": "code",
   "execution_count": 25,
   "id": "19372182",
   "metadata": {},
   "outputs": [
    {
     "data": {
      "text/plain": [
       "['one', 'two', 'three']"
      ]
     },
     "execution_count": 25,
     "metadata": {},
     "output_type": "execute_result"
    }
   ],
   "source": [
    "my_list2"
   ]
  },
  {
   "cell_type": "code",
   "execution_count": 28,
   "id": "75b73810",
   "metadata": {},
   "outputs": [
    {
     "data": {
      "text/plain": [
       "'three'"
      ]
     },
     "execution_count": 28,
     "metadata": {},
     "output_type": "execute_result"
    }
   ],
   "source": [
    "my_list2.pop(1)"
   ]
  },
  {
   "cell_type": "code",
   "execution_count": 27,
   "id": "61e43088",
   "metadata": {},
   "outputs": [
    {
     "data": {
      "text/plain": [
       "['one', 'three']"
      ]
     },
     "execution_count": 27,
     "metadata": {},
     "output_type": "execute_result"
    }
   ],
   "source": [
    "my_list2"
   ]
  },
  {
   "cell_type": "markdown",
   "id": "d9408eaa",
   "metadata": {},
   "source": [
    "### Index in the list are not Fixed"
   ]
  },
  {
   "cell_type": "markdown",
   "id": "3d73b93b",
   "metadata": {},
   "source": [
    "## Reverse\n",
    "Syntax: list_name.reverse()"
   ]
  },
  {
   "cell_type": "code",
   "execution_count": 31,
   "id": "6249fe9b",
   "metadata": {},
   "outputs": [],
   "source": [
    "my_list2=[1,2,3,\"Inder\",\"Upgrad\"]\n",
    "my_list2.reverse()"
   ]
  },
  {
   "cell_type": "code",
   "execution_count": 32,
   "id": "5f7269c4",
   "metadata": {},
   "outputs": [
    {
     "data": {
      "text/plain": [
       "['Upgrad', 'Inder', 3, 2, 1]"
      ]
     },
     "execution_count": 32,
     "metadata": {},
     "output_type": "execute_result"
    }
   ],
   "source": [
    "my_list2"
   ]
  },
  {
   "cell_type": "markdown",
   "id": "3b05f2fe",
   "metadata": {},
   "source": [
    "## Count\n",
    "Count() taken an element from your list and return the number of time it has occured in your list"
   ]
  },
  {
   "cell_type": "code",
   "execution_count": 34,
   "id": "ee787722",
   "metadata": {},
   "outputs": [],
   "source": [
    "my_list2.append(3)\n",
    "my_list2.append(3)\n",
    "my_list2.append(2)"
   ]
  },
  {
   "cell_type": "code",
   "execution_count": 35,
   "id": "6c6fd077",
   "metadata": {},
   "outputs": [
    {
     "data": {
      "text/plain": [
       "['Upgrad', 'Inder', 3, 2, 1, 3, 3, 2]"
      ]
     },
     "execution_count": 35,
     "metadata": {},
     "output_type": "execute_result"
    }
   ],
   "source": [
    "my_list2"
   ]
  },
  {
   "cell_type": "code",
   "execution_count": 36,
   "id": "5b09ccba",
   "metadata": {},
   "outputs": [
    {
     "data": {
      "text/plain": [
       "3"
      ]
     },
     "execution_count": 36,
     "metadata": {},
     "output_type": "execute_result"
    }
   ],
   "source": [
    "my_list2.count(3)"
   ]
  },
  {
   "cell_type": "markdown",
   "id": "553934c3",
   "metadata": {},
   "source": [
    "## Extend\n",
    "Many times people will find the difference between extend and append to be unclear\n",
    "\n",
    "1. Append:Appends the objects at the end\n",
    "2. Extend: Extend list by appending the items from the iterable"
   ]
  },
  {
   "cell_type": "markdown",
   "id": "b96f06fe",
   "metadata": {},
   "source": [
    "The extend() method add the specified list element to the end of the current list"
   ]
  },
  {
   "cell_type": "code",
   "execution_count": 37,
   "id": "6e5d5f2e",
   "metadata": {},
   "outputs": [],
   "source": [
    "fruits=['kiwi','apple','banana','cherry']\n",
    "points=[1,2,3,4]               #tuple  \n",
    "\n",
    "fruits.extend(points)"
   ]
  },
  {
   "cell_type": "code",
   "execution_count": 38,
   "id": "ca742f58",
   "metadata": {},
   "outputs": [
    {
     "data": {
      "text/plain": [
       "['kiwi', 'apple', 'banana', 'cherry', 1, 2, 3, 4]"
      ]
     },
     "execution_count": 38,
     "metadata": {},
     "output_type": "execute_result"
    }
   ],
   "source": [
    "fruits"
   ]
  },
  {
   "cell_type": "markdown",
   "id": "128abc19",
   "metadata": {},
   "source": [
    "## Insert\n",
    "Two arguments can be placed in insert method\n",
    "\n",
    "Syntax: insert(index,object)\n",
    "This method places the ovject at the index supplied"
   ]
  },
  {
   "cell_type": "code",
   "execution_count": 39,
   "id": "9ac22b88",
   "metadata": {},
   "outputs": [
    {
     "data": {
      "text/plain": [
       "[1, 'inder', 2, 3]"
      ]
     },
     "execution_count": 39,
     "metadata": {},
     "output_type": "execute_result"
    }
   ],
   "source": [
    "my_list=[1,2,3]\n",
    "my_list.insert(1,'inder')\n",
    "my_list"
   ]
  },
  {
   "cell_type": "code",
   "execution_count": 40,
   "id": "15663458",
   "metadata": {},
   "outputs": [
    {
     "data": {
      "text/plain": [
       "[1, 'inder', 2, 3, 'ravi']"
      ]
     },
     "execution_count": 40,
     "metadata": {},
     "output_type": "execute_result"
    }
   ],
   "source": [
    "my_list.insert(4,'ravi')\n",
    "my_list"
   ]
  },
  {
   "cell_type": "markdown",
   "id": "c5e1fa18",
   "metadata": {},
   "source": [
    "## Remove\n",
    "The remove method() removes the first occurence of a value."
   ]
  },
  {
   "cell_type": "code",
   "execution_count": 41,
   "id": "69b0f41b",
   "metadata": {},
   "outputs": [],
   "source": [
    "my_list.append(3)"
   ]
  },
  {
   "cell_type": "code",
   "execution_count": 42,
   "id": "941b60ea",
   "metadata": {},
   "outputs": [
    {
     "data": {
      "text/plain": [
       "[1, 'inder', 2, 3, 'ravi', 3]"
      ]
     },
     "execution_count": 42,
     "metadata": {},
     "output_type": "execute_result"
    }
   ],
   "source": [
    "my_list"
   ]
  },
  {
   "cell_type": "code",
   "execution_count": 43,
   "id": "bc4c0551",
   "metadata": {},
   "outputs": [],
   "source": [
    "my_list.remove(3)"
   ]
  },
  {
   "cell_type": "code",
   "execution_count": 44,
   "id": "6e5504ef",
   "metadata": {},
   "outputs": [
    {
     "data": {
      "text/plain": [
       "[1, 'inder', 2, 'ravi', 3]"
      ]
     },
     "execution_count": 44,
     "metadata": {},
     "output_type": "execute_result"
    }
   ],
   "source": [
    "my_list"
   ]
  },
  {
   "cell_type": "markdown",
   "id": "feb345bc",
   "metadata": {},
   "source": [
    "## Sort\n"
   ]
  },
  {
   "cell_type": "code",
   "execution_count": 45,
   "id": "457a6caa",
   "metadata": {},
   "outputs": [
    {
     "data": {
      "text/plain": [
       "[12, 33, 56, 67, 94, 98]"
      ]
     },
     "execution_count": 45,
     "metadata": {},
     "output_type": "execute_result"
    }
   ],
   "source": [
    "Lst_student_marks=[33,12,94,56,98,67]\n",
    "Lst_student_marks.sort()\n",
    "Lst_student_marks"
   ]
  },
  {
   "cell_type": "code",
   "execution_count": 46,
   "id": "eaf28494",
   "metadata": {},
   "outputs": [
    {
     "data": {
      "text/plain": [
       "[98, 94, 67, 56, 33, 12]"
      ]
     },
     "execution_count": 46,
     "metadata": {},
     "output_type": "execute_result"
    }
   ],
   "source": [
    "Lst_student_marks.sort(reverse=True)\n",
    "Lst_student_marks"
   ]
  },
  {
   "cell_type": "code",
   "execution_count": 47,
   "id": "1030a32c",
   "metadata": {},
   "outputs": [
    {
     "data": {
      "text/plain": [
       "['hariom', 'inder', 'kalyani', 'ravi']"
      ]
     },
     "execution_count": 47,
     "metadata": {},
     "output_type": "execute_result"
    }
   ],
   "source": [
    "name_list=[\"inder\",'ravi',\"hariom\",'kalyani']\n",
    "name_list.sort()\n",
    "name_list"
   ]
  },
  {
   "cell_type": "markdown",
   "id": "313b8b66",
   "metadata": {},
   "source": [
    "## Sorted "
   ]
  },
  {
   "cell_type": "markdown",
   "id": "b05d929b",
   "metadata": {},
   "source": [
    "Sorted method sorts the given sequence either in ascending or descending order. This method does not affect the original sequence of the list\n",
    "\n",
    "Syntax: sorted(iterable,reverse=False or True)\n",
    "False means ascending order\n",
    "True means descending order "
   ]
  },
  {
   "cell_type": "code",
   "execution_count": 48,
   "id": "c48e86c8",
   "metadata": {},
   "outputs": [
    {
     "data": {
      "text/plain": [
       "[-1, 1, 3, 4, 5, 6, 7]"
      ]
     },
     "execution_count": 48,
     "metadata": {},
     "output_type": "execute_result"
    }
   ],
   "source": [
    "List1=[1,3,6,7,4,-1,5]\n",
    "List1.sort()\n",
    "List1"
   ]
  },
  {
   "cell_type": "code",
   "execution_count": 51,
   "id": "e3557940",
   "metadata": {},
   "outputs": [],
   "source": [
    "orig_list=[1,3,6,7,4,-1,5]\n",
    "list3=sorted(orig_list)\n"
   ]
  },
  {
   "cell_type": "code",
   "execution_count": 52,
   "id": "1f6eee0d",
   "metadata": {},
   "outputs": [
    {
     "data": {
      "text/plain": [
       "[1, 3, 6, 7, 4, -1, 5]"
      ]
     },
     "execution_count": 52,
     "metadata": {},
     "output_type": "execute_result"
    }
   ],
   "source": [
    "orig_list"
   ]
  },
  {
   "cell_type": "code",
   "execution_count": 53,
   "id": "006173ab",
   "metadata": {},
   "outputs": [
    {
     "data": {
      "text/plain": [
       "[-1, 1, 3, 4, 5, 6, 7]"
      ]
     },
     "execution_count": 53,
     "metadata": {},
     "output_type": "execute_result"
    }
   ],
   "source": [
    "list3"
   ]
  },
  {
   "cell_type": "markdown",
   "id": "7b3b9af8",
   "metadata": {},
   "source": [
    "## Del Method\n",
    "\n",
    "This method delets all the elements from index a to index b\n",
    "\n",
    "Syntax: del list_name[a:b]"
   ]
  },
  {
   "cell_type": "code",
   "execution_count": 54,
   "id": "1576008f",
   "metadata": {},
   "outputs": [
    {
     "data": {
      "text/plain": [
       "[1, 3]"
      ]
     },
     "execution_count": 54,
     "metadata": {},
     "output_type": "execute_result"
    }
   ],
   "source": [
    "List1=[1,4,5,6,3]\n",
    "del List1[1:4]\n",
    "List1"
   ]
  },
  {
   "cell_type": "markdown",
   "id": "c7cd29d0",
   "metadata": {},
   "source": [
    "## Nested List: A list inside another List"
   ]
  },
  {
   "cell_type": "code",
   "execution_count": 55,
   "id": "d2482f8f",
   "metadata": {},
   "outputs": [
    {
     "data": {
      "text/plain": [
       "[1, [1, 3], 'inder', [4, 5]]"
      ]
     },
     "execution_count": 55,
     "metadata": {},
     "output_type": "execute_result"
    }
   ],
   "source": [
    "List1=[1,[1,3],'inder',[4,5]]\n",
    "List1"
   ]
  },
  {
   "cell_type": "code",
   "execution_count": 58,
   "id": "7f911cd2",
   "metadata": {},
   "outputs": [
    {
     "data": {
      "text/plain": [
       "3"
      ]
     },
     "execution_count": 58,
     "metadata": {},
     "output_type": "execute_result"
    }
   ],
   "source": [
    "List1[1][1]"
   ]
  },
  {
   "cell_type": "code",
   "execution_count": 60,
   "id": "613383ea",
   "metadata": {},
   "outputs": [
    {
     "data": {
      "text/plain": [
       "[1, 4, 7]"
      ]
     },
     "execution_count": 60,
     "metadata": {},
     "output_type": "execute_result"
    }
   ],
   "source": [
    "List3=[1,2,3,4,5,6,7]\n",
    "List3[::3]"
   ]
  },
  {
   "cell_type": "code",
   "execution_count": null,
   "id": "10c544b5",
   "metadata": {},
   "outputs": [],
   "source": [
    "List3[:-1]"
   ]
  },
  {
   "cell_type": "markdown",
   "id": "a15bf0f5",
   "metadata": {},
   "source": [
    "## Dictionary\n",
    "\n",
    "A python dictionary consists of a key and an associated value\n",
    "1. The dictionary in Python is represented using Curly Braces.\n",
    "2. Dictionary is also Mutable (that means we can change the dictionary)\n"
   ]
  },
  {
   "cell_type": "code",
   "execution_count": 61,
   "id": "3139de4b",
   "metadata": {},
   "outputs": [
    {
     "data": {
      "text/plain": [
       "{'Name': 'Inder', 'Marks': 75, 'Rollno': 1413, 'Class': 'VI'}"
      ]
     },
     "execution_count": 61,
     "metadata": {},
     "output_type": "execute_result"
    }
   ],
   "source": [
    "class1={\"Name\":\"Inder\",\"Marks\":75,\"Rollno\":1413,\"Class\":\"VI\"}\n",
    "class1"
   ]
  },
  {
   "cell_type": "code",
   "execution_count": 62,
   "id": "ca3ac302",
   "metadata": {},
   "outputs": [
    {
     "data": {
      "text/plain": [
       "'Inder'"
      ]
     },
     "execution_count": 62,
     "metadata": {},
     "output_type": "execute_result"
    }
   ],
   "source": [
    "class1['Name']"
   ]
  },
  {
   "cell_type": "code",
   "execution_count": 63,
   "id": "da687859",
   "metadata": {},
   "outputs": [
    {
     "data": {
      "text/plain": [
       "75"
      ]
     },
     "execution_count": 63,
     "metadata": {},
     "output_type": "execute_result"
    }
   ],
   "source": [
    "class1['Marks']"
   ]
  },
  {
   "cell_type": "markdown",
   "id": "04d6466a",
   "metadata": {},
   "source": [
    "Note that dictionaries are very flexible in the data types. \n",
    "For example we can have different data types"
   ]
  },
  {
   "cell_type": "code",
   "execution_count": 64,
   "id": "9b90d0e9",
   "metadata": {},
   "outputs": [
    {
     "data": {
      "text/plain": [
       "{'name': 'ravi', True: 'answer', 'Marks': 65.33}"
      ]
     },
     "execution_count": 64,
     "metadata": {},
     "output_type": "execute_result"
    }
   ],
   "source": [
    "my_dict={'name':'ravi',True:'answer','Marks':65.33}\n",
    "my_dict"
   ]
  },
  {
   "cell_type": "code",
   "execution_count": 66,
   "id": "aabf9b9a",
   "metadata": {},
   "outputs": [
    {
     "data": {
      "text/plain": [
       "65.33"
      ]
     },
     "execution_count": 66,
     "metadata": {},
     "output_type": "execute_result"
    }
   ],
   "source": [
    "my_dict['Marks']"
   ]
  },
  {
   "cell_type": "code",
   "execution_count": 67,
   "id": "b891d3cb",
   "metadata": {},
   "outputs": [
    {
     "data": {
      "text/plain": [
       "dict"
      ]
     },
     "execution_count": 67,
     "metadata": {},
     "output_type": "execute_result"
    }
   ],
   "source": [
    "type(my_dict)"
   ]
  },
  {
   "cell_type": "markdown",
   "id": "d59c1e7d",
   "metadata": {},
   "source": [
    "## Nested Dictionaries: A dictionary inside another dictionary"
   ]
  },
  {
   "cell_type": "code",
   "execution_count": 69,
   "id": "375d2daf",
   "metadata": {},
   "outputs": [],
   "source": [
    "dict1={'class':'10th Standard',\"Student_names\":['inder','ravi','ravirag','bhagyashree']}"
   ]
  },
  {
   "cell_type": "code",
   "execution_count": 73,
   "id": "f8309d8d",
   "metadata": {},
   "outputs": [
    {
     "data": {
      "text/plain": [
       "'bhagyashree'"
      ]
     },
     "execution_count": 73,
     "metadata": {},
     "output_type": "execute_result"
    }
   ],
   "source": [
    "dict1['Student_names'][3]"
   ]
  },
  {
   "cell_type": "code",
   "execution_count": 75,
   "id": "c2878cea",
   "metadata": {},
   "outputs": [
    {
     "data": {
      "text/plain": [
       "{'Mobile Phones': {'Iphone': ['iphone10', 'iphone13'],\n",
       "  'Android_phones': ['Samsung', 'MI']}}"
      ]
     },
     "execution_count": 75,
     "metadata": {},
     "output_type": "execute_result"
    }
   ],
   "source": [
    "dict_2={'Mobile Phones':{'Iphone':['iphone10','iphone13'],'Android_phones':['Samsung','MI']}}\n",
    "dict_2"
   ]
  },
  {
   "cell_type": "code",
   "execution_count": 78,
   "id": "445733c7",
   "metadata": {},
   "outputs": [
    {
     "data": {
      "text/plain": [
       "'iphone13'"
      ]
     },
     "execution_count": 78,
     "metadata": {},
     "output_type": "execute_result"
    }
   ],
   "source": [
    "dict_2['Mobile Phones']['Iphone'][1]"
   ]
  },
  {
   "cell_type": "markdown",
   "id": "abd3c8a5",
   "metadata": {},
   "source": [
    "## A few Dictionary Methods"
   ]
  },
  {
   "cell_type": "code",
   "execution_count": 79,
   "id": "f4aa5f42",
   "metadata": {},
   "outputs": [
    {
     "data": {
      "text/plain": [
       "{'Mobile Phones': {'Iphone': ['iphone10', 'iphone13'],\n",
       "  'Android_phones': ['Samsung', 'MI']}}"
      ]
     },
     "execution_count": 79,
     "metadata": {},
     "output_type": "execute_result"
    }
   ],
   "source": [
    "dict_2"
   ]
  },
  {
   "cell_type": "code",
   "execution_count": 81,
   "id": "526a048b",
   "metadata": {},
   "outputs": [
    {
     "data": {
      "text/plain": [
       "dict_keys"
      ]
     },
     "execution_count": 81,
     "metadata": {},
     "output_type": "execute_result"
    }
   ],
   "source": [
    "a=dict_2.keys()\n",
    "type(a)"
   ]
  },
  {
   "cell_type": "code",
   "execution_count": 84,
   "id": "12dcc385",
   "metadata": {},
   "outputs": [
    {
     "data": {
      "text/plain": [
       "['key1', 'key2', 'key3']"
      ]
     },
     "execution_count": 84,
     "metadata": {},
     "output_type": "execute_result"
    }
   ],
   "source": [
    "dictNew={'key1':1,'key2':2,'key3':3}\n",
    "lst=list(dictNew.keys())\n",
    "lst"
   ]
  },
  {
   "cell_type": "markdown",
   "id": "50de5fd0",
   "metadata": {},
   "source": [
    "## Typecasting is the method of converting one data type into another\n",
    "\n",
    "For example: Dictionary keys-------> a \"list of keys\n"
   ]
  },
  {
   "cell_type": "markdown",
   "id": "bd0f6a32",
   "metadata": {},
   "source": [
    "dict.items() returns the tuples of all items(\"We will learn about it soon\")"
   ]
  },
  {
   "cell_type": "code",
   "execution_count": 86,
   "id": "6fa2d760",
   "metadata": {},
   "outputs": [
    {
     "data": {
      "text/plain": [
       "dict_items([('key1', 1), ('key2', 2), ('key3', 3)])"
      ]
     },
     "execution_count": 86,
     "metadata": {},
     "output_type": "execute_result"
    }
   ],
   "source": [
    "dictNew.items()"
   ]
  },
  {
   "cell_type": "code",
   "execution_count": 87,
   "id": "6d6595d7",
   "metadata": {},
   "outputs": [
    {
     "data": {
      "text/plain": [
       "{'key1': 1, 'key2': 2, 'key3': 3}"
      ]
     },
     "execution_count": 87,
     "metadata": {},
     "output_type": "execute_result"
    }
   ],
   "source": [
    "dictNew"
   ]
  },
  {
   "cell_type": "code",
   "execution_count": 88,
   "id": "1d9690ad",
   "metadata": {},
   "outputs": [],
   "source": [
    "dictNew['Key4']=5"
   ]
  },
  {
   "cell_type": "code",
   "execution_count": 89,
   "id": "f15499bc",
   "metadata": {},
   "outputs": [
    {
     "data": {
      "text/plain": [
       "{'key1': 1, 'key2': 2, 'key3': 3, 'Key4': 5}"
      ]
     },
     "execution_count": 89,
     "metadata": {},
     "output_type": "execute_result"
    }
   ],
   "source": [
    "dictNew"
   ]
  },
  {
   "cell_type": "code",
   "execution_count": 90,
   "id": "3ffefb9a",
   "metadata": {},
   "outputs": [
    {
     "data": {
      "text/plain": [
       "{'key1': 1, 'key2': 2, 'key3': 3, 'Key4': 5, 'Name': 'inder'}"
      ]
     },
     "execution_count": 90,
     "metadata": {},
     "output_type": "execute_result"
    }
   ],
   "source": [
    "dictNew['Name']='inder'\n",
    "dictNew"
   ]
  },
  {
   "cell_type": "markdown",
   "id": "63a1b49b",
   "metadata": {},
   "source": [
    "For updating just replace the key value with the value that you want to add"
   ]
  },
  {
   "cell_type": "code",
   "execution_count": 91,
   "id": "de302f33",
   "metadata": {},
   "outputs": [
    {
     "data": {
      "text/plain": [
       "{'key1': 1, 'key2': 2, 'key3': 3, 'Key4': 5, 'Name': 'Ravi'}"
      ]
     },
     "execution_count": 91,
     "metadata": {},
     "output_type": "execute_result"
    }
   ],
   "source": [
    "dictNew['Name']='Ravi'\n",
    "dictNew"
   ]
  },
  {
   "cell_type": "code",
   "execution_count": 93,
   "id": "7ccfb476",
   "metadata": {},
   "outputs": [
    {
     "data": {
      "text/plain": [
       "{'key1': 1, 'key2': 2, 'key3': 3, 'Key4': 5, 'Name': 'Ravi', 'Name1': 'inder'}"
      ]
     },
     "execution_count": 93,
     "metadata": {},
     "output_type": "execute_result"
    }
   ],
   "source": [
    "dictNew['Name1']='inder'\n",
    "dictNew"
   ]
  },
  {
   "cell_type": "markdown",
   "id": "79b015f5",
   "metadata": {},
   "source": [
    "For accessing the elements just access it using the name of the key in the dictionary"
   ]
  },
  {
   "cell_type": "code",
   "execution_count": 94,
   "id": "489d7ba9",
   "metadata": {},
   "outputs": [
    {
     "data": {
      "text/plain": [
       "3"
      ]
     },
     "execution_count": 94,
     "metadata": {},
     "output_type": "execute_result"
    }
   ],
   "source": [
    "dictNew['key3']"
   ]
  },
  {
   "cell_type": "markdown",
   "id": "dcbeff5d",
   "metadata": {},
   "source": [
    "## Del method will delete the entire dictionary  "
   ]
  },
  {
   "cell_type": "code",
   "execution_count": 95,
   "id": "120a4ed0",
   "metadata": {},
   "outputs": [
    {
     "data": {
      "text/plain": [
       "{'key1': 1, 'key2': 2, 'Key4': 5, 'Name': 'Ravi', 'Name1': 'inder'}"
      ]
     },
     "execution_count": 95,
     "metadata": {},
     "output_type": "execute_result"
    }
   ],
   "source": [
    "del dictNew['key3']\n",
    "dictNew"
   ]
  },
  {
   "cell_type": "markdown",
   "id": "8224939f",
   "metadata": {},
   "source": [
    "#Tuple Non primitive data structure \n",
    "\n",
    "Tuples are similiar to list but they are immutable i.e they cannot be changed\n",
    "You will use the tuples to present data that should not change.\n",
    "\n",
    "Example of Tuple will be Aadhar number "
   ]
  },
  {
   "cell_type": "markdown",
   "id": "2e01a729",
   "metadata": {},
   "source": [
    "Tuple is denoted by ( ) with elements separated by the commas "
   ]
  },
  {
   "cell_type": "code",
   "execution_count": 97,
   "id": "a415864a",
   "metadata": {},
   "outputs": [
    {
     "data": {
      "text/plain": [
       "(616413423345, 456321453212)"
      ]
     },
     "execution_count": 97,
     "metadata": {},
     "output_type": "execute_result"
    }
   ],
   "source": [
    "aadhar_number=(616413423345,456321453212)\n",
    "aadhar_number"
   ]
  },
  {
   "cell_type": "code",
   "execution_count": 99,
   "id": "e0dd7ed4",
   "metadata": {},
   "outputs": [
    {
     "ename": "TypeError",
     "evalue": "'tuple' object does not support item assignment",
     "output_type": "error",
     "traceback": [
      "\u001b[1;31m---------------------------------------------------------------------------\u001b[0m",
      "\u001b[1;31mTypeError\u001b[0m                                 Traceback (most recent call last)",
      "\u001b[1;32m~\\AppData\\Local\\Temp/ipykernel_6008/390545898.py\u001b[0m in \u001b[0;36m<module>\u001b[1;34m\u001b[0m\n\u001b[1;32m----> 1\u001b[1;33m \u001b[0maadhar_number\u001b[0m\u001b[1;33m[\u001b[0m\u001b[1;36m0\u001b[0m\u001b[1;33m]\u001b[0m\u001b[1;33m=\u001b[0m\u001b[1;36m124\u001b[0m\u001b[1;33m\u001b[0m\u001b[1;33m\u001b[0m\u001b[0m\n\u001b[0m",
      "\u001b[1;31mTypeError\u001b[0m: 'tuple' object does not support item assignment"
     ]
    }
   ],
   "source": [
    "aadhar_number[0]=124"
   ]
  },
  {
   "cell_type": "markdown",
   "id": "042b3d25",
   "metadata": {},
   "source": [
    "1. This errors shows that tuples are immutable\n",
    "2. Tuples can also store different data types\n",
    "3. Tuples order cant be changed"
   ]
  },
  {
   "cell_type": "code",
   "execution_count": 102,
   "id": "323e1649",
   "metadata": {},
   "outputs": [
    {
     "data": {
      "text/plain": [
       "('one', 1, 3.5, False)"
      ]
     },
     "execution_count": 102,
     "metadata": {},
     "output_type": "execute_result"
    }
   ],
   "source": [
    "tupl=('one',1,3.5,False)\n",
    "tupl"
   ]
  },
  {
   "cell_type": "code",
   "execution_count": 103,
   "id": "557d490f",
   "metadata": {},
   "outputs": [
    {
     "ename": "AttributeError",
     "evalue": "'tuple' object has no attribute 'sort'",
     "output_type": "error",
     "traceback": [
      "\u001b[1;31m---------------------------------------------------------------------------\u001b[0m",
      "\u001b[1;31mAttributeError\u001b[0m                            Traceback (most recent call last)",
      "\u001b[1;32m~\\AppData\\Local\\Temp/ipykernel_6008/4206628869.py\u001b[0m in \u001b[0;36m<module>\u001b[1;34m\u001b[0m\n\u001b[1;32m----> 1\u001b[1;33m \u001b[0mtupl\u001b[0m\u001b[1;33m.\u001b[0m\u001b[0msort\u001b[0m\u001b[1;33m(\u001b[0m\u001b[1;33m)\u001b[0m\u001b[1;33m\u001b[0m\u001b[1;33m\u001b[0m\u001b[0m\n\u001b[0m",
      "\u001b[1;31mAttributeError\u001b[0m: 'tuple' object has no attribute 'sort'"
     ]
    }
   ],
   "source": [
    "tupl.sort()"
   ]
  },
  {
   "cell_type": "markdown",
   "id": "8bf2ca7b",
   "metadata": {},
   "source": [
    "## Use index to enter a value and return the index\n",
    "Syntax: tuple_name.index(value)"
   ]
  },
  {
   "cell_type": "code",
   "execution_count": 104,
   "id": "b75a0941",
   "metadata": {},
   "outputs": [
    {
     "data": {
      "text/plain": [
       "2"
      ]
     },
     "execution_count": 104,
     "metadata": {},
     "output_type": "execute_result"
    }
   ],
   "source": [
    "tupl.index(3.5)"
   ]
  },
  {
   "cell_type": "code",
   "execution_count": null,
   "id": "d5af513e",
   "metadata": {},
   "outputs": [],
   "source": [
    "[]--->List\n",
    "()---->Tuple\n",
    "{}---->Dictionary"
   ]
  },
  {
   "cell_type": "code",
   "execution_count": 106,
   "id": "df83807e",
   "metadata": {},
   "outputs": [
    {
     "data": {
      "text/plain": [
       "((1, 3), 3, 5)"
      ]
     },
     "execution_count": 106,
     "metadata": {},
     "output_type": "execute_result"
    }
   ],
   "source": [
    "nested_tuple=((1,3),3,5)\n",
    "nested_tuple"
   ]
  },
  {
   "cell_type": "code",
   "execution_count": 108,
   "id": "da0ff9bc",
   "metadata": {},
   "outputs": [
    {
     "data": {
      "text/plain": [
       "[1, 2, 3, (4, 5)]"
      ]
     },
     "execution_count": 108,
     "metadata": {},
     "output_type": "execute_result"
    }
   ],
   "source": [
    "list1=[1,2,3,(4,5)]\n",
    "list1"
   ]
  },
  {
   "cell_type": "markdown",
   "id": "07c906e2",
   "metadata": {},
   "source": [
    "## Sets\n"
   ]
  },
  {
   "cell_type": "markdown",
   "id": "a5746aab",
   "metadata": {},
   "source": [
    "Sets are an unordered collection of unique elements which can be contructed using set function\n",
    "\n",
    "Let's go ahead and see how set works\n"
   ]
  },
  {
   "cell_type": "code",
   "execution_count": 109,
   "id": "0fa5ab22",
   "metadata": {},
   "outputs": [
    {
     "data": {
      "text/plain": [
       "{1}"
      ]
     },
     "execution_count": 109,
     "metadata": {},
     "output_type": "execute_result"
    }
   ],
   "source": [
    "x=set()\n",
    "x.add(1)\n",
    "x"
   ]
  },
  {
   "cell_type": "code",
   "execution_count": 110,
   "id": "f30bff30",
   "metadata": {},
   "outputs": [],
   "source": [
    "x.add(1)"
   ]
  },
  {
   "cell_type": "code",
   "execution_count": 111,
   "id": "f607e6c1",
   "metadata": {},
   "outputs": [
    {
     "data": {
      "text/plain": [
       "{1}"
      ]
     },
     "execution_count": 111,
     "metadata": {},
     "output_type": "execute_result"
    }
   ],
   "source": [
    "x"
   ]
  },
  {
   "cell_type": "code",
   "execution_count": 114,
   "id": "d9a7002b",
   "metadata": {},
   "outputs": [
    {
     "data": {
      "text/plain": [
       "{1, 1.2}"
      ]
     },
     "execution_count": 114,
     "metadata": {},
     "output_type": "execute_result"
    }
   ],
   "source": [
    "x.add(1.2)\n",
    "x"
   ]
  },
  {
   "cell_type": "code",
   "execution_count": 115,
   "id": "e021a2fd",
   "metadata": {},
   "outputs": [
    {
     "data": {
      "text/plain": [
       "[1, 2, 3, 4, 1, 2, 3, 4]"
      ]
     },
     "execution_count": 115,
     "metadata": {},
     "output_type": "execute_result"
    }
   ],
   "source": [
    "list1=[1,2,3,4,1,2,3,4]\n",
    "list1"
   ]
  },
  {
   "cell_type": "code",
   "execution_count": 117,
   "id": "27cfb178",
   "metadata": {},
   "outputs": [
    {
     "data": {
      "text/plain": [
       "{1, 2, 3, 4}"
      ]
     },
     "execution_count": 117,
     "metadata": {},
     "output_type": "execute_result"
    }
   ],
   "source": [
    "set1=set()\n",
    "set1.add(1)\n",
    "set1.add(2)\n",
    "set1.add(3)\n",
    "set1.add(4)\n",
    "set1.add(1)\n",
    "set1.add(2)\n",
    "set1.add(3)\n",
    "set1"
   ]
  },
  {
   "cell_type": "markdown",
   "id": "228a5da4",
   "metadata": {},
   "source": [
    "## Union Method"
   ]
  },
  {
   "cell_type": "markdown",
   "id": "ac08574d",
   "metadata": {},
   "source": [
    "Two sets can be merged using the union function\n",
    "\n",
    "Syntax: Set1.union(set2)"
   ]
  },
  {
   "cell_type": "code",
   "execution_count": 121,
   "id": "c9117374",
   "metadata": {},
   "outputs": [
    {
     "data": {
      "text/plain": [
       "{'Inder', 'Jay', 'Kalyani', 'Raviraj'}"
      ]
     },
     "execution_count": 121,
     "metadata": {},
     "output_type": "execute_result"
    }
   ],
   "source": [
    "people={'Inder',\"Jay\",'Jay'}\n",
    "Actors={'Kalyani',\"Raviraj\",'Inder'}\n",
    "people.union(Actors)"
   ]
  },
  {
   "cell_type": "markdown",
   "id": "7a60e445",
   "metadata": {},
   "source": [
    "## Intersection can be done through intersection()\n",
    "\n",
    "1. Common elements will be added"
   ]
  },
  {
   "cell_type": "code",
   "execution_count": 122,
   "id": "3167876b",
   "metadata": {},
   "outputs": [
    {
     "data": {
      "text/plain": [
       "{'Inder'}"
      ]
     },
     "execution_count": 122,
     "metadata": {},
     "output_type": "execute_result"
    }
   ],
   "source": [
    "people={'Inder',\"Jay\",'Jay'}\n",
    "Actors={'Kalyani',\"Raviraj\",'Inder','Jay'}\n",
    "people.intersection(Actors)"
   ]
  },
  {
   "cell_type": "code",
   "execution_count": null,
   "id": "bf1dd1a0",
   "metadata": {},
   "outputs": [],
   "source": []
  }
 ],
 "metadata": {
  "kernelspec": {
   "display_name": "Python 3 (ipykernel)",
   "language": "python",
   "name": "python3"
  },
  "language_info": {
   "codemirror_mode": {
    "name": "ipython",
    "version": 3
   },
   "file_extension": ".py",
   "mimetype": "text/x-python",
   "name": "python",
   "nbconvert_exporter": "python",
   "pygments_lexer": "ipython3",
   "version": "3.7.6"
  }
 },
 "nbformat": 4,
 "nbformat_minor": 5
}
